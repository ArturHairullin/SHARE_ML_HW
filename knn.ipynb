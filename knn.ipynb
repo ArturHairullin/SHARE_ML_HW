{
 "cells": [
  {
   "cell_type": "markdown",
   "metadata": {},
   "source": [
    "### Задание"
   ]
  },
  {
   "cell_type": "markdown",
   "metadata": {},
   "source": [
    "Реализуйте алгоритм классификации метод k ближайших соседей.\n",
    "\n",
    "Требования к коду:\n",
    "* Код должен быть хорошо структурирован\n",
    "* Код должен быть эффективен\n",
    "* Имплементация должна быть максимально векторизованной и, где это возможно, не использовать циклы\n",
    "\n",
    "Необходимо реализовать класс KnnBruteClassifier, с реализацией прототипа, представленного ниже.\n",
    "\n",
    "Должна быть реализована поддержка метрики расстояния L2 (параметр metric) и параметр weights типа 'uniform' и 'distance'.\n",
    "\n",
    "В качестве входного файла необходимо использовать файл \"knn_data_XXX.npy\", полученный от бота командой /get seminar04\n",
    "\n",
    "В качестве решения необходимо отправить боту, указав seminar04 в поле caption,  следующие файлы:\n",
    "* knn.ipynb - содержит класс, реализующий ваш алгоритм\n",
    "* results.npy - файл с результатами тестов, который можно будет сгенерировать с помощью этого ноутбука\n",
    "\n",
    "Для проверки решения после отправки необходимо отправить боту следующую команду:\n",
    "/check seminar04\n",
    "\n",
    "В случае возникновения вопросов по интерфейсу смотрите детали реализации класса sklearn.neighbors.KNeighborsClassifier\n",
    "https://scikit-learn.org/stable/modules/generated/sklearn.neighbors.KNeighborsClassifier.html"
   ]
  },
  {
   "cell_type": "code",
   "execution_count": 156,
   "metadata": {},
   "outputs": [],
   "source": [
    "import numpy as np"
   ]
  },
  {
   "cell_type": "code",
   "execution_count": 224,
   "metadata": {},
   "outputs": [
    {
     "name": "stdout",
     "output_type": "stream",
     "text": [
      "(array([[1.        , 2.        , 4.        ],\n",
      "       [3.        , 3.74165739, 5.38516481],\n",
      "       [3.46410162, 5.38516481, 7.07106781]]), array([[1, 0, 4],\n",
      "       [1, 4, 3],\n",
      "       [3, 0, 1]], dtype=int64)) (array([[1.        , 2.        , 4.        ],\n",
      "       [3.        , 3.74165739, 5.38516481],\n",
      "       [3.46410162, 5.38516481, 7.07106781]]), array([[1, 0, 4],\n",
      "       [1, 4, 3],\n",
      "       [3, 0, 1]], dtype=int64))\n"
     ]
    }
   ],
   "source": [
    "from sklearn.neighbors import KNeighborsClassifier\n",
    "from sklearn.metrics import accuracy_score\n",
    "cl = KNeighborsClassifier(n_neighbors=5,weights='distance')\n",
    "train = np.array([[1,4,3],[3,7,4],[1,0,8]])\n",
    "cl.fit(np.array([[1,2,3],[1,5,3],[90,2,3],[3,2,6],[5,4,3]]), np.array([0,1,1,2,0]))\n",
    "pr = cl.predict(train)\n",
    "model = KnnBruteClassifier(n_neighbors=5, weights='distance')\n",
    "model.fit(np.array([[1,2,3],[1,5,3],[90,2,3],[3,2,6],[5,4,3]]), np.array([0,1,1,2,0]))\n",
    "a = cl.kneighbors(train,3)\n",
    "b = model.kneighbors(train,3)\n",
    "print(a,b)"
   ]
  },
  {
   "cell_type": "code",
   "execution_count": 218,
   "metadata": {},
   "outputs": [],
   "source": [
    "class KnnBruteClassifier(object):\n",
    "    '''Классификатор реализует взвешенное голосование по ближайшим соседям. \n",
    "    Поиск ближайшего соседа осуществляется полным перебором.\n",
    "    Параметры\n",
    "    ----------\n",
    "    n_neighbors : int, optional\n",
    "        Число ближайших соседей, учитывающихся в голосовании\n",
    "    weights : str, optional (default = 'uniform')\n",
    "        веса, используемые в голосовании. Возможные значения:\n",
    "        - 'uniform' : все веса равны.\n",
    "        - 'distance' : веса обратно пропорциональны расстоянию до классифицируемого объекта\n",
    "        -  функция, которая получает на вход массив расстояний и возвращает массив весов\n",
    "    metric: функция подсчета расстояния (по умолчанию l2).\n",
    "    '''\n",
    "    def __init__(self, n_neighbors=1, weights='uniform', metric=\"l2\"):\n",
    "        self.k_n = n_neighbors\n",
    "        self.weight = weights\n",
    "        self.p = metric\n",
    "     \n",
    "    def fit(self, x, y):\n",
    "        self.train = x.copy()\n",
    "        self.answers = y.copy()\n",
    "        return self\n",
    "        '''Обучение модели.\n",
    "        Парметры\n",
    "        ----------\n",
    "        x : двумерным массив признаков размера n_queries x n_features\n",
    "        y : массив/список правильных меток размера n_queries\n",
    "        Выход\n",
    "        -------\n",
    "        Метод возвращает обученную модель\n",
    "        '''\n",
    "    def predict_one(self, x):\n",
    "        classes = np.unique(self.answers)\n",
    "        return classes[np.argmax(self.predict_proba_one(x))]\n",
    "    def predict(self, x):\n",
    "        return np.apply_along_axis(self.predict_one,1,x)\n",
    "        \n",
    "        \"\"\" Предсказание класса для входных объектов\n",
    "        Параметры\n",
    "        ----------\n",
    "        X : двумерным массив признаков размера n_queries x n_features\n",
    "        Выход\n",
    "        -------\n",
    "        y : Массив размера n_queries\n",
    "        \"\"\"\n",
    "    def predict_proba_one(self, x):\n",
    "        k_nearest = self.answers[self.kneighbors_one_inds(x,self.k_n)]\n",
    "        classes = np.unique(self.answers)\n",
    "        if self.weight=='distance':\n",
    "            k_nearest_dist = self.kneighbors_one_dists(x,self.k_n)\n",
    "            weigh = lambda x: (1/k_nearest_dist[np.where(k_nearest==x)[0]]).sum()\n",
    "            vweigh = np.vectorize(weigh)\n",
    "            return vweigh(classes)/(vweigh(classes).sum())\n",
    "        else:\n",
    "            weigh = lambda x: np.ones(self.k_n)[np.where(k_nearest==x)[0]].sum()\n",
    "            vweigh = np.vectorize(weigh)\n",
    "            return vweigh(classes)/(vweigh(classes).sum())\n",
    "    def predict_proba(self, X):\n",
    "        return np.apply_along_axis(self.predict_proba_one,1,X)\n",
    "        \"\"\"Возвращает вероятности классов для входных объектов\n",
    "        Параметры\n",
    "        ----------\n",
    "        X : двумерным массив признаков размера n_queries x n_features\n",
    "        Выход\n",
    "        -------\n",
    "        p : массив размера n_queries x n_classes] c вероятностями принадлежности \n",
    "        объекта к каждому классу\n",
    "        \"\"\"\n",
    "    def kneighbors_one_dists(self, x, n_neighbors):\n",
    "        distances = np.sqrt(((self.train - x)**2).sum(axis=1))\n",
    "        indsort = np.argsort(distances)[:n_neighbors] \n",
    "        return distances[indsort]\n",
    "    def kneighbors_one_inds(self, x, n_neighbors):\n",
    "        distances = np.sqrt(((self.train - x)**2).sum(axis=1))\n",
    "        indsort = np.argsort(distances)[:n_neighbors] \n",
    "        return indsort\n",
    "    def kneighbors(self, x, n_neighbors):\n",
    "        dists = np.apply_along_axis(self.kneighbors_one_dists,1,x,n_neighbors)\n",
    "        inds = np.apply_along_axis(self.kneighbors_one_inds,1,x,n_neighbors)\n",
    "        return dists,inds \n",
    "        \"\"\"Возвращает n_neighbors ближайших соседей для всех входных объектов и расстояния до них\n",
    "        Параметры\n",
    "        ----------\n",
    "        X : двумерным массив признаков размера n_queries x n_features\n",
    "        Выход\n",
    "        -------\n",
    "        neigh_dist массив размера n_queries х n_neighbors\n",
    "        расстояния до ближайших элементов\n",
    "        neigh_indarray, массив размера n_queries x n_neighbors\n",
    "        индексы ближайших элементов\n",
    "        \"\"\""
   ]
  },
  {
   "cell_type": "code",
   "execution_count": 219,
   "metadata": {},
   "outputs": [],
   "source": [
    "def load_file(filename):\n",
    "    return np.load(filename, allow_pickle=True)[()]\n",
    "    \"\"\"\n",
    "    TODO: Необходимо загрузить файл задания и вернуть словарь с ключами \"X_train\", \"X_test\", \"y_train\"\n",
    "    \"\"\""
   ]
  },
  {
   "cell_type": "code",
   "execution_count": 220,
   "metadata": {},
   "outputs": [],
   "source": [
    "input_filename = \"knn_data_043.npy\" #TODO задать путь к входному файлу\n",
    "data_dict = load_file(input_filename)"
   ]
  },
  {
   "cell_type": "code",
   "execution_count": 221,
   "metadata": {},
   "outputs": [
    {
     "name": "stdout",
     "output_type": "stream",
     "text": [
      "1.0\n"
     ]
    }
   ],
   "source": [
    "model = KnnBruteClassifier(n_neighbors=5, weights='uniform')\n",
    "model.fit(data_dict[\"X_train\"], data_dict[\"y_train\"])\n",
    "cl = KNeighborsClassifier(n_neighbors=5)\n",
    "cl.fit(data_dict[\"X_train\"], data_dict[\"y_train\"])\n",
    "pr=cl.predict(data_dict[\"X_test\"])\n",
    "l2_uniform_n5_y_predict = model.predict(data_dict[\"X_test\"])\n",
    "acc = accuracy_score(pr,l2_uniform_n5_y_predict)\n",
    "print(acc)"
   ]
  },
  {
   "cell_type": "code",
   "execution_count": 222,
   "metadata": {},
   "outputs": [
    {
     "name": "stdout",
     "output_type": "stream",
     "text": [
      "1.0\n"
     ]
    }
   ],
   "source": [
    "model = KnnBruteClassifier(n_neighbors=10, weights='uniform')\n",
    "model.fit(data_dict[\"X_train\"], data_dict[\"y_train\"])\n",
    "cl = KNeighborsClassifier(n_neighbors=10)\n",
    "cl.fit(data_dict[\"X_train\"], data_dict[\"y_train\"])\n",
    "pr=cl.predict(data_dict[\"X_test\"])\n",
    "l2_uniform_10_y_predict = model.predict(data_dict[\"X_test\"])\n",
    "acc = accuracy_score(pr,l2_uniform_10_y_predict)\n",
    "print(acc)"
   ]
  },
  {
   "cell_type": "code",
   "execution_count": 223,
   "metadata": {},
   "outputs": [
    {
     "name": "stdout",
     "output_type": "stream",
     "text": [
      "1.0\n"
     ]
    }
   ],
   "source": [
    "model = KnnBruteClassifier(n_neighbors=5, weights='distance')\n",
    "model.fit(data_dict[\"X_train\"], data_dict[\"y_train\"])\n",
    "cl = KNeighborsClassifier(n_neighbors=5, weights='distance')\n",
    "cl.fit(data_dict[\"X_train\"], data_dict[\"y_train\"])\n",
    "pr=cl.predict(data_dict[\"X_test\"])\n",
    "l2_distance_n5_y_predict = model.predict(data_dict[\"X_test\"])\n",
    "acc = accuracy_score(pr,l2_distance_n5_y_predict)\n",
    "print(acc)"
   ]
  },
  {
   "cell_type": "code",
   "execution_count": 164,
   "metadata": {},
   "outputs": [],
   "source": [
    "output_filename = \"results.npy\"\n",
    "result_dict = {\n",
    "    \"input_filename\": input_filename,\n",
    "    \"l2_uniform_n5_y_predict\": l2_uniform_n5_y_predict,\n",
    "    \"l2_uniform_10_y_predict\": l2_uniform_10_y_predict,\n",
    "    \"l2_distance_n5_y_predict\": l2_distance_n5_y_predict,\n",
    "}\n",
    "np.save(output_filename, result_dict)"
   ]
  },
  {
   "cell_type": "code",
   "execution_count": null,
   "metadata": {},
   "outputs": [],
   "source": []
  }
 ],
 "metadata": {
  "kernelspec": {
   "display_name": "Python 3 (ipykernel)",
   "language": "python",
   "name": "python3"
  },
  "language_info": {
   "codemirror_mode": {
    "name": "ipython",
    "version": 3
   },
   "file_extension": ".py",
   "mimetype": "text/x-python",
   "name": "python",
   "nbconvert_exporter": "python",
   "pygments_lexer": "ipython3",
   "version": "3.10.8"
  }
 },
 "nbformat": 4,
 "nbformat_minor": 4
}
