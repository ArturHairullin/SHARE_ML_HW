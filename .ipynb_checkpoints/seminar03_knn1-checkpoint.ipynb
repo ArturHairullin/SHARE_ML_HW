{
 "cells": [
  {
   "cell_type": "code",
   "execution_count": 1,
   "metadata": {},
   "outputs": [],
   "source": [
    "import numpy as np\n",
    "import matplotlib.pyplot as plt\n",
    "import pickle"
   ]
  },
  {
   "cell_type": "markdown",
   "metadata": {},
   "source": [
    "### Подготовка данных"
   ]
  },
  {
   "cell_type": "code",
   "execution_count": 2,
   "metadata": {},
   "outputs": [
    {
     "name": "stdout",
     "output_type": "stream",
     "text": [
      "(60000, 28, 28) (60000,)\n"
     ]
    }
   ],
   "source": [
    "with np.load('mnist.npz', allow_pickle=True) as f: \n",
    "    train_x, train_y = f['x_train'], f['y_train']\n",
    "    test_x, test_y = f['x_test'], f['y_test']\n",
    "print(train_x.shape, train_y.shape)"
   ]
  },
  {
   "cell_type": "code",
   "execution_count": 3,
   "metadata": {},
   "outputs": [
    {
     "name": "stdout",
     "output_type": "stream",
     "text": [
      "label is 4\n"
     ]
    },
    {
     "data": {
      "image/png": "[encoded data removed]",
      "text/plain": [
       "<Figure size 640x480 with 1 Axes>"
      ]
     },
     "metadata": {},
     "output_type": "display_data"
    }
   ],
   "source": [
    "index = 3457\n",
    "print('label is %d' % train_y[index])\n",
    "plt.imshow(train_x[index])\n",
    "plt.show()"
   ]
  },
  {
   "cell_type": "code",
   "execution_count": 4,
   "metadata": {},
   "outputs": [
    {
     "name": "stdout",
     "output_type": "stream",
     "text": [
      "(60000, 784)\n",
      "(10000, 784)\n"
     ]
    }
   ],
   "source": [
    "train_x_1 = train_x.reshape(len(train_x), -1)\n",
    "print(train_x_1.shape)\n",
    "\n",
    "test_x_1 = test_x.reshape(len(test_x), -1)\n",
    "print(test_x_1.shape)"
   ]
  },
  {
   "cell_type": "markdown",
   "metadata": {},
   "source": [
    "### Мотивация: настройка параметров влияет на качество"
   ]
  },
  {
   "cell_type": "code",
   "execution_count": 5,
   "metadata": {},
   "outputs": [],
   "source": [
    "from sklearn.neighbors import KNeighborsClassifier\n",
    "from sklearn.metrics import accuracy_score"
   ]
  },
  {
   "cell_type": "code",
   "execution_count": 6,
   "metadata": {},
   "outputs": [
    {
     "name": "stdout",
     "output_type": "stream",
     "text": [
      "1 0.86\n",
      "3 0.9\n",
      "5 0.9\n",
      "7 0.89\n",
      "9 0.9\n"
     ]
    }
   ],
   "source": [
    "results = []\n",
    "for k in range(1,10, 2):\n",
    "    classifier = KNeighborsClassifier(n_neighbors=k)\n",
    "    classifier.fit(train_x_1[:2000], train_y[:2000])\n",
    "    pred = classifier.predict(test_x_1[:100])\n",
    "    acc = accuracy_score(pred, test_y[:100])\n",
    "    results.append(acc)\n",
    "    print(k, acc)"
   ]
  },
  {
   "cell_type": "markdown",
   "metadata": {},
   "source": [
    "Вывод: В зависимости от количества соседей в методе kNN качество может существенно отличаться!"
   ]
  },
  {
   "cell_type": "markdown",
   "metadata": {},
   "source": [
    "### Задания"
   ]
  },
  {
   "cell_type": "markdown",
   "metadata": {},
   "source": [
    "#### Задача 1"
   ]
  },
  {
   "cell_type": "markdown",
   "metadata": {},
   "source": [
    "Подобрать оптимальные параметры для KNeighborsClassifier.\n",
    "В качестве решения необходимо отправить код подбора параметров в этом ноутбуке seminar03_knn.ipynb и параметры лучшего классификатора knn_best_params.pkl"
   ]
  },
  {
   "cell_type": "markdown",
   "metadata": {},
   "source": [
    "#### Задача 2"
   ]
  },
  {
   "cell_type": "markdown",
   "metadata": {},
   "source": [
    "Найти 10 эталонов, чтобы качество классификации было максимальным. (Преодолеть 70%)\n",
    "\n",
    "В качестве решения необходимо отправить код поиска эталонов в этом ноутбуке seminar03_knn.ipynb и файл с 10 эталонами knn_10_best.npy\n"
   ]
  },
  {
   "cell_type": "markdown",
   "metadata": {},
   "source": [
    "#### Задача 3*"
   ]
  },
  {
   "cell_type": "markdown",
   "metadata": {},
   "source": [
    "Сколько эталонов нужно, чтобы преодолеть 90% точность?\n",
    "Задача не является обязательной, в качестве решения необходимо предоставить код с решением"
   ]
  },
  {
   "cell_type": "markdown",
   "metadata": {},
   "source": [
    "#### Ноутбук с решением необходимо сдать отправить боту @ml2022sharebot c пометкой seminar03"
   ]
  },
  {
   "cell_type": "markdown",
   "metadata": {},
   "source": [
    "### Решение задачи 1"
   ]
  },
  {
   "cell_type": "code",
   "execution_count": 9,
   "metadata": {},
   "outputs": [
    {
     "name": "stdout",
     "output_type": "stream",
     "text": [
      "Best params:  {'n_neighbors': 26, 'p': 33, 'weights': 'uniform'}\n",
      "Validation score:  0.867\n",
      "0.8856\n"
     ]
    }
   ],
   "source": [
    "# ваше решение задачи 1\n",
    "from sklearn.model_selection import GridSearchCV, RandomizedSearchCV\n",
    "from sklearn.neighbors import KNeighborsClassifier\n",
    "from scipy.stats import poisson,geom\n",
    "param_grid = {'n_neighbors': np.arange(1,8000),'weights':['distance','uniform'],'p': geom(p=0.5)}\n",
    "svc = KNeighborsClassifier()\n",
    "clf = RandomizedSearchCV(svc, param_grid, n_iter=100, cv=5, random_state=1, refit=True)\n",
    "clf.fit(train_x_1[:10000], train_y[:10000])\n",
    "print('Best params: ', clf.best_params_)\n",
    "print('Validation score: ', clf.best_score_)\n",
    "score = clf.score(test_x_1, test_y) \n",
    "print(score)"
   ]
  },
  {
   "cell_type": "code",
   "execution_count": 16,
   "metadata": {},
   "outputs": [],
   "source": [
    "# сохраните параметры лучшего классификатора\n",
    "#обучил только на 2000 на всей выборке слишком долго обучается\n",
    "#coding: utf-8 \n",
    "with open(\"knn_best_params.pkl\", \"wb\") as f:\n",
    "    pickle.dump(clf.best_params_, f)\n",
    "\n"
   ]
  },
  {
   "cell_type": "markdown",
   "metadata": {},
   "source": [
    "### Решение задачи 2"
   ]
  },
  {
   "cell_type": "code",
   "execution_count": 144,
   "metadata": {},
   "outputs": [
    {
     "name": "stdout",
     "output_type": "stream",
     "text": [
      "0.8203\n"
     ]
    }
   ],
   "source": [
    "# ваше решение задачи 2\n",
    "from sklearn.cluster import KMeans\n",
    "\n",
    "etalons_10 = []\n",
    "for i in range(10):\n",
    "    a = []\n",
    "    for j in range(60000):\n",
    "        if train_y[j]==i:\n",
    "            a.append(train_x_1[j])\n",
    "    kmeans = KMeans(n_clusters=1, random_state=1).fit(a)\n",
    "    etalons_10.append(kmeans.cluster_centers_[0])\n",
    "    #plt.imshow(kmeans.cluster_centers_[0].reshape(28,28))\n",
    "    #plt.show()\n",
    "cl = KNeighborsClassifier(n_neighbors=1)\n",
    "cl.fit(etalons_10,np.arange(0,10))\n",
    "score = cl.score(test_x_1,test_y) \n",
    "print(score)"
   ]
  },
  {
   "cell_type": "code",
   "execution_count": 145,
   "metadata": {},
   "outputs": [],
   "source": [
    "np.save('knn_10_best', etalons_10)"
   ]
  },
  {
   "cell_type": "code",
   "execution_count": null,
   "metadata": {},
   "outputs": [],
   "source": []
  },
  {
   "cell_type": "markdown",
   "metadata": {},
   "source": [
    "### Решение задачи 3"
   ]
  },
  {
   "cell_type": "code",
   "execution_count": 185,
   "metadata": {},
   "outputs": [
    {
     "name": "stdout",
     "output_type": "stream",
     "text": [
      "0.9001\n"
     ]
    }
   ],
   "source": [
    "# ваше решение задачи 3\n",
    "import itertools as it\n",
    "\n",
    "'''идея решения увеличивать количество эталонов снизу мы знаем,что 10 эталонов 82% и еще есть гипотеза,\n",
    "что искать эталоны среди конкретных классов выборки эффективнее,чем сразу по всей выборке\n",
    "/предположение вышло из опыта предыдущего задания/ будем искать все комбинации эталонов из 11 элементов \n",
    "10 эталонов из всех классов + 1 из какого-то потом перейдем к 12 и аналогично поступим,пока не получим эффективность выше 90% \n",
    "/50 эталонов уже хватает если взять по 5 из каждого класса/это может и посчитает правильный ответ,\n",
    "но ответ врядли можно получить до дедлайна '''\n",
    "'''\n",
    "for i in range(40,51):\n",
    "    print(i)\n",
    "    combs = it.combinations_with_replacement(range(1,i), 10)\n",
    "    for c in combs:\n",
    "        if sum(c)==i:\n",
    "            for p in it.permutations(c):\n",
    "                etalons = []\n",
    "                ans = []\n",
    "                for q in range(0,10):\n",
    "                    a = []\n",
    "                    for j in range(60000):\n",
    "                        if train_y[j]==q:\n",
    "                            a.append(train_x_1[j])\n",
    "                    kmeans = KMeans(n_clusters=p[q], random_state=1).fit(a)\n",
    "                    for k in kmeans.cluster_centers_:\n",
    "                        etalons.append(k)\n",
    "                        ans.append(q)    \n",
    "                cl = KNeighborsClassifier(n_neighbors=1)\n",
    "                cl.fit(etalons,ans)\n",
    "                score = cl.score(test_x_1,test_y)\n",
    "                if score>0.9:\n",
    "                    print(len(etalons))\n",
    "                    print(score)\n",
    "                    break\n",
    "'''\n",
    "etalons = []\n",
    "ans = []\n",
    "p = [3,3,5,5,5,5,3,4,5,5]#43 эталонов хватит\n",
    "for q in range(0,10):\n",
    "    a = []\n",
    "    for j in range(60000):\n",
    "        if train_y[j]==q:\n",
    "            a.append(train_x_1[j])\n",
    "    kmeans = KMeans(n_clusters=p[q], random_state=1).fit(a)\n",
    "    for k in kmeans.cluster_centers_:\n",
    "        etalons.append(k)\n",
    "        ans.append(q)    \n",
    "cl = KNeighborsClassifier(n_neighbors=1)\n",
    "cl.fit(etalons,ans)\n",
    "score = cl.score(test_x_1,test_y)\n",
    "print(score)"
   ]
  },
  {
   "cell_type": "code",
   "execution_count": 167,
   "metadata": {},
   "outputs": [
    {
     "name": "stdout",
     "output_type": "stream",
     "text": [
      "0.8277\n",
      "0.8343\n",
      "0.8394\n",
      "0.8451\n",
      "0.8487\n",
      "0.8514\n",
      "0.854\n",
      "0.8573\n",
      "0.8619\n",
      "0.8636\n",
      "0.8648\n",
      "0.8648\n",
      "0.8655\n",
      "0.8655\n",
      "0.8674\n",
      "0.8682\n",
      "0.8691\n",
      "0.871\n",
      "0.8728\n",
      "0.8733\n",
      "0.8738\n",
      "0.8757\n",
      "0.8756\n",
      "0.8771\n",
      "0.8774\n",
      "0.8781\n",
      "0.8799\n",
      "0.8799\n",
      "0.8813\n",
      "0.8815\n",
      "0.882\n",
      "0.8833\n",
      "0.8839\n",
      "0.8842\n",
      "0.8851\n",
      "0.8856\n",
      "0.8858\n",
      "0.886\n",
      "0.8862\n",
      "0.8872\n"
     ]
    }
   ],
   "source": [
    "\n",
    "   "
   ]
  },
  {
   "cell_type": "code",
   "execution_count": null,
   "metadata": {},
   "outputs": [],
   "source": []
  }
 ],
 "metadata": {
  "kernelspec": {
   "display_name": "Python 3 (ipykernel)",
   "language": "python",
   "name": "python3"
  },
  "language_info": {
   "codemirror_mode": {
    "name": "ipython",
    "version": 3
   },
   "file_extension": ".py",
   "mimetype": "text/x-python",
   "name": "python",
   "nbconvert_exporter": "python",
   "pygments_lexer": "ipython3",
   "version": "3.10.8"
  }
 },
 "nbformat": 4,
 "nbformat_minor": 2
}
