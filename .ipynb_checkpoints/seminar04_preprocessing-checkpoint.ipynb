{
 "cells": [
  {
   "cell_type": "markdown",
   "metadata": {},
   "source": [
    "# Семинар №4"
   ]
  },
  {
   "cell_type": "markdown",
   "metadata": {},
   "source": [
    "ФИО: Хайруллин Артур Миннахматович\n",
    "\n",
    "вуз: МГУ \n",
    "\n",
    "факультет: механико-математический\n",
    "\n",
    "курс: 6\n",
    "\n",
    "кафедра (если есть): МаТИС\n",
    "\n",
    "научный руководитель (если есть): Волков Н.Ю."
   ]
  },
  {
   "cell_type": "markdown",
   "metadata": {},
   "source": [
    "#### Семинар подготовлен с целью ознакомить слушателей с процедурой подготовки данных для алгоритмов машнинного обучения на примере задачи оценки цены недвижимости. Описание данных можно найти в data_description.txt"
   ]
  },
  {
   "cell_type": "markdown",
   "metadata": {},
   "source": [
    "### 1. Считывание данных (1 балл)"
   ]
  },
  {
   "cell_type": "markdown",
   "metadata": {},
   "source": [
    "Считайте данные из файлов train.csv и test.csv в массивы:\n",
    "trainX (содержит признаки обучающего множества)\n",
    "trainY (содержит правильные ответа для обучающего множества)\n",
    "testX (содержит признаки для тестового множества)\n",
    "\n",
    "Первый столбец содержит порядковый номер объекта, поэтому его рекомендуется сразу удалить"
   ]
  },
  {
   "cell_type": "code",
   "execution_count": 2,
   "metadata": {},
   "outputs": [
    {
     "name": "stdout",
     "output_type": "stream",
     "text": [
      "(1460, 79) (1460,) (1459, 79)\n"
     ]
    }
   ],
   "source": [
    "# ваш код\n",
    "import pandas as pd\n",
    "import numpy as np\n",
    "df = pd.read_csv('train.csv')\n",
    "trainX = df.drop(['Id','SalePrice'],axis=1).to_numpy()\n",
    "trainY = df['SalePrice'].to_numpy()\n",
    "testX = pd.read_csv('test.csv').drop(['Id'],axis=1).to_numpy()\n",
    "print(trainX.shape, trainY.shape, testX.shape)"
   ]
  },
  {
   "cell_type": "code",
   "execution_count": 3,
   "metadata": {},
   "outputs": [
    {
     "name": "stdout",
     "output_type": "stream",
     "text": [
      "[60 'RL' 65.0 8450 'Pave' nan 'Reg' 'Lvl' 'AllPub' 'Inside' 'Gtl'\n",
      " 'CollgCr' 'Norm' 'Norm' '1Fam' '2Story' 7 5 2003 2003 'Gable' 'CompShg'\n",
      " 'VinylSd' 'VinylSd' 'BrkFace' 196.0 'Gd' 'TA' 'PConc' 'Gd' 'TA' 'No'\n",
      " 'GLQ' 706 'Unf' 0 150 856 'GasA' 'Ex' 'Y' 'SBrkr' 856 854 0 1710 1 0 2 1\n",
      " 3 1 'Gd' 8 'Typ' 0 nan 'Attchd' 2003.0 'RFn' 2 548 'TA' 'TA' 'Y' 0 61 0 0\n",
      " 0 0 nan nan nan 0 2 2008 'WD' 'Normal']\n"
     ]
    }
   ],
   "source": [
    "print(trainX[0])"
   ]
  },
  {
   "cell_type": "markdown",
   "metadata": {},
   "source": [
    "### 2. Предварительная обработка данных"
   ]
  },
  {
   "cell_type": "markdown",
   "metadata": {},
   "source": [
    "Как правило \"реальные\" данные содержат пропущенные значения и прочие нечисловые признаки, поэтому прежде чем запустить методы fit и  predict модели, необходимо сделать все признаки числовыми."
   ]
  },
  {
   "cell_type": "markdown",
   "metadata": {},
   "source": [
    "#### 2.1 Обработка пропущенных значений (2 балла)"
   ]
  },
  {
   "cell_type": "markdown",
   "metadata": {},
   "source": [
    "Изучите раздел документации https://scikit-learn.org/stable/modules/impute.html#impute и параметры классов SimpleImputer и MissingIndicator"
   ]
  },
  {
   "cell_type": "code",
   "execution_count": 4,
   "metadata": {},
   "outputs": [],
   "source": [
    "from sklearn.impute import MissingIndicator, SimpleImputer"
   ]
  },
  {
   "cell_type": "code",
   "execution_count": 5,
   "metadata": {},
   "outputs": [
    {
     "name": "stdout",
     "output_type": "stream",
     "text": [
      "6965\n",
      "7000\n"
     ]
    }
   ],
   "source": [
    "indicator = MissingIndicator()\n",
    "train_mask_missing_values_only = indicator.fit_transform(trainX)\n",
    "test_mask_missing_values_only = indicator.fit_transform(testX)\n",
    "print(np.sum(train_mask_missing_values_only))\n",
    "print(np.sum(test_mask_missing_values_only))"
   ]
  },
  {
   "cell_type": "markdown",
   "metadata": {},
   "source": [
    "В данных были обнаружены пропущенные значение. \n",
    "При помощи класса MissingIndicator устраните пропущенные значения, использовав самый часто встречаемый элемент."
   ]
  },
  {
   "cell_type": "code",
   "execution_count": 6,
   "metadata": {},
   "outputs": [],
   "source": [
    "# ваш код\n",
    "imp = SimpleImputer(missing_values=np.nan, strategy='most_frequent')\n",
    "trainX_without_missing = imp.fit_transform(trainX) # ваш код\n",
    "testX_without_missing = imp.fit_transform(testX)# ваш код"
   ]
  },
  {
   "cell_type": "code",
   "execution_count": 9,
   "metadata": {},
   "outputs": [
    {
     "name": "stdout",
     "output_type": "stream",
     "text": [
      "0\n",
      "0\n"
     ]
    }
   ],
   "source": [
    "indicator = MissingIndicator()\n",
    "train_mask_missing_values_only = indicator.fit_transform(trainX_without_missing)\n",
    "test_mask_missing_values_only = indicator.fit_transform(testX_without_missing)\n",
    "print(np.sum(train_mask_missing_values_only))\n",
    "print(np.sum(test_mask_missing_values_only))\n",
    "print(trainX_without_missing[0])"
   ]
  },
  {
   "cell_type": "markdown",
   "metadata": {},
   "source": [
    "Пропущенные значения удалены."
   ]
  },
  {
   "cell_type": "code",
   "execution_count": 10,
   "metadata": {},
   "outputs": [
    {
     "name": "stdout",
     "output_type": "stream",
     "text": [
      "[60 'RL' 65.0 8450 'Pave' 'Grvl' 'Reg' 'Lvl' 'AllPub' 'Inside' 'Gtl'\n",
      " 'CollgCr' 'Norm' 'Norm' '1Fam' '2Story' 7 5 2003 2003 'Gable' 'CompShg'\n",
      " 'VinylSd' 'VinylSd' 'BrkFace' 196.0 'Gd' 'TA' 'PConc' 'Gd' 'TA' 'No'\n",
      " 'GLQ' 706 'Unf' 0 150 856 'GasA' 'Ex' 'Y' 'SBrkr' 856 854 0 1710 1 0 2 1\n",
      " 3 1 'Gd' 8 'Typ' 0 'Gd' 'Attchd' 2003.0 'RFn' 2 548 'TA' 'TA' 'Y' 0 61 0\n",
      " 0 0 0 'Gd' 'MnPrv' 'Shed' 0 2 2008 'WD' 'Normal']\n"
     ]
    }
   ],
   "source": [
    "print(trainX_without_missing[0])"
   ]
  },
  {
   "cell_type": "markdown",
   "metadata": {},
   "source": [
    "#### 2.2  Обработка категориальных значений (2 балла)"
   ]
  },
  {
   "cell_type": "markdown",
   "metadata": {},
   "source": [
    "Изучите раздел документации https://scikit-learn.org/stable/modules/preprocessing.html#encoding-categorical-features\n",
    "\n",
    "При помощи класса OrdinalEncoder удалите категориальные признаки."
   ]
  },
  {
   "cell_type": "code",
   "execution_count": 17,
   "metadata": {},
   "outputs": [
    {
     "name": "stdout",
     "output_type": "stream",
     "text": [
      "[  5.   3.  41. 619.   1.   0.   3.   3.   0.   4.   0.   5.   2.   2.\n",
      "   0.   5.   6.   4. 110.  53.   1.   1.  12.  13.   1. 148.   2.   4.\n",
      "   2.   2.   3.   3.   2. 512.   5.   0. 107. 261.   1.   0.   1.   4.\n",
      " 197. 356.   0. 766.   1.   0.   2.   1.   3.   1.   2.   6.   6.   0.\n",
      "   2.   1.  94.   1.   2. 283.   4.   4.   2.   0.  52.   0.   0.   0.\n",
      "   0.   2.   2.   2.   0.   1.   2.   8.   4.]\n"
     ]
    }
   ],
   "source": [
    "#ваш код\n",
    "from sklearn.preprocessing import OrdinalEncoder\n",
    "enc = OrdinalEncoder().fit(np.vstack([trainX_without_missing,testX_without_missing]))\n",
    "trainX_without_missing_and_cat = enc.transform(trainX_without_missing)#ваш код\n",
    "testX_without_missing_and_cat = enc.transform(testX_without_missing)# ваш код\n",
    "print(trainX_without_missing_and_cat[0])"
   ]
  },
  {
   "cell_type": "code",
   "execution_count": 36,
   "metadata": {},
   "outputs": [
    {
     "name": "stdout",
     "output_type": "stream",
     "text": [
      "[  5.   3.  41. 619.   1.   0.   3.   3.   0.   4.   0.   5.   2.   2.\n",
      "   0.   5.   6.   4. 110.  53.   1.   1.  12.  13.   1. 148.   2.   4.\n",
      "   2.   2.   3.   3.   2. 512.   5.   0. 107. 261.   1.   0.   1.   4.\n",
      " 197. 356.   0. 766.   1.   0.   2.   1.   3.   1.   2.   6.   6.   0.\n",
      "   2.   1.  94.   1.   2. 283.   4.   4.   2.   0.  52.   0.   0.   0.\n",
      "   0.   2.   2.   2.   0.   1.   2.   8.   4.]\n"
     ]
    }
   ],
   "source": [
    "print(trainX_without_missing_and_cat[0])"
   ]
  },
  {
   "cell_type": "markdown",
   "metadata": {},
   "source": [
    "Теперь данные готовы для обучения моделей"
   ]
  },
  {
   "cell_type": "markdown",
   "metadata": {},
   "source": [
    "Опишите достоинства и недостатки данного метода обработки категориальных признаков"
   ]
  },
  {
   "cell_type": "markdown",
   "metadata": {},
   "source": [
    "ваш ответ:это довольно простой способ обработки категориальных признаков и для некоторых признаков которые могут иметь иерархию между собой как например должность,ученая степень и т д идеально подходит т к переносит отношение порядка,но для некоторых признаков отношение порядка может привести к нежелательным результатам в зависимости от обучающего алгоритма например из-за этого в кнн может сильно повыситься расстояние до какого-то элемента из-за того,что признак получил очень большое значение при такой обработке,хотя он равнозначен другим признакам\n"
   ]
  },
  {
   "cell_type": "markdown",
   "metadata": {},
   "source": [
    "### 3. Разделение данных на обучение и валидацию (1 балл)"
   ]
  },
  {
   "cell_type": "markdown",
   "metadata": {},
   "source": [
    "Разделите обучающее множество на обучение(75%) и валидацию(25%), воспользовавшись функцией train_test_split с random_state=42"
   ]
  },
  {
   "cell_type": "code",
   "execution_count": 18,
   "metadata": {},
   "outputs": [
    {
     "name": "stdout",
     "output_type": "stream",
     "text": [
      "(1095, 79) (365, 79) (1095,) (365,)\n"
     ]
    }
   ],
   "source": [
    "# ваш код\n",
    "from sklearn.model_selection import train_test_split\n",
    "X_train, X_val, y_train, y_val = train_test_split(trainX_without_missing_and_cat, trainY, test_size=0.25, random_state=42)\n",
    "print(X_train.shape, X_val.shape, y_train.shape, y_val.shape)"
   ]
  },
  {
   "cell_type": "code",
   "execution_count": 46,
   "metadata": {},
   "outputs": [
    {
     "name": "stdout",
     "output_type": "stream",
     "text": [
      "((1095, 79), (365, 79), (1095,), (365,))\n"
     ]
    }
   ],
   "source": [
    "print(X_train.shape, X_val.shape, y_train.shape, y_val.shape)"
   ]
  },
  {
   "cell_type": "markdown",
   "metadata": {},
   "source": [
    "### 4. Обучение моделей (4 балла)"
   ]
  },
  {
   "cell_type": "markdown",
   "metadata": {},
   "source": [
    "Данные готовы для обучения алгоритмов машинного обучения. В качестве базовой можеди возьмём линейную регрессию, меткрика качества - mean_squared_log_error"
   ]
  },
  {
   "cell_type": "code",
   "execution_count": 19,
   "metadata": {},
   "outputs": [
    {
     "name": "stdout",
     "output_type": "stream",
     "text": [
      "0.3831817295997679\n"
     ]
    }
   ],
   "source": [
    "from sklearn.linear_model import LinearRegression, Lasso\n",
    "from sklearn.metrics import mean_squared_log_error"
   ]
  },
  {
   "cell_type": "code",
   "execution_count": 66,
   "metadata": {},
   "outputs": [
    {
     "name": "stdout",
     "output_type": "stream",
     "text": [
      "0.3831817295997725\n"
     ]
    }
   ],
   "source": [
    "lr = LinearRegression()\n",
    "lr.fit(X_train, y_train)\n",
    "y_pred = lr.predict(X_val)\n",
    "y_pred[y_pred < 0.0] = 0.0\n",
    "\n",
    "print(mean_squared_log_error(y_val, y_pred))"
   ]
  },
  {
   "cell_type": "markdown",
   "metadata": {},
   "source": [
    "Текущую модель можно существенно улучшить. Добейтесь на валидации ошибки меньше 0.03 без каких-либо ограничений на алгоритмы"
   ]
  },
  {
   "cell_type": "code",
   "execution_count": 111,
   "metadata": {},
   "outputs": [],
   "source": [
    "# ваш код\n",
    "from sklearn.preprocessing import OneHotEncoder\n",
    "from sklearn.impute import KNNImputer\n",
    "\n",
    "indicator = MissingIndicator().fit(trainX)\n",
    "missing_table = indicator.transform(trainX)\n",
    "full_features_ind = np.array(list(set(range(0,79))-set(indicator.features_)))\n",
    "full_features = trainX.T[full_features_ind].T\n",
    "notfull_features = trainX.T[indicator.features_].T\n",
    "\n",
    "mytrainX = np.hstack([full_features,missing_table])\n",
    "mytrainX = OneHotEncoder(drop='if_binary').fit_transform((mytrainX)).toarray()\n",
    "\n",
    "notfull_features = OrdinalEncoder().fit_transform(notfull_features)\n",
    "mytrainX = np.hstack([mytrainX,notfull_features])\n",
    "\n",
    "imp = KNNImputer(n_neighbors=45, weights=\"distance\")\n",
    "mytrainXimp = imp.fit_transform(mytrainX)\n",
    "mytrainXE = OneHotEncoder(drop='if_binary').fit_transform((mytrainXimp)).toarray()\n",
    "X_train, X_val, y_train, y_val = train_test_split(mytrainXE, trainY, test_size=0.25, random_state=42)"
   ]
  },
  {
   "cell_type": "code",
   "execution_count": 115,
   "metadata": {},
   "outputs": [
    {
     "name": "stdout",
     "output_type": "stream",
     "text": [
      "0.03424546358311706\n"
     ]
    }
   ],
   "source": [
    "lr = LinearRegression()\n",
    "lr.fit(X_train, y_train)\n",
    "y_pred = lr.predict(X_val)\n",
    "y_pred[y_pred < 0.0] = 0.0\n",
    "\n",
    "print(mean_squared_log_error(y_val, y_pred))"
   ]
  },
  {
   "cell_type": "markdown",
   "metadata": {},
   "source": [
    "### 5. Способы улучшения качества модели"
   ]
  },
  {
   "cell_type": "markdown",
   "metadata": {},
   "source": [
    "1. Применить другую стратегию обработки пропущенных значений из scikit-learn (1 балл + 1 балл, если получили прирост качества для алгоритма с ошибкой меньше 0.03 )\n",
    "\n",
    "2. Добавить бинарные признаки отсутствия/присутствия значения для столбцов, где есть пропущенные значения (1 балл)\n",
    "\n",
    "3. Реализовать самостоятельно одну из стратегий обработки пропущенных значений из семинара (начиная с kNN) (2 балла)\n",
    "\n",
    "4. Применить стратегию OneHotEncoder  для обработки категориальных признаков (2 балла)\n",
    "\n",
    "5. Применить стратегию агрегированния данных для обработки категориальных признаков (2 балла)"
   ]
  },
  {
   "cell_type": "markdown",
   "metadata": {},
   "source": [
    "Реализуйте не менее двух идей из предложенных выше"
   ]
  },
  {
   "cell_type": "code",
   "execution_count": null,
   "metadata": {},
   "outputs": [],
   "source": []
  }
 ],
 "metadata": {
  "kernelspec": {
   "display_name": "Python 3 (ipykernel)",
   "language": "python",
   "name": "python3"
  },
  "language_info": {
   "codemirror_mode": {
    "name": "ipython",
    "version": 3
   },
   "file_extension": ".py",
   "mimetype": "text/x-python",
   "name": "python",
   "nbconvert_exporter": "python",
   "pygments_lexer": "ipython3",
   "version": "3.10.8"
  }
 },
 "nbformat": 4,
 "nbformat_minor": 2
}
