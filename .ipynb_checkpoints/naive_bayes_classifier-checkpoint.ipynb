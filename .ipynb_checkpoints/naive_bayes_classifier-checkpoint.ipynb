{
 "cells": [
  {
   "cell_type": "markdown",
   "id": "53f961f6",
   "metadata": {},
   "source": [
    "### Наивный байесовский классификатор"
   ]
  },
  {
   "cell_type": "markdown",
   "id": "6469b1ed",
   "metadata": {},
   "source": [
    "$$P(y | x_1,x_2,...,x_n) = \\frac{P(y) P(x_1,x_2,...,x_n|y)}{P(x_1,x_2,...,x_n)} $$"
   ]
  },
  {
   "cell_type": "markdown",
   "id": "c53a21ac",
   "metadata": {},
   "source": [
    "В силу 'наивного' предположения о независимости признаков $x_1,x_2,..,x_n$ получаем:"
   ]
  },
  {
   "cell_type": "markdown",
   "id": "3dd04fe9",
   "metadata": {},
   "source": [
    "$$ P(y | x_1,x_2,...,x_n) = \\frac{P(y) \\prod\\limits_{i=1}^{n}P(x_i| y)}{P(x_1,x_2,...,x_n)} $$"
   ]
  },
  {
   "cell_type": "markdown",
   "id": "17d056e7",
   "metadata": {},
   "source": [
    "Откуда следует, что"
   ]
  },
  {
   "cell_type": "markdown",
   "id": "25940a61",
   "metadata": {},
   "source": [
    "$$ P(y | x_1,x_2,...,x_n) \\propto P(y) \\prod\\limits_{i=1}^{n}P(x_i| y) $$"
   ]
  },
  {
   "cell_type": "markdown",
   "id": "5574ad39",
   "metadata": {},
   "source": [
    "$$\\hat{y} = arg \\max_{y} P(y) \\prod\\limits_{i=1}^{n}P(x_i| y) $$"
   ]
  },
  {
   "cell_type": "markdown",
   "id": "a51cd991",
   "metadata": {},
   "source": [
    "В данном задании будем предполагать, что "
   ]
  },
  {
   "cell_type": "markdown",
   "id": "880be0dd",
   "metadata": {},
   "source": [
    "$$ P(x_i | y) = P(x_i =1 | y) x_i + (1 - P(x_i =1 | y)) (1 - x_i), $$"
   ]
  },
  {
   "cell_type": "markdown",
   "id": "df6f5439",
   "metadata": {},
   "source": [
    "где $ p_y = P(x_i =1 | y)$ считается по оценке максимального правдобия."
   ]
  },
  {
   "cell_type": "markdown",
   "id": "5bc9d663",
   "metadata": {},
   "source": [
    "### Задание"
   ]
  },
  {
   "cell_type": "markdown",
   "id": "c362d3e0",
   "metadata": {},
   "source": [
    "Необходимо реализовать наивный байесовский классификтор для нормального распределения.\n",
    "Сам код необходимо оформить и отправить боту в виде класса MyBernoulliNBClassifier в файле seminar03.py\n"
   ]
  },
  {
   "cell_type": "code",
   "execution_count": 79,
   "id": "b556c4c4",
   "metadata": {},
   "outputs": [
    {
     "name": "stdout",
     "output_type": "stream",
     "text": [
      "[[1 1 0 0]\n",
      " [1 1 1 1]\n",
      " [1 0 0 1]\n",
      " [0 1 1 0]\n",
      " [0 1 0 0]\n",
      " [0 1 0 0]\n",
      " [1 0 0 0]\n",
      " [1 0 0 0]]\n",
      "[[0.69230769 0.30769231]\n",
      " [0.69230769 0.30769231]\n",
      " [0.42857143 0.57142857]\n",
      " [0.42857143 0.57142857]\n",
      " [0.42857143 0.57142857]\n",
      " [0.42857143 0.57142857]\n",
      " [0.42857143 0.57142857]\n",
      " [0.42857143 0.57142857]]\n",
      "0.31\n",
      "[[0.6923076923076923, 0.3076923076923077], [0.6923076923076923, 0.3076923076923077], [0.42857142857142855, 0.5714285714285714], [0.42857142857142855, 0.5714285714285714], [0.42857142857142855, 0.5714285714285714], [0.42857142857142855, 0.5714285714285714], [0.42857142857142855, 0.5714285714285714], [0.42857142857142855, 0.5714285714285714]]\n",
      "0.31\n"
     ]
    },
    {
     "name": "stderr",
     "output_type": "stream",
     "text": [
      "C:\\Python310\\lib\\site-packages\\sklearn\\naive_bayes.py:591: UserWarning: alpha too small will result in numeric errors, setting alpha = 1.0e-10\n",
      "  warnings.warn(\n"
     ]
    }
   ],
   "source": [
    "import numpy as np\n",
    "from sklearn.naive_bayes import BernoulliNB\n",
    "class MyBernoulliNBClassifier():\n",
    "    def __init__(self, priors=None):\n",
    "        pass\n",
    "    @staticmethod\n",
    "    def p(y,i):\n",
    "        k=0\n",
    "        for a in y:\n",
    "            if a==i:\n",
    "                k+=1\n",
    "        return k/len(y)\n",
    "    \n",
    "    def maxtrue(self,X,y,i):\n",
    "        s = [0.0]*len(X[0])\n",
    "        for j in range(len(y)):\n",
    "            if y[j]==i:\n",
    "                for k in range(len(X[j])):\n",
    "                    s[k]+=X[j][k]\n",
    "        for j in range(len(s)):\n",
    "            s[j]=s[j]/(len(y)*self.p(y,i))\n",
    "        return s\n",
    "    \n",
    "    def r(self,x,i):\n",
    "        tmp = self.p_y[i] \n",
    "        for j in range(len(x)):\n",
    "            tmp*=(self.s[i][j]**x[j])*((1-self.s[i][j])**(1-x[j]))\n",
    "        return tmp\n",
    "    \n",
    "    def fit(self, X, y):\n",
    "        self.p_y = []\n",
    "        self.s = []\n",
    "        self.ans = []\n",
    "        for i in set(y):\n",
    "            self.p_y.append(self.p(y,i))\n",
    "            self.s.append(self.maxtrue(X,y,i))\n",
    "            self.ans.append(i)\n",
    "        #print(self.p_y)\n",
    "        #print(self.s)\n",
    "        #print(self.ans)\n",
    "    \n",
    "    def predict(self, X):\n",
    "        result = []\n",
    "        for x in X:\n",
    "            max = 0\n",
    "            val = self.ans[0]\n",
    "            for i in range(len(self.ans)):\n",
    "                if self.r(x,i)>max:\n",
    "                    max = self.r(x,i)\n",
    "                    val = self.ans[i]\n",
    "            result.append(val)\n",
    "        return result              \n",
    "    \n",
    "    def predict_proba(self, X):\n",
    "        result = []\n",
    "            \n",
    "        for x in X:\n",
    "            p = []\n",
    "            c = 0.0\n",
    "            for i in range(len(self.ans)):\n",
    "                c+=self.r(x,i)\n",
    "            for i in range(len(self.ans)):\n",
    "                p.append(self.r(x,i)/c)\n",
    "            result.append(p)\n",
    "        return result\n",
    "    \n",
    "    def score(self,X, y):\n",
    "        p = self.predict(X)\n",
    "        k = 0\n",
    "        for i in range(len(y)):\n",
    "            if y[i]==p[i]:\n",
    "                k+=1\n",
    "        return k/len(y)\n",
    "\n",
    "rng = np.random.RandomState(1)\n",
    "X = rng.randint(2, size=(8, 4))\n",
    "print(X)\n",
    "Y = np.array([1, 1, 2, 2, 2, 1,2,1])\n",
    "\n",
    "XT=rng.randint(2, size=(100, 4))\n",
    "YT=rng.randint(3, size=100)\n",
    "clf = BernoulliNB(alpha=0)\n",
    "clf.fit(X, Y)\n",
    "print(clf.predict_proba(X))  \n",
    "print(clf.score(XT,YT))\n",
    "cl = MyBernoulliNBClassifier()\n",
    "cl.fit(X,Y)\n",
    "print(cl.predict_proba(X)) \n",
    "print(cl.score(XT,YT))  \n"
   ]
  },
  {
   "cell_type": "markdown",
   "id": "d79fab4b",
   "metadata": {},
   "source": [
    "Ваша реализация дожна поддерживать методы predict, predict_proba, score аналоично методам класса sklearn.naive_bayes.BernoulliNB при alpha=0"
   ]
  },
  {
   "cell_type": "code",
   "execution_count": 41,
   "id": "3976055b",
   "metadata": {},
   "outputs": [
    {
     "name": "stdout",
     "output_type": "stream",
     "text": [
      "2\n",
      "4\n",
      "5\n",
      "7\n"
     ]
    }
   ],
   "source": [
    "a=[5,4,7,2,2,2]\n",
    "b=set(a)\n",
    "for c in b:\n",
    "    print(c)"
   ]
  },
  {
   "cell_type": "code",
   "execution_count": null,
   "id": "d8004731",
   "metadata": {},
   "outputs": [],
   "source": []
  }
 ],
 "metadata": {
  "kernelspec": {
   "display_name": "Python 3 (ipykernel)",
   "language": "python",
   "name": "python3"
  },
  "language_info": {
   "codemirror_mode": {
    "name": "ipython",
    "version": 3
   },
   "file_extension": ".py",
   "mimetype": "text/x-python",
   "name": "python",
   "nbconvert_exporter": "python",
   "pygments_lexer": "ipython3",
   "version": "3.10.8"
  }
 },
 "nbformat": 4,
 "nbformat_minor": 5
}
