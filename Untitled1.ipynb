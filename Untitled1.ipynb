{
 "cells": [
  {
   "cell_type": "code",
   "execution_count": 46,
   "id": "de6923f6",
   "metadata": {},
   "outputs": [],
   "source": [
    "import csv\n",
    "def vel(t, x, y):\n",
    "    return (((60*60*x)/(1000*t))**2 + ((60*60*y)/(1000*t))**2)**0.5\n",
    "\n",
    "def max_time(a):\n",
    "    m = 0\n",
    "    tmp = 0\n",
    "    for s in a:\n",
    "        if s[0] > 40:\n",
    "            tmp+=s[1]\n",
    "        else:\n",
    "            if tmp > m:\n",
    "                m = tmp\n",
    "            tmp = 0\n",
    "    if tmp > m:\n",
    "        m = tmp\n",
    "    return m\n",
    "\n",
    "def difs(a):\n",
    "    t = a[0]\n",
    "    for s in a[1:]:\n",
    "        yield vel(float(s[0])-float(t[0]), float(s[3])-float(t[3]), float(s[4])-float(t[4])), float(s[0])-float(t[0])\n",
    "        t = s\n",
    "\n",
    "def id_filter(ID,a):\n",
    "    for s in a:\n",
    "        if s[1] == ID:\n",
    "            yield s\n",
    "def ids(a):\n",
    "    for s in a:\n",
    "        yield s[1]\n",
    "def gen_solution(path):\n",
    "    a = []\n",
    "    with open(path, newline='') as f:\n",
    "        reader = csv.reader(f)\n",
    "        a = list(reader)\n",
    "    a = a[1:]\n",
    "    IDs = set(ids(a))\n",
    "    for ID in IDs:\n",
    "        b = list(id_filter(ID,a))\n",
    "        b.sort(key=lambda x: x[0])\n",
    "        t = max_time(list(difs(b)))\n",
    "        if not t < 1:\n",
    "            yield ID\n",
    "b = list(gen_solution('data.csv'))\n",
    "b.sort()\n",
    "with open('answer.txt','w') as f:\n",
    "    f.write(b[0])\n",
    "    for s in b[1:]:\n",
    "        f.write('\\n' + s)"
   ]
  },
  {
   "cell_type": "code",
   "execution_count": null,
   "id": "5a58da33",
   "metadata": {},
   "outputs": [],
   "source": []
  }
 ],
 "metadata": {
  "kernelspec": {
   "display_name": "Python 3 (ipykernel)",
   "language": "python",
   "name": "python3"
  },
  "language_info": {
   "codemirror_mode": {
    "name": "ipython",
    "version": 3
   },
   "file_extension": ".py",
   "mimetype": "text/x-python",
   "name": "python",
   "nbconvert_exporter": "python",
   "pygments_lexer": "ipython3",
   "version": "3.10.8"
  }
 },
 "nbformat": 4,
 "nbformat_minor": 5
}
