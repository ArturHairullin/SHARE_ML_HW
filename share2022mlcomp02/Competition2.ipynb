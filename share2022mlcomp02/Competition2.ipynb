{
 "cells": [
  {
   "cell_type": "code",
   "execution_count": 1,
   "id": "6be7d947",
   "metadata": {},
   "outputs": [
    {
     "name": "stdout",
     "output_type": "stream",
     "text": [
      "['f1', 'f2', 'f3', 'f4', 'f5', 'f6', 'f7', 'f8', 'f9', 'f10', 'f13', 'f14', 'f15', 'f16', 'f17', 'f18', 'f19', 'f20', 'f21', 'f22', 'f23', 'f24', 'f25', 'f26', 'f27', 'f28', 'f29', 'f30', 'f31', 'f32', 'f33', 'f34', 'f35', 'f36', 'f37', 'f38', 'f39', 'f40', 'f41', 'f42', 'f43', 'f44', 'f45', 'f46', 'f47', 'f48', 'f49', 'f50', 'f51', 'f52', 'f53', 'f54', 'f55', 'f56', 'f57', 'f58', 'f59', 'f60', 'f61', 'f62', 'f63', 'f64', 'f65', 'f66', 'f67', 'f68', 'f69', 'f70', 'f71', 'f72', 'f73', 'f74', 'f75', 'f76', 'f77', 'f78', 'f79', 'f80', 'f81', 'f82', 'f83', 'f84', 'f85', 'f86', 'f87', 'f88', 'f89', 'f90', 'f91', 'f92', 'f93', 'f94', 'f95', 'f96', 'f97', 'f98', 'f99', 'f100', 'f101', 'f102', 'f103', 'f104', 'f105', 'f106', 'f107', 'f108', 'f109', 'f110', 'f111', 'f112', 'f113', 'f114', 'f115', 'f116', 'f117', 'f118', 'f119', 'f120', 'f121', 'f122', 'f123', 'f124', 'f125', 'f126', 'f127', 'f128', 'f129', 'f130', 'f131', 'f132', 'f133', 'f134', 'f135', 'f136', 'f137', 'f138', 'f139', 'f140', 'f141', 'f142', 'f143', 'f144', 'f145', 'f146', 'f147', 'f148', 'f149', 'f150', 'f151', 'f152', 'f153', 'f154', 'f155', 'f156', 'f157', 'f158', 'f159', 'f160', 'f161', 'f162', 'f163', 'f164', 'f165', 'f166', 'f167', 'f168', 'f169', 'f170', 'f171', 'f172', 'f173', 'f174', 'f175', 'f176', 'f177', 'f178', 'f179', 'f180', 'f181', 'f182', 'f183', 'f184', 'f185', 'f186', 'f187', 'f188', 'f189', 'f190', 'f191', 'f192', 'f193', 'f194', 'f195', 'f196', 'f197', 'f198', 'f199', 'f200', 'f201', 'f202', 'f203', 'f204', 'f205', 'f206', 'f207', 'f208', 'f209', 'f210', 'f211', 'f212', 'f213', 'f214', 'f215', 'f216', 'f217', 'f218', 'f219', 'f220', 'f221', 'f222', 'f223', 'f224', 'f225', 'f226', 'f227', 'f228', 'f229', 'f230', 'f231', 'f232', 'f233', 'f234', 'f235', 'f236', 'f237', 'f238', 'f239', 'f240', 'f241', 'f242', 'f243', 'f244', 'f245', 'f246', 'f247', 'f248', 'f249', 'f250', 'f251', 'f252', 'f253', 'f254', 'f255', 'f256', 'f257', 'f258', 'f259', 'f260', 'f261', 'f262', 'f263', 'f264', 'f265', 'f266', 'f267', 'f268', 'f269', 'f270', 'f271', 'f272', 'f273', 'f274', 'f275', 'f276', 'f277', 'f278', 'f279', 'f280', 'f281', 'f282', 'f283', 'f284', 'f285', 'f286', 'f287', 'f288', 'f289', 'f290', 'Investment', 'OwnerOccupier', 'Ajeroport', 'Akademicheskoe', 'Alekseevskoe', \"Altuf'evskoe\", 'Arbat', 'Babushkinskoe', 'Basmannoe', 'Begovoe', 'Beskudnikovskoe', 'Bibirevo', 'Birjulevo Vostochnoe', 'Birjulevo Zapadnoe', 'Bogorodskoe', 'Brateevo', 'Butyrskoe', 'Caricyno', 'Cheremushki', \"Chertanovo Central'noe\", 'Chertanovo Juzhnoe', 'Chertanovo Severnoe', 'Danilovskoe', 'Dmitrovskoe', 'Donskoe', 'Dorogomilovo', 'Filevskij Park', 'Fili Davydkovo', 'Gagarinskoe', \"Gol'janovo\", 'Golovinskoe', 'Hamovniki', 'Horoshevo-Mnevniki', 'Horoshevskoe', 'Hovrino', 'Ivanovskoe', 'Izmajlovo', 'Jakimanka', 'Jaroslavskoe', 'Jasenevo', 'Juzhnoe Butovo', 'Juzhnoe Medvedkovo', 'Juzhnoe Tushino', 'Juzhnoportovoe', 'Kapotnja', \"Kon'kovo\", 'Koptevo', 'Kosino-Uhtomskoe', 'Kotlovka', \"Krasnosel'skoe\", 'Krjukovo', 'Krylatskoe', 'Kuncevo', 'Kurkino', \"Kuz'minki\", 'Lefortovo', 'Levoberezhnoe', 'Lianozovo', 'Ljublino', 'Lomonosovskoe', 'Losinoostrovskoe', \"Mar'ina Roshha\", \"Mar'ino\", 'Marfino', 'Matushkino', 'Meshhanskoe', 'Metrogorodok', 'Mitino', 'Molzhaninovskoe', \"Moskvorech'e-Saburovo\", 'Mozhajskoe', 'Nagatino-Sadovniki', 'Nagatinskij Zaton', 'Nagornoe', 'Nekrasovka', 'Nizhegorodskoe', 'Novo-Peredelkino', 'Novogireevo', 'Novokosino', 'Obruchevskoe', 'Ochakovo-Matveevskoe', 'Orehovo-Borisovo Juzhnoe', 'Orehovo-Borisovo Severnoe', 'Ostankinskoe', 'Otradnoe', 'Pechatniki', 'Perovo', 'Pokrovskoe Streshnevo', 'Poselenie Desjonovskoe', 'Poselenie Filimonkovskoe', 'Poselenie Kievskij', 'Poselenie Klenovskoe', 'Poselenie Kokoshkino', 'Poselenie Krasnopahorskoe', 'Poselenie Marushkinskoe', 'Poselenie Mihajlovo-Jarcevskoe', 'Poselenie Moskovskij', 'Poselenie Mosrentgen', 'Poselenie Novofedorovskoe', 'Poselenie Pervomajskoe', 'Poselenie Rjazanovskoe', 'Poselenie Rogovskoe', 'Poselenie Shhapovskoe', 'Poselenie Shherbinka', 'Poselenie Sosenskoe', 'Poselenie Vnukovskoe', 'Poselenie Voronovskoe', 'Poselenie Voskresenskoe', 'Preobrazhenskoe', 'Presnenskoe', 'Prospekt Vernadskogo', 'Ramenki', 'Rjazanskij', 'Rostokino', 'Savelki', 'Savelovskoe', 'Severnoe', 'Severnoe Butovo', 'Severnoe Izmajlovo', 'Severnoe Medvedkovo', 'Severnoe Tushino', 'Shhukino', 'Silino', 'Sokol', \"Sokol'niki\", 'Sokolinaja Gora', 'Solncevo', 'Staroe Krjukovo', 'Strogino', 'Sviblovo', 'Taganskoe', \"Tekstil'shhiki\", 'Teplyj Stan', 'Timirjazevskoe', 'Troickij okrug', 'Troparevo-Nikulino', 'Tverskoe', 'Veshnjaki', 'Vnukovo', 'Vojkovskoe', 'Vostochnoe', 'Vostochnoe Degunino', 'Vostochnoe Izmajlovo', 'Vyhino-Zhulebino', \"Zamoskvorech'e\", 'Zapadnoe Degunino', 'Zjablikovo', 'Zjuzino']\n"
     ]
    }
   ],
   "source": [
    "'''Сначала я выявил все категориальные признаки в данных,просмотрел и проанализировал где есть отношение порядка,\n",
    "а где нет и соответственно закодировал их лэйблэнкодером и ван хот энкодером,пропуски заполнил кнном,\n",
    "потом запускал различные алгоритмы кнн,свр,байесридж,рандомфорест,xgboost и градиентныйбустинг из склерна\n",
    "(я в итоге использовал градиентный бустинг из склерна т к xgboost сыпал ошибки при поиске параметров).\n",
    "Самыми лучшими оказались рандом форест 0.46 ошибка в паблике и градиетный бустинг 0.45873 в паблике.\n",
    "Пробовал также стекинг различных алгоритмов кнн,рандомфорест,xgboost под рандомфорестом,но это результат не улучшило.\n",
    "'''\n",
    "import pandas as pd\n",
    "import numpy as np\n",
    "import matplotlib.pyplot as plt\n",
    "df = pd.read_csv('train.csv')\n",
    "trainY = df['f291'].to_numpy()\n",
    "df = pd.concat([df.drop(['f291'],axis=1), pd.read_csv('test.csv')], ignore_index=True).drop(['id'],axis=1)\n",
    "d = pd.get_dummies(df['f11'])\n",
    "df = df.drop(['f11'],axis=1)\n",
    "df = pd.concat([df, d], axis=1)\n",
    "d = pd.get_dummies(df['f12'])\n",
    "df = df.drop(['f12'],axis=1)\n",
    "df = pd.concat([df, d], axis=1)\n",
    "print(list(df.columns))"
   ]
  },
  {
   "cell_type": "code",
   "execution_count": 2,
   "id": "c7f5d0ee",
   "metadata": {},
   "outputs": [
    {
     "name": "stdout",
     "output_type": "stream",
     "text": [
      "['f1', 'f29', 'f33', 'f34', 'f35', 'f36', 'f37', 'f38', 'f39', 'f40', 'f106', 'f114', 'f118', 'f152']\n"
     ]
    }
   ],
   "source": [
    "cat_features = []\n",
    "for i in df.columns:\n",
    "    if type(df[i][0]) is str:\n",
    "        cat_features.append(i)\n",
    "print(cat_features)"
   ]
  },
  {
   "cell_type": "code",
   "execution_count": 3,
   "id": "7bcd61e1",
   "metadata": {},
   "outputs": [],
   "source": [
    "def encode(df):\n",
    "    code = {'poor': 0, 'satisfactory': 1, 'good': 2, 'excellent': 3, 'no data': np.nan}\n",
    "    codes = []\n",
    "    for i in df['f152']:\n",
    "        codes.append(code[i])\n",
    "    df['f152'] = codes\n",
    "    _, uniques = pd.factorize(df['f1'])\n",
    "    code = dict(zip(sorted(list(uniques)), range(1161))) \n",
    "    codes = []\n",
    "    for i in df['f1']:\n",
    "        codes.append(code[i])\n",
    "    df['f1'] = codes\n",
    "    bin_features = ['f29', 'f33', 'f34', 'f35', 'f36', 'f37', 'f38', 'f39', 'f40', 'f106', 'f114', 'f118']\n",
    "    for i in bin_features:\n",
    "        codes, _ = pd.factorize(df[i])\n",
    "        df[i] = codes"
   ]
  },
  {
   "cell_type": "code",
   "execution_count": 4,
   "id": "1b98e645",
   "metadata": {},
   "outputs": [
    {
     "name": "stdout",
     "output_type": "stream",
     "text": [
      "(24376, 436) (24376,) (6095, 436)\n"
     ]
    }
   ],
   "source": [
    "encode(df)\n",
    "trainX = df[:24376].to_numpy()\n",
    "testX = df[24376:].to_numpy()\n",
    "print(trainX.shape, trainY.shape, testX.shape)\n",
    "#print(trainX[0])"
   ]
  },
  {
   "cell_type": "code",
   "execution_count": 5,
   "id": "af1e0616",
   "metadata": {},
   "outputs": [
    {
     "name": "stdout",
     "output_type": "stream",
     "text": [
      "0\n",
      "0\n"
     ]
    }
   ],
   "source": [
    "from sklearn.impute import MissingIndicator, KNNImputer, SimpleImputer\n",
    "from sklearn.model_selection import GridSearchCV, RandomizedSearchCV\n",
    "from sklearn.neighbors import KNeighborsClassifier\n",
    "imp = KNNImputer(n_neighbors=45, weights=\"distance\", add_indicator = True)\n",
    "trainX = imp.fit_transform(trainX)\n",
    "testX = imp.fit_transform(testX)\n",
    "indicator = MissingIndicator()\n",
    "train_mask_missing_values_only = indicator.fit_transform(trainX)\n",
    "test_mask_missing_values_only = indicator.fit_transform(testX)\n",
    "print(np.sum(train_mask_missing_values_only))\n",
    "print(np.sum(test_mask_missing_values_only))"
   ]
  },
  {
   "cell_type": "code",
   "execution_count": 16,
   "id": "949a9bfb",
   "metadata": {},
   "outputs": [
    {
     "name": "stdout",
     "output_type": "stream",
     "text": [
      "Fitting 5 folds for each of 100 candidates, totalling 500 fits\n",
      "[CV 1/5] END metric=euclidean, n_neighbors=31, weights=distance;, score=-0.276 total time=   0.3s\n",
      "[CV 2/5] END metric=euclidean, n_neighbors=31, weights=distance;, score=-0.265 total time=   0.3s\n",
      "[CV 3/5] END metric=euclidean, n_neighbors=31, weights=distance;, score=-0.273 total time=   0.3s\n",
      "[CV 4/5] END metric=euclidean, n_neighbors=31, weights=distance;, score=-0.280 total time=   0.3s\n",
      "[CV 5/5] END metric=euclidean, n_neighbors=31, weights=distance;, score=-0.288 total time=   0.3s\n",
      "[CV 1/5] END metric=euclidean, n_neighbors=27, weights=distance;, score=-0.274 total time=   0.3s\n",
      "[CV 2/5] END metric=euclidean, n_neighbors=27, weights=distance;, score=-0.262 total time=   0.3s\n",
      "[CV 3/5] END metric=euclidean, n_neighbors=27, weights=distance;, score=-0.273 total time=   0.3s\n",
      "[CV 4/5] END metric=euclidean, n_neighbors=27, weights=distance;, score=-0.277 total time=   0.3s\n",
      "[CV 5/5] END metric=euclidean, n_neighbors=27, weights=distance;, score=-0.286 total time=   0.3s\n",
      "[CV 1/5] END metric=euclidean, n_neighbors=14, weights=distance;, score=-0.267 total time=   0.3s\n",
      "[CV 2/5] END metric=euclidean, n_neighbors=14, weights=distance;, score=-0.256 total time=   0.3s\n",
      "[CV 3/5] END metric=euclidean, n_neighbors=14, weights=distance;, score=-0.269 total time=   0.3s\n",
      "[CV 4/5] END metric=euclidean, n_neighbors=14, weights=distance;, score=-0.272 total time=   0.3s\n",
      "[CV 5/5] END metric=euclidean, n_neighbors=14, weights=distance;, score=-0.280 total time=   0.3s\n",
      "[CV 1/5] END metric=manhattan, n_neighbors=31, weights=distance;, score=-0.274 total time=   2.5s\n",
      "[CV 2/5] END metric=manhattan, n_neighbors=31, weights=distance;, score=-0.263 total time=   2.5s\n",
      "[CV 3/5] END metric=manhattan, n_neighbors=31, weights=distance;, score=-0.271 total time=   2.6s\n",
      "[CV 4/5] END metric=manhattan, n_neighbors=31, weights=distance;, score=-0.274 total time=   2.6s\n",
      "[CV 5/5] END metric=manhattan, n_neighbors=31, weights=distance;, score=-0.284 total time=   2.6s\n",
      "[CV 1/5] END metric=cityblock, n_neighbors=40, weights=distance;, score=-0.277 total time=   2.6s\n",
      "[CV 2/5] END metric=cityblock, n_neighbors=40, weights=distance;, score=-0.264 total time=   2.6s\n",
      "[CV 3/5] END metric=cityblock, n_neighbors=40, weights=distance;, score=-0.273 total time=   2.6s\n",
      "[CV 4/5] END metric=cityblock, n_neighbors=40, weights=distance;, score=-0.276 total time=   2.6s\n",
      "[CV 5/5] END metric=cityblock, n_neighbors=40, weights=distance;, score=-0.286 total time=   2.6s\n",
      "[CV 1/5] END metric=cosine, n_neighbors=14, weights=distance;, score=-0.264 total time=   1.8s\n",
      "[CV 2/5] END metric=cosine, n_neighbors=14, weights=distance;, score=-0.256 total time=   1.9s\n",
      "[CV 3/5] END metric=cosine, n_neighbors=14, weights=distance;, score=-0.267 total time=   1.9s\n",
      "[CV 4/5] END metric=cosine, n_neighbors=14, weights=distance;, score=-0.270 total time=   1.8s\n",
      "[CV 5/5] END metric=cosine, n_neighbors=14, weights=distance;, score=-0.281 total time=   1.8s\n",
      "[CV 1/5] END metric=cosine, n_neighbors=29, weights=distance;, score=-0.267 total time=   1.8s\n",
      "[CV 2/5] END metric=cosine, n_neighbors=29, weights=distance;, score=-0.258 total time=   1.9s\n",
      "[CV 3/5] END metric=cosine, n_neighbors=29, weights=distance;, score=-0.267 total time=   1.8s\n",
      "[CV 4/5] END metric=cosine, n_neighbors=29, weights=distance;, score=-0.269 total time=   1.9s\n",
      "[CV 5/5] END metric=cosine, n_neighbors=29, weights=distance;, score=-0.282 total time=   1.9s\n",
      "[CV 1/5] END metric=cityblock, n_neighbors=24, weights=distance;, score=-0.272 total time=   2.9s\n",
      "[CV 2/5] END metric=cityblock, n_neighbors=24, weights=distance;, score=-0.260 total time=   2.9s\n",
      "[CV 3/5] END metric=cityblock, n_neighbors=24, weights=distance;, score=-0.271 total time=   2.8s\n",
      "[CV 4/5] END metric=cityblock, n_neighbors=24, weights=distance;, score=-0.273 total time=   2.9s\n",
      "[CV 5/5] END metric=cityblock, n_neighbors=24, weights=distance;, score=-0.283 total time=   2.9s\n",
      "[CV 1/5] END metric=euclidean, n_neighbors=25, weights=distance;, score=-0.272 total time=   0.3s\n",
      "[CV 2/5] END metric=euclidean, n_neighbors=25, weights=distance;, score=-0.261 total time=   0.3s\n",
      "[CV 3/5] END metric=euclidean, n_neighbors=25, weights=distance;, score=-0.271 total time=   0.3s\n",
      "[CV 4/5] END metric=euclidean, n_neighbors=25, weights=distance;, score=-0.277 total time=   0.3s\n",
      "[CV 5/5] END metric=euclidean, n_neighbors=25, weights=distance;, score=-0.285 total time=   0.3s\n",
      "[CV 1/5] END metric=euclidean, n_neighbors=42, weights=distance;, score=-0.282 total time=   0.3s\n",
      "[CV 2/5] END metric=euclidean, n_neighbors=42, weights=distance;, score=-0.269 total time=   0.4s\n",
      "[CV 3/5] END metric=euclidean, n_neighbors=42, weights=distance;, score=-0.278 total time=   0.3s\n",
      "[CV 4/5] END metric=euclidean, n_neighbors=42, weights=distance;, score=-0.284 total time=   0.4s\n",
      "[CV 5/5] END metric=euclidean, n_neighbors=42, weights=distance;, score=-0.291 total time=   0.3s\n",
      "[CV 1/5] END metric=euclidean, n_neighbors=21, weights=distance;, score=-0.270 total time=   0.3s\n",
      "[CV 2/5] END metric=euclidean, n_neighbors=21, weights=distance;, score=-0.259 total time=   0.3s\n",
      "[CV 3/5] END metric=euclidean, n_neighbors=21, weights=distance;, score=-0.270 total time=   0.3s\n",
      "[CV 4/5] END metric=euclidean, n_neighbors=21, weights=distance;, score=-0.275 total time=   0.3s\n",
      "[CV 5/5] END metric=euclidean, n_neighbors=21, weights=distance;, score=-0.283 total time=   0.3s\n",
      "[CV 1/5] END metric=euclidean, n_neighbors=22, weights=distance;, score=-0.270 total time=   0.3s\n",
      "[CV 2/5] END metric=euclidean, n_neighbors=22, weights=distance;, score=-0.259 total time=   0.3s\n",
      "[CV 3/5] END metric=euclidean, n_neighbors=22, weights=distance;, score=-0.270 total time=   0.3s\n",
      "[CV 4/5] END metric=euclidean, n_neighbors=22, weights=distance;, score=-0.275 total time=   0.3s\n",
      "[CV 5/5] END metric=euclidean, n_neighbors=22, weights=distance;, score=-0.284 total time=   0.3s\n",
      "[CV 1/5] END metric=cityblock, n_neighbors=16, weights=distance;, score=-0.269 total time=   2.8s\n",
      "[CV 2/5] END metric=cityblock, n_neighbors=16, weights=distance;, score=-0.258 total time=   2.8s\n",
      "[CV 3/5] END metric=cityblock, n_neighbors=16, weights=distance;, score=-0.272 total time=   2.8s\n",
      "[CV 4/5] END metric=cityblock, n_neighbors=16, weights=distance;, score=-0.271 total time=   2.8s\n",
      "[CV 5/5] END metric=cityblock, n_neighbors=16, weights=distance;, score=-0.281 total time=   2.8s\n",
      "[CV 1/5] END metric=euclidean, n_neighbors=23, weights=distance;, score=-0.271 total time=   0.3s\n",
      "[CV 2/5] END metric=euclidean, n_neighbors=23, weights=distance;, score=-0.259 total time=   0.3s\n",
      "[CV 3/5] END metric=euclidean, n_neighbors=23, weights=distance;, score=-0.271 total time=   0.3s\n",
      "[CV 4/5] END metric=euclidean, n_neighbors=23, weights=distance;, score=-0.276 total time=   0.3s\n",
      "[CV 5/5] END metric=euclidean, n_neighbors=23, weights=distance;, score=-0.285 total time=   0.3s\n",
      "[CV 1/5] END metric=cityblock, n_neighbors=9, weights=distance;, score=-0.270 total time=   2.9s\n",
      "[CV 2/5] END metric=cityblock, n_neighbors=9, weights=distance;, score=-0.259 total time=   2.8s\n",
      "[CV 3/5] END metric=cityblock, n_neighbors=9, weights=distance;, score=-0.274 total time=   2.9s\n",
      "[CV 4/5] END metric=cityblock, n_neighbors=9, weights=distance;, score=-0.272 total time=   2.8s\n",
      "[CV 5/5] END metric=cityblock, n_neighbors=9, weights=distance;, score=-0.283 total time=   2.8s\n",
      "[CV 1/5] END metric=euclidean, n_neighbors=39, weights=distance;, score=-0.281 total time=   0.3s\n",
      "[CV 2/5] END metric=euclidean, n_neighbors=39, weights=distance;, score=-0.268 total time=   0.3s\n",
      "[CV 3/5] END metric=euclidean, n_neighbors=39, weights=distance;, score=-0.276 total time=   0.3s\n",
      "[CV 4/5] END metric=euclidean, n_neighbors=39, weights=distance;, score=-0.283 total time=   0.4s\n",
      "[CV 5/5] END metric=euclidean, n_neighbors=39, weights=distance;, score=-0.290 total time=   0.3s\n",
      "[CV 1/5] END metric=cityblock, n_neighbors=19, weights=distance;, score=-0.270 total time=   2.8s\n",
      "[CV 2/5] END metric=cityblock, n_neighbors=19, weights=distance;, score=-0.258 total time=   2.8s\n",
      "[CV 3/5] END metric=cityblock, n_neighbors=19, weights=distance;, score=-0.271 total time=   2.9s\n",
      "[CV 4/5] END metric=cityblock, n_neighbors=19, weights=distance;, score=-0.272 total time=   2.8s\n"
     ]
    },
    {
     "name": "stdout",
     "output_type": "stream",
     "text": [
      "[CV 5/5] END metric=cityblock, n_neighbors=19, weights=distance;, score=-0.282 total time=   2.8s\n",
      "[CV 1/5] END metric=euclidean, n_neighbors=35, weights=distance;, score=-0.278 total time=   0.3s\n",
      "[CV 2/5] END metric=euclidean, n_neighbors=35, weights=distance;, score=-0.266 total time=   0.3s\n",
      "[CV 3/5] END metric=euclidean, n_neighbors=35, weights=distance;, score=-0.275 total time=   0.3s\n",
      "[CV 4/5] END metric=euclidean, n_neighbors=35, weights=distance;, score=-0.281 total time=   0.3s\n",
      "[CV 5/5] END metric=euclidean, n_neighbors=35, weights=distance;, score=-0.289 total time=   0.3s\n",
      "[CV 1/5] END metric=cityblock, n_neighbors=34, weights=distance;, score=-0.276 total time=   2.9s\n",
      "[CV 2/5] END metric=cityblock, n_neighbors=34, weights=distance;, score=-0.263 total time=   2.9s\n",
      "[CV 3/5] END metric=cityblock, n_neighbors=34, weights=distance;, score=-0.272 total time=   2.9s\n",
      "[CV 4/5] END metric=cityblock, n_neighbors=34, weights=distance;, score=-0.275 total time=   2.9s\n",
      "[CV 5/5] END metric=cityblock, n_neighbors=34, weights=distance;, score=-0.285 total time=   2.9s\n",
      "[CV 1/5] END metric=euclidean, n_neighbors=38, weights=distance;, score=-0.280 total time=   0.4s\n",
      "[CV 2/5] END metric=euclidean, n_neighbors=38, weights=distance;, score=-0.268 total time=   0.3s\n",
      "[CV 3/5] END metric=euclidean, n_neighbors=38, weights=distance;, score=-0.276 total time=   0.3s\n",
      "[CV 4/5] END metric=euclidean, n_neighbors=38, weights=distance;, score=-0.283 total time=   0.3s\n",
      "[CV 5/5] END metric=euclidean, n_neighbors=38, weights=distance;, score=-0.290 total time=   0.3s\n",
      "[CV 1/5] END metric=manhattan, n_neighbors=28, weights=distance;, score=-0.273 total time=   2.9s\n",
      "[CV 2/5] END metric=manhattan, n_neighbors=28, weights=distance;, score=-0.262 total time=   2.9s\n",
      "[CV 3/5] END metric=manhattan, n_neighbors=28, weights=distance;, score=-0.271 total time=   2.8s\n",
      "[CV 4/5] END metric=manhattan, n_neighbors=28, weights=distance;, score=-0.274 total time=   2.9s\n",
      "[CV 5/5] END metric=manhattan, n_neighbors=28, weights=distance;, score=-0.283 total time=   2.9s\n",
      "[CV 1/5] END metric=cityblock, n_neighbors=47, weights=distance;, score=-0.279 total time=   2.9s\n",
      "[CV 2/5] END metric=cityblock, n_neighbors=47, weights=distance;, score=-0.266 total time=   2.9s\n",
      "[CV 3/5] END metric=cityblock, n_neighbors=47, weights=distance;, score=-0.274 total time=   2.9s\n",
      "[CV 4/5] END metric=cityblock, n_neighbors=47, weights=distance;, score=-0.278 total time=   2.9s\n",
      "[CV 5/5] END metric=cityblock, n_neighbors=47, weights=distance;, score=-0.287 total time=   2.9s\n",
      "[CV 1/5] END metric=cosine, n_neighbors=11, weights=distance;, score=-0.265 total time=   1.8s\n",
      "[CV 2/5] END metric=cosine, n_neighbors=11, weights=distance;, score=-0.257 total time=   1.9s\n",
      "[CV 3/5] END metric=cosine, n_neighbors=11, weights=distance;, score=-0.268 total time=   1.8s\n",
      "[CV 4/5] END metric=cosine, n_neighbors=11, weights=distance;, score=-0.270 total time=   1.9s\n",
      "[CV 5/5] END metric=cosine, n_neighbors=11, weights=distance;, score=-0.282 total time=   1.8s\n",
      "[CV 1/5] END metric=manhattan, n_neighbors=44, weights=distance;, score=-0.278 total time=   2.9s\n",
      "[CV 2/5] END metric=manhattan, n_neighbors=44, weights=distance;, score=-0.265 total time=   2.9s\n",
      "[CV 3/5] END metric=manhattan, n_neighbors=44, weights=distance;, score=-0.273 total time=   2.9s\n",
      "[CV 4/5] END metric=manhattan, n_neighbors=44, weights=distance;, score=-0.277 total time=   2.9s\n",
      "[CV 5/5] END metric=manhattan, n_neighbors=44, weights=distance;, score=-0.287 total time=   2.9s\n",
      "[CV 1/5] END metric=cosine, n_neighbors=13, weights=distance;, score=-0.265 total time=   1.8s\n",
      "[CV 2/5] END metric=cosine, n_neighbors=13, weights=distance;, score=-0.257 total time=   1.8s\n",
      "[CV 3/5] END metric=cosine, n_neighbors=13, weights=distance;, score=-0.268 total time=   1.8s\n",
      "[CV 4/5] END metric=cosine, n_neighbors=13, weights=distance;, score=-0.269 total time=   1.9s\n",
      "[CV 5/5] END metric=cosine, n_neighbors=13, weights=distance;, score=-0.281 total time=   1.7s\n",
      "[CV 1/5] END metric=cityblock, n_neighbors=45, weights=distance;, score=-0.278 total time=   2.9s\n",
      "[CV 2/5] END metric=cityblock, n_neighbors=45, weights=distance;, score=-0.265 total time=   2.9s\n",
      "[CV 3/5] END metric=cityblock, n_neighbors=45, weights=distance;, score=-0.273 total time=   2.9s\n",
      "[CV 4/5] END metric=cityblock, n_neighbors=45, weights=distance;, score=-0.278 total time=   2.9s\n",
      "[CV 5/5] END metric=cityblock, n_neighbors=45, weights=distance;, score=-0.287 total time=   2.9s\n",
      "[CV 1/5] END metric=cosine, n_neighbors=8, weights=distance;, score=-0.268 total time=   1.8s\n",
      "[CV 2/5] END metric=cosine, n_neighbors=8, weights=distance;, score=-0.258 total time=   1.8s\n",
      "[CV 3/5] END metric=cosine, n_neighbors=8, weights=distance;, score=-0.270 total time=   1.8s\n",
      "[CV 4/5] END metric=cosine, n_neighbors=8, weights=distance;, score=-0.273 total time=   1.8s\n",
      "[CV 5/5] END metric=cosine, n_neighbors=8, weights=distance;, score=-0.283 total time=   1.8s\n",
      "[CV 1/5] END metric=cosine, n_neighbors=26, weights=distance;, score=-0.266 total time=   1.8s\n",
      "[CV 2/5] END metric=cosine, n_neighbors=26, weights=distance;, score=-0.257 total time=   1.8s\n",
      "[CV 3/5] END metric=cosine, n_neighbors=26, weights=distance;, score=-0.266 total time=   1.9s\n",
      "[CV 4/5] END metric=cosine, n_neighbors=26, weights=distance;, score=-0.269 total time=   1.8s\n",
      "[CV 5/5] END metric=cosine, n_neighbors=26, weights=distance;, score=-0.281 total time=   1.8s\n",
      "[CV 1/5] END metric=manhattan, n_neighbors=29, weights=distance;, score=-0.274 total time=   3.0s\n",
      "[CV 2/5] END metric=manhattan, n_neighbors=29, weights=distance;, score=-0.262 total time=   3.0s\n",
      "[CV 3/5] END metric=manhattan, n_neighbors=29, weights=distance;, score=-0.271 total time=   2.9s\n",
      "[CV 4/5] END metric=manhattan, n_neighbors=29, weights=distance;, score=-0.274 total time=   2.9s\n",
      "[CV 5/5] END metric=manhattan, n_neighbors=29, weights=distance;, score=-0.284 total time=   2.9s\n",
      "[CV 1/5] END metric=cityblock, n_neighbors=36, weights=distance;, score=-0.276 total time=   2.9s\n",
      "[CV 2/5] END metric=cityblock, n_neighbors=36, weights=distance;, score=-0.263 total time=   3.1s\n",
      "[CV 3/5] END metric=cityblock, n_neighbors=36, weights=distance;, score=-0.272 total time=   2.9s\n",
      "[CV 4/5] END metric=cityblock, n_neighbors=36, weights=distance;, score=-0.276 total time=   2.9s\n",
      "[CV 5/5] END metric=cityblock, n_neighbors=36, weights=distance;, score=-0.285 total time=   2.9s\n",
      "[CV 1/5] END metric=cityblock, n_neighbors=21, weights=distance;, score=-0.271 total time=   2.9s\n",
      "[CV 2/5] END metric=cityblock, n_neighbors=21, weights=distance;, score=-0.259 total time=   2.8s\n",
      "[CV 3/5] END metric=cityblock, n_neighbors=21, weights=distance;, score=-0.270 total time=   2.8s\n",
      "[CV 4/5] END metric=cityblock, n_neighbors=21, weights=distance;, score=-0.273 total time=   2.9s\n",
      "[CV 5/5] END metric=cityblock, n_neighbors=21, weights=distance;, score=-0.283 total time=   2.9s\n",
      "[CV 1/5] END metric=euclidean, n_neighbors=9, weights=distance;, score=-0.267 total time=   0.3s\n",
      "[CV 2/5] END metric=euclidean, n_neighbors=9, weights=distance;, score=-0.257 total time=   0.3s\n",
      "[CV 3/5] END metric=euclidean, n_neighbors=9, weights=distance;, score=-0.270 total time=   0.3s\n",
      "[CV 4/5] END metric=euclidean, n_neighbors=9, weights=distance;, score=-0.272 total time=   0.3s\n",
      "[CV 5/5] END metric=euclidean, n_neighbors=9, weights=distance;, score=-0.279 total time=   0.3s\n",
      "[CV 1/5] END metric=cosine, n_neighbors=16, weights=distance;, score=-0.264 total time=   1.8s\n",
      "[CV 2/5] END metric=cosine, n_neighbors=16, weights=distance;, score=-0.256 total time=   1.9s\n",
      "[CV 3/5] END metric=cosine, n_neighbors=16, weights=distance;, score=-0.267 total time=   1.8s\n",
      "[CV 4/5] END metric=cosine, n_neighbors=16, weights=distance;, score=-0.270 total time=   1.8s\n",
      "[CV 5/5] END metric=cosine, n_neighbors=16, weights=distance;, score=-0.281 total time=   1.8s\n",
      "[CV 1/5] END metric=euclidean, n_neighbors=10, weights=distance;, score=-0.266 total time=   0.3s\n",
      "[CV 2/5] END metric=euclidean, n_neighbors=10, weights=distance;, score=-0.257 total time=   0.3s\n",
      "[CV 3/5] END metric=euclidean, n_neighbors=10, weights=distance;, score=-0.269 total time=   0.3s\n",
      "[CV 4/5] END metric=euclidean, n_neighbors=10, weights=distance;, score=-0.272 total time=   0.3s\n"
     ]
    },
    {
     "name": "stdout",
     "output_type": "stream",
     "text": [
      "[CV 5/5] END metric=euclidean, n_neighbors=10, weights=distance;, score=-0.279 total time=   0.3s\n",
      "[CV 1/5] END metric=cityblock, n_neighbors=10, weights=distance;, score=-0.270 total time=   2.8s\n",
      "[CV 2/5] END metric=cityblock, n_neighbors=10, weights=distance;, score=-0.259 total time=   2.9s\n",
      "[CV 3/5] END metric=cityblock, n_neighbors=10, weights=distance;, score=-0.274 total time=   2.8s\n",
      "[CV 4/5] END metric=cityblock, n_neighbors=10, weights=distance;, score=-0.272 total time=   2.8s\n",
      "[CV 5/5] END metric=cityblock, n_neighbors=10, weights=distance;, score=-0.282 total time=   2.8s\n",
      "[CV 1/5] END metric=manhattan, n_neighbors=37, weights=distance;, score=-0.276 total time=   2.9s\n",
      "[CV 2/5] END metric=manhattan, n_neighbors=37, weights=distance;, score=-0.264 total time=   2.9s\n",
      "[CV 3/5] END metric=manhattan, n_neighbors=37, weights=distance;, score=-0.272 total time=   2.9s\n",
      "[CV 4/5] END metric=manhattan, n_neighbors=37, weights=distance;, score=-0.276 total time=   2.9s\n",
      "[CV 5/5] END metric=manhattan, n_neighbors=37, weights=distance;, score=-0.286 total time=   2.9s\n",
      "[CV 1/5] END metric=manhattan, n_neighbors=23, weights=distance;, score=-0.271 total time=   2.9s\n",
      "[CV 2/5] END metric=manhattan, n_neighbors=23, weights=distance;, score=-0.260 total time=   2.8s\n",
      "[CV 3/5] END metric=manhattan, n_neighbors=23, weights=distance;, score=-0.270 total time=   2.9s\n",
      "[CV 4/5] END metric=manhattan, n_neighbors=23, weights=distance;, score=-0.273 total time=   2.9s\n",
      "[CV 5/5] END metric=manhattan, n_neighbors=23, weights=distance;, score=-0.283 total time=   2.8s\n",
      "[CV 1/5] END metric=cosine, n_neighbors=7, weights=distance;, score=-0.270 total time=   1.8s\n",
      "[CV 2/5] END metric=cosine, n_neighbors=7, weights=distance;, score=-0.259 total time=   1.8s\n",
      "[CV 3/5] END metric=cosine, n_neighbors=7, weights=distance;, score=-0.273 total time=   1.8s\n",
      "[CV 4/5] END metric=cosine, n_neighbors=7, weights=distance;, score=-0.274 total time=   1.8s\n",
      "[CV 5/5] END metric=cosine, n_neighbors=7, weights=distance;, score=-0.283 total time=   1.7s\n",
      "[CV 1/5] END metric=cosine, n_neighbors=44, weights=distance;, score=-0.272 total time=   1.9s\n",
      "[CV 2/5] END metric=cosine, n_neighbors=44, weights=distance;, score=-0.261 total time=   1.9s\n",
      "[CV 3/5] END metric=cosine, n_neighbors=44, weights=distance;, score=-0.269 total time=   1.8s\n",
      "[CV 4/5] END metric=cosine, n_neighbors=44, weights=distance;, score=-0.272 total time=   1.8s\n",
      "[CV 5/5] END metric=cosine, n_neighbors=44, weights=distance;, score=-0.283 total time=   1.8s\n",
      "[CV 1/5] END metric=euclidean, n_neighbors=32, weights=distance;, score=-0.277 total time=   0.3s\n",
      "[CV 2/5] END metric=euclidean, n_neighbors=32, weights=distance;, score=-0.265 total time=   0.4s\n",
      "[CV 3/5] END metric=euclidean, n_neighbors=32, weights=distance;, score=-0.274 total time=   0.3s\n",
      "[CV 4/5] END metric=euclidean, n_neighbors=32, weights=distance;, score=-0.280 total time=   0.3s\n",
      "[CV 5/5] END metric=euclidean, n_neighbors=32, weights=distance;, score=-0.288 total time=   0.3s\n",
      "[CV 1/5] END metric=manhattan, n_neighbors=48, weights=distance;, score=-0.279 total time=   2.9s\n",
      "[CV 2/5] END metric=manhattan, n_neighbors=48, weights=distance;, score=-0.266 total time=   2.9s\n",
      "[CV 3/5] END metric=manhattan, n_neighbors=48, weights=distance;, score=-0.274 total time=   2.9s\n",
      "[CV 4/5] END metric=manhattan, n_neighbors=48, weights=distance;, score=-0.278 total time=   2.9s\n",
      "[CV 5/5] END metric=manhattan, n_neighbors=48, weights=distance;, score=-0.287 total time=   2.9s\n",
      "[CV 1/5] END metric=euclidean, n_neighbors=5, weights=distance;, score=-0.271 total time=   0.3s\n",
      "[CV 2/5] END metric=euclidean, n_neighbors=5, weights=distance;, score=-0.258 total time=   0.3s\n",
      "[CV 3/5] END metric=euclidean, n_neighbors=5, weights=distance;, score=-0.274 total time=   0.3s\n",
      "[CV 4/5] END metric=euclidean, n_neighbors=5, weights=distance;, score=-0.276 total time=   0.3s\n",
      "[CV 5/5] END metric=euclidean, n_neighbors=5, weights=distance;, score=-0.281 total time=   0.3s\n",
      "[CV 1/5] END metric=cosine, n_neighbors=18, weights=distance;, score=-0.265 total time=   1.8s\n",
      "[CV 2/5] END metric=cosine, n_neighbors=18, weights=distance;, score=-0.256 total time=   1.8s\n",
      "[CV 3/5] END metric=cosine, n_neighbors=18, weights=distance;, score=-0.266 total time=   1.8s\n",
      "[CV 4/5] END metric=cosine, n_neighbors=18, weights=distance;, score=-0.269 total time=   1.9s\n",
      "[CV 5/5] END metric=cosine, n_neighbors=18, weights=distance;, score=-0.281 total time=   1.8s\n",
      "[CV 1/5] END metric=euclidean, n_neighbors=33, weights=distance;, score=-0.277 total time=   0.3s\n",
      "[CV 2/5] END metric=euclidean, n_neighbors=33, weights=distance;, score=-0.265 total time=   0.3s\n",
      "[CV 3/5] END metric=euclidean, n_neighbors=33, weights=distance;, score=-0.275 total time=   0.4s\n",
      "[CV 4/5] END metric=euclidean, n_neighbors=33, weights=distance;, score=-0.280 total time=   0.3s\n",
      "[CV 5/5] END metric=euclidean, n_neighbors=33, weights=distance;, score=-0.289 total time=   0.3s\n",
      "[CV 1/5] END metric=cityblock, n_neighbors=44, weights=distance;, score=-0.278 total time=   2.9s\n",
      "[CV 2/5] END metric=cityblock, n_neighbors=44, weights=distance;, score=-0.265 total time=   2.9s\n",
      "[CV 3/5] END metric=cityblock, n_neighbors=44, weights=distance;, score=-0.273 total time=   2.9s\n",
      "[CV 4/5] END metric=cityblock, n_neighbors=44, weights=distance;, score=-0.277 total time=   2.9s\n",
      "[CV 5/5] END metric=cityblock, n_neighbors=44, weights=distance;, score=-0.287 total time=   2.9s\n",
      "[CV 1/5] END metric=manhattan, n_neighbors=24, weights=distance;, score=-0.272 total time=   2.9s\n",
      "[CV 2/5] END metric=manhattan, n_neighbors=24, weights=distance;, score=-0.260 total time=   2.9s\n",
      "[CV 3/5] END metric=manhattan, n_neighbors=24, weights=distance;, score=-0.271 total time=   2.8s\n",
      "[CV 4/5] END metric=manhattan, n_neighbors=24, weights=distance;, score=-0.273 total time=   2.8s\n",
      "[CV 5/5] END metric=manhattan, n_neighbors=24, weights=distance;, score=-0.283 total time=   2.9s\n",
      "[CV 1/5] END metric=cityblock, n_neighbors=49, weights=distance;, score=-0.279 total time=   2.9s\n",
      "[CV 2/5] END metric=cityblock, n_neighbors=49, weights=distance;, score=-0.266 total time=   2.9s\n",
      "[CV 3/5] END metric=cityblock, n_neighbors=49, weights=distance;, score=-0.274 total time=   2.9s\n",
      "[CV 4/5] END metric=cityblock, n_neighbors=49, weights=distance;, score=-0.278 total time=   2.9s\n",
      "[CV 5/5] END metric=cityblock, n_neighbors=49, weights=distance;, score=-0.287 total time=   2.9s\n",
      "[CV 1/5] END metric=cosine, n_neighbors=41, weights=distance;, score=-0.272 total time=   1.8s\n",
      "[CV 2/5] END metric=cosine, n_neighbors=41, weights=distance;, score=-0.260 total time=   1.9s\n",
      "[CV 3/5] END metric=cosine, n_neighbors=41, weights=distance;, score=-0.269 total time=   1.9s\n",
      "[CV 4/5] END metric=cosine, n_neighbors=41, weights=distance;, score=-0.272 total time=   1.8s\n",
      "[CV 5/5] END metric=cosine, n_neighbors=41, weights=distance;, score=-0.283 total time=   1.8s\n",
      "[CV 1/5] END metric=cityblock, n_neighbors=38, weights=distance;, score=-0.276 total time=   2.9s\n",
      "[CV 2/5] END metric=cityblock, n_neighbors=38, weights=distance;, score=-0.264 total time=   2.9s\n",
      "[CV 3/5] END metric=cityblock, n_neighbors=38, weights=distance;, score=-0.272 total time=   2.9s\n",
      "[CV 4/5] END metric=cityblock, n_neighbors=38, weights=distance;, score=-0.276 total time=   2.9s\n",
      "[CV 5/5] END metric=cityblock, n_neighbors=38, weights=distance;, score=-0.286 total time=   2.9s\n",
      "[CV 1/5] END metric=cityblock, n_neighbors=23, weights=distance;, score=-0.271 total time=   2.9s\n",
      "[CV 2/5] END metric=cityblock, n_neighbors=23, weights=distance;, score=-0.260 total time=   2.8s\n",
      "[CV 3/5] END metric=cityblock, n_neighbors=23, weights=distance;, score=-0.270 total time=   2.9s\n",
      "[CV 4/5] END metric=cityblock, n_neighbors=23, weights=distance;, score=-0.273 total time=   2.8s\n",
      "[CV 5/5] END metric=cityblock, n_neighbors=23, weights=distance;, score=-0.283 total time=   2.9s\n",
      "[CV 1/5] END metric=cosine, n_neighbors=19, weights=distance;, score=-0.264 total time=   1.8s\n",
      "[CV 2/5] END metric=cosine, n_neighbors=19, weights=distance;, score=-0.255 total time=   1.9s\n",
      "[CV 3/5] END metric=cosine, n_neighbors=19, weights=distance;, score=-0.266 total time=   1.9s\n",
      "[CV 4/5] END metric=cosine, n_neighbors=19, weights=distance;, score=-0.269 total time=   1.8s\n"
     ]
    },
    {
     "name": "stdout",
     "output_type": "stream",
     "text": [
      "[CV 5/5] END metric=cosine, n_neighbors=19, weights=distance;, score=-0.281 total time=   1.8s\n",
      "[CV 1/5] END metric=manhattan, n_neighbors=42, weights=distance;, score=-0.277 total time=   2.9s\n",
      "[CV 2/5] END metric=manhattan, n_neighbors=42, weights=distance;, score=-0.264 total time=   2.9s\n",
      "[CV 3/5] END metric=manhattan, n_neighbors=42, weights=distance;, score=-0.273 total time=   2.9s\n",
      "[CV 4/5] END metric=manhattan, n_neighbors=42, weights=distance;, score=-0.276 total time=   2.9s\n",
      "[CV 5/5] END metric=manhattan, n_neighbors=42, weights=distance;, score=-0.287 total time=   2.9s\n",
      "[CV 1/5] END metric=euclidean, n_neighbors=47, weights=distance;, score=-0.284 total time=   0.3s\n",
      "[CV 2/5] END metric=euclidean, n_neighbors=47, weights=distance;, score=-0.271 total time=   0.4s\n",
      "[CV 3/5] END metric=euclidean, n_neighbors=47, weights=distance;, score=-0.281 total time=   0.3s\n",
      "[CV 4/5] END metric=euclidean, n_neighbors=47, weights=distance;, score=-0.287 total time=   0.4s\n",
      "[CV 5/5] END metric=euclidean, n_neighbors=47, weights=distance;, score=-0.292 total time=   0.4s\n",
      "[CV 1/5] END metric=manhattan, n_neighbors=20, weights=distance;, score=-0.270 total time=   2.9s\n",
      "[CV 2/5] END metric=manhattan, n_neighbors=20, weights=distance;, score=-0.259 total time=   2.9s\n",
      "[CV 3/5] END metric=manhattan, n_neighbors=20, weights=distance;, score=-0.271 total time=   2.8s\n",
      "[CV 4/5] END metric=manhattan, n_neighbors=20, weights=distance;, score=-0.272 total time=   2.8s\n",
      "[CV 5/5] END metric=manhattan, n_neighbors=20, weights=distance;, score=-0.282 total time=   2.9s\n",
      "[CV 1/5] END metric=cityblock, n_neighbors=17, weights=distance;, score=-0.269 total time=   2.8s\n",
      "[CV 2/5] END metric=cityblock, n_neighbors=17, weights=distance;, score=-0.258 total time=   2.8s\n",
      "[CV 3/5] END metric=cityblock, n_neighbors=17, weights=distance;, score=-0.272 total time=   2.8s\n",
      "[CV 4/5] END metric=cityblock, n_neighbors=17, weights=distance;, score=-0.271 total time=   2.8s\n",
      "[CV 5/5] END metric=cityblock, n_neighbors=17, weights=distance;, score=-0.282 total time=   2.8s\n",
      "[CV 1/5] END metric=euclidean, n_neighbors=8, weights=distance;, score=-0.267 total time=   0.3s\n",
      "[CV 2/5] END metric=euclidean, n_neighbors=8, weights=distance;, score=-0.256 total time=   0.3s\n",
      "[CV 3/5] END metric=euclidean, n_neighbors=8, weights=distance;, score=-0.269 total time=   0.3s\n",
      "[CV 4/5] END metric=euclidean, n_neighbors=8, weights=distance;, score=-0.272 total time=   0.3s\n",
      "[CV 5/5] END metric=euclidean, n_neighbors=8, weights=distance;, score=-0.278 total time=   0.3s\n",
      "[CV 1/5] END metric=cosine, n_neighbors=33, weights=distance;, score=-0.269 total time=   1.8s\n",
      "[CV 2/5] END metric=cosine, n_neighbors=33, weights=distance;, score=-0.259 total time=   1.9s\n",
      "[CV 3/5] END metric=cosine, n_neighbors=33, weights=distance;, score=-0.267 total time=   1.8s\n",
      "[CV 4/5] END metric=cosine, n_neighbors=33, weights=distance;, score=-0.270 total time=   1.8s\n",
      "[CV 5/5] END metric=cosine, n_neighbors=33, weights=distance;, score=-0.282 total time=   1.8s\n",
      "[CV 1/5] END metric=cityblock, n_neighbors=33, weights=distance;, score=-0.275 total time=   2.9s\n",
      "[CV 2/5] END metric=cityblock, n_neighbors=33, weights=distance;, score=-0.263 total time=   2.9s\n",
      "[CV 3/5] END metric=cityblock, n_neighbors=33, weights=distance;, score=-0.271 total time=   2.9s\n",
      "[CV 4/5] END metric=cityblock, n_neighbors=33, weights=distance;, score=-0.275 total time=   2.9s\n",
      "[CV 5/5] END metric=cityblock, n_neighbors=33, weights=distance;, score=-0.285 total time=   2.9s\n",
      "[CV 1/5] END metric=cosine, n_neighbors=49, weights=distance;, score=-0.273 total time=   1.8s\n",
      "[CV 2/5] END metric=cosine, n_neighbors=49, weights=distance;, score=-0.262 total time=   1.8s\n",
      "[CV 3/5] END metric=cosine, n_neighbors=49, weights=distance;, score=-0.271 total time=   1.9s\n",
      "[CV 4/5] END metric=cosine, n_neighbors=49, weights=distance;, score=-0.273 total time=   1.8s\n",
      "[CV 5/5] END metric=cosine, n_neighbors=49, weights=distance;, score=-0.284 total time=   1.9s\n",
      "[CV 1/5] END metric=manhattan, n_neighbors=34, weights=distance;, score=-0.276 total time=   3.0s\n",
      "[CV 2/5] END metric=manhattan, n_neighbors=34, weights=distance;, score=-0.263 total time=   2.9s\n",
      "[CV 3/5] END metric=manhattan, n_neighbors=34, weights=distance;, score=-0.272 total time=   2.9s\n",
      "[CV 4/5] END metric=manhattan, n_neighbors=34, weights=distance;, score=-0.275 total time=   2.9s\n",
      "[CV 5/5] END metric=manhattan, n_neighbors=34, weights=distance;, score=-0.285 total time=   2.9s\n",
      "[CV 1/5] END metric=euclidean, n_neighbors=45, weights=distance;, score=-0.284 total time=   0.3s\n",
      "[CV 2/5] END metric=euclidean, n_neighbors=45, weights=distance;, score=-0.270 total time=   0.3s\n",
      "[CV 3/5] END metric=euclidean, n_neighbors=45, weights=distance;, score=-0.279 total time=   0.4s\n",
      "[CV 4/5] END metric=euclidean, n_neighbors=45, weights=distance;, score=-0.286 total time=   0.3s\n",
      "[CV 5/5] END metric=euclidean, n_neighbors=45, weights=distance;, score=-0.292 total time=   0.4s\n",
      "[CV 1/5] END metric=cosine, n_neighbors=42, weights=distance;, score=-0.272 total time=   1.8s\n",
      "[CV 2/5] END metric=cosine, n_neighbors=42, weights=distance;, score=-0.261 total time=   1.8s\n",
      "[CV 3/5] END metric=cosine, n_neighbors=42, weights=distance;, score=-0.269 total time=   1.8s\n",
      "[CV 4/5] END metric=cosine, n_neighbors=42, weights=distance;, score=-0.272 total time=   1.8s\n",
      "[CV 5/5] END metric=cosine, n_neighbors=42, weights=distance;, score=-0.283 total time=   1.8s\n",
      "[CV 1/5] END metric=cityblock, n_neighbors=22, weights=distance;, score=-0.271 total time=   2.9s\n",
      "[CV 2/5] END metric=cityblock, n_neighbors=22, weights=distance;, score=-0.260 total time=   2.8s\n",
      "[CV 3/5] END metric=cityblock, n_neighbors=22, weights=distance;, score=-0.270 total time=   2.8s\n",
      "[CV 4/5] END metric=cityblock, n_neighbors=22, weights=distance;, score=-0.273 total time=   2.8s\n",
      "[CV 5/5] END metric=cityblock, n_neighbors=22, weights=distance;, score=-0.283 total time=   2.8s\n",
      "[CV 1/5] END metric=manhattan, n_neighbors=18, weights=distance;, score=-0.270 total time=   2.9s\n",
      "[CV 2/5] END metric=manhattan, n_neighbors=18, weights=distance;, score=-0.258 total time=   2.9s\n",
      "[CV 3/5] END metric=manhattan, n_neighbors=18, weights=distance;, score=-0.271 total time=   2.8s\n",
      "[CV 4/5] END metric=manhattan, n_neighbors=18, weights=distance;, score=-0.272 total time=   2.9s\n",
      "[CV 5/5] END metric=manhattan, n_neighbors=18, weights=distance;, score=-0.282 total time=   2.9s\n",
      "[CV 1/5] END metric=euclidean, n_neighbors=6, weights=distance;, score=-0.270 total time=   0.3s\n",
      "[CV 2/5] END metric=euclidean, n_neighbors=6, weights=distance;, score=-0.255 total time=   0.3s\n",
      "[CV 3/5] END metric=euclidean, n_neighbors=6, weights=distance;, score=-0.270 total time=   0.3s\n",
      "[CV 4/5] END metric=euclidean, n_neighbors=6, weights=distance;, score=-0.273 total time=   0.3s\n",
      "[CV 5/5] END metric=euclidean, n_neighbors=6, weights=distance;, score=-0.277 total time=   0.3s\n",
      "[CV 1/5] END metric=euclidean, n_neighbors=29, weights=distance;, score=-0.275 total time=   0.3s\n",
      "[CV 2/5] END metric=euclidean, n_neighbors=29, weights=distance;, score=-0.263 total time=   0.3s\n",
      "[CV 3/5] END metric=euclidean, n_neighbors=29, weights=distance;, score=-0.273 total time=   0.3s\n",
      "[CV 4/5] END metric=euclidean, n_neighbors=29, weights=distance;, score=-0.279 total time=   0.3s\n",
      "[CV 5/5] END metric=euclidean, n_neighbors=29, weights=distance;, score=-0.287 total time=   0.3s\n",
      "[CV 1/5] END metric=cityblock, n_neighbors=18, weights=distance;, score=-0.270 total time=   2.8s\n",
      "[CV 2/5] END metric=cityblock, n_neighbors=18, weights=distance;, score=-0.258 total time=   2.9s\n",
      "[CV 3/5] END metric=cityblock, n_neighbors=18, weights=distance;, score=-0.271 total time=   2.8s\n",
      "[CV 4/5] END metric=cityblock, n_neighbors=18, weights=distance;, score=-0.272 total time=   2.8s\n",
      "[CV 5/5] END metric=cityblock, n_neighbors=18, weights=distance;, score=-0.282 total time=   2.9s\n",
      "[CV 1/5] END metric=manhattan, n_neighbors=36, weights=distance;, score=-0.276 total time=   2.9s\n",
      "[CV 2/5] END metric=manhattan, n_neighbors=36, weights=distance;, score=-0.263 total time=   2.9s\n",
      "[CV 3/5] END metric=manhattan, n_neighbors=36, weights=distance;, score=-0.272 total time=   2.9s\n",
      "[CV 4/5] END metric=manhattan, n_neighbors=36, weights=distance;, score=-0.276 total time=   2.9s\n"
     ]
    },
    {
     "name": "stdout",
     "output_type": "stream",
     "text": [
      "[CV 5/5] END metric=manhattan, n_neighbors=36, weights=distance;, score=-0.285 total time=   2.9s\n",
      "[CV 1/5] END metric=euclidean, n_neighbors=41, weights=distance;, score=-0.282 total time=   0.4s\n",
      "[CV 2/5] END metric=euclidean, n_neighbors=41, weights=distance;, score=-0.269 total time=   0.4s\n",
      "[CV 3/5] END metric=euclidean, n_neighbors=41, weights=distance;, score=-0.277 total time=   0.3s\n",
      "[CV 4/5] END metric=euclidean, n_neighbors=41, weights=distance;, score=-0.284 total time=   0.3s\n",
      "[CV 5/5] END metric=euclidean, n_neighbors=41, weights=distance;, score=-0.291 total time=   0.3s\n",
      "[CV 1/5] END metric=cosine, n_neighbors=5, weights=distance;, score=-0.276 total time=   1.7s\n",
      "[CV 2/5] END metric=cosine, n_neighbors=5, weights=distance;, score=-0.264 total time=   1.8s\n",
      "[CV 3/5] END metric=cosine, n_neighbors=5, weights=distance;, score=-0.278 total time=   1.9s\n",
      "[CV 4/5] END metric=cosine, n_neighbors=5, weights=distance;, score=-0.281 total time=   1.8s\n",
      "[CV 5/5] END metric=cosine, n_neighbors=5, weights=distance;, score=-0.290 total time=   1.8s\n",
      "[CV 1/5] END metric=cosine, n_neighbors=45, weights=distance;, score=-0.273 total time=   1.8s\n",
      "[CV 2/5] END metric=cosine, n_neighbors=45, weights=distance;, score=-0.261 total time=   1.9s\n",
      "[CV 3/5] END metric=cosine, n_neighbors=45, weights=distance;, score=-0.269 total time=   1.8s\n",
      "[CV 4/5] END metric=cosine, n_neighbors=45, weights=distance;, score=-0.273 total time=   1.9s\n",
      "[CV 5/5] END metric=cosine, n_neighbors=45, weights=distance;, score=-0.283 total time=   1.8s\n",
      "[CV 1/5] END metric=cityblock, n_neighbors=41, weights=distance;, score=-0.277 total time=   2.9s\n",
      "[CV 2/5] END metric=cityblock, n_neighbors=41, weights=distance;, score=-0.264 total time=   2.9s\n",
      "[CV 3/5] END metric=cityblock, n_neighbors=41, weights=distance;, score=-0.273 total time=   2.9s\n",
      "[CV 4/5] END metric=cityblock, n_neighbors=41, weights=distance;, score=-0.276 total time=   2.9s\n",
      "[CV 5/5] END metric=cityblock, n_neighbors=41, weights=distance;, score=-0.286 total time=   2.9s\n",
      "[CV 1/5] END metric=manhattan, n_neighbors=13, weights=distance;, score=-0.269 total time=   2.8s\n",
      "[CV 2/5] END metric=manhattan, n_neighbors=13, weights=distance;, score=-0.259 total time=   2.9s\n",
      "[CV 3/5] END metric=manhattan, n_neighbors=13, weights=distance;, score=-0.273 total time=   2.9s\n",
      "[CV 4/5] END metric=manhattan, n_neighbors=13, weights=distance;, score=-0.272 total time=   2.8s\n",
      "[CV 5/5] END metric=manhattan, n_neighbors=13, weights=distance;, score=-0.282 total time=   2.9s\n",
      "[CV 1/5] END metric=manhattan, n_neighbors=38, weights=distance;, score=-0.276 total time=   2.9s\n",
      "[CV 2/5] END metric=manhattan, n_neighbors=38, weights=distance;, score=-0.264 total time=   2.9s\n",
      "[CV 3/5] END metric=manhattan, n_neighbors=38, weights=distance;, score=-0.272 total time=   2.9s\n",
      "[CV 4/5] END metric=manhattan, n_neighbors=38, weights=distance;, score=-0.276 total time=   2.9s\n",
      "[CV 5/5] END metric=manhattan, n_neighbors=38, weights=distance;, score=-0.286 total time=   2.9s\n",
      "[CV 1/5] END metric=manhattan, n_neighbors=6, weights=distance;, score=-0.276 total time=   2.8s\n",
      "[CV 2/5] END metric=manhattan, n_neighbors=6, weights=distance;, score=-0.261 total time=   2.8s\n",
      "[CV 3/5] END metric=manhattan, n_neighbors=6, weights=distance;, score=-0.279 total time=   2.8s\n",
      "[CV 4/5] END metric=manhattan, n_neighbors=6, weights=distance;, score=-0.275 total time=   2.8s\n",
      "[CV 5/5] END metric=manhattan, n_neighbors=6, weights=distance;, score=-0.288 total time=   2.8s\n",
      "[CV 1/5] END metric=cosine, n_neighbors=38, weights=distance;, score=-0.271 total time=   1.9s\n",
      "[CV 2/5] END metric=cosine, n_neighbors=38, weights=distance;, score=-0.260 total time=   1.8s\n",
      "[CV 3/5] END metric=cosine, n_neighbors=38, weights=distance;, score=-0.268 total time=   1.8s\n",
      "[CV 4/5] END metric=cosine, n_neighbors=38, weights=distance;, score=-0.271 total time=   1.9s\n",
      "[CV 5/5] END metric=cosine, n_neighbors=38, weights=distance;, score=-0.283 total time=   1.8s\n",
      "[CV 1/5] END metric=manhattan, n_neighbors=47, weights=distance;, score=-0.279 total time=   2.9s\n",
      "[CV 2/5] END metric=manhattan, n_neighbors=47, weights=distance;, score=-0.266 total time=   2.9s\n",
      "[CV 3/5] END metric=manhattan, n_neighbors=47, weights=distance;, score=-0.274 total time=   2.9s\n",
      "[CV 4/5] END metric=manhattan, n_neighbors=47, weights=distance;, score=-0.278 total time=   2.9s\n",
      "[CV 5/5] END metric=manhattan, n_neighbors=47, weights=distance;, score=-0.287 total time=   2.9s\n",
      "[CV 1/5] END metric=manhattan, n_neighbors=43, weights=distance;, score=-0.278 total time=   2.9s\n",
      "[CV 2/5] END metric=manhattan, n_neighbors=43, weights=distance;, score=-0.265 total time=   2.9s\n",
      "[CV 3/5] END metric=manhattan, n_neighbors=43, weights=distance;, score=-0.273 total time=   2.9s\n",
      "[CV 4/5] END metric=manhattan, n_neighbors=43, weights=distance;, score=-0.277 total time=   2.9s\n",
      "[CV 5/5] END metric=manhattan, n_neighbors=43, weights=distance;, score=-0.287 total time=   2.9s\n",
      "[CV 1/5] END metric=cosine, n_neighbors=35, weights=distance;, score=-0.270 total time=   1.8s\n",
      "[CV 2/5] END metric=cosine, n_neighbors=35, weights=distance;, score=-0.259 total time=   1.9s\n",
      "[CV 3/5] END metric=cosine, n_neighbors=35, weights=distance;, score=-0.268 total time=   1.8s\n",
      "[CV 4/5] END metric=cosine, n_neighbors=35, weights=distance;, score=-0.270 total time=   1.9s\n",
      "[CV 5/5] END metric=cosine, n_neighbors=35, weights=distance;, score=-0.283 total time=   1.8s\n",
      "[CV 1/5] END metric=cityblock, n_neighbors=26, weights=distance;, score=-0.273 total time=   2.9s\n",
      "[CV 2/5] END metric=cityblock, n_neighbors=26, weights=distance;, score=-0.261 total time=   2.9s\n",
      "[CV 3/5] END metric=cityblock, n_neighbors=26, weights=distance;, score=-0.271 total time=   2.9s\n",
      "[CV 4/5] END metric=cityblock, n_neighbors=26, weights=distance;, score=-0.274 total time=   2.9s\n",
      "[CV 5/5] END metric=cityblock, n_neighbors=26, weights=distance;, score=-0.283 total time=   2.9s\n",
      "[CV 1/5] END metric=manhattan, n_neighbors=5, weights=distance;, score=-0.279 total time=   2.8s\n",
      "[CV 2/5] END metric=manhattan, n_neighbors=5, weights=distance;, score=-0.264 total time=   2.8s\n",
      "[CV 3/5] END metric=manhattan, n_neighbors=5, weights=distance;, score=-0.281 total time=   2.9s\n",
      "[CV 4/5] END metric=manhattan, n_neighbors=5, weights=distance;, score=-0.280 total time=   2.9s\n",
      "[CV 5/5] END metric=manhattan, n_neighbors=5, weights=distance;, score=-0.292 total time=   2.9s\n",
      "[CV 1/5] END metric=cityblock, n_neighbors=7, weights=distance;, score=-0.273 total time=   2.9s\n",
      "[CV 2/5] END metric=cityblock, n_neighbors=7, weights=distance;, score=-0.260 total time=   2.9s\n",
      "[CV 3/5] END metric=cityblock, n_neighbors=7, weights=distance;, score=-0.276 total time=   2.9s\n",
      "[CV 4/5] END metric=cityblock, n_neighbors=7, weights=distance;, score=-0.275 total time=   2.8s\n",
      "[CV 5/5] END metric=cityblock, n_neighbors=7, weights=distance;, score=-0.286 total time=   2.8s\n",
      "[CV 1/5] END metric=cosine, n_neighbors=30, weights=distance;, score=-0.268 total time=   1.8s\n",
      "[CV 2/5] END metric=cosine, n_neighbors=30, weights=distance;, score=-0.258 total time=   1.9s\n",
      "[CV 3/5] END metric=cosine, n_neighbors=30, weights=distance;, score=-0.267 total time=   1.9s\n",
      "[CV 4/5] END metric=cosine, n_neighbors=30, weights=distance;, score=-0.270 total time=   1.9s\n",
      "[CV 5/5] END metric=cosine, n_neighbors=30, weights=distance;, score=-0.282 total time=   1.8s\n",
      "[CV 1/5] END metric=manhattan, n_neighbors=45, weights=distance;, score=-0.278 total time=   2.9s\n",
      "[CV 2/5] END metric=manhattan, n_neighbors=45, weights=distance;, score=-0.265 total time=   2.9s\n",
      "[CV 3/5] END metric=manhattan, n_neighbors=45, weights=distance;, score=-0.273 total time=   2.9s\n",
      "[CV 4/5] END metric=manhattan, n_neighbors=45, weights=distance;, score=-0.278 total time=   2.9s\n",
      "[CV 5/5] END metric=manhattan, n_neighbors=45, weights=distance;, score=-0.287 total time=   2.9s\n",
      "[CV 1/5] END metric=cityblock, n_neighbors=11, weights=distance;, score=-0.270 total time=   2.9s\n",
      "[CV 2/5] END metric=cityblock, n_neighbors=11, weights=distance;, score=-0.260 total time=   2.9s\n",
      "[CV 3/5] END metric=cityblock, n_neighbors=11, weights=distance;, score=-0.274 total time=   3.0s\n",
      "[CV 4/5] END metric=cityblock, n_neighbors=11, weights=distance;, score=-0.272 total time=   2.9s\n"
     ]
    },
    {
     "name": "stdout",
     "output_type": "stream",
     "text": [
      "[CV 5/5] END metric=cityblock, n_neighbors=11, weights=distance;, score=-0.281 total time=   2.9s\n",
      "[CV 1/5] END metric=euclidean, n_neighbors=12, weights=distance;, score=-0.267 total time=   0.3s\n",
      "[CV 2/5] END metric=euclidean, n_neighbors=12, weights=distance;, score=-0.256 total time=   0.3s\n",
      "[CV 3/5] END metric=euclidean, n_neighbors=12, weights=distance;, score=-0.268 total time=   0.3s\n",
      "[CV 4/5] END metric=euclidean, n_neighbors=12, weights=distance;, score=-0.272 total time=   0.3s\n",
      "[CV 5/5] END metric=euclidean, n_neighbors=12, weights=distance;, score=-0.280 total time=   0.3s\n",
      "[CV 1/5] END metric=cityblock, n_neighbors=5, weights=distance;, score=-0.279 total time=   2.8s\n",
      "[CV 2/5] END metric=cityblock, n_neighbors=5, weights=distance;, score=-0.264 total time=   2.8s\n",
      "[CV 3/5] END metric=cityblock, n_neighbors=5, weights=distance;, score=-0.281 total time=   2.8s\n",
      "[CV 4/5] END metric=cityblock, n_neighbors=5, weights=distance;, score=-0.280 total time=   2.8s\n",
      "[CV 5/5] END metric=cityblock, n_neighbors=5, weights=distance;, score=-0.292 total time=   2.9s\n",
      "[CV 1/5] END metric=manhattan, n_neighbors=8, weights=distance;, score=-0.271 total time=   2.8s\n",
      "[CV 2/5] END metric=manhattan, n_neighbors=8, weights=distance;, score=-0.259 total time=   2.8s\n",
      "[CV 3/5] END metric=manhattan, n_neighbors=8, weights=distance;, score=-0.274 total time=   2.9s\n",
      "[CV 4/5] END metric=manhattan, n_neighbors=8, weights=distance;, score=-0.273 total time=   2.9s\n",
      "[CV 5/5] END metric=manhattan, n_neighbors=8, weights=distance;, score=-0.283 total time=   2.8s\n",
      "[CV 1/5] END metric=cosine, n_neighbors=37, weights=distance;, score=-0.271 total time=   1.8s\n",
      "[CV 2/5] END metric=cosine, n_neighbors=37, weights=distance;, score=-0.259 total time=   1.9s\n",
      "[CV 3/5] END metric=cosine, n_neighbors=37, weights=distance;, score=-0.268 total time=   1.9s\n",
      "[CV 4/5] END metric=cosine, n_neighbors=37, weights=distance;, score=-0.271 total time=   1.9s\n",
      "[CV 5/5] END metric=cosine, n_neighbors=37, weights=distance;, score=-0.283 total time=   1.9s\n",
      "[CV 1/5] END metric=cosine, n_neighbors=25, weights=distance;, score=-0.266 total time=   1.8s\n",
      "[CV 2/5] END metric=cosine, n_neighbors=25, weights=distance;, score=-0.256 total time=   1.9s\n",
      "[CV 3/5] END metric=cosine, n_neighbors=25, weights=distance;, score=-0.266 total time=   1.8s\n",
      "[CV 4/5] END metric=cosine, n_neighbors=25, weights=distance;, score=-0.269 total time=   1.9s\n",
      "[CV 5/5] END metric=cosine, n_neighbors=25, weights=distance;, score=-0.281 total time=   1.8s\n",
      "[CV 1/5] END metric=cosine, n_neighbors=15, weights=distance;, score=-0.264 total time=   1.8s\n",
      "[CV 2/5] END metric=cosine, n_neighbors=15, weights=distance;, score=-0.256 total time=   1.8s\n",
      "[CV 3/5] END metric=cosine, n_neighbors=15, weights=distance;, score=-0.267 total time=   1.8s\n",
      "[CV 4/5] END metric=cosine, n_neighbors=15, weights=distance;, score=-0.270 total time=   1.9s\n",
      "[CV 5/5] END metric=cosine, n_neighbors=15, weights=distance;, score=-0.281 total time=   1.8s\n",
      "[CV 1/5] END metric=euclidean, n_neighbors=17, weights=distance;, score=-0.269 total time=   0.3s\n",
      "[CV 2/5] END metric=euclidean, n_neighbors=17, weights=distance;, score=-0.257 total time=   0.3s\n",
      "[CV 3/5] END metric=euclidean, n_neighbors=17, weights=distance;, score=-0.269 total time=   0.3s\n",
      "[CV 4/5] END metric=euclidean, n_neighbors=17, weights=distance;, score=-0.274 total time=   0.4s\n",
      "[CV 5/5] END metric=euclidean, n_neighbors=17, weights=distance;, score=-0.282 total time=   0.3s\n",
      "[CV 1/5] END metric=cosine, n_neighbors=48, weights=distance;, score=-0.273 total time=   1.8s\n",
      "[CV 2/5] END metric=cosine, n_neighbors=48, weights=distance;, score=-0.261 total time=   1.9s\n",
      "[CV 3/5] END metric=cosine, n_neighbors=48, weights=distance;, score=-0.270 total time=   1.9s\n",
      "[CV 4/5] END metric=cosine, n_neighbors=48, weights=distance;, score=-0.273 total time=   2.1s\n",
      "[CV 5/5] END metric=cosine, n_neighbors=48, weights=distance;, score=-0.284 total time=   1.9s\n",
      "[CV 1/5] END metric=euclidean, n_neighbors=20, weights=distance;, score=-0.270 total time=   0.4s\n",
      "[CV 2/5] END metric=euclidean, n_neighbors=20, weights=distance;, score=-0.258 total time=   0.4s\n",
      "[CV 3/5] END metric=euclidean, n_neighbors=20, weights=distance;, score=-0.270 total time=   0.4s\n",
      "[CV 4/5] END metric=euclidean, n_neighbors=20, weights=distance;, score=-0.275 total time=   0.3s\n",
      "[CV 5/5] END metric=euclidean, n_neighbors=20, weights=distance;, score=-0.283 total time=   0.4s\n",
      "[CV 1/5] END metric=cosine, n_neighbors=6, weights=distance;, score=-0.273 total time=   2.1s\n",
      "[CV 2/5] END metric=cosine, n_neighbors=6, weights=distance;, score=-0.260 total time=   1.8s\n",
      "[CV 3/5] END metric=cosine, n_neighbors=6, weights=distance;, score=-0.274 total time=   1.9s\n",
      "[CV 4/5] END metric=cosine, n_neighbors=6, weights=distance;, score=-0.277 total time=   1.8s\n",
      "[CV 5/5] END metric=cosine, n_neighbors=6, weights=distance;, score=-0.286 total time=   1.9s\n",
      "[CV 1/5] END metric=cosine, n_neighbors=22, weights=distance;, score=-0.265 total time=   1.9s\n",
      "[CV 2/5] END metric=cosine, n_neighbors=22, weights=distance;, score=-0.256 total time=   1.9s\n",
      "[CV 3/5] END metric=cosine, n_neighbors=22, weights=distance;, score=-0.266 total time=   1.9s\n",
      "[CV 4/5] END metric=cosine, n_neighbors=22, weights=distance;, score=-0.269 total time=   1.9s\n",
      "[CV 5/5] END metric=cosine, n_neighbors=22, weights=distance;, score=-0.281 total time=   1.8s\n",
      "[CV 1/5] END metric=cosine, n_neighbors=34, weights=distance;, score=-0.269 total time=   1.9s\n",
      "[CV 2/5] END metric=cosine, n_neighbors=34, weights=distance;, score=-0.259 total time=   1.9s\n",
      "[CV 3/5] END metric=cosine, n_neighbors=34, weights=distance;, score=-0.268 total time=   1.9s\n",
      "[CV 4/5] END metric=cosine, n_neighbors=34, weights=distance;, score=-0.270 total time=   1.9s\n",
      "[CV 5/5] END metric=cosine, n_neighbors=34, weights=distance;, score=-0.282 total time=   1.8s\n",
      "[CV 1/5] END metric=euclidean, n_neighbors=7, weights=distance;, score=-0.268 total time=   0.3s\n",
      "[CV 2/5] END metric=euclidean, n_neighbors=7, weights=distance;, score=-0.254 total time=   0.3s\n",
      "[CV 3/5] END metric=euclidean, n_neighbors=7, weights=distance;, score=-0.270 total time=   0.3s\n",
      "[CV 4/5] END metric=euclidean, n_neighbors=7, weights=distance;, score=-0.271 total time=   0.3s\n",
      "[CV 5/5] END metric=euclidean, n_neighbors=7, weights=distance;, score=-0.277 total time=   0.3s\n",
      "[CV 1/5] END metric=manhattan, n_neighbors=32, weights=distance;, score=-0.275 total time=   2.9s\n",
      "[CV 2/5] END metric=manhattan, n_neighbors=32, weights=distance;, score=-0.263 total time=   2.9s\n",
      "[CV 3/5] END metric=manhattan, n_neighbors=32, weights=distance;, score=-0.271 total time=   3.0s\n",
      "[CV 4/5] END metric=manhattan, n_neighbors=32, weights=distance;, score=-0.275 total time=   2.9s\n",
      "[CV 5/5] END metric=manhattan, n_neighbors=32, weights=distance;, score=-0.285 total time=   2.9s\n",
      "[CV 1/5] END metric=euclidean, n_neighbors=34, weights=distance;, score=-0.278 total time=   0.3s\n",
      "[CV 2/5] END metric=euclidean, n_neighbors=34, weights=distance;, score=-0.266 total time=   0.3s\n",
      "[CV 3/5] END metric=euclidean, n_neighbors=34, weights=distance;, score=-0.275 total time=   0.3s\n",
      "[CV 4/5] END metric=euclidean, n_neighbors=34, weights=distance;, score=-0.281 total time=   0.3s\n",
      "[CV 5/5] END metric=euclidean, n_neighbors=34, weights=distance;, score=-0.289 total time=   0.3s\n",
      "Best params:  {'weights': 'distance', 'n_neighbors': 19, 'metric': 'cosine'}\n",
      "Validation score:  -0.26714905819079415\n",
      "--- 1003.839319229126 seconds ---\n",
      "0.5320324264131224\n"
     ]
    }
   ],
   "source": [
    "from sklearn.ensemble import RandomForestRegressor\n",
    "from sklearn.metrics import mean_squared_log_error\n",
    "from sklearn.neighbors import KNeighborsRegressor\n",
    "from sklearn.preprocessing import StandardScaler, MinMaxScaler\n",
    "import time\n",
    "\n",
    "def rmsle(regr, x, y):\n",
    "    return mean_squared_log_error(y, regr.predict(x), squared=False)\n",
    "\n",
    "mmscaler = MinMaxScaler()\n",
    "stscaler = StandardScaler()\n",
    "mmscaler.fit(np.vstack((trainX, testX)))\n",
    "stscaler.fit(np.vstack((trainX, testX)))\n",
    "mmtrainX = mmscaler.transform(trainX)\n",
    "sttrainX = stscaler.transform(trainX)\n",
    "start_time = time.time()\n",
    "param_grid = {'n_neighbors': np.arange(5, 30),'weights': ['distance','uniform'],'metric': [\"cityblock\", \\\n",
    "                                                                                        \"cosine\", \\\n",
    "                                                                                        \"euclidean\", \\\n",
    "                                                                                        #\"l1\", \\\n",
    "                                                                                        #\"l2\", \\\n",
    "                                                                                        \"manhattan\"]}\n",
    "svc = KNeighborsRegressor()\n",
    "clf = RandomizedSearchCV(svc, param_grid, n_iter=100, cv=5, random_state=1, refit=True, scoring='neg_mean_squared_log_error', verbose=5)\n",
    "clf.fit(sttrainX[:20000], trainY[:20000])\n",
    "print('Best params: ', clf.best_params_)\n",
    "print('Validation score: ', clf.best_score_)\n",
    "print(\"--- %s seconds ---\" % (time.time() - start_time))\n",
    "pred = clf.predict(sttrainX[20000:])\n",
    "print(mean_squared_log_error(trainY[20000:], pred, squared=False))"
   ]
  },
  {
   "cell_type": "code",
   "execution_count": 17,
   "id": "3bc72a06",
   "metadata": {},
   "outputs": [
    {
     "name": "stdout",
     "output_type": "stream",
     "text": [
      "Fitting 5 folds for each of 100 candidates, totalling 500 fits\n"
     ]
    },
    {
     "name": "stderr",
     "output_type": "stream",
     "text": [
      "C:\\Python310\\lib\\site-packages\\sklearn\\model_selection\\_validation.py:776: UserWarning: Scoring failed. The score on this train-test partition for these parameters will be set to nan. Details: \n",
      "Traceback (most recent call last):\n",
      "  File \"C:\\Python310\\lib\\site-packages\\sklearn\\model_selection\\_validation.py\", line 767, in _score\n",
      "    scores = scorer(estimator, X_test, y_test)\n",
      "  File \"C:\\Python310\\lib\\site-packages\\sklearn\\metrics\\_scorer.py\", line 219, in __call__\n",
      "    return self._score(\n",
      "  File \"C:\\Python310\\lib\\site-packages\\sklearn\\metrics\\_scorer.py\", line 267, in _score\n",
      "    return self._sign * self._score_func(y_true, y_pred, **self._kwargs)\n",
      "  File \"C:\\Python310\\lib\\site-packages\\sklearn\\metrics\\_regression.py\", line 525, in mean_squared_log_error\n",
      "    raise ValueError(\n",
      "ValueError: Mean Squared Logarithmic Error cannot be used when targets contain negative values.\n",
      "\n",
      "  warnings.warn(\n"
     ]
    },
    {
     "name": "stdout",
     "output_type": "stream",
     "text": [
      "[CV 1/5] END alpha_1=1e-12, alpha_2=1e-08, lambda_1=1e-08, lambda_2=0.001, tol=0.001;, score=nan total time=   1.1s\n"
     ]
    },
    {
     "name": "stderr",
     "output_type": "stream",
     "text": [
      "C:\\Python310\\lib\\site-packages\\sklearn\\model_selection\\_validation.py:776: UserWarning: Scoring failed. The score on this train-test partition for these parameters will be set to nan. Details: \n",
      "Traceback (most recent call last):\n",
      "  File \"C:\\Python310\\lib\\site-packages\\sklearn\\model_selection\\_validation.py\", line 767, in _score\n",
      "    scores = scorer(estimator, X_test, y_test)\n",
      "  File \"C:\\Python310\\lib\\site-packages\\sklearn\\metrics\\_scorer.py\", line 219, in __call__\n",
      "    return self._score(\n",
      "  File \"C:\\Python310\\lib\\site-packages\\sklearn\\metrics\\_scorer.py\", line 267, in _score\n",
      "    return self._sign * self._score_func(y_true, y_pred, **self._kwargs)\n",
      "  File \"C:\\Python310\\lib\\site-packages\\sklearn\\metrics\\_regression.py\", line 525, in mean_squared_log_error\n",
      "    raise ValueError(\n",
      "ValueError: Mean Squared Logarithmic Error cannot be used when targets contain negative values.\n",
      "\n",
      "  warnings.warn(\n"
     ]
    },
    {
     "name": "stdout",
     "output_type": "stream",
     "text": [
      "[CV 2/5] END alpha_1=1e-12, alpha_2=1e-08, lambda_1=1e-08, lambda_2=0.001, tol=0.001;, score=nan total time=   0.9s\n",
      "[CV 3/5] END alpha_1=1e-12, alpha_2=1e-08, lambda_1=1e-08, lambda_2=0.001, tol=0.001;, score=-0.274 total time=   1.0s\n"
     ]
    },
    {
     "name": "stderr",
     "output_type": "stream",
     "text": [
      "C:\\Python310\\lib\\site-packages\\sklearn\\model_selection\\_validation.py:776: UserWarning: Scoring failed. The score on this train-test partition for these parameters will be set to nan. Details: \n",
      "Traceback (most recent call last):\n",
      "  File \"C:\\Python310\\lib\\site-packages\\sklearn\\model_selection\\_validation.py\", line 767, in _score\n",
      "    scores = scorer(estimator, X_test, y_test)\n",
      "  File \"C:\\Python310\\lib\\site-packages\\sklearn\\metrics\\_scorer.py\", line 219, in __call__\n",
      "    return self._score(\n",
      "  File \"C:\\Python310\\lib\\site-packages\\sklearn\\metrics\\_scorer.py\", line 267, in _score\n",
      "    return self._sign * self._score_func(y_true, y_pred, **self._kwargs)\n",
      "  File \"C:\\Python310\\lib\\site-packages\\sklearn\\metrics\\_regression.py\", line 525, in mean_squared_log_error\n",
      "    raise ValueError(\n",
      "ValueError: Mean Squared Logarithmic Error cannot be used when targets contain negative values.\n",
      "\n",
      "  warnings.warn(\n"
     ]
    },
    {
     "name": "stdout",
     "output_type": "stream",
     "text": [
      "[CV 4/5] END alpha_1=1e-12, alpha_2=1e-08, lambda_1=1e-08, lambda_2=0.001, tol=0.001;, score=nan total time=   1.0s\n"
     ]
    },
    {
     "name": "stderr",
     "output_type": "stream",
     "text": [
      "C:\\Python310\\lib\\site-packages\\sklearn\\model_selection\\_validation.py:776: UserWarning: Scoring failed. The score on this train-test partition for these parameters will be set to nan. Details: \n",
      "Traceback (most recent call last):\n",
      "  File \"C:\\Python310\\lib\\site-packages\\sklearn\\model_selection\\_validation.py\", line 767, in _score\n",
      "    scores = scorer(estimator, X_test, y_test)\n",
      "  File \"C:\\Python310\\lib\\site-packages\\sklearn\\metrics\\_scorer.py\", line 219, in __call__\n",
      "    return self._score(\n",
      "  File \"C:\\Python310\\lib\\site-packages\\sklearn\\metrics\\_scorer.py\", line 267, in _score\n",
      "    return self._sign * self._score_func(y_true, y_pred, **self._kwargs)\n",
      "  File \"C:\\Python310\\lib\\site-packages\\sklearn\\metrics\\_regression.py\", line 525, in mean_squared_log_error\n",
      "    raise ValueError(\n",
      "ValueError: Mean Squared Logarithmic Error cannot be used when targets contain negative values.\n",
      "\n",
      "  warnings.warn(\n"
     ]
    },
    {
     "name": "stdout",
     "output_type": "stream",
     "text": [
      "[CV 5/5] END alpha_1=1e-12, alpha_2=1e-08, lambda_1=1e-08, lambda_2=0.001, tol=0.001;, score=nan total time=   0.9s\n"
     ]
    },
    {
     "name": "stderr",
     "output_type": "stream",
     "text": [
      "C:\\Python310\\lib\\site-packages\\sklearn\\model_selection\\_validation.py:776: UserWarning: Scoring failed. The score on this train-test partition for these parameters will be set to nan. Details: \n",
      "Traceback (most recent call last):\n",
      "  File \"C:\\Python310\\lib\\site-packages\\sklearn\\model_selection\\_validation.py\", line 767, in _score\n",
      "    scores = scorer(estimator, X_test, y_test)\n",
      "  File \"C:\\Python310\\lib\\site-packages\\sklearn\\metrics\\_scorer.py\", line 219, in __call__\n",
      "    return self._score(\n",
      "  File \"C:\\Python310\\lib\\site-packages\\sklearn\\metrics\\_scorer.py\", line 267, in _score\n",
      "    return self._sign * self._score_func(y_true, y_pred, **self._kwargs)\n",
      "  File \"C:\\Python310\\lib\\site-packages\\sklearn\\metrics\\_regression.py\", line 525, in mean_squared_log_error\n",
      "    raise ValueError(\n",
      "ValueError: Mean Squared Logarithmic Error cannot be used when targets contain negative values.\n",
      "\n",
      "  warnings.warn(\n"
     ]
    },
    {
     "name": "stdout",
     "output_type": "stream",
     "text": [
      "[CV 1/5] END alpha_1=0.1, alpha_2=0.1, lambda_1=1e-12, lambda_2=1e-05, tol=0.1;, score=nan total time=   0.9s\n"
     ]
    },
    {
     "name": "stderr",
     "output_type": "stream",
     "text": [
      "C:\\Python310\\lib\\site-packages\\sklearn\\model_selection\\_validation.py:776: UserWarning: Scoring failed. The score on this train-test partition for these parameters will be set to nan. Details: \n",
      "Traceback (most recent call last):\n",
      "  File \"C:\\Python310\\lib\\site-packages\\sklearn\\model_selection\\_validation.py\", line 767, in _score\n",
      "    scores = scorer(estimator, X_test, y_test)\n",
      "  File \"C:\\Python310\\lib\\site-packages\\sklearn\\metrics\\_scorer.py\", line 219, in __call__\n",
      "    return self._score(\n",
      "  File \"C:\\Python310\\lib\\site-packages\\sklearn\\metrics\\_scorer.py\", line 267, in _score\n",
      "    return self._sign * self._score_func(y_true, y_pred, **self._kwargs)\n",
      "  File \"C:\\Python310\\lib\\site-packages\\sklearn\\metrics\\_regression.py\", line 525, in mean_squared_log_error\n",
      "    raise ValueError(\n",
      "ValueError: Mean Squared Logarithmic Error cannot be used when targets contain negative values.\n",
      "\n",
      "  warnings.warn(\n"
     ]
    },
    {
     "name": "stdout",
     "output_type": "stream",
     "text": [
      "[CV 2/5] END alpha_1=0.1, alpha_2=0.1, lambda_1=1e-12, lambda_2=1e-05, tol=0.1;, score=nan total time=   0.9s\n",
      "[CV 3/5] END alpha_1=0.1, alpha_2=0.1, lambda_1=1e-12, lambda_2=1e-05, tol=0.1;, score=-0.274 total time=   1.0s\n"
     ]
    },
    {
     "name": "stderr",
     "output_type": "stream",
     "text": [
      "C:\\Python310\\lib\\site-packages\\sklearn\\model_selection\\_validation.py:776: UserWarning: Scoring failed. The score on this train-test partition for these parameters will be set to nan. Details: \n",
      "Traceback (most recent call last):\n",
      "  File \"C:\\Python310\\lib\\site-packages\\sklearn\\model_selection\\_validation.py\", line 767, in _score\n",
      "    scores = scorer(estimator, X_test, y_test)\n",
      "  File \"C:\\Python310\\lib\\site-packages\\sklearn\\metrics\\_scorer.py\", line 219, in __call__\n",
      "    return self._score(\n",
      "  File \"C:\\Python310\\lib\\site-packages\\sklearn\\metrics\\_scorer.py\", line 267, in _score\n",
      "    return self._sign * self._score_func(y_true, y_pred, **self._kwargs)\n",
      "  File \"C:\\Python310\\lib\\site-packages\\sklearn\\metrics\\_regression.py\", line 525, in mean_squared_log_error\n",
      "    raise ValueError(\n",
      "ValueError: Mean Squared Logarithmic Error cannot be used when targets contain negative values.\n",
      "\n",
      "  warnings.warn(\n"
     ]
    },
    {
     "name": "stdout",
     "output_type": "stream",
     "text": [
      "[CV 4/5] END alpha_1=0.1, alpha_2=0.1, lambda_1=1e-12, lambda_2=1e-05, tol=0.1;, score=nan total time=   1.0s\n"
     ]
    },
    {
     "name": "stderr",
     "output_type": "stream",
     "text": [
      "C:\\Python310\\lib\\site-packages\\sklearn\\model_selection\\_validation.py:776: UserWarning: Scoring failed. The score on this train-test partition for these parameters will be set to nan. Details: \n",
      "Traceback (most recent call last):\n",
      "  File \"C:\\Python310\\lib\\site-packages\\sklearn\\model_selection\\_validation.py\", line 767, in _score\n",
      "    scores = scorer(estimator, X_test, y_test)\n",
      "  File \"C:\\Python310\\lib\\site-packages\\sklearn\\metrics\\_scorer.py\", line 219, in __call__\n",
      "    return self._score(\n",
      "  File \"C:\\Python310\\lib\\site-packages\\sklearn\\metrics\\_scorer.py\", line 267, in _score\n",
      "    return self._sign * self._score_func(y_true, y_pred, **self._kwargs)\n",
      "  File \"C:\\Python310\\lib\\site-packages\\sklearn\\metrics\\_regression.py\", line 525, in mean_squared_log_error\n",
      "    raise ValueError(\n",
      "ValueError: Mean Squared Logarithmic Error cannot be used when targets contain negative values.\n",
      "\n",
      "  warnings.warn(\n"
     ]
    },
    {
     "name": "stdout",
     "output_type": "stream",
     "text": [
      "[CV 5/5] END alpha_1=0.1, alpha_2=0.1, lambda_1=1e-12, lambda_2=1e-05, tol=0.1;, score=nan total time=   0.9s\n",
      "[CV 1/5] END alpha_1=1e-05, alpha_2=1e-12, lambda_1=0.001, lambda_2=1e-05, tol=1e-05;, score=-0.393 total time=   0.7s\n",
      "[CV 2/5] END alpha_1=1e-05, alpha_2=1e-12, lambda_1=0.001, lambda_2=1e-05, tol=1e-05;, score=-0.377 total time=   0.8s\n",
      "[CV 3/5] END alpha_1=1e-05, alpha_2=1e-12, lambda_1=0.001, lambda_2=1e-05, tol=1e-05;, score=-0.387 total time=   0.8s\n",
      "[CV 4/5] END alpha_1=1e-05, alpha_2=1e-12, lambda_1=0.001, lambda_2=1e-05, tol=1e-05;, score=-0.394 total time=   0.8s\n",
      "[CV 5/5] END alpha_1=1e-05, alpha_2=1e-12, lambda_1=0.001, lambda_2=1e-05, tol=1e-05;, score=-0.401 total time=   0.8s\n",
      "[CV 1/5] END alpha_1=0.1, alpha_2=1e-12, lambda_1=0.1, lambda_2=1e-08, tol=0.001;, score=-0.393 total time=   0.8s\n",
      "[CV 2/5] END alpha_1=0.1, alpha_2=1e-12, lambda_1=0.1, lambda_2=1e-08, tol=0.001;, score=-0.377 total time=   0.7s\n",
      "[CV 3/5] END alpha_1=0.1, alpha_2=1e-12, lambda_1=0.1, lambda_2=1e-08, tol=0.001;, score=-0.387 total time=   0.7s\n",
      "[CV 4/5] END alpha_1=0.1, alpha_2=1e-12, lambda_1=0.1, lambda_2=1e-08, tol=0.001;, score=-0.394 total time=   0.8s\n",
      "[CV 5/5] END alpha_1=0.1, alpha_2=1e-12, lambda_1=0.1, lambda_2=1e-08, tol=0.001;, score=-0.401 total time=   0.7s\n"
     ]
    },
    {
     "name": "stderr",
     "output_type": "stream",
     "text": [
      "C:\\Python310\\lib\\site-packages\\sklearn\\model_selection\\_validation.py:776: UserWarning: Scoring failed. The score on this train-test partition for these parameters will be set to nan. Details: \n",
      "Traceback (most recent call last):\n",
      "  File \"C:\\Python310\\lib\\site-packages\\sklearn\\model_selection\\_validation.py\", line 767, in _score\n",
      "    scores = scorer(estimator, X_test, y_test)\n",
      "  File \"C:\\Python310\\lib\\site-packages\\sklearn\\metrics\\_scorer.py\", line 219, in __call__\n",
      "    return self._score(\n",
      "  File \"C:\\Python310\\lib\\site-packages\\sklearn\\metrics\\_scorer.py\", line 267, in _score\n",
      "    return self._sign * self._score_func(y_true, y_pred, **self._kwargs)\n",
      "  File \"C:\\Python310\\lib\\site-packages\\sklearn\\metrics\\_regression.py\", line 525, in mean_squared_log_error\n",
      "    raise ValueError(\n",
      "ValueError: Mean Squared Logarithmic Error cannot be used when targets contain negative values.\n",
      "\n",
      "  warnings.warn(\n"
     ]
    },
    {
     "name": "stdout",
     "output_type": "stream",
     "text": [
      "[CV 1/5] END alpha_1=0.1, alpha_2=1e-05, lambda_1=1e-08, lambda_2=1e-08, tol=0.1;, score=nan total time=   1.0s\n"
     ]
    },
    {
     "name": "stderr",
     "output_type": "stream",
     "text": [
      "C:\\Python310\\lib\\site-packages\\sklearn\\model_selection\\_validation.py:776: UserWarning: Scoring failed. The score on this train-test partition for these parameters will be set to nan. Details: \n",
      "Traceback (most recent call last):\n",
      "  File \"C:\\Python310\\lib\\site-packages\\sklearn\\model_selection\\_validation.py\", line 767, in _score\n",
      "    scores = scorer(estimator, X_test, y_test)\n",
      "  File \"C:\\Python310\\lib\\site-packages\\sklearn\\metrics\\_scorer.py\", line 219, in __call__\n",
      "    return self._score(\n",
      "  File \"C:\\Python310\\lib\\site-packages\\sklearn\\metrics\\_scorer.py\", line 267, in _score\n",
      "    return self._sign * self._score_func(y_true, y_pred, **self._kwargs)\n",
      "  File \"C:\\Python310\\lib\\site-packages\\sklearn\\metrics\\_regression.py\", line 525, in mean_squared_log_error\n",
      "    raise ValueError(\n",
      "ValueError: Mean Squared Logarithmic Error cannot be used when targets contain negative values.\n",
      "\n",
      "  warnings.warn(\n"
     ]
    },
    {
     "name": "stdout",
     "output_type": "stream",
     "text": [
      "[CV 2/5] END alpha_1=0.1, alpha_2=1e-05, lambda_1=1e-08, lambda_2=1e-08, tol=0.1;, score=nan total time=   0.9s\n",
      "[CV 3/5] END alpha_1=0.1, alpha_2=1e-05, lambda_1=1e-08, lambda_2=1e-08, tol=0.1;, score=-0.274 total time=   1.0s\n"
     ]
    },
    {
     "name": "stderr",
     "output_type": "stream",
     "text": [
      "C:\\Python310\\lib\\site-packages\\sklearn\\model_selection\\_validation.py:776: UserWarning: Scoring failed. The score on this train-test partition for these parameters will be set to nan. Details: \n",
      "Traceback (most recent call last):\n",
      "  File \"C:\\Python310\\lib\\site-packages\\sklearn\\model_selection\\_validation.py\", line 767, in _score\n",
      "    scores = scorer(estimator, X_test, y_test)\n",
      "  File \"C:\\Python310\\lib\\site-packages\\sklearn\\metrics\\_scorer.py\", line 219, in __call__\n",
      "    return self._score(\n",
      "  File \"C:\\Python310\\lib\\site-packages\\sklearn\\metrics\\_scorer.py\", line 267, in _score\n",
      "    return self._sign * self._score_func(y_true, y_pred, **self._kwargs)\n",
      "  File \"C:\\Python310\\lib\\site-packages\\sklearn\\metrics\\_regression.py\", line 525, in mean_squared_log_error\n",
      "    raise ValueError(\n",
      "ValueError: Mean Squared Logarithmic Error cannot be used when targets contain negative values.\n",
      "\n",
      "  warnings.warn(\n"
     ]
    },
    {
     "name": "stdout",
     "output_type": "stream",
     "text": [
      "[CV 4/5] END alpha_1=0.1, alpha_2=1e-05, lambda_1=1e-08, lambda_2=1e-08, tol=0.1;, score=nan total time=   0.9s\n"
     ]
    },
    {
     "name": "stderr",
     "output_type": "stream",
     "text": [
      "C:\\Python310\\lib\\site-packages\\sklearn\\model_selection\\_validation.py:776: UserWarning: Scoring failed. The score on this train-test partition for these parameters will be set to nan. Details: \n",
      "Traceback (most recent call last):\n",
      "  File \"C:\\Python310\\lib\\site-packages\\sklearn\\model_selection\\_validation.py\", line 767, in _score\n",
      "    scores = scorer(estimator, X_test, y_test)\n",
      "  File \"C:\\Python310\\lib\\site-packages\\sklearn\\metrics\\_scorer.py\", line 219, in __call__\n",
      "    return self._score(\n",
      "  File \"C:\\Python310\\lib\\site-packages\\sklearn\\metrics\\_scorer.py\", line 267, in _score\n",
      "    return self._sign * self._score_func(y_true, y_pred, **self._kwargs)\n",
      "  File \"C:\\Python310\\lib\\site-packages\\sklearn\\metrics\\_regression.py\", line 525, in mean_squared_log_error\n",
      "    raise ValueError(\n",
      "ValueError: Mean Squared Logarithmic Error cannot be used when targets contain negative values.\n",
      "\n",
      "  warnings.warn(\n"
     ]
    },
    {
     "name": "stdout",
     "output_type": "stream",
     "text": [
      "[CV 5/5] END alpha_1=0.1, alpha_2=1e-05, lambda_1=1e-08, lambda_2=1e-08, tol=0.1;, score=nan total time=   0.8s\n"
     ]
    },
    {
     "name": "stderr",
     "output_type": "stream",
     "text": [
      "C:\\Python310\\lib\\site-packages\\sklearn\\model_selection\\_validation.py:776: UserWarning: Scoring failed. The score on this train-test partition for these parameters will be set to nan. Details: \n",
      "Traceback (most recent call last):\n",
      "  File \"C:\\Python310\\lib\\site-packages\\sklearn\\model_selection\\_validation.py\", line 767, in _score\n",
      "    scores = scorer(estimator, X_test, y_test)\n",
      "  File \"C:\\Python310\\lib\\site-packages\\sklearn\\metrics\\_scorer.py\", line 219, in __call__\n",
      "    return self._score(\n",
      "  File \"C:\\Python310\\lib\\site-packages\\sklearn\\metrics\\_scorer.py\", line 267, in _score\n",
      "    return self._sign * self._score_func(y_true, y_pred, **self._kwargs)\n",
      "  File \"C:\\Python310\\lib\\site-packages\\sklearn\\metrics\\_regression.py\", line 525, in mean_squared_log_error\n",
      "    raise ValueError(\n",
      "ValueError: Mean Squared Logarithmic Error cannot be used when targets contain negative values.\n",
      "\n",
      "  warnings.warn(\n"
     ]
    },
    {
     "name": "stdout",
     "output_type": "stream",
     "text": [
      "[CV 1/5] END alpha_1=0.001, alpha_2=1e-08, lambda_1=1e-05, lambda_2=1e-05, tol=1e-12;, score=nan total time=   1.1s\n"
     ]
    },
    {
     "name": "stderr",
     "output_type": "stream",
     "text": [
      "C:\\Python310\\lib\\site-packages\\sklearn\\model_selection\\_validation.py:776: UserWarning: Scoring failed. The score on this train-test partition for these parameters will be set to nan. Details: \n",
      "Traceback (most recent call last):\n",
      "  File \"C:\\Python310\\lib\\site-packages\\sklearn\\model_selection\\_validation.py\", line 767, in _score\n",
      "    scores = scorer(estimator, X_test, y_test)\n",
      "  File \"C:\\Python310\\lib\\site-packages\\sklearn\\metrics\\_scorer.py\", line 219, in __call__\n",
      "    return self._score(\n",
      "  File \"C:\\Python310\\lib\\site-packages\\sklearn\\metrics\\_scorer.py\", line 267, in _score\n",
      "    return self._sign * self._score_func(y_true, y_pred, **self._kwargs)\n",
      "  File \"C:\\Python310\\lib\\site-packages\\sklearn\\metrics\\_regression.py\", line 525, in mean_squared_log_error\n",
      "    raise ValueError(\n",
      "ValueError: Mean Squared Logarithmic Error cannot be used when targets contain negative values.\n",
      "\n",
      "  warnings.warn(\n"
     ]
    },
    {
     "name": "stdout",
     "output_type": "stream",
     "text": [
      "[CV 2/5] END alpha_1=0.001, alpha_2=1e-08, lambda_1=1e-05, lambda_2=1e-05, tol=1e-12;, score=nan total time=   2.4s\n",
      "[CV 3/5] END alpha_1=0.001, alpha_2=1e-08, lambda_1=1e-05, lambda_2=1e-05, tol=1e-12;, score=-0.274 total time=   2.5s\n"
     ]
    },
    {
     "name": "stderr",
     "output_type": "stream",
     "text": [
      "C:\\Python310\\lib\\site-packages\\sklearn\\model_selection\\_validation.py:776: UserWarning: Scoring failed. The score on this train-test partition for these parameters will be set to nan. Details: \n",
      "Traceback (most recent call last):\n",
      "  File \"C:\\Python310\\lib\\site-packages\\sklearn\\model_selection\\_validation.py\", line 767, in _score\n",
      "    scores = scorer(estimator, X_test, y_test)\n",
      "  File \"C:\\Python310\\lib\\site-packages\\sklearn\\metrics\\_scorer.py\", line 219, in __call__\n",
      "    return self._score(\n",
      "  File \"C:\\Python310\\lib\\site-packages\\sklearn\\metrics\\_scorer.py\", line 267, in _score\n",
      "    return self._sign * self._score_func(y_true, y_pred, **self._kwargs)\n",
      "  File \"C:\\Python310\\lib\\site-packages\\sklearn\\metrics\\_regression.py\", line 525, in mean_squared_log_error\n",
      "    raise ValueError(\n",
      "ValueError: Mean Squared Logarithmic Error cannot be used when targets contain negative values.\n",
      "\n",
      "  warnings.warn(\n"
     ]
    },
    {
     "name": "stdout",
     "output_type": "stream",
     "text": [
      "[CV 4/5] END alpha_1=0.001, alpha_2=1e-08, lambda_1=1e-05, lambda_2=1e-05, tol=1e-12;, score=nan total time=   1.1s\n"
     ]
    },
    {
     "name": "stderr",
     "output_type": "stream",
     "text": [
      "C:\\Python310\\lib\\site-packages\\sklearn\\model_selection\\_validation.py:776: UserWarning: Scoring failed. The score on this train-test partition for these parameters will be set to nan. Details: \n",
      "Traceback (most recent call last):\n",
      "  File \"C:\\Python310\\lib\\site-packages\\sklearn\\model_selection\\_validation.py\", line 767, in _score\n",
      "    scores = scorer(estimator, X_test, y_test)\n",
      "  File \"C:\\Python310\\lib\\site-packages\\sklearn\\metrics\\_scorer.py\", line 219, in __call__\n",
      "    return self._score(\n",
      "  File \"C:\\Python310\\lib\\site-packages\\sklearn\\metrics\\_scorer.py\", line 267, in _score\n",
      "    return self._sign * self._score_func(y_true, y_pred, **self._kwargs)\n",
      "  File \"C:\\Python310\\lib\\site-packages\\sklearn\\metrics\\_regression.py\", line 525, in mean_squared_log_error\n",
      "    raise ValueError(\n",
      "ValueError: Mean Squared Logarithmic Error cannot be used when targets contain negative values.\n",
      "\n",
      "  warnings.warn(\n"
     ]
    },
    {
     "name": "stdout",
     "output_type": "stream",
     "text": [
      "[CV 5/5] END alpha_1=0.001, alpha_2=1e-08, lambda_1=1e-05, lambda_2=1e-05, tol=1e-12;, score=nan total time=   2.4s\n",
      "[CV 1/5] END alpha_1=1e-05, alpha_2=0.1, lambda_1=0.001, lambda_2=1e-12, tol=0.001;, score=-0.393 total time=   0.7s\n",
      "[CV 2/5] END alpha_1=1e-05, alpha_2=0.1, lambda_1=0.001, lambda_2=1e-12, tol=0.001;, score=-0.377 total time=   0.7s\n",
      "[CV 3/5] END alpha_1=1e-05, alpha_2=0.1, lambda_1=0.001, lambda_2=1e-12, tol=0.001;, score=-0.387 total time=   0.7s\n",
      "[CV 4/5] END alpha_1=1e-05, alpha_2=0.1, lambda_1=0.001, lambda_2=1e-12, tol=0.001;, score=-0.394 total time=   0.7s\n",
      "[CV 5/5] END alpha_1=1e-05, alpha_2=0.1, lambda_1=0.001, lambda_2=1e-12, tol=0.001;, score=-0.401 total time=   0.7s\n"
     ]
    },
    {
     "name": "stderr",
     "output_type": "stream",
     "text": [
      "C:\\Python310\\lib\\site-packages\\sklearn\\model_selection\\_validation.py:776: UserWarning: Scoring failed. The score on this train-test partition for these parameters will be set to nan. Details: \n",
      "Traceback (most recent call last):\n",
      "  File \"C:\\Python310\\lib\\site-packages\\sklearn\\model_selection\\_validation.py\", line 767, in _score\n",
      "    scores = scorer(estimator, X_test, y_test)\n",
      "  File \"C:\\Python310\\lib\\site-packages\\sklearn\\metrics\\_scorer.py\", line 219, in __call__\n",
      "    return self._score(\n",
      "  File \"C:\\Python310\\lib\\site-packages\\sklearn\\metrics\\_scorer.py\", line 267, in _score\n",
      "    return self._sign * self._score_func(y_true, y_pred, **self._kwargs)\n",
      "  File \"C:\\Python310\\lib\\site-packages\\sklearn\\metrics\\_regression.py\", line 525, in mean_squared_log_error\n",
      "    raise ValueError(\n",
      "ValueError: Mean Squared Logarithmic Error cannot be used when targets contain negative values.\n",
      "\n",
      "  warnings.warn(\n"
     ]
    },
    {
     "name": "stdout",
     "output_type": "stream",
     "text": [
      "[CV 1/5] END alpha_1=1e-08, alpha_2=0.001, lambda_1=1e-08, lambda_2=1e-08, tol=1e-08;, score=nan total time=   2.4s\n"
     ]
    },
    {
     "name": "stderr",
     "output_type": "stream",
     "text": [
      "C:\\Python310\\lib\\site-packages\\sklearn\\model_selection\\_validation.py:776: UserWarning: Scoring failed. The score on this train-test partition for these parameters will be set to nan. Details: \n",
      "Traceback (most recent call last):\n",
      "  File \"C:\\Python310\\lib\\site-packages\\sklearn\\model_selection\\_validation.py\", line 767, in _score\n",
      "    scores = scorer(estimator, X_test, y_test)\n",
      "  File \"C:\\Python310\\lib\\site-packages\\sklearn\\metrics\\_scorer.py\", line 219, in __call__\n",
      "    return self._score(\n",
      "  File \"C:\\Python310\\lib\\site-packages\\sklearn\\metrics\\_scorer.py\", line 267, in _score\n",
      "    return self._sign * self._score_func(y_true, y_pred, **self._kwargs)\n",
      "  File \"C:\\Python310\\lib\\site-packages\\sklearn\\metrics\\_regression.py\", line 525, in mean_squared_log_error\n",
      "    raise ValueError(\n",
      "ValueError: Mean Squared Logarithmic Error cannot be used when targets contain negative values.\n",
      "\n",
      "  warnings.warn(\n"
     ]
    },
    {
     "name": "stdout",
     "output_type": "stream",
     "text": [
      "[CV 2/5] END alpha_1=1e-08, alpha_2=0.001, lambda_1=1e-08, lambda_2=1e-08, tol=1e-08;, score=nan total time=   2.5s\n",
      "[CV 3/5] END alpha_1=1e-08, alpha_2=0.001, lambda_1=1e-08, lambda_2=1e-08, tol=1e-08;, score=-0.274 total time=   2.6s\n"
     ]
    },
    {
     "name": "stderr",
     "output_type": "stream",
     "text": [
      "C:\\Python310\\lib\\site-packages\\sklearn\\model_selection\\_validation.py:776: UserWarning: Scoring failed. The score on this train-test partition for these parameters will be set to nan. Details: \n",
      "Traceback (most recent call last):\n",
      "  File \"C:\\Python310\\lib\\site-packages\\sklearn\\model_selection\\_validation.py\", line 767, in _score\n",
      "    scores = scorer(estimator, X_test, y_test)\n",
      "  File \"C:\\Python310\\lib\\site-packages\\sklearn\\metrics\\_scorer.py\", line 219, in __call__\n",
      "    return self._score(\n",
      "  File \"C:\\Python310\\lib\\site-packages\\sklearn\\metrics\\_scorer.py\", line 267, in _score\n",
      "    return self._sign * self._score_func(y_true, y_pred, **self._kwargs)\n",
      "  File \"C:\\Python310\\lib\\site-packages\\sklearn\\metrics\\_regression.py\", line 525, in mean_squared_log_error\n",
      "    raise ValueError(\n",
      "ValueError: Mean Squared Logarithmic Error cannot be used when targets contain negative values.\n",
      "\n",
      "  warnings.warn(\n"
     ]
    },
    {
     "name": "stdout",
     "output_type": "stream",
     "text": [
      "[CV 4/5] END alpha_1=1e-08, alpha_2=0.001, lambda_1=1e-08, lambda_2=1e-08, tol=1e-08;, score=nan total time=   1.1s\n"
     ]
    },
    {
     "name": "stderr",
     "output_type": "stream",
     "text": [
      "C:\\Python310\\lib\\site-packages\\sklearn\\model_selection\\_validation.py:776: UserWarning: Scoring failed. The score on this train-test partition for these parameters will be set to nan. Details: \n",
      "Traceback (most recent call last):\n",
      "  File \"C:\\Python310\\lib\\site-packages\\sklearn\\model_selection\\_validation.py\", line 767, in _score\n",
      "    scores = scorer(estimator, X_test, y_test)\n",
      "  File \"C:\\Python310\\lib\\site-packages\\sklearn\\metrics\\_scorer.py\", line 219, in __call__\n",
      "    return self._score(\n",
      "  File \"C:\\Python310\\lib\\site-packages\\sklearn\\metrics\\_scorer.py\", line 267, in _score\n",
      "    return self._sign * self._score_func(y_true, y_pred, **self._kwargs)\n",
      "  File \"C:\\Python310\\lib\\site-packages\\sklearn\\metrics\\_regression.py\", line 525, in mean_squared_log_error\n",
      "    raise ValueError(\n",
      "ValueError: Mean Squared Logarithmic Error cannot be used when targets contain negative values.\n",
      "\n",
      "  warnings.warn(\n"
     ]
    },
    {
     "name": "stdout",
     "output_type": "stream",
     "text": [
      "[CV 5/5] END alpha_1=1e-08, alpha_2=0.001, lambda_1=1e-08, lambda_2=1e-08, tol=1e-08;, score=nan total time=   2.5s\n"
     ]
    },
    {
     "name": "stderr",
     "output_type": "stream",
     "text": [
      "C:\\Python310\\lib\\site-packages\\sklearn\\model_selection\\_validation.py:776: UserWarning: Scoring failed. The score on this train-test partition for these parameters will be set to nan. Details: \n",
      "Traceback (most recent call last):\n",
      "  File \"C:\\Python310\\lib\\site-packages\\sklearn\\model_selection\\_validation.py\", line 767, in _score\n",
      "    scores = scorer(estimator, X_test, y_test)\n",
      "  File \"C:\\Python310\\lib\\site-packages\\sklearn\\metrics\\_scorer.py\", line 219, in __call__\n",
      "    return self._score(\n",
      "  File \"C:\\Python310\\lib\\site-packages\\sklearn\\metrics\\_scorer.py\", line 267, in _score\n",
      "    return self._sign * self._score_func(y_true, y_pred, **self._kwargs)\n",
      "  File \"C:\\Python310\\lib\\site-packages\\sklearn\\metrics\\_regression.py\", line 525, in mean_squared_log_error\n",
      "    raise ValueError(\n",
      "ValueError: Mean Squared Logarithmic Error cannot be used when targets contain negative values.\n",
      "\n",
      "  warnings.warn(\n"
     ]
    },
    {
     "name": "stdout",
     "output_type": "stream",
     "text": [
      "[CV 1/5] END alpha_1=0.1, alpha_2=1e-12, lambda_1=1e-08, lambda_2=1e-12, tol=1e-08;, score=nan total time=   2.5s\n"
     ]
    },
    {
     "name": "stderr",
     "output_type": "stream",
     "text": [
      "C:\\Python310\\lib\\site-packages\\sklearn\\model_selection\\_validation.py:776: UserWarning: Scoring failed. The score on this train-test partition for these parameters will be set to nan. Details: \n",
      "Traceback (most recent call last):\n",
      "  File \"C:\\Python310\\lib\\site-packages\\sklearn\\model_selection\\_validation.py\", line 767, in _score\n",
      "    scores = scorer(estimator, X_test, y_test)\n",
      "  File \"C:\\Python310\\lib\\site-packages\\sklearn\\metrics\\_scorer.py\", line 219, in __call__\n",
      "    return self._score(\n",
      "  File \"C:\\Python310\\lib\\site-packages\\sklearn\\metrics\\_scorer.py\", line 267, in _score\n",
      "    return self._sign * self._score_func(y_true, y_pred, **self._kwargs)\n",
      "  File \"C:\\Python310\\lib\\site-packages\\sklearn\\metrics\\_regression.py\", line 525, in mean_squared_log_error\n",
      "    raise ValueError(\n",
      "ValueError: Mean Squared Logarithmic Error cannot be used when targets contain negative values.\n",
      "\n",
      "  warnings.warn(\n"
     ]
    },
    {
     "name": "stdout",
     "output_type": "stream",
     "text": [
      "[CV 2/5] END alpha_1=0.1, alpha_2=1e-12, lambda_1=1e-08, lambda_2=1e-12, tol=1e-08;, score=nan total time=   2.5s\n",
      "[CV 3/5] END alpha_1=0.1, alpha_2=1e-12, lambda_1=1e-08, lambda_2=1e-12, tol=1e-08;, score=-0.274 total time=   1.2s\n"
     ]
    },
    {
     "name": "stderr",
     "output_type": "stream",
     "text": [
      "C:\\Python310\\lib\\site-packages\\sklearn\\model_selection\\_validation.py:776: UserWarning: Scoring failed. The score on this train-test partition for these parameters will be set to nan. Details: \n",
      "Traceback (most recent call last):\n",
      "  File \"C:\\Python310\\lib\\site-packages\\sklearn\\model_selection\\_validation.py\", line 767, in _score\n",
      "    scores = scorer(estimator, X_test, y_test)\n",
      "  File \"C:\\Python310\\lib\\site-packages\\sklearn\\metrics\\_scorer.py\", line 219, in __call__\n",
      "    return self._score(\n",
      "  File \"C:\\Python310\\lib\\site-packages\\sklearn\\metrics\\_scorer.py\", line 267, in _score\n",
      "    return self._sign * self._score_func(y_true, y_pred, **self._kwargs)\n",
      "  File \"C:\\Python310\\lib\\site-packages\\sklearn\\metrics\\_regression.py\", line 525, in mean_squared_log_error\n",
      "    raise ValueError(\n",
      "ValueError: Mean Squared Logarithmic Error cannot be used when targets contain negative values.\n",
      "\n",
      "  warnings.warn(\n"
     ]
    },
    {
     "name": "stdout",
     "output_type": "stream",
     "text": [
      "[CV 4/5] END alpha_1=0.1, alpha_2=1e-12, lambda_1=1e-08, lambda_2=1e-12, tol=1e-08;, score=nan total time=   1.0s\n"
     ]
    },
    {
     "name": "stderr",
     "output_type": "stream",
     "text": [
      "C:\\Python310\\lib\\site-packages\\sklearn\\model_selection\\_validation.py:776: UserWarning: Scoring failed. The score on this train-test partition for these parameters will be set to nan. Details: \n",
      "Traceback (most recent call last):\n",
      "  File \"C:\\Python310\\lib\\site-packages\\sklearn\\model_selection\\_validation.py\", line 767, in _score\n",
      "    scores = scorer(estimator, X_test, y_test)\n",
      "  File \"C:\\Python310\\lib\\site-packages\\sklearn\\metrics\\_scorer.py\", line 219, in __call__\n",
      "    return self._score(\n",
      "  File \"C:\\Python310\\lib\\site-packages\\sklearn\\metrics\\_scorer.py\", line 267, in _score\n",
      "    return self._sign * self._score_func(y_true, y_pred, **self._kwargs)\n",
      "  File \"C:\\Python310\\lib\\site-packages\\sklearn\\metrics\\_regression.py\", line 525, in mean_squared_log_error\n",
      "    raise ValueError(\n",
      "ValueError: Mean Squared Logarithmic Error cannot be used when targets contain negative values.\n",
      "\n",
      "  warnings.warn(\n"
     ]
    },
    {
     "name": "stdout",
     "output_type": "stream",
     "text": [
      "[CV 5/5] END alpha_1=0.1, alpha_2=1e-12, lambda_1=1e-08, lambda_2=1e-12, tol=1e-08;, score=nan total time=   2.6s\n"
     ]
    },
    {
     "name": "stderr",
     "output_type": "stream",
     "text": [
      "C:\\Python310\\lib\\site-packages\\sklearn\\model_selection\\_validation.py:776: UserWarning: Scoring failed. The score on this train-test partition for these parameters will be set to nan. Details: \n",
      "Traceback (most recent call last):\n",
      "  File \"C:\\Python310\\lib\\site-packages\\sklearn\\model_selection\\_validation.py\", line 767, in _score\n",
      "    scores = scorer(estimator, X_test, y_test)\n",
      "  File \"C:\\Python310\\lib\\site-packages\\sklearn\\metrics\\_scorer.py\", line 219, in __call__\n",
      "    return self._score(\n",
      "  File \"C:\\Python310\\lib\\site-packages\\sklearn\\metrics\\_scorer.py\", line 267, in _score\n",
      "    return self._sign * self._score_func(y_true, y_pred, **self._kwargs)\n",
      "  File \"C:\\Python310\\lib\\site-packages\\sklearn\\metrics\\_regression.py\", line 525, in mean_squared_log_error\n",
      "    raise ValueError(\n",
      "ValueError: Mean Squared Logarithmic Error cannot be used when targets contain negative values.\n",
      "\n",
      "  warnings.warn(\n"
     ]
    },
    {
     "name": "stdout",
     "output_type": "stream",
     "text": [
      "[CV 1/5] END alpha_1=0.1, alpha_2=1e-12, lambda_1=1e-12, lambda_2=0.001, tol=0.1;, score=nan total time=   1.0s\n"
     ]
    },
    {
     "name": "stderr",
     "output_type": "stream",
     "text": [
      "C:\\Python310\\lib\\site-packages\\sklearn\\model_selection\\_validation.py:776: UserWarning: Scoring failed. The score on this train-test partition for these parameters will be set to nan. Details: \n",
      "Traceback (most recent call last):\n",
      "  File \"C:\\Python310\\lib\\site-packages\\sklearn\\model_selection\\_validation.py\", line 767, in _score\n",
      "    scores = scorer(estimator, X_test, y_test)\n",
      "  File \"C:\\Python310\\lib\\site-packages\\sklearn\\metrics\\_scorer.py\", line 219, in __call__\n",
      "    return self._score(\n",
      "  File \"C:\\Python310\\lib\\site-packages\\sklearn\\metrics\\_scorer.py\", line 267, in _score\n",
      "    return self._sign * self._score_func(y_true, y_pred, **self._kwargs)\n",
      "  File \"C:\\Python310\\lib\\site-packages\\sklearn\\metrics\\_regression.py\", line 525, in mean_squared_log_error\n",
      "    raise ValueError(\n",
      "ValueError: Mean Squared Logarithmic Error cannot be used when targets contain negative values.\n",
      "\n",
      "  warnings.warn(\n"
     ]
    },
    {
     "name": "stdout",
     "output_type": "stream",
     "text": [
      "[CV 2/5] END alpha_1=0.1, alpha_2=1e-12, lambda_1=1e-12, lambda_2=0.001, tol=0.1;, score=nan total time=   1.0s\n",
      "[CV 3/5] END alpha_1=0.1, alpha_2=1e-12, lambda_1=1e-12, lambda_2=0.001, tol=0.1;, score=-0.274 total time=   1.0s\n"
     ]
    },
    {
     "name": "stderr",
     "output_type": "stream",
     "text": [
      "C:\\Python310\\lib\\site-packages\\sklearn\\model_selection\\_validation.py:776: UserWarning: Scoring failed. The score on this train-test partition for these parameters will be set to nan. Details: \n",
      "Traceback (most recent call last):\n",
      "  File \"C:\\Python310\\lib\\site-packages\\sklearn\\model_selection\\_validation.py\", line 767, in _score\n",
      "    scores = scorer(estimator, X_test, y_test)\n",
      "  File \"C:\\Python310\\lib\\site-packages\\sklearn\\metrics\\_scorer.py\", line 219, in __call__\n",
      "    return self._score(\n",
      "  File \"C:\\Python310\\lib\\site-packages\\sklearn\\metrics\\_scorer.py\", line 267, in _score\n",
      "    return self._sign * self._score_func(y_true, y_pred, **self._kwargs)\n",
      "  File \"C:\\Python310\\lib\\site-packages\\sklearn\\metrics\\_regression.py\", line 525, in mean_squared_log_error\n",
      "    raise ValueError(\n",
      "ValueError: Mean Squared Logarithmic Error cannot be used when targets contain negative values.\n",
      "\n",
      "  warnings.warn(\n"
     ]
    },
    {
     "name": "stdout",
     "output_type": "stream",
     "text": [
      "[CV 4/5] END alpha_1=0.1, alpha_2=1e-12, lambda_1=1e-12, lambda_2=0.001, tol=0.1;, score=nan total time=   0.9s\n"
     ]
    },
    {
     "name": "stderr",
     "output_type": "stream",
     "text": [
      "C:\\Python310\\lib\\site-packages\\sklearn\\model_selection\\_validation.py:776: UserWarning: Scoring failed. The score on this train-test partition for these parameters will be set to nan. Details: \n",
      "Traceback (most recent call last):\n",
      "  File \"C:\\Python310\\lib\\site-packages\\sklearn\\model_selection\\_validation.py\", line 767, in _score\n",
      "    scores = scorer(estimator, X_test, y_test)\n",
      "  File \"C:\\Python310\\lib\\site-packages\\sklearn\\metrics\\_scorer.py\", line 219, in __call__\n",
      "    return self._score(\n",
      "  File \"C:\\Python310\\lib\\site-packages\\sklearn\\metrics\\_scorer.py\", line 267, in _score\n",
      "    return self._sign * self._score_func(y_true, y_pred, **self._kwargs)\n",
      "  File \"C:\\Python310\\lib\\site-packages\\sklearn\\metrics\\_regression.py\", line 525, in mean_squared_log_error\n",
      "    raise ValueError(\n",
      "ValueError: Mean Squared Logarithmic Error cannot be used when targets contain negative values.\n",
      "\n",
      "  warnings.warn(\n"
     ]
    },
    {
     "name": "stdout",
     "output_type": "stream",
     "text": [
      "[CV 5/5] END alpha_1=0.1, alpha_2=1e-12, lambda_1=1e-12, lambda_2=0.001, tol=0.1;, score=nan total time=   0.9s\n"
     ]
    },
    {
     "name": "stderr",
     "output_type": "stream",
     "text": [
      "C:\\Python310\\lib\\site-packages\\sklearn\\model_selection\\_validation.py:776: UserWarning: Scoring failed. The score on this train-test partition for these parameters will be set to nan. Details: \n",
      "Traceback (most recent call last):\n",
      "  File \"C:\\Python310\\lib\\site-packages\\sklearn\\model_selection\\_validation.py\", line 767, in _score\n",
      "    scores = scorer(estimator, X_test, y_test)\n",
      "  File \"C:\\Python310\\lib\\site-packages\\sklearn\\metrics\\_scorer.py\", line 219, in __call__\n",
      "    return self._score(\n",
      "  File \"C:\\Python310\\lib\\site-packages\\sklearn\\metrics\\_scorer.py\", line 267, in _score\n",
      "    return self._sign * self._score_func(y_true, y_pred, **self._kwargs)\n",
      "  File \"C:\\Python310\\lib\\site-packages\\sklearn\\metrics\\_regression.py\", line 525, in mean_squared_log_error\n",
      "    raise ValueError(\n",
      "ValueError: Mean Squared Logarithmic Error cannot be used when targets contain negative values.\n",
      "\n",
      "  warnings.warn(\n"
     ]
    },
    {
     "name": "stdout",
     "output_type": "stream",
     "text": [
      "[CV 1/5] END alpha_1=0.001, alpha_2=0.1, lambda_1=1e-08, lambda_2=0.1, tol=0.1;, score=nan total time=   1.0s\n"
     ]
    },
    {
     "name": "stderr",
     "output_type": "stream",
     "text": [
      "C:\\Python310\\lib\\site-packages\\sklearn\\model_selection\\_validation.py:776: UserWarning: Scoring failed. The score on this train-test partition for these parameters will be set to nan. Details: \n",
      "Traceback (most recent call last):\n",
      "  File \"C:\\Python310\\lib\\site-packages\\sklearn\\model_selection\\_validation.py\", line 767, in _score\n",
      "    scores = scorer(estimator, X_test, y_test)\n",
      "  File \"C:\\Python310\\lib\\site-packages\\sklearn\\metrics\\_scorer.py\", line 219, in __call__\n",
      "    return self._score(\n",
      "  File \"C:\\Python310\\lib\\site-packages\\sklearn\\metrics\\_scorer.py\", line 267, in _score\n",
      "    return self._sign * self._score_func(y_true, y_pred, **self._kwargs)\n",
      "  File \"C:\\Python310\\lib\\site-packages\\sklearn\\metrics\\_regression.py\", line 525, in mean_squared_log_error\n",
      "    raise ValueError(\n",
      "ValueError: Mean Squared Logarithmic Error cannot be used when targets contain negative values.\n",
      "\n",
      "  warnings.warn(\n"
     ]
    },
    {
     "name": "stdout",
     "output_type": "stream",
     "text": [
      "[CV 2/5] END alpha_1=0.001, alpha_2=0.1, lambda_1=1e-08, lambda_2=0.1, tol=0.1;, score=nan total time=   0.9s\n",
      "[CV 3/5] END alpha_1=0.001, alpha_2=0.1, lambda_1=1e-08, lambda_2=0.1, tol=0.1;, score=-0.274 total time=   1.0s\n"
     ]
    },
    {
     "name": "stderr",
     "output_type": "stream",
     "text": [
      "C:\\Python310\\lib\\site-packages\\sklearn\\model_selection\\_validation.py:776: UserWarning: Scoring failed. The score on this train-test partition for these parameters will be set to nan. Details: \n",
      "Traceback (most recent call last):\n",
      "  File \"C:\\Python310\\lib\\site-packages\\sklearn\\model_selection\\_validation.py\", line 767, in _score\n",
      "    scores = scorer(estimator, X_test, y_test)\n",
      "  File \"C:\\Python310\\lib\\site-packages\\sklearn\\metrics\\_scorer.py\", line 219, in __call__\n",
      "    return self._score(\n",
      "  File \"C:\\Python310\\lib\\site-packages\\sklearn\\metrics\\_scorer.py\", line 267, in _score\n",
      "    return self._sign * self._score_func(y_true, y_pred, **self._kwargs)\n",
      "  File \"C:\\Python310\\lib\\site-packages\\sklearn\\metrics\\_regression.py\", line 525, in mean_squared_log_error\n",
      "    raise ValueError(\n",
      "ValueError: Mean Squared Logarithmic Error cannot be used when targets contain negative values.\n",
      "\n",
      "  warnings.warn(\n"
     ]
    },
    {
     "name": "stdout",
     "output_type": "stream",
     "text": [
      "[CV 4/5] END alpha_1=0.001, alpha_2=0.1, lambda_1=1e-08, lambda_2=0.1, tol=0.1;, score=nan total time=   0.9s\n"
     ]
    },
    {
     "name": "stderr",
     "output_type": "stream",
     "text": [
      "C:\\Python310\\lib\\site-packages\\sklearn\\model_selection\\_validation.py:776: UserWarning: Scoring failed. The score on this train-test partition for these parameters will be set to nan. Details: \n",
      "Traceback (most recent call last):\n",
      "  File \"C:\\Python310\\lib\\site-packages\\sklearn\\model_selection\\_validation.py\", line 767, in _score\n",
      "    scores = scorer(estimator, X_test, y_test)\n",
      "  File \"C:\\Python310\\lib\\site-packages\\sklearn\\metrics\\_scorer.py\", line 219, in __call__\n",
      "    return self._score(\n",
      "  File \"C:\\Python310\\lib\\site-packages\\sklearn\\metrics\\_scorer.py\", line 267, in _score\n",
      "    return self._sign * self._score_func(y_true, y_pred, **self._kwargs)\n",
      "  File \"C:\\Python310\\lib\\site-packages\\sklearn\\metrics\\_regression.py\", line 525, in mean_squared_log_error\n",
      "    raise ValueError(\n",
      "ValueError: Mean Squared Logarithmic Error cannot be used when targets contain negative values.\n",
      "\n",
      "  warnings.warn(\n"
     ]
    },
    {
     "name": "stdout",
     "output_type": "stream",
     "text": [
      "[CV 5/5] END alpha_1=0.001, alpha_2=0.1, lambda_1=1e-08, lambda_2=0.1, tol=0.1;, score=nan total time=   0.9s\n",
      "[CV 1/5] END alpha_1=1e-05, alpha_2=0.001, lambda_1=0.1, lambda_2=1e-12, tol=1e-08;, score=-0.393 total time=   0.8s\n",
      "[CV 2/5] END alpha_1=1e-05, alpha_2=0.001, lambda_1=0.1, lambda_2=1e-12, tol=1e-08;, score=-0.377 total time=   0.8s\n",
      "[CV 3/5] END alpha_1=1e-05, alpha_2=0.001, lambda_1=0.1, lambda_2=1e-12, tol=1e-08;, score=-0.387 total time=   0.8s\n",
      "[CV 4/5] END alpha_1=1e-05, alpha_2=0.001, lambda_1=0.1, lambda_2=1e-12, tol=1e-08;, score=-0.394 total time=   0.8s\n",
      "[CV 5/5] END alpha_1=1e-05, alpha_2=0.001, lambda_1=0.1, lambda_2=1e-12, tol=1e-08;, score=-0.401 total time=   0.7s\n"
     ]
    },
    {
     "name": "stderr",
     "output_type": "stream",
     "text": [
      "C:\\Python310\\lib\\site-packages\\sklearn\\model_selection\\_validation.py:776: UserWarning: Scoring failed. The score on this train-test partition for these parameters will be set to nan. Details: \n",
      "Traceback (most recent call last):\n",
      "  File \"C:\\Python310\\lib\\site-packages\\sklearn\\model_selection\\_validation.py\", line 767, in _score\n",
      "    scores = scorer(estimator, X_test, y_test)\n",
      "  File \"C:\\Python310\\lib\\site-packages\\sklearn\\metrics\\_scorer.py\", line 219, in __call__\n",
      "    return self._score(\n",
      "  File \"C:\\Python310\\lib\\site-packages\\sklearn\\metrics\\_scorer.py\", line 267, in _score\n",
      "    return self._sign * self._score_func(y_true, y_pred, **self._kwargs)\n",
      "  File \"C:\\Python310\\lib\\site-packages\\sklearn\\metrics\\_regression.py\", line 525, in mean_squared_log_error\n",
      "    raise ValueError(\n",
      "ValueError: Mean Squared Logarithmic Error cannot be used when targets contain negative values.\n",
      "\n",
      "  warnings.warn(\n"
     ]
    },
    {
     "name": "stdout",
     "output_type": "stream",
     "text": [
      "[CV 1/5] END alpha_1=1e-12, alpha_2=1e-12, lambda_1=1e-12, lambda_2=1e-12, tol=1e-05;, score=nan total time=   1.1s\n"
     ]
    },
    {
     "name": "stderr",
     "output_type": "stream",
     "text": [
      "C:\\Python310\\lib\\site-packages\\sklearn\\model_selection\\_validation.py:776: UserWarning: Scoring failed. The score on this train-test partition for these parameters will be set to nan. Details: \n",
      "Traceback (most recent call last):\n",
      "  File \"C:\\Python310\\lib\\site-packages\\sklearn\\model_selection\\_validation.py\", line 767, in _score\n",
      "    scores = scorer(estimator, X_test, y_test)\n",
      "  File \"C:\\Python310\\lib\\site-packages\\sklearn\\metrics\\_scorer.py\", line 219, in __call__\n",
      "    return self._score(\n",
      "  File \"C:\\Python310\\lib\\site-packages\\sklearn\\metrics\\_scorer.py\", line 267, in _score\n",
      "    return self._sign * self._score_func(y_true, y_pred, **self._kwargs)\n",
      "  File \"C:\\Python310\\lib\\site-packages\\sklearn\\metrics\\_regression.py\", line 525, in mean_squared_log_error\n",
      "    raise ValueError(\n",
      "ValueError: Mean Squared Logarithmic Error cannot be used when targets contain negative values.\n",
      "\n",
      "  warnings.warn(\n"
     ]
    },
    {
     "name": "stdout",
     "output_type": "stream",
     "text": [
      "[CV 2/5] END alpha_1=1e-12, alpha_2=1e-12, lambda_1=1e-12, lambda_2=1e-12, tol=1e-05;, score=nan total time=   0.9s\n",
      "[CV 3/5] END alpha_1=1e-12, alpha_2=1e-12, lambda_1=1e-12, lambda_2=1e-12, tol=1e-05;, score=-0.274 total time=   1.2s\n"
     ]
    },
    {
     "name": "stderr",
     "output_type": "stream",
     "text": [
      "C:\\Python310\\lib\\site-packages\\sklearn\\model_selection\\_validation.py:776: UserWarning: Scoring failed. The score on this train-test partition for these parameters will be set to nan. Details: \n",
      "Traceback (most recent call last):\n",
      "  File \"C:\\Python310\\lib\\site-packages\\sklearn\\model_selection\\_validation.py\", line 767, in _score\n",
      "    scores = scorer(estimator, X_test, y_test)\n",
      "  File \"C:\\Python310\\lib\\site-packages\\sklearn\\metrics\\_scorer.py\", line 219, in __call__\n",
      "    return self._score(\n",
      "  File \"C:\\Python310\\lib\\site-packages\\sklearn\\metrics\\_scorer.py\", line 267, in _score\n",
      "    return self._sign * self._score_func(y_true, y_pred, **self._kwargs)\n",
      "  File \"C:\\Python310\\lib\\site-packages\\sklearn\\metrics\\_regression.py\", line 525, in mean_squared_log_error\n",
      "    raise ValueError(\n",
      "ValueError: Mean Squared Logarithmic Error cannot be used when targets contain negative values.\n",
      "\n",
      "  warnings.warn(\n"
     ]
    },
    {
     "name": "stdout",
     "output_type": "stream",
     "text": [
      "[CV 4/5] END alpha_1=1e-12, alpha_2=1e-12, lambda_1=1e-12, lambda_2=1e-12, tol=1e-05;, score=nan total time=   1.1s\n"
     ]
    },
    {
     "name": "stderr",
     "output_type": "stream",
     "text": [
      "C:\\Python310\\lib\\site-packages\\sklearn\\model_selection\\_validation.py:776: UserWarning: Scoring failed. The score on this train-test partition for these parameters will be set to nan. Details: \n",
      "Traceback (most recent call last):\n",
      "  File \"C:\\Python310\\lib\\site-packages\\sklearn\\model_selection\\_validation.py\", line 767, in _score\n",
      "    scores = scorer(estimator, X_test, y_test)\n",
      "  File \"C:\\Python310\\lib\\site-packages\\sklearn\\metrics\\_scorer.py\", line 219, in __call__\n",
      "    return self._score(\n",
      "  File \"C:\\Python310\\lib\\site-packages\\sklearn\\metrics\\_scorer.py\", line 267, in _score\n",
      "    return self._sign * self._score_func(y_true, y_pred, **self._kwargs)\n",
      "  File \"C:\\Python310\\lib\\site-packages\\sklearn\\metrics\\_regression.py\", line 525, in mean_squared_log_error\n",
      "    raise ValueError(\n",
      "ValueError: Mean Squared Logarithmic Error cannot be used when targets contain negative values.\n",
      "\n",
      "  warnings.warn(\n"
     ]
    },
    {
     "name": "stdout",
     "output_type": "stream",
     "text": [
      "[CV 5/5] END alpha_1=1e-12, alpha_2=1e-12, lambda_1=1e-12, lambda_2=1e-12, tol=1e-05;, score=nan total time=   1.0s\n",
      "[CV 1/5] END alpha_1=0.1, alpha_2=0.1, lambda_1=0.1, lambda_2=1e-05, tol=1e-08;, score=-0.393 total time=   0.8s\n",
      "[CV 2/5] END alpha_1=0.1, alpha_2=0.1, lambda_1=0.1, lambda_2=1e-05, tol=1e-08;, score=-0.377 total time=   0.8s\n",
      "[CV 3/5] END alpha_1=0.1, alpha_2=0.1, lambda_1=0.1, lambda_2=1e-05, tol=1e-08;, score=-0.387 total time=   0.7s\n",
      "[CV 4/5] END alpha_1=0.1, alpha_2=0.1, lambda_1=0.1, lambda_2=1e-05, tol=1e-08;, score=-0.394 total time=   0.7s\n",
      "[CV 5/5] END alpha_1=0.1, alpha_2=0.1, lambda_1=0.1, lambda_2=1e-05, tol=1e-08;, score=-0.401 total time=   0.8s\n"
     ]
    },
    {
     "name": "stderr",
     "output_type": "stream",
     "text": [
      "C:\\Python310\\lib\\site-packages\\sklearn\\model_selection\\_validation.py:776: UserWarning: Scoring failed. The score on this train-test partition for these parameters will be set to nan. Details: \n",
      "Traceback (most recent call last):\n",
      "  File \"C:\\Python310\\lib\\site-packages\\sklearn\\model_selection\\_validation.py\", line 767, in _score\n",
      "    scores = scorer(estimator, X_test, y_test)\n",
      "  File \"C:\\Python310\\lib\\site-packages\\sklearn\\metrics\\_scorer.py\", line 219, in __call__\n",
      "    return self._score(\n",
      "  File \"C:\\Python310\\lib\\site-packages\\sklearn\\metrics\\_scorer.py\", line 267, in _score\n",
      "    return self._sign * self._score_func(y_true, y_pred, **self._kwargs)\n",
      "  File \"C:\\Python310\\lib\\site-packages\\sklearn\\metrics\\_regression.py\", line 525, in mean_squared_log_error\n",
      "    raise ValueError(\n",
      "ValueError: Mean Squared Logarithmic Error cannot be used when targets contain negative values.\n",
      "\n",
      "  warnings.warn(\n"
     ]
    },
    {
     "name": "stdout",
     "output_type": "stream",
     "text": [
      "[CV 1/5] END alpha_1=1e-12, alpha_2=0.001, lambda_1=1e-05, lambda_2=1e-12, tol=1e-08;, score=nan total time=   2.7s\n"
     ]
    },
    {
     "name": "stderr",
     "output_type": "stream",
     "text": [
      "C:\\Python310\\lib\\site-packages\\sklearn\\model_selection\\_validation.py:776: UserWarning: Scoring failed. The score on this train-test partition for these parameters will be set to nan. Details: \n",
      "Traceback (most recent call last):\n",
      "  File \"C:\\Python310\\lib\\site-packages\\sklearn\\model_selection\\_validation.py\", line 767, in _score\n",
      "    scores = scorer(estimator, X_test, y_test)\n",
      "  File \"C:\\Python310\\lib\\site-packages\\sklearn\\metrics\\_scorer.py\", line 219, in __call__\n",
      "    return self._score(\n",
      "  File \"C:\\Python310\\lib\\site-packages\\sklearn\\metrics\\_scorer.py\", line 267, in _score\n",
      "    return self._sign * self._score_func(y_true, y_pred, **self._kwargs)\n",
      "  File \"C:\\Python310\\lib\\site-packages\\sklearn\\metrics\\_regression.py\", line 525, in mean_squared_log_error\n",
      "    raise ValueError(\n",
      "ValueError: Mean Squared Logarithmic Error cannot be used when targets contain negative values.\n",
      "\n",
      "  warnings.warn(\n"
     ]
    },
    {
     "name": "stdout",
     "output_type": "stream",
     "text": [
      "[CV 2/5] END alpha_1=1e-12, alpha_2=0.001, lambda_1=1e-05, lambda_2=1e-12, tol=1e-08;, score=nan total time=   1.1s\n",
      "[CV 3/5] END alpha_1=1e-12, alpha_2=0.001, lambda_1=1e-05, lambda_2=1e-12, tol=1e-08;, score=-0.274 total time=   2.6s\n"
     ]
    },
    {
     "name": "stderr",
     "output_type": "stream",
     "text": [
      "C:\\Python310\\lib\\site-packages\\sklearn\\model_selection\\_validation.py:776: UserWarning: Scoring failed. The score on this train-test partition for these parameters will be set to nan. Details: \n",
      "Traceback (most recent call last):\n",
      "  File \"C:\\Python310\\lib\\site-packages\\sklearn\\model_selection\\_validation.py\", line 767, in _score\n",
      "    scores = scorer(estimator, X_test, y_test)\n",
      "  File \"C:\\Python310\\lib\\site-packages\\sklearn\\metrics\\_scorer.py\", line 219, in __call__\n",
      "    return self._score(\n",
      "  File \"C:\\Python310\\lib\\site-packages\\sklearn\\metrics\\_scorer.py\", line 267, in _score\n",
      "    return self._sign * self._score_func(y_true, y_pred, **self._kwargs)\n",
      "  File \"C:\\Python310\\lib\\site-packages\\sklearn\\metrics\\_regression.py\", line 525, in mean_squared_log_error\n",
      "    raise ValueError(\n",
      "ValueError: Mean Squared Logarithmic Error cannot be used when targets contain negative values.\n",
      "\n",
      "  warnings.warn(\n"
     ]
    },
    {
     "name": "stdout",
     "output_type": "stream",
     "text": [
      "[CV 4/5] END alpha_1=1e-12, alpha_2=0.001, lambda_1=1e-05, lambda_2=1e-12, tol=1e-08;, score=nan total time=   2.6s\n"
     ]
    },
    {
     "name": "stderr",
     "output_type": "stream",
     "text": [
      "C:\\Python310\\lib\\site-packages\\sklearn\\model_selection\\_validation.py:776: UserWarning: Scoring failed. The score on this train-test partition for these parameters will be set to nan. Details: \n",
      "Traceback (most recent call last):\n",
      "  File \"C:\\Python310\\lib\\site-packages\\sklearn\\model_selection\\_validation.py\", line 767, in _score\n",
      "    scores = scorer(estimator, X_test, y_test)\n",
      "  File \"C:\\Python310\\lib\\site-packages\\sklearn\\metrics\\_scorer.py\", line 219, in __call__\n",
      "    return self._score(\n",
      "  File \"C:\\Python310\\lib\\site-packages\\sklearn\\metrics\\_scorer.py\", line 267, in _score\n",
      "    return self._sign * self._score_func(y_true, y_pred, **self._kwargs)\n",
      "  File \"C:\\Python310\\lib\\site-packages\\sklearn\\metrics\\_regression.py\", line 525, in mean_squared_log_error\n",
      "    raise ValueError(\n",
      "ValueError: Mean Squared Logarithmic Error cannot be used when targets contain negative values.\n",
      "\n",
      "  warnings.warn(\n"
     ]
    },
    {
     "name": "stdout",
     "output_type": "stream",
     "text": [
      "[CV 5/5] END alpha_1=1e-12, alpha_2=0.001, lambda_1=1e-05, lambda_2=1e-12, tol=1e-08;, score=nan total time=   2.6s\n",
      "[CV 1/5] END alpha_1=1e-08, alpha_2=1e-05, lambda_1=0.001, lambda_2=1e-12, tol=0.1;, score=-0.393 total time=   0.7s\n",
      "[CV 2/5] END alpha_1=1e-08, alpha_2=1e-05, lambda_1=0.001, lambda_2=1e-12, tol=0.1;, score=-0.377 total time=   0.8s\n",
      "[CV 3/5] END alpha_1=1e-08, alpha_2=1e-05, lambda_1=0.001, lambda_2=1e-12, tol=0.1;, score=-0.387 total time=   0.8s\n",
      "[CV 4/5] END alpha_1=1e-08, alpha_2=1e-05, lambda_1=0.001, lambda_2=1e-12, tol=0.1;, score=-0.394 total time=   0.7s\n",
      "[CV 5/5] END alpha_1=1e-08, alpha_2=1e-05, lambda_1=0.001, lambda_2=1e-12, tol=0.1;, score=-0.401 total time=   0.7s\n",
      "[CV 1/5] END alpha_1=0.1, alpha_2=1e-08, lambda_1=0.1, lambda_2=1e-08, tol=1e-08;, score=-0.393 total time=   0.8s\n",
      "[CV 2/5] END alpha_1=0.1, alpha_2=1e-08, lambda_1=0.1, lambda_2=1e-08, tol=1e-08;, score=-0.377 total time=   0.7s\n",
      "[CV 3/5] END alpha_1=0.1, alpha_2=1e-08, lambda_1=0.1, lambda_2=1e-08, tol=1e-08;, score=-0.387 total time=   0.8s\n",
      "[CV 4/5] END alpha_1=0.1, alpha_2=1e-08, lambda_1=0.1, lambda_2=1e-08, tol=1e-08;, score=-0.394 total time=   0.7s\n",
      "[CV 5/5] END alpha_1=0.1, alpha_2=1e-08, lambda_1=0.1, lambda_2=1e-08, tol=1e-08;, score=-0.401 total time=   0.7s\n",
      "[CV 1/5] END alpha_1=1e-08, alpha_2=1e-08, lambda_1=0.1, lambda_2=0.1, tol=1e-05;, score=-0.393 total time=   0.8s\n",
      "[CV 2/5] END alpha_1=1e-08, alpha_2=1e-08, lambda_1=0.1, lambda_2=0.1, tol=1e-05;, score=-0.377 total time=   0.8s\n",
      "[CV 3/5] END alpha_1=1e-08, alpha_2=1e-08, lambda_1=0.1, lambda_2=0.1, tol=1e-05;, score=-0.387 total time=   0.7s\n",
      "[CV 4/5] END alpha_1=1e-08, alpha_2=1e-08, lambda_1=0.1, lambda_2=0.1, tol=1e-05;, score=-0.394 total time=   0.8s\n",
      "[CV 5/5] END alpha_1=1e-08, alpha_2=1e-08, lambda_1=0.1, lambda_2=0.1, tol=1e-05;, score=-0.401 total time=   0.8s\n",
      "[CV 1/5] END alpha_1=0.1, alpha_2=0.001, lambda_1=0.1, lambda_2=0.1, tol=0.001;, score=-0.393 total time=   0.7s\n",
      "[CV 2/5] END alpha_1=0.1, alpha_2=0.001, lambda_1=0.1, lambda_2=0.1, tol=0.001;, score=-0.377 total time=   0.7s\n",
      "[CV 3/5] END alpha_1=0.1, alpha_2=0.001, lambda_1=0.1, lambda_2=0.1, tol=0.001;, score=-0.387 total time=   0.7s\n",
      "[CV 4/5] END alpha_1=0.1, alpha_2=0.001, lambda_1=0.1, lambda_2=0.1, tol=0.001;, score=-0.394 total time=   0.7s\n",
      "[CV 5/5] END alpha_1=0.1, alpha_2=0.001, lambda_1=0.1, lambda_2=0.1, tol=0.001;, score=-0.401 total time=   0.8s\n"
     ]
    },
    {
     "name": "stderr",
     "output_type": "stream",
     "text": [
      "C:\\Python310\\lib\\site-packages\\sklearn\\model_selection\\_validation.py:776: UserWarning: Scoring failed. The score on this train-test partition for these parameters will be set to nan. Details: \n",
      "Traceback (most recent call last):\n",
      "  File \"C:\\Python310\\lib\\site-packages\\sklearn\\model_selection\\_validation.py\", line 767, in _score\n",
      "    scores = scorer(estimator, X_test, y_test)\n",
      "  File \"C:\\Python310\\lib\\site-packages\\sklearn\\metrics\\_scorer.py\", line 219, in __call__\n",
      "    return self._score(\n",
      "  File \"C:\\Python310\\lib\\site-packages\\sklearn\\metrics\\_scorer.py\", line 267, in _score\n",
      "    return self._sign * self._score_func(y_true, y_pred, **self._kwargs)\n",
      "  File \"C:\\Python310\\lib\\site-packages\\sklearn\\metrics\\_regression.py\", line 525, in mean_squared_log_error\n",
      "    raise ValueError(\n",
      "ValueError: Mean Squared Logarithmic Error cannot be used when targets contain negative values.\n",
      "\n",
      "  warnings.warn(\n"
     ]
    },
    {
     "name": "stdout",
     "output_type": "stream",
     "text": [
      "[CV 1/5] END alpha_1=1e-08, alpha_2=0.1, lambda_1=1e-05, lambda_2=0.001, tol=1e-05;, score=nan total time=   1.1s\n"
     ]
    },
    {
     "name": "stderr",
     "output_type": "stream",
     "text": [
      "C:\\Python310\\lib\\site-packages\\sklearn\\model_selection\\_validation.py:776: UserWarning: Scoring failed. The score on this train-test partition for these parameters will be set to nan. Details: \n",
      "Traceback (most recent call last):\n",
      "  File \"C:\\Python310\\lib\\site-packages\\sklearn\\model_selection\\_validation.py\", line 767, in _score\n",
      "    scores = scorer(estimator, X_test, y_test)\n",
      "  File \"C:\\Python310\\lib\\site-packages\\sklearn\\metrics\\_scorer.py\", line 219, in __call__\n",
      "    return self._score(\n",
      "  File \"C:\\Python310\\lib\\site-packages\\sklearn\\metrics\\_scorer.py\", line 267, in _score\n",
      "    return self._sign * self._score_func(y_true, y_pred, **self._kwargs)\n",
      "  File \"C:\\Python310\\lib\\site-packages\\sklearn\\metrics\\_regression.py\", line 525, in mean_squared_log_error\n",
      "    raise ValueError(\n",
      "ValueError: Mean Squared Logarithmic Error cannot be used when targets contain negative values.\n",
      "\n",
      "  warnings.warn(\n"
     ]
    },
    {
     "name": "stdout",
     "output_type": "stream",
     "text": [
      "[CV 2/5] END alpha_1=1e-08, alpha_2=0.1, lambda_1=1e-05, lambda_2=0.001, tol=1e-05;, score=nan total time=   1.0s\n",
      "[CV 3/5] END alpha_1=1e-08, alpha_2=0.1, lambda_1=1e-05, lambda_2=0.001, tol=1e-05;, score=-0.274 total time=   1.1s\n"
     ]
    },
    {
     "name": "stderr",
     "output_type": "stream",
     "text": [
      "C:\\Python310\\lib\\site-packages\\sklearn\\model_selection\\_validation.py:776: UserWarning: Scoring failed. The score on this train-test partition for these parameters will be set to nan. Details: \n",
      "Traceback (most recent call last):\n",
      "  File \"C:\\Python310\\lib\\site-packages\\sklearn\\model_selection\\_validation.py\", line 767, in _score\n",
      "    scores = scorer(estimator, X_test, y_test)\n",
      "  File \"C:\\Python310\\lib\\site-packages\\sklearn\\metrics\\_scorer.py\", line 219, in __call__\n",
      "    return self._score(\n",
      "  File \"C:\\Python310\\lib\\site-packages\\sklearn\\metrics\\_scorer.py\", line 267, in _score\n",
      "    return self._sign * self._score_func(y_true, y_pred, **self._kwargs)\n",
      "  File \"C:\\Python310\\lib\\site-packages\\sklearn\\metrics\\_regression.py\", line 525, in mean_squared_log_error\n",
      "    raise ValueError(\n",
      "ValueError: Mean Squared Logarithmic Error cannot be used when targets contain negative values.\n",
      "\n",
      "  warnings.warn(\n"
     ]
    },
    {
     "name": "stdout",
     "output_type": "stream",
     "text": [
      "[CV 4/5] END alpha_1=1e-08, alpha_2=0.1, lambda_1=1e-05, lambda_2=0.001, tol=1e-05;, score=nan total time=   1.0s\n"
     ]
    },
    {
     "name": "stderr",
     "output_type": "stream",
     "text": [
      "C:\\Python310\\lib\\site-packages\\sklearn\\model_selection\\_validation.py:776: UserWarning: Scoring failed. The score on this train-test partition for these parameters will be set to nan. Details: \n",
      "Traceback (most recent call last):\n",
      "  File \"C:\\Python310\\lib\\site-packages\\sklearn\\model_selection\\_validation.py\", line 767, in _score\n",
      "    scores = scorer(estimator, X_test, y_test)\n",
      "  File \"C:\\Python310\\lib\\site-packages\\sklearn\\metrics\\_scorer.py\", line 219, in __call__\n",
      "    return self._score(\n",
      "  File \"C:\\Python310\\lib\\site-packages\\sklearn\\metrics\\_scorer.py\", line 267, in _score\n",
      "    return self._sign * self._score_func(y_true, y_pred, **self._kwargs)\n",
      "  File \"C:\\Python310\\lib\\site-packages\\sklearn\\metrics\\_regression.py\", line 525, in mean_squared_log_error\n",
      "    raise ValueError(\n",
      "ValueError: Mean Squared Logarithmic Error cannot be used when targets contain negative values.\n",
      "\n",
      "  warnings.warn(\n"
     ]
    },
    {
     "name": "stdout",
     "output_type": "stream",
     "text": [
      "[CV 5/5] END alpha_1=1e-08, alpha_2=0.1, lambda_1=1e-05, lambda_2=0.001, tol=1e-05;, score=nan total time=   0.9s\n",
      "[CV 1/5] END alpha_1=0.1, alpha_2=0.1, lambda_1=0.001, lambda_2=1e-12, tol=0.1;, score=-0.393 total time=   0.7s\n",
      "[CV 2/5] END alpha_1=0.1, alpha_2=0.1, lambda_1=0.001, lambda_2=1e-12, tol=0.1;, score=-0.377 total time=   0.7s\n",
      "[CV 3/5] END alpha_1=0.1, alpha_2=0.1, lambda_1=0.001, lambda_2=1e-12, tol=0.1;, score=-0.387 total time=   0.8s\n",
      "[CV 4/5] END alpha_1=0.1, alpha_2=0.1, lambda_1=0.001, lambda_2=1e-12, tol=0.1;, score=-0.394 total time=   0.7s\n",
      "[CV 5/5] END alpha_1=0.1, alpha_2=0.1, lambda_1=0.001, lambda_2=1e-12, tol=0.1;, score=-0.401 total time=   0.7s\n"
     ]
    },
    {
     "name": "stderr",
     "output_type": "stream",
     "text": [
      "C:\\Python310\\lib\\site-packages\\sklearn\\model_selection\\_validation.py:776: UserWarning: Scoring failed. The score on this train-test partition for these parameters will be set to nan. Details: \n",
      "Traceback (most recent call last):\n",
      "  File \"C:\\Python310\\lib\\site-packages\\sklearn\\model_selection\\_validation.py\", line 767, in _score\n",
      "    scores = scorer(estimator, X_test, y_test)\n",
      "  File \"C:\\Python310\\lib\\site-packages\\sklearn\\metrics\\_scorer.py\", line 219, in __call__\n",
      "    return self._score(\n",
      "  File \"C:\\Python310\\lib\\site-packages\\sklearn\\metrics\\_scorer.py\", line 267, in _score\n",
      "    return self._sign * self._score_func(y_true, y_pred, **self._kwargs)\n",
      "  File \"C:\\Python310\\lib\\site-packages\\sklearn\\metrics\\_regression.py\", line 525, in mean_squared_log_error\n",
      "    raise ValueError(\n",
      "ValueError: Mean Squared Logarithmic Error cannot be used when targets contain negative values.\n",
      "\n",
      "  warnings.warn(\n"
     ]
    },
    {
     "name": "stdout",
     "output_type": "stream",
     "text": [
      "[CV 1/5] END alpha_1=1e-05, alpha_2=1e-08, lambda_1=1e-12, lambda_2=1e-08, tol=1e-12;, score=nan total time=   2.5s\n"
     ]
    },
    {
     "name": "stderr",
     "output_type": "stream",
     "text": [
      "C:\\Python310\\lib\\site-packages\\sklearn\\model_selection\\_validation.py:776: UserWarning: Scoring failed. The score on this train-test partition for these parameters will be set to nan. Details: \n",
      "Traceback (most recent call last):\n",
      "  File \"C:\\Python310\\lib\\site-packages\\sklearn\\model_selection\\_validation.py\", line 767, in _score\n",
      "    scores = scorer(estimator, X_test, y_test)\n",
      "  File \"C:\\Python310\\lib\\site-packages\\sklearn\\metrics\\_scorer.py\", line 219, in __call__\n",
      "    return self._score(\n",
      "  File \"C:\\Python310\\lib\\site-packages\\sklearn\\metrics\\_scorer.py\", line 267, in _score\n",
      "    return self._sign * self._score_func(y_true, y_pred, **self._kwargs)\n",
      "  File \"C:\\Python310\\lib\\site-packages\\sklearn\\metrics\\_regression.py\", line 525, in mean_squared_log_error\n",
      "    raise ValueError(\n",
      "ValueError: Mean Squared Logarithmic Error cannot be used when targets contain negative values.\n",
      "\n",
      "  warnings.warn(\n"
     ]
    },
    {
     "name": "stdout",
     "output_type": "stream",
     "text": [
      "[CV 2/5] END alpha_1=1e-05, alpha_2=1e-08, lambda_1=1e-12, lambda_2=1e-08, tol=1e-12;, score=nan total time=   1.0s\n",
      "[CV 3/5] END alpha_1=1e-05, alpha_2=1e-08, lambda_1=1e-12, lambda_2=1e-08, tol=1e-12;, score=-0.274 total time=   2.4s\n"
     ]
    },
    {
     "name": "stderr",
     "output_type": "stream",
     "text": [
      "C:\\Python310\\lib\\site-packages\\sklearn\\model_selection\\_validation.py:776: UserWarning: Scoring failed. The score on this train-test partition for these parameters will be set to nan. Details: \n",
      "Traceback (most recent call last):\n",
      "  File \"C:\\Python310\\lib\\site-packages\\sklearn\\model_selection\\_validation.py\", line 767, in _score\n",
      "    scores = scorer(estimator, X_test, y_test)\n",
      "  File \"C:\\Python310\\lib\\site-packages\\sklearn\\metrics\\_scorer.py\", line 219, in __call__\n",
      "    return self._score(\n",
      "  File \"C:\\Python310\\lib\\site-packages\\sklearn\\metrics\\_scorer.py\", line 267, in _score\n",
      "    return self._sign * self._score_func(y_true, y_pred, **self._kwargs)\n",
      "  File \"C:\\Python310\\lib\\site-packages\\sklearn\\metrics\\_regression.py\", line 525, in mean_squared_log_error\n",
      "    raise ValueError(\n",
      "ValueError: Mean Squared Logarithmic Error cannot be used when targets contain negative values.\n",
      "\n",
      "  warnings.warn(\n"
     ]
    },
    {
     "name": "stdout",
     "output_type": "stream",
     "text": [
      "[CV 4/5] END alpha_1=1e-05, alpha_2=1e-08, lambda_1=1e-12, lambda_2=1e-08, tol=1e-12;, score=nan total time=   1.1s\n"
     ]
    },
    {
     "name": "stderr",
     "output_type": "stream",
     "text": [
      "C:\\Python310\\lib\\site-packages\\sklearn\\model_selection\\_validation.py:776: UserWarning: Scoring failed. The score on this train-test partition for these parameters will be set to nan. Details: \n",
      "Traceback (most recent call last):\n",
      "  File \"C:\\Python310\\lib\\site-packages\\sklearn\\model_selection\\_validation.py\", line 767, in _score\n",
      "    scores = scorer(estimator, X_test, y_test)\n",
      "  File \"C:\\Python310\\lib\\site-packages\\sklearn\\metrics\\_scorer.py\", line 219, in __call__\n",
      "    return self._score(\n",
      "  File \"C:\\Python310\\lib\\site-packages\\sklearn\\metrics\\_scorer.py\", line 267, in _score\n",
      "    return self._sign * self._score_func(y_true, y_pred, **self._kwargs)\n",
      "  File \"C:\\Python310\\lib\\site-packages\\sklearn\\metrics\\_regression.py\", line 525, in mean_squared_log_error\n",
      "    raise ValueError(\n",
      "ValueError: Mean Squared Logarithmic Error cannot be used when targets contain negative values.\n",
      "\n",
      "  warnings.warn(\n"
     ]
    },
    {
     "name": "stdout",
     "output_type": "stream",
     "text": [
      "[CV 5/5] END alpha_1=1e-05, alpha_2=1e-08, lambda_1=1e-12, lambda_2=1e-08, tol=1e-12;, score=nan total time=   2.5s\n"
     ]
    },
    {
     "name": "stderr",
     "output_type": "stream",
     "text": [
      "C:\\Python310\\lib\\site-packages\\sklearn\\model_selection\\_validation.py:776: UserWarning: Scoring failed. The score on this train-test partition for these parameters will be set to nan. Details: \n",
      "Traceback (most recent call last):\n",
      "  File \"C:\\Python310\\lib\\site-packages\\sklearn\\model_selection\\_validation.py\", line 767, in _score\n",
      "    scores = scorer(estimator, X_test, y_test)\n",
      "  File \"C:\\Python310\\lib\\site-packages\\sklearn\\metrics\\_scorer.py\", line 219, in __call__\n",
      "    return self._score(\n",
      "  File \"C:\\Python310\\lib\\site-packages\\sklearn\\metrics\\_scorer.py\", line 267, in _score\n",
      "    return self._sign * self._score_func(y_true, y_pred, **self._kwargs)\n",
      "  File \"C:\\Python310\\lib\\site-packages\\sklearn\\metrics\\_regression.py\", line 525, in mean_squared_log_error\n",
      "    raise ValueError(\n",
      "ValueError: Mean Squared Logarithmic Error cannot be used when targets contain negative values.\n",
      "\n",
      "  warnings.warn(\n"
     ]
    },
    {
     "name": "stdout",
     "output_type": "stream",
     "text": [
      "[CV 1/5] END alpha_1=0.001, alpha_2=1e-12, lambda_1=1e-12, lambda_2=0.1, tol=0.001;, score=nan total time=   1.0s\n"
     ]
    },
    {
     "name": "stderr",
     "output_type": "stream",
     "text": [
      "C:\\Python310\\lib\\site-packages\\sklearn\\model_selection\\_validation.py:776: UserWarning: Scoring failed. The score on this train-test partition for these parameters will be set to nan. Details: \n",
      "Traceback (most recent call last):\n",
      "  File \"C:\\Python310\\lib\\site-packages\\sklearn\\model_selection\\_validation.py\", line 767, in _score\n",
      "    scores = scorer(estimator, X_test, y_test)\n",
      "  File \"C:\\Python310\\lib\\site-packages\\sklearn\\metrics\\_scorer.py\", line 219, in __call__\n",
      "    return self._score(\n",
      "  File \"C:\\Python310\\lib\\site-packages\\sklearn\\metrics\\_scorer.py\", line 267, in _score\n",
      "    return self._sign * self._score_func(y_true, y_pred, **self._kwargs)\n",
      "  File \"C:\\Python310\\lib\\site-packages\\sklearn\\metrics\\_regression.py\", line 525, in mean_squared_log_error\n",
      "    raise ValueError(\n",
      "ValueError: Mean Squared Logarithmic Error cannot be used when targets contain negative values.\n",
      "\n",
      "  warnings.warn(\n"
     ]
    },
    {
     "name": "stdout",
     "output_type": "stream",
     "text": [
      "[CV 2/5] END alpha_1=0.001, alpha_2=1e-12, lambda_1=1e-12, lambda_2=0.1, tol=0.001;, score=nan total time=   0.9s\n",
      "[CV 3/5] END alpha_1=0.001, alpha_2=1e-12, lambda_1=1e-12, lambda_2=0.1, tol=0.001;, score=-0.274 total time=   1.1s\n"
     ]
    },
    {
     "name": "stderr",
     "output_type": "stream",
     "text": [
      "C:\\Python310\\lib\\site-packages\\sklearn\\model_selection\\_validation.py:776: UserWarning: Scoring failed. The score on this train-test partition for these parameters will be set to nan. Details: \n",
      "Traceback (most recent call last):\n",
      "  File \"C:\\Python310\\lib\\site-packages\\sklearn\\model_selection\\_validation.py\", line 767, in _score\n",
      "    scores = scorer(estimator, X_test, y_test)\n",
      "  File \"C:\\Python310\\lib\\site-packages\\sklearn\\metrics\\_scorer.py\", line 219, in __call__\n",
      "    return self._score(\n",
      "  File \"C:\\Python310\\lib\\site-packages\\sklearn\\metrics\\_scorer.py\", line 267, in _score\n",
      "    return self._sign * self._score_func(y_true, y_pred, **self._kwargs)\n",
      "  File \"C:\\Python310\\lib\\site-packages\\sklearn\\metrics\\_regression.py\", line 525, in mean_squared_log_error\n",
      "    raise ValueError(\n",
      "ValueError: Mean Squared Logarithmic Error cannot be used when targets contain negative values.\n",
      "\n",
      "  warnings.warn(\n"
     ]
    },
    {
     "name": "stdout",
     "output_type": "stream",
     "text": [
      "[CV 4/5] END alpha_1=0.001, alpha_2=1e-12, lambda_1=1e-12, lambda_2=0.1, tol=0.001;, score=nan total time=   0.9s\n"
     ]
    },
    {
     "name": "stderr",
     "output_type": "stream",
     "text": [
      "C:\\Python310\\lib\\site-packages\\sklearn\\model_selection\\_validation.py:776: UserWarning: Scoring failed. The score on this train-test partition for these parameters will be set to nan. Details: \n",
      "Traceback (most recent call last):\n",
      "  File \"C:\\Python310\\lib\\site-packages\\sklearn\\model_selection\\_validation.py\", line 767, in _score\n",
      "    scores = scorer(estimator, X_test, y_test)\n",
      "  File \"C:\\Python310\\lib\\site-packages\\sklearn\\metrics\\_scorer.py\", line 219, in __call__\n",
      "    return self._score(\n",
      "  File \"C:\\Python310\\lib\\site-packages\\sklearn\\metrics\\_scorer.py\", line 267, in _score\n",
      "    return self._sign * self._score_func(y_true, y_pred, **self._kwargs)\n",
      "  File \"C:\\Python310\\lib\\site-packages\\sklearn\\metrics\\_regression.py\", line 525, in mean_squared_log_error\n",
      "    raise ValueError(\n",
      "ValueError: Mean Squared Logarithmic Error cannot be used when targets contain negative values.\n",
      "\n",
      "  warnings.warn(\n"
     ]
    },
    {
     "name": "stdout",
     "output_type": "stream",
     "text": [
      "[CV 5/5] END alpha_1=0.001, alpha_2=1e-12, lambda_1=1e-12, lambda_2=0.1, tol=0.001;, score=nan total time=   0.9s\n"
     ]
    },
    {
     "name": "stderr",
     "output_type": "stream",
     "text": [
      "C:\\Python310\\lib\\site-packages\\sklearn\\model_selection\\_validation.py:776: UserWarning: Scoring failed. The score on this train-test partition for these parameters will be set to nan. Details: \n",
      "Traceback (most recent call last):\n",
      "  File \"C:\\Python310\\lib\\site-packages\\sklearn\\model_selection\\_validation.py\", line 767, in _score\n",
      "    scores = scorer(estimator, X_test, y_test)\n",
      "  File \"C:\\Python310\\lib\\site-packages\\sklearn\\metrics\\_scorer.py\", line 219, in __call__\n",
      "    return self._score(\n",
      "  File \"C:\\Python310\\lib\\site-packages\\sklearn\\metrics\\_scorer.py\", line 267, in _score\n",
      "    return self._sign * self._score_func(y_true, y_pred, **self._kwargs)\n",
      "  File \"C:\\Python310\\lib\\site-packages\\sklearn\\metrics\\_regression.py\", line 525, in mean_squared_log_error\n",
      "    raise ValueError(\n",
      "ValueError: Mean Squared Logarithmic Error cannot be used when targets contain negative values.\n",
      "\n",
      "  warnings.warn(\n"
     ]
    },
    {
     "name": "stdout",
     "output_type": "stream",
     "text": [
      "[CV 1/5] END alpha_1=1e-08, alpha_2=0.1, lambda_1=1e-12, lambda_2=1e-08, tol=0.001;, score=nan total time=   1.0s\n"
     ]
    },
    {
     "name": "stderr",
     "output_type": "stream",
     "text": [
      "C:\\Python310\\lib\\site-packages\\sklearn\\model_selection\\_validation.py:776: UserWarning: Scoring failed. The score on this train-test partition for these parameters will be set to nan. Details: \n",
      "Traceback (most recent call last):\n",
      "  File \"C:\\Python310\\lib\\site-packages\\sklearn\\model_selection\\_validation.py\", line 767, in _score\n",
      "    scores = scorer(estimator, X_test, y_test)\n",
      "  File \"C:\\Python310\\lib\\site-packages\\sklearn\\metrics\\_scorer.py\", line 219, in __call__\n",
      "    return self._score(\n",
      "  File \"C:\\Python310\\lib\\site-packages\\sklearn\\metrics\\_scorer.py\", line 267, in _score\n",
      "    return self._sign * self._score_func(y_true, y_pred, **self._kwargs)\n",
      "  File \"C:\\Python310\\lib\\site-packages\\sklearn\\metrics\\_regression.py\", line 525, in mean_squared_log_error\n",
      "    raise ValueError(\n",
      "ValueError: Mean Squared Logarithmic Error cannot be used when targets contain negative values.\n",
      "\n",
      "  warnings.warn(\n"
     ]
    },
    {
     "name": "stdout",
     "output_type": "stream",
     "text": [
      "[CV 2/5] END alpha_1=1e-08, alpha_2=0.1, lambda_1=1e-12, lambda_2=1e-08, tol=0.001;, score=nan total time=   0.9s\n",
      "[CV 3/5] END alpha_1=1e-08, alpha_2=0.1, lambda_1=1e-12, lambda_2=1e-08, tol=0.001;, score=-0.274 total time=   1.0s\n"
     ]
    },
    {
     "name": "stderr",
     "output_type": "stream",
     "text": [
      "C:\\Python310\\lib\\site-packages\\sklearn\\model_selection\\_validation.py:776: UserWarning: Scoring failed. The score on this train-test partition for these parameters will be set to nan. Details: \n",
      "Traceback (most recent call last):\n",
      "  File \"C:\\Python310\\lib\\site-packages\\sklearn\\model_selection\\_validation.py\", line 767, in _score\n",
      "    scores = scorer(estimator, X_test, y_test)\n",
      "  File \"C:\\Python310\\lib\\site-packages\\sklearn\\metrics\\_scorer.py\", line 219, in __call__\n",
      "    return self._score(\n",
      "  File \"C:\\Python310\\lib\\site-packages\\sklearn\\metrics\\_scorer.py\", line 267, in _score\n",
      "    return self._sign * self._score_func(y_true, y_pred, **self._kwargs)\n",
      "  File \"C:\\Python310\\lib\\site-packages\\sklearn\\metrics\\_regression.py\", line 525, in mean_squared_log_error\n",
      "    raise ValueError(\n",
      "ValueError: Mean Squared Logarithmic Error cannot be used when targets contain negative values.\n",
      "\n",
      "  warnings.warn(\n"
     ]
    },
    {
     "name": "stdout",
     "output_type": "stream",
     "text": [
      "[CV 4/5] END alpha_1=1e-08, alpha_2=0.1, lambda_1=1e-12, lambda_2=1e-08, tol=0.001;, score=nan total time=   0.9s\n"
     ]
    },
    {
     "name": "stderr",
     "output_type": "stream",
     "text": [
      "C:\\Python310\\lib\\site-packages\\sklearn\\model_selection\\_validation.py:776: UserWarning: Scoring failed. The score on this train-test partition for these parameters will be set to nan. Details: \n",
      "Traceback (most recent call last):\n",
      "  File \"C:\\Python310\\lib\\site-packages\\sklearn\\model_selection\\_validation.py\", line 767, in _score\n",
      "    scores = scorer(estimator, X_test, y_test)\n",
      "  File \"C:\\Python310\\lib\\site-packages\\sklearn\\metrics\\_scorer.py\", line 219, in __call__\n",
      "    return self._score(\n",
      "  File \"C:\\Python310\\lib\\site-packages\\sklearn\\metrics\\_scorer.py\", line 267, in _score\n",
      "    return self._sign * self._score_func(y_true, y_pred, **self._kwargs)\n",
      "  File \"C:\\Python310\\lib\\site-packages\\sklearn\\metrics\\_regression.py\", line 525, in mean_squared_log_error\n",
      "    raise ValueError(\n",
      "ValueError: Mean Squared Logarithmic Error cannot be used when targets contain negative values.\n",
      "\n",
      "  warnings.warn(\n"
     ]
    },
    {
     "name": "stdout",
     "output_type": "stream",
     "text": [
      "[CV 5/5] END alpha_1=1e-08, alpha_2=0.1, lambda_1=1e-12, lambda_2=1e-08, tol=0.001;, score=nan total time=   0.9s\n"
     ]
    },
    {
     "name": "stderr",
     "output_type": "stream",
     "text": [
      "C:\\Python310\\lib\\site-packages\\sklearn\\model_selection\\_validation.py:776: UserWarning: Scoring failed. The score on this train-test partition for these parameters will be set to nan. Details: \n",
      "Traceback (most recent call last):\n",
      "  File \"C:\\Python310\\lib\\site-packages\\sklearn\\model_selection\\_validation.py\", line 767, in _score\n",
      "    scores = scorer(estimator, X_test, y_test)\n",
      "  File \"C:\\Python310\\lib\\site-packages\\sklearn\\metrics\\_scorer.py\", line 219, in __call__\n",
      "    return self._score(\n",
      "  File \"C:\\Python310\\lib\\site-packages\\sklearn\\metrics\\_scorer.py\", line 267, in _score\n",
      "    return self._sign * self._score_func(y_true, y_pred, **self._kwargs)\n",
      "  File \"C:\\Python310\\lib\\site-packages\\sklearn\\metrics\\_regression.py\", line 525, in mean_squared_log_error\n",
      "    raise ValueError(\n",
      "ValueError: Mean Squared Logarithmic Error cannot be used when targets contain negative values.\n",
      "\n",
      "  warnings.warn(\n"
     ]
    },
    {
     "name": "stdout",
     "output_type": "stream",
     "text": [
      "[CV 1/5] END alpha_1=0.001, alpha_2=1e-12, lambda_1=1e-12, lambda_2=1e-12, tol=1e-08;, score=nan total time=   2.7s\n"
     ]
    },
    {
     "name": "stderr",
     "output_type": "stream",
     "text": [
      "C:\\Python310\\lib\\site-packages\\sklearn\\model_selection\\_validation.py:776: UserWarning: Scoring failed. The score on this train-test partition for these parameters will be set to nan. Details: \n",
      "Traceback (most recent call last):\n",
      "  File \"C:\\Python310\\lib\\site-packages\\sklearn\\model_selection\\_validation.py\", line 767, in _score\n",
      "    scores = scorer(estimator, X_test, y_test)\n",
      "  File \"C:\\Python310\\lib\\site-packages\\sklearn\\metrics\\_scorer.py\", line 219, in __call__\n",
      "    return self._score(\n",
      "  File \"C:\\Python310\\lib\\site-packages\\sklearn\\metrics\\_scorer.py\", line 267, in _score\n",
      "    return self._sign * self._score_func(y_true, y_pred, **self._kwargs)\n",
      "  File \"C:\\Python310\\lib\\site-packages\\sklearn\\metrics\\_regression.py\", line 525, in mean_squared_log_error\n",
      "    raise ValueError(\n",
      "ValueError: Mean Squared Logarithmic Error cannot be used when targets contain negative values.\n",
      "\n",
      "  warnings.warn(\n"
     ]
    },
    {
     "name": "stdout",
     "output_type": "stream",
     "text": [
      "[CV 2/5] END alpha_1=0.001, alpha_2=1e-12, lambda_1=1e-12, lambda_2=1e-12, tol=1e-08;, score=nan total time=   2.6s\n",
      "[CV 3/5] END alpha_1=0.001, alpha_2=1e-12, lambda_1=1e-12, lambda_2=1e-12, tol=1e-08;, score=-0.274 total time=   1.3s\n"
     ]
    },
    {
     "name": "stderr",
     "output_type": "stream",
     "text": [
      "C:\\Python310\\lib\\site-packages\\sklearn\\model_selection\\_validation.py:776: UserWarning: Scoring failed. The score on this train-test partition for these parameters will be set to nan. Details: \n",
      "Traceback (most recent call last):\n",
      "  File \"C:\\Python310\\lib\\site-packages\\sklearn\\model_selection\\_validation.py\", line 767, in _score\n",
      "    scores = scorer(estimator, X_test, y_test)\n",
      "  File \"C:\\Python310\\lib\\site-packages\\sklearn\\metrics\\_scorer.py\", line 219, in __call__\n",
      "    return self._score(\n",
      "  File \"C:\\Python310\\lib\\site-packages\\sklearn\\metrics\\_scorer.py\", line 267, in _score\n",
      "    return self._sign * self._score_func(y_true, y_pred, **self._kwargs)\n",
      "  File \"C:\\Python310\\lib\\site-packages\\sklearn\\metrics\\_regression.py\", line 525, in mean_squared_log_error\n",
      "    raise ValueError(\n",
      "ValueError: Mean Squared Logarithmic Error cannot be used when targets contain negative values.\n",
      "\n",
      "  warnings.warn(\n"
     ]
    },
    {
     "name": "stdout",
     "output_type": "stream",
     "text": [
      "[CV 4/5] END alpha_1=0.001, alpha_2=1e-12, lambda_1=1e-12, lambda_2=1e-12, tol=1e-08;, score=nan total time=   2.7s\n"
     ]
    },
    {
     "name": "stderr",
     "output_type": "stream",
     "text": [
      "C:\\Python310\\lib\\site-packages\\sklearn\\model_selection\\_validation.py:776: UserWarning: Scoring failed. The score on this train-test partition for these parameters will be set to nan. Details: \n",
      "Traceback (most recent call last):\n",
      "  File \"C:\\Python310\\lib\\site-packages\\sklearn\\model_selection\\_validation.py\", line 767, in _score\n",
      "    scores = scorer(estimator, X_test, y_test)\n",
      "  File \"C:\\Python310\\lib\\site-packages\\sklearn\\metrics\\_scorer.py\", line 219, in __call__\n",
      "    return self._score(\n",
      "  File \"C:\\Python310\\lib\\site-packages\\sklearn\\metrics\\_scorer.py\", line 267, in _score\n",
      "    return self._sign * self._score_func(y_true, y_pred, **self._kwargs)\n",
      "  File \"C:\\Python310\\lib\\site-packages\\sklearn\\metrics\\_regression.py\", line 525, in mean_squared_log_error\n",
      "    raise ValueError(\n",
      "ValueError: Mean Squared Logarithmic Error cannot be used when targets contain negative values.\n",
      "\n",
      "  warnings.warn(\n"
     ]
    },
    {
     "name": "stdout",
     "output_type": "stream",
     "text": [
      "[CV 5/5] END alpha_1=0.001, alpha_2=1e-12, lambda_1=1e-12, lambda_2=1e-12, tol=1e-08;, score=nan total time=   2.6s\n"
     ]
    },
    {
     "name": "stderr",
     "output_type": "stream",
     "text": [
      "C:\\Python310\\lib\\site-packages\\sklearn\\model_selection\\_validation.py:776: UserWarning: Scoring failed. The score on this train-test partition for these parameters will be set to nan. Details: \n",
      "Traceback (most recent call last):\n",
      "  File \"C:\\Python310\\lib\\site-packages\\sklearn\\model_selection\\_validation.py\", line 767, in _score\n",
      "    scores = scorer(estimator, X_test, y_test)\n",
      "  File \"C:\\Python310\\lib\\site-packages\\sklearn\\metrics\\_scorer.py\", line 219, in __call__\n",
      "    return self._score(\n",
      "  File \"C:\\Python310\\lib\\site-packages\\sklearn\\metrics\\_scorer.py\", line 267, in _score\n",
      "    return self._sign * self._score_func(y_true, y_pred, **self._kwargs)\n",
      "  File \"C:\\Python310\\lib\\site-packages\\sklearn\\metrics\\_regression.py\", line 525, in mean_squared_log_error\n",
      "    raise ValueError(\n",
      "ValueError: Mean Squared Logarithmic Error cannot be used when targets contain negative values.\n",
      "\n",
      "  warnings.warn(\n"
     ]
    },
    {
     "name": "stdout",
     "output_type": "stream",
     "text": [
      "[CV 1/5] END alpha_1=1e-12, alpha_2=0.1, lambda_1=1e-05, lambda_2=1e-08, tol=1e-05;, score=nan total time=   1.0s\n"
     ]
    },
    {
     "name": "stderr",
     "output_type": "stream",
     "text": [
      "C:\\Python310\\lib\\site-packages\\sklearn\\model_selection\\_validation.py:776: UserWarning: Scoring failed. The score on this train-test partition for these parameters will be set to nan. Details: \n",
      "Traceback (most recent call last):\n",
      "  File \"C:\\Python310\\lib\\site-packages\\sklearn\\model_selection\\_validation.py\", line 767, in _score\n",
      "    scores = scorer(estimator, X_test, y_test)\n",
      "  File \"C:\\Python310\\lib\\site-packages\\sklearn\\metrics\\_scorer.py\", line 219, in __call__\n",
      "    return self._score(\n",
      "  File \"C:\\Python310\\lib\\site-packages\\sklearn\\metrics\\_scorer.py\", line 267, in _score\n",
      "    return self._sign * self._score_func(y_true, y_pred, **self._kwargs)\n",
      "  File \"C:\\Python310\\lib\\site-packages\\sklearn\\metrics\\_regression.py\", line 525, in mean_squared_log_error\n",
      "    raise ValueError(\n",
      "ValueError: Mean Squared Logarithmic Error cannot be used when targets contain negative values.\n",
      "\n",
      "  warnings.warn(\n"
     ]
    },
    {
     "name": "stdout",
     "output_type": "stream",
     "text": [
      "[CV 2/5] END alpha_1=1e-12, alpha_2=0.1, lambda_1=1e-05, lambda_2=1e-08, tol=1e-05;, score=nan total time=   0.9s\n",
      "[CV 3/5] END alpha_1=1e-12, alpha_2=0.1, lambda_1=1e-05, lambda_2=1e-08, tol=1e-05;, score=-0.274 total time=   1.2s\n"
     ]
    },
    {
     "name": "stderr",
     "output_type": "stream",
     "text": [
      "C:\\Python310\\lib\\site-packages\\sklearn\\model_selection\\_validation.py:776: UserWarning: Scoring failed. The score on this train-test partition for these parameters will be set to nan. Details: \n",
      "Traceback (most recent call last):\n",
      "  File \"C:\\Python310\\lib\\site-packages\\sklearn\\model_selection\\_validation.py\", line 767, in _score\n",
      "    scores = scorer(estimator, X_test, y_test)\n",
      "  File \"C:\\Python310\\lib\\site-packages\\sklearn\\metrics\\_scorer.py\", line 219, in __call__\n",
      "    return self._score(\n",
      "  File \"C:\\Python310\\lib\\site-packages\\sklearn\\metrics\\_scorer.py\", line 267, in _score\n",
      "    return self._sign * self._score_func(y_true, y_pred, **self._kwargs)\n",
      "  File \"C:\\Python310\\lib\\site-packages\\sklearn\\metrics\\_regression.py\", line 525, in mean_squared_log_error\n",
      "    raise ValueError(\n",
      "ValueError: Mean Squared Logarithmic Error cannot be used when targets contain negative values.\n",
      "\n",
      "  warnings.warn(\n"
     ]
    },
    {
     "name": "stdout",
     "output_type": "stream",
     "text": [
      "[CV 4/5] END alpha_1=1e-12, alpha_2=0.1, lambda_1=1e-05, lambda_2=1e-08, tol=1e-05;, score=nan total time=   1.0s\n"
     ]
    },
    {
     "name": "stderr",
     "output_type": "stream",
     "text": [
      "C:\\Python310\\lib\\site-packages\\sklearn\\model_selection\\_validation.py:776: UserWarning: Scoring failed. The score on this train-test partition for these parameters will be set to nan. Details: \n",
      "Traceback (most recent call last):\n",
      "  File \"C:\\Python310\\lib\\site-packages\\sklearn\\model_selection\\_validation.py\", line 767, in _score\n",
      "    scores = scorer(estimator, X_test, y_test)\n",
      "  File \"C:\\Python310\\lib\\site-packages\\sklearn\\metrics\\_scorer.py\", line 219, in __call__\n",
      "    return self._score(\n",
      "  File \"C:\\Python310\\lib\\site-packages\\sklearn\\metrics\\_scorer.py\", line 267, in _score\n",
      "    return self._sign * self._score_func(y_true, y_pred, **self._kwargs)\n",
      "  File \"C:\\Python310\\lib\\site-packages\\sklearn\\metrics\\_regression.py\", line 525, in mean_squared_log_error\n",
      "    raise ValueError(\n",
      "ValueError: Mean Squared Logarithmic Error cannot be used when targets contain negative values.\n",
      "\n",
      "  warnings.warn(\n"
     ]
    },
    {
     "name": "stdout",
     "output_type": "stream",
     "text": [
      "[CV 5/5] END alpha_1=1e-12, alpha_2=0.1, lambda_1=1e-05, lambda_2=1e-08, tol=1e-05;, score=nan total time=   1.0s\n"
     ]
    },
    {
     "name": "stderr",
     "output_type": "stream",
     "text": [
      "C:\\Python310\\lib\\site-packages\\sklearn\\model_selection\\_validation.py:776: UserWarning: Scoring failed. The score on this train-test partition for these parameters will be set to nan. Details: \n",
      "Traceback (most recent call last):\n",
      "  File \"C:\\Python310\\lib\\site-packages\\sklearn\\model_selection\\_validation.py\", line 767, in _score\n",
      "    scores = scorer(estimator, X_test, y_test)\n",
      "  File \"C:\\Python310\\lib\\site-packages\\sklearn\\metrics\\_scorer.py\", line 219, in __call__\n",
      "    return self._score(\n",
      "  File \"C:\\Python310\\lib\\site-packages\\sklearn\\metrics\\_scorer.py\", line 267, in _score\n",
      "    return self._sign * self._score_func(y_true, y_pred, **self._kwargs)\n",
      "  File \"C:\\Python310\\lib\\site-packages\\sklearn\\metrics\\_regression.py\", line 525, in mean_squared_log_error\n",
      "    raise ValueError(\n",
      "ValueError: Mean Squared Logarithmic Error cannot be used when targets contain negative values.\n",
      "\n",
      "  warnings.warn(\n"
     ]
    },
    {
     "name": "stdout",
     "output_type": "stream",
     "text": [
      "[CV 1/5] END alpha_1=1e-05, alpha_2=0.001, lambda_1=1e-05, lambda_2=1e-05, tol=1e-08;, score=nan total time=   1.3s\n"
     ]
    },
    {
     "name": "stderr",
     "output_type": "stream",
     "text": [
      "C:\\Python310\\lib\\site-packages\\sklearn\\model_selection\\_validation.py:776: UserWarning: Scoring failed. The score on this train-test partition for these parameters will be set to nan. Details: \n",
      "Traceback (most recent call last):\n",
      "  File \"C:\\Python310\\lib\\site-packages\\sklearn\\model_selection\\_validation.py\", line 767, in _score\n",
      "    scores = scorer(estimator, X_test, y_test)\n",
      "  File \"C:\\Python310\\lib\\site-packages\\sklearn\\metrics\\_scorer.py\", line 219, in __call__\n",
      "    return self._score(\n",
      "  File \"C:\\Python310\\lib\\site-packages\\sklearn\\metrics\\_scorer.py\", line 267, in _score\n",
      "    return self._sign * self._score_func(y_true, y_pred, **self._kwargs)\n",
      "  File \"C:\\Python310\\lib\\site-packages\\sklearn\\metrics\\_regression.py\", line 525, in mean_squared_log_error\n",
      "    raise ValueError(\n",
      "ValueError: Mean Squared Logarithmic Error cannot be used when targets contain negative values.\n",
      "\n",
      "  warnings.warn(\n"
     ]
    },
    {
     "name": "stdout",
     "output_type": "stream",
     "text": [
      "[CV 2/5] END alpha_1=1e-05, alpha_2=0.001, lambda_1=1e-05, lambda_2=1e-05, tol=1e-08;, score=nan total time=   2.7s\n",
      "[CV 3/5] END alpha_1=1e-05, alpha_2=0.001, lambda_1=1e-05, lambda_2=1e-05, tol=1e-08;, score=-0.274 total time=   1.2s\n"
     ]
    },
    {
     "name": "stderr",
     "output_type": "stream",
     "text": [
      "C:\\Python310\\lib\\site-packages\\sklearn\\model_selection\\_validation.py:776: UserWarning: Scoring failed. The score on this train-test partition for these parameters will be set to nan. Details: \n",
      "Traceback (most recent call last):\n",
      "  File \"C:\\Python310\\lib\\site-packages\\sklearn\\model_selection\\_validation.py\", line 767, in _score\n",
      "    scores = scorer(estimator, X_test, y_test)\n",
      "  File \"C:\\Python310\\lib\\site-packages\\sklearn\\metrics\\_scorer.py\", line 219, in __call__\n",
      "    return self._score(\n",
      "  File \"C:\\Python310\\lib\\site-packages\\sklearn\\metrics\\_scorer.py\", line 267, in _score\n",
      "    return self._sign * self._score_func(y_true, y_pred, **self._kwargs)\n",
      "  File \"C:\\Python310\\lib\\site-packages\\sklearn\\metrics\\_regression.py\", line 525, in mean_squared_log_error\n",
      "    raise ValueError(\n",
      "ValueError: Mean Squared Logarithmic Error cannot be used when targets contain negative values.\n",
      "\n",
      "  warnings.warn(\n"
     ]
    },
    {
     "name": "stdout",
     "output_type": "stream",
     "text": [
      "[CV 4/5] END alpha_1=1e-05, alpha_2=0.001, lambda_1=1e-05, lambda_2=1e-05, tol=1e-08;, score=nan total time=   2.7s\n"
     ]
    },
    {
     "name": "stderr",
     "output_type": "stream",
     "text": [
      "C:\\Python310\\lib\\site-packages\\sklearn\\model_selection\\_validation.py:776: UserWarning: Scoring failed. The score on this train-test partition for these parameters will be set to nan. Details: \n",
      "Traceback (most recent call last):\n",
      "  File \"C:\\Python310\\lib\\site-packages\\sklearn\\model_selection\\_validation.py\", line 767, in _score\n",
      "    scores = scorer(estimator, X_test, y_test)\n",
      "  File \"C:\\Python310\\lib\\site-packages\\sklearn\\metrics\\_scorer.py\", line 219, in __call__\n",
      "    return self._score(\n",
      "  File \"C:\\Python310\\lib\\site-packages\\sklearn\\metrics\\_scorer.py\", line 267, in _score\n",
      "    return self._sign * self._score_func(y_true, y_pred, **self._kwargs)\n",
      "  File \"C:\\Python310\\lib\\site-packages\\sklearn\\metrics\\_regression.py\", line 525, in mean_squared_log_error\n",
      "    raise ValueError(\n",
      "ValueError: Mean Squared Logarithmic Error cannot be used when targets contain negative values.\n",
      "\n",
      "  warnings.warn(\n"
     ]
    },
    {
     "name": "stdout",
     "output_type": "stream",
     "text": [
      "[CV 5/5] END alpha_1=1e-05, alpha_2=0.001, lambda_1=1e-05, lambda_2=1e-05, tol=1e-08;, score=nan total time=   2.6s\n",
      "[CV 1/5] END alpha_1=1e-05, alpha_2=1e-12, lambda_1=0.001, lambda_2=0.001, tol=0.001;, score=-0.393 total time=   0.7s\n",
      "[CV 2/5] END alpha_1=1e-05, alpha_2=1e-12, lambda_1=0.001, lambda_2=0.001, tol=0.001;, score=-0.377 total time=   0.8s\n",
      "[CV 3/5] END alpha_1=1e-05, alpha_2=1e-12, lambda_1=0.001, lambda_2=0.001, tol=0.001;, score=-0.387 total time=   0.7s\n",
      "[CV 4/5] END alpha_1=1e-05, alpha_2=1e-12, lambda_1=0.001, lambda_2=0.001, tol=0.001;, score=-0.394 total time=   0.8s\n",
      "[CV 5/5] END alpha_1=1e-05, alpha_2=1e-12, lambda_1=0.001, lambda_2=0.001, tol=0.001;, score=-0.401 total time=   0.7s\n"
     ]
    },
    {
     "name": "stderr",
     "output_type": "stream",
     "text": [
      "C:\\Python310\\lib\\site-packages\\sklearn\\model_selection\\_validation.py:776: UserWarning: Scoring failed. The score on this train-test partition for these parameters will be set to nan. Details: \n",
      "Traceback (most recent call last):\n",
      "  File \"C:\\Python310\\lib\\site-packages\\sklearn\\model_selection\\_validation.py\", line 767, in _score\n",
      "    scores = scorer(estimator, X_test, y_test)\n",
      "  File \"C:\\Python310\\lib\\site-packages\\sklearn\\metrics\\_scorer.py\", line 219, in __call__\n",
      "    return self._score(\n",
      "  File \"C:\\Python310\\lib\\site-packages\\sklearn\\metrics\\_scorer.py\", line 267, in _score\n",
      "    return self._sign * self._score_func(y_true, y_pred, **self._kwargs)\n",
      "  File \"C:\\Python310\\lib\\site-packages\\sklearn\\metrics\\_regression.py\", line 525, in mean_squared_log_error\n",
      "    raise ValueError(\n",
      "ValueError: Mean Squared Logarithmic Error cannot be used when targets contain negative values.\n",
      "\n",
      "  warnings.warn(\n"
     ]
    },
    {
     "name": "stdout",
     "output_type": "stream",
     "text": [
      "[CV 1/5] END alpha_1=0.001, alpha_2=1e-12, lambda_1=1e-12, lambda_2=1e-05, tol=1e-08;, score=nan total time=   2.7s\n"
     ]
    },
    {
     "name": "stderr",
     "output_type": "stream",
     "text": [
      "C:\\Python310\\lib\\site-packages\\sklearn\\model_selection\\_validation.py:776: UserWarning: Scoring failed. The score on this train-test partition for these parameters will be set to nan. Details: \n",
      "Traceback (most recent call last):\n",
      "  File \"C:\\Python310\\lib\\site-packages\\sklearn\\model_selection\\_validation.py\", line 767, in _score\n",
      "    scores = scorer(estimator, X_test, y_test)\n",
      "  File \"C:\\Python310\\lib\\site-packages\\sklearn\\metrics\\_scorer.py\", line 219, in __call__\n",
      "    return self._score(\n",
      "  File \"C:\\Python310\\lib\\site-packages\\sklearn\\metrics\\_scorer.py\", line 267, in _score\n",
      "    return self._sign * self._score_func(y_true, y_pred, **self._kwargs)\n",
      "  File \"C:\\Python310\\lib\\site-packages\\sklearn\\metrics\\_regression.py\", line 525, in mean_squared_log_error\n",
      "    raise ValueError(\n",
      "ValueError: Mean Squared Logarithmic Error cannot be used when targets contain negative values.\n",
      "\n",
      "  warnings.warn(\n"
     ]
    },
    {
     "name": "stdout",
     "output_type": "stream",
     "text": [
      "[CV 2/5] END alpha_1=0.001, alpha_2=1e-12, lambda_1=1e-12, lambda_2=1e-05, tol=1e-08;, score=nan total time=   2.8s\n",
      "[CV 3/5] END alpha_1=0.001, alpha_2=1e-12, lambda_1=1e-12, lambda_2=1e-05, tol=1e-08;, score=-0.274 total time=   1.2s\n"
     ]
    },
    {
     "name": "stderr",
     "output_type": "stream",
     "text": [
      "C:\\Python310\\lib\\site-packages\\sklearn\\model_selection\\_validation.py:776: UserWarning: Scoring failed. The score on this train-test partition for these parameters will be set to nan. Details: \n",
      "Traceback (most recent call last):\n",
      "  File \"C:\\Python310\\lib\\site-packages\\sklearn\\model_selection\\_validation.py\", line 767, in _score\n",
      "    scores = scorer(estimator, X_test, y_test)\n",
      "  File \"C:\\Python310\\lib\\site-packages\\sklearn\\metrics\\_scorer.py\", line 219, in __call__\n",
      "    return self._score(\n",
      "  File \"C:\\Python310\\lib\\site-packages\\sklearn\\metrics\\_scorer.py\", line 267, in _score\n",
      "    return self._sign * self._score_func(y_true, y_pred, **self._kwargs)\n",
      "  File \"C:\\Python310\\lib\\site-packages\\sklearn\\metrics\\_regression.py\", line 525, in mean_squared_log_error\n",
      "    raise ValueError(\n",
      "ValueError: Mean Squared Logarithmic Error cannot be used when targets contain negative values.\n",
      "\n",
      "  warnings.warn(\n"
     ]
    },
    {
     "name": "stdout",
     "output_type": "stream",
     "text": [
      "[CV 4/5] END alpha_1=0.001, alpha_2=1e-12, lambda_1=1e-12, lambda_2=1e-05, tol=1e-08;, score=nan total time=   2.7s\n"
     ]
    },
    {
     "name": "stderr",
     "output_type": "stream",
     "text": [
      "C:\\Python310\\lib\\site-packages\\sklearn\\model_selection\\_validation.py:776: UserWarning: Scoring failed. The score on this train-test partition for these parameters will be set to nan. Details: \n",
      "Traceback (most recent call last):\n",
      "  File \"C:\\Python310\\lib\\site-packages\\sklearn\\model_selection\\_validation.py\", line 767, in _score\n",
      "    scores = scorer(estimator, X_test, y_test)\n",
      "  File \"C:\\Python310\\lib\\site-packages\\sklearn\\metrics\\_scorer.py\", line 219, in __call__\n",
      "    return self._score(\n",
      "  File \"C:\\Python310\\lib\\site-packages\\sklearn\\metrics\\_scorer.py\", line 267, in _score\n",
      "    return self._sign * self._score_func(y_true, y_pred, **self._kwargs)\n",
      "  File \"C:\\Python310\\lib\\site-packages\\sklearn\\metrics\\_regression.py\", line 525, in mean_squared_log_error\n",
      "    raise ValueError(\n",
      "ValueError: Mean Squared Logarithmic Error cannot be used when targets contain negative values.\n",
      "\n",
      "  warnings.warn(\n"
     ]
    },
    {
     "name": "stdout",
     "output_type": "stream",
     "text": [
      "[CV 5/5] END alpha_1=0.001, alpha_2=1e-12, lambda_1=1e-12, lambda_2=1e-05, tol=1e-08;, score=nan total time=   2.5s\n",
      "[CV 1/5] END alpha_1=0.001, alpha_2=1e-05, lambda_1=0.1, lambda_2=0.001, tol=0.1;, score=-0.393 total time=   0.7s\n",
      "[CV 2/5] END alpha_1=0.001, alpha_2=1e-05, lambda_1=0.1, lambda_2=0.001, tol=0.1;, score=-0.377 total time=   0.7s\n",
      "[CV 3/5] END alpha_1=0.001, alpha_2=1e-05, lambda_1=0.1, lambda_2=0.001, tol=0.1;, score=-0.387 total time=   0.7s\n",
      "[CV 4/5] END alpha_1=0.001, alpha_2=1e-05, lambda_1=0.1, lambda_2=0.001, tol=0.1;, score=-0.394 total time=   0.7s\n",
      "[CV 5/5] END alpha_1=0.001, alpha_2=1e-05, lambda_1=0.1, lambda_2=0.001, tol=0.1;, score=-0.401 total time=   0.7s\n"
     ]
    },
    {
     "name": "stderr",
     "output_type": "stream",
     "text": [
      "C:\\Python310\\lib\\site-packages\\sklearn\\model_selection\\_validation.py:776: UserWarning: Scoring failed. The score on this train-test partition for these parameters will be set to nan. Details: \n",
      "Traceback (most recent call last):\n",
      "  File \"C:\\Python310\\lib\\site-packages\\sklearn\\model_selection\\_validation.py\", line 767, in _score\n",
      "    scores = scorer(estimator, X_test, y_test)\n",
      "  File \"C:\\Python310\\lib\\site-packages\\sklearn\\metrics\\_scorer.py\", line 219, in __call__\n",
      "    return self._score(\n",
      "  File \"C:\\Python310\\lib\\site-packages\\sklearn\\metrics\\_scorer.py\", line 267, in _score\n",
      "    return self._sign * self._score_func(y_true, y_pred, **self._kwargs)\n",
      "  File \"C:\\Python310\\lib\\site-packages\\sklearn\\metrics\\_regression.py\", line 525, in mean_squared_log_error\n",
      "    raise ValueError(\n",
      "ValueError: Mean Squared Logarithmic Error cannot be used when targets contain negative values.\n",
      "\n",
      "  warnings.warn(\n"
     ]
    },
    {
     "name": "stdout",
     "output_type": "stream",
     "text": [
      "[CV 1/5] END alpha_1=1e-05, alpha_2=0.1, lambda_1=1e-05, lambda_2=0.001, tol=0.1;, score=nan total time=   0.9s\n"
     ]
    },
    {
     "name": "stderr",
     "output_type": "stream",
     "text": [
      "C:\\Python310\\lib\\site-packages\\sklearn\\model_selection\\_validation.py:776: UserWarning: Scoring failed. The score on this train-test partition for these parameters will be set to nan. Details: \n",
      "Traceback (most recent call last):\n",
      "  File \"C:\\Python310\\lib\\site-packages\\sklearn\\model_selection\\_validation.py\", line 767, in _score\n",
      "    scores = scorer(estimator, X_test, y_test)\n",
      "  File \"C:\\Python310\\lib\\site-packages\\sklearn\\metrics\\_scorer.py\", line 219, in __call__\n",
      "    return self._score(\n",
      "  File \"C:\\Python310\\lib\\site-packages\\sklearn\\metrics\\_scorer.py\", line 267, in _score\n",
      "    return self._sign * self._score_func(y_true, y_pred, **self._kwargs)\n",
      "  File \"C:\\Python310\\lib\\site-packages\\sklearn\\metrics\\_regression.py\", line 525, in mean_squared_log_error\n",
      "    raise ValueError(\n",
      "ValueError: Mean Squared Logarithmic Error cannot be used when targets contain negative values.\n",
      "\n",
      "  warnings.warn(\n"
     ]
    },
    {
     "name": "stdout",
     "output_type": "stream",
     "text": [
      "[CV 2/5] END alpha_1=1e-05, alpha_2=0.1, lambda_1=1e-05, lambda_2=0.001, tol=0.1;, score=nan total time=   0.9s\n",
      "[CV 3/5] END alpha_1=1e-05, alpha_2=0.1, lambda_1=1e-05, lambda_2=0.001, tol=0.1;, score=-0.274 total time=   1.0s\n"
     ]
    },
    {
     "name": "stderr",
     "output_type": "stream",
     "text": [
      "C:\\Python310\\lib\\site-packages\\sklearn\\model_selection\\_validation.py:776: UserWarning: Scoring failed. The score on this train-test partition for these parameters will be set to nan. Details: \n",
      "Traceback (most recent call last):\n",
      "  File \"C:\\Python310\\lib\\site-packages\\sklearn\\model_selection\\_validation.py\", line 767, in _score\n",
      "    scores = scorer(estimator, X_test, y_test)\n",
      "  File \"C:\\Python310\\lib\\site-packages\\sklearn\\metrics\\_scorer.py\", line 219, in __call__\n",
      "    return self._score(\n",
      "  File \"C:\\Python310\\lib\\site-packages\\sklearn\\metrics\\_scorer.py\", line 267, in _score\n",
      "    return self._sign * self._score_func(y_true, y_pred, **self._kwargs)\n",
      "  File \"C:\\Python310\\lib\\site-packages\\sklearn\\metrics\\_regression.py\", line 525, in mean_squared_log_error\n",
      "    raise ValueError(\n",
      "ValueError: Mean Squared Logarithmic Error cannot be used when targets contain negative values.\n",
      "\n",
      "  warnings.warn(\n"
     ]
    },
    {
     "name": "stdout",
     "output_type": "stream",
     "text": [
      "[CV 4/5] END alpha_1=1e-05, alpha_2=0.1, lambda_1=1e-05, lambda_2=0.001, tol=0.1;, score=nan total time=   1.0s\n"
     ]
    },
    {
     "name": "stderr",
     "output_type": "stream",
     "text": [
      "C:\\Python310\\lib\\site-packages\\sklearn\\model_selection\\_validation.py:776: UserWarning: Scoring failed. The score on this train-test partition for these parameters will be set to nan. Details: \n",
      "Traceback (most recent call last):\n",
      "  File \"C:\\Python310\\lib\\site-packages\\sklearn\\model_selection\\_validation.py\", line 767, in _score\n",
      "    scores = scorer(estimator, X_test, y_test)\n",
      "  File \"C:\\Python310\\lib\\site-packages\\sklearn\\metrics\\_scorer.py\", line 219, in __call__\n",
      "    return self._score(\n",
      "  File \"C:\\Python310\\lib\\site-packages\\sklearn\\metrics\\_scorer.py\", line 267, in _score\n",
      "    return self._sign * self._score_func(y_true, y_pred, **self._kwargs)\n",
      "  File \"C:\\Python310\\lib\\site-packages\\sklearn\\metrics\\_regression.py\", line 525, in mean_squared_log_error\n",
      "    raise ValueError(\n",
      "ValueError: Mean Squared Logarithmic Error cannot be used when targets contain negative values.\n",
      "\n",
      "  warnings.warn(\n"
     ]
    },
    {
     "name": "stdout",
     "output_type": "stream",
     "text": [
      "[CV 5/5] END alpha_1=1e-05, alpha_2=0.1, lambda_1=1e-05, lambda_2=0.001, tol=0.1;, score=nan total time=   0.9s\n"
     ]
    },
    {
     "name": "stderr",
     "output_type": "stream",
     "text": [
      "C:\\Python310\\lib\\site-packages\\sklearn\\model_selection\\_validation.py:776: UserWarning: Scoring failed. The score on this train-test partition for these parameters will be set to nan. Details: \n",
      "Traceback (most recent call last):\n",
      "  File \"C:\\Python310\\lib\\site-packages\\sklearn\\model_selection\\_validation.py\", line 767, in _score\n",
      "    scores = scorer(estimator, X_test, y_test)\n",
      "  File \"C:\\Python310\\lib\\site-packages\\sklearn\\metrics\\_scorer.py\", line 219, in __call__\n",
      "    return self._score(\n",
      "  File \"C:\\Python310\\lib\\site-packages\\sklearn\\metrics\\_scorer.py\", line 267, in _score\n",
      "    return self._sign * self._score_func(y_true, y_pred, **self._kwargs)\n",
      "  File \"C:\\Python310\\lib\\site-packages\\sklearn\\metrics\\_regression.py\", line 525, in mean_squared_log_error\n",
      "    raise ValueError(\n",
      "ValueError: Mean Squared Logarithmic Error cannot be used when targets contain negative values.\n",
      "\n",
      "  warnings.warn(\n"
     ]
    },
    {
     "name": "stdout",
     "output_type": "stream",
     "text": [
      "[CV 1/5] END alpha_1=1e-08, alpha_2=1e-12, lambda_1=1e-08, lambda_2=0.1, tol=0.001;, score=nan total time=   1.0s\n"
     ]
    },
    {
     "name": "stderr",
     "output_type": "stream",
     "text": [
      "C:\\Python310\\lib\\site-packages\\sklearn\\model_selection\\_validation.py:776: UserWarning: Scoring failed. The score on this train-test partition for these parameters will be set to nan. Details: \n",
      "Traceback (most recent call last):\n",
      "  File \"C:\\Python310\\lib\\site-packages\\sklearn\\model_selection\\_validation.py\", line 767, in _score\n",
      "    scores = scorer(estimator, X_test, y_test)\n",
      "  File \"C:\\Python310\\lib\\site-packages\\sklearn\\metrics\\_scorer.py\", line 219, in __call__\n",
      "    return self._score(\n",
      "  File \"C:\\Python310\\lib\\site-packages\\sklearn\\metrics\\_scorer.py\", line 267, in _score\n",
      "    return self._sign * self._score_func(y_true, y_pred, **self._kwargs)\n",
      "  File \"C:\\Python310\\lib\\site-packages\\sklearn\\metrics\\_regression.py\", line 525, in mean_squared_log_error\n",
      "    raise ValueError(\n",
      "ValueError: Mean Squared Logarithmic Error cannot be used when targets contain negative values.\n",
      "\n",
      "  warnings.warn(\n"
     ]
    },
    {
     "name": "stdout",
     "output_type": "stream",
     "text": [
      "[CV 2/5] END alpha_1=1e-08, alpha_2=1e-12, lambda_1=1e-08, lambda_2=0.1, tol=0.001;, score=nan total time=   0.9s\n",
      "[CV 3/5] END alpha_1=1e-08, alpha_2=1e-12, lambda_1=1e-08, lambda_2=0.1, tol=0.001;, score=-0.274 total time=   1.1s\n"
     ]
    },
    {
     "name": "stderr",
     "output_type": "stream",
     "text": [
      "C:\\Python310\\lib\\site-packages\\sklearn\\model_selection\\_validation.py:776: UserWarning: Scoring failed. The score on this train-test partition for these parameters will be set to nan. Details: \n",
      "Traceback (most recent call last):\n",
      "  File \"C:\\Python310\\lib\\site-packages\\sklearn\\model_selection\\_validation.py\", line 767, in _score\n",
      "    scores = scorer(estimator, X_test, y_test)\n",
      "  File \"C:\\Python310\\lib\\site-packages\\sklearn\\metrics\\_scorer.py\", line 219, in __call__\n",
      "    return self._score(\n",
      "  File \"C:\\Python310\\lib\\site-packages\\sklearn\\metrics\\_scorer.py\", line 267, in _score\n",
      "    return self._sign * self._score_func(y_true, y_pred, **self._kwargs)\n",
      "  File \"C:\\Python310\\lib\\site-packages\\sklearn\\metrics\\_regression.py\", line 525, in mean_squared_log_error\n",
      "    raise ValueError(\n",
      "ValueError: Mean Squared Logarithmic Error cannot be used when targets contain negative values.\n",
      "\n",
      "  warnings.warn(\n"
     ]
    },
    {
     "name": "stdout",
     "output_type": "stream",
     "text": [
      "[CV 4/5] END alpha_1=1e-08, alpha_2=1e-12, lambda_1=1e-08, lambda_2=0.1, tol=0.001;, score=nan total time=   1.0s\n"
     ]
    },
    {
     "name": "stderr",
     "output_type": "stream",
     "text": [
      "C:\\Python310\\lib\\site-packages\\sklearn\\model_selection\\_validation.py:776: UserWarning: Scoring failed. The score on this train-test partition for these parameters will be set to nan. Details: \n",
      "Traceback (most recent call last):\n",
      "  File \"C:\\Python310\\lib\\site-packages\\sklearn\\model_selection\\_validation.py\", line 767, in _score\n",
      "    scores = scorer(estimator, X_test, y_test)\n",
      "  File \"C:\\Python310\\lib\\site-packages\\sklearn\\metrics\\_scorer.py\", line 219, in __call__\n",
      "    return self._score(\n",
      "  File \"C:\\Python310\\lib\\site-packages\\sklearn\\metrics\\_scorer.py\", line 267, in _score\n",
      "    return self._sign * self._score_func(y_true, y_pred, **self._kwargs)\n",
      "  File \"C:\\Python310\\lib\\site-packages\\sklearn\\metrics\\_regression.py\", line 525, in mean_squared_log_error\n",
      "    raise ValueError(\n",
      "ValueError: Mean Squared Logarithmic Error cannot be used when targets contain negative values.\n",
      "\n",
      "  warnings.warn(\n"
     ]
    },
    {
     "name": "stdout",
     "output_type": "stream",
     "text": [
      "[CV 5/5] END alpha_1=1e-08, alpha_2=1e-12, lambda_1=1e-08, lambda_2=0.1, tol=0.001;, score=nan total time=   0.9s\n"
     ]
    },
    {
     "name": "stderr",
     "output_type": "stream",
     "text": [
      "C:\\Python310\\lib\\site-packages\\sklearn\\model_selection\\_validation.py:776: UserWarning: Scoring failed. The score on this train-test partition for these parameters will be set to nan. Details: \n",
      "Traceback (most recent call last):\n",
      "  File \"C:\\Python310\\lib\\site-packages\\sklearn\\model_selection\\_validation.py\", line 767, in _score\n",
      "    scores = scorer(estimator, X_test, y_test)\n",
      "  File \"C:\\Python310\\lib\\site-packages\\sklearn\\metrics\\_scorer.py\", line 219, in __call__\n",
      "    return self._score(\n",
      "  File \"C:\\Python310\\lib\\site-packages\\sklearn\\metrics\\_scorer.py\", line 267, in _score\n",
      "    return self._sign * self._score_func(y_true, y_pred, **self._kwargs)\n",
      "  File \"C:\\Python310\\lib\\site-packages\\sklearn\\metrics\\_regression.py\", line 525, in mean_squared_log_error\n",
      "    raise ValueError(\n",
      "ValueError: Mean Squared Logarithmic Error cannot be used when targets contain negative values.\n",
      "\n",
      "  warnings.warn(\n"
     ]
    },
    {
     "name": "stdout",
     "output_type": "stream",
     "text": [
      "[CV 1/5] END alpha_1=1e-08, alpha_2=1e-12, lambda_1=0.001, lambda_2=0.1, tol=1e-08;, score=nan total time=   2.8s\n"
     ]
    },
    {
     "name": "stderr",
     "output_type": "stream",
     "text": [
      "C:\\Python310\\lib\\site-packages\\sklearn\\model_selection\\_validation.py:776: UserWarning: Scoring failed. The score on this train-test partition for these parameters will be set to nan. Details: \n",
      "Traceback (most recent call last):\n",
      "  File \"C:\\Python310\\lib\\site-packages\\sklearn\\model_selection\\_validation.py\", line 767, in _score\n",
      "    scores = scorer(estimator, X_test, y_test)\n",
      "  File \"C:\\Python310\\lib\\site-packages\\sklearn\\metrics\\_scorer.py\", line 219, in __call__\n",
      "    return self._score(\n",
      "  File \"C:\\Python310\\lib\\site-packages\\sklearn\\metrics\\_scorer.py\", line 267, in _score\n",
      "    return self._sign * self._score_func(y_true, y_pred, **self._kwargs)\n",
      "  File \"C:\\Python310\\lib\\site-packages\\sklearn\\metrics\\_regression.py\", line 525, in mean_squared_log_error\n",
      "    raise ValueError(\n",
      "ValueError: Mean Squared Logarithmic Error cannot be used when targets contain negative values.\n",
      "\n",
      "  warnings.warn(\n"
     ]
    },
    {
     "name": "stdout",
     "output_type": "stream",
     "text": [
      "[CV 2/5] END alpha_1=1e-08, alpha_2=1e-12, lambda_1=0.001, lambda_2=0.1, tol=1e-08;, score=nan total time=   2.5s\n",
      "[CV 3/5] END alpha_1=1e-08, alpha_2=1e-12, lambda_1=0.001, lambda_2=0.1, tol=1e-08;, score=-0.274 total time=   2.7s\n"
     ]
    },
    {
     "name": "stderr",
     "output_type": "stream",
     "text": [
      "C:\\Python310\\lib\\site-packages\\sklearn\\model_selection\\_validation.py:776: UserWarning: Scoring failed. The score on this train-test partition for these parameters will be set to nan. Details: \n",
      "Traceback (most recent call last):\n",
      "  File \"C:\\Python310\\lib\\site-packages\\sklearn\\model_selection\\_validation.py\", line 767, in _score\n",
      "    scores = scorer(estimator, X_test, y_test)\n",
      "  File \"C:\\Python310\\lib\\site-packages\\sklearn\\metrics\\_scorer.py\", line 219, in __call__\n",
      "    return self._score(\n",
      "  File \"C:\\Python310\\lib\\site-packages\\sklearn\\metrics\\_scorer.py\", line 267, in _score\n",
      "    return self._sign * self._score_func(y_true, y_pred, **self._kwargs)\n",
      "  File \"C:\\Python310\\lib\\site-packages\\sklearn\\metrics\\_regression.py\", line 525, in mean_squared_log_error\n",
      "    raise ValueError(\n",
      "ValueError: Mean Squared Logarithmic Error cannot be used when targets contain negative values.\n",
      "\n",
      "  warnings.warn(\n"
     ]
    },
    {
     "name": "stdout",
     "output_type": "stream",
     "text": [
      "[CV 4/5] END alpha_1=1e-08, alpha_2=1e-12, lambda_1=0.001, lambda_2=0.1, tol=1e-08;, score=nan total time=   2.7s\n"
     ]
    },
    {
     "name": "stderr",
     "output_type": "stream",
     "text": [
      "C:\\Python310\\lib\\site-packages\\sklearn\\model_selection\\_validation.py:776: UserWarning: Scoring failed. The score on this train-test partition for these parameters will be set to nan. Details: \n",
      "Traceback (most recent call last):\n",
      "  File \"C:\\Python310\\lib\\site-packages\\sklearn\\model_selection\\_validation.py\", line 767, in _score\n",
      "    scores = scorer(estimator, X_test, y_test)\n",
      "  File \"C:\\Python310\\lib\\site-packages\\sklearn\\metrics\\_scorer.py\", line 219, in __call__\n",
      "    return self._score(\n",
      "  File \"C:\\Python310\\lib\\site-packages\\sklearn\\metrics\\_scorer.py\", line 267, in _score\n",
      "    return self._sign * self._score_func(y_true, y_pred, **self._kwargs)\n",
      "  File \"C:\\Python310\\lib\\site-packages\\sklearn\\metrics\\_regression.py\", line 525, in mean_squared_log_error\n",
      "    raise ValueError(\n",
      "ValueError: Mean Squared Logarithmic Error cannot be used when targets contain negative values.\n",
      "\n",
      "  warnings.warn(\n"
     ]
    },
    {
     "name": "stdout",
     "output_type": "stream",
     "text": [
      "[CV 5/5] END alpha_1=1e-08, alpha_2=1e-12, lambda_1=0.001, lambda_2=0.1, tol=1e-08;, score=nan total time=   2.7s\n",
      "[CV 1/5] END alpha_1=0.1, alpha_2=0.1, lambda_1=0.1, lambda_2=0.001, tol=0.001;, score=-0.393 total time=   0.7s\n",
      "[CV 2/5] END alpha_1=0.1, alpha_2=0.1, lambda_1=0.1, lambda_2=0.001, tol=0.001;, score=-0.377 total time=   0.7s\n",
      "[CV 3/5] END alpha_1=0.1, alpha_2=0.1, lambda_1=0.1, lambda_2=0.001, tol=0.001;, score=-0.387 total time=   0.7s\n",
      "[CV 4/5] END alpha_1=0.1, alpha_2=0.1, lambda_1=0.1, lambda_2=0.001, tol=0.001;, score=-0.394 total time=   0.7s\n",
      "[CV 5/5] END alpha_1=0.1, alpha_2=0.1, lambda_1=0.1, lambda_2=0.001, tol=0.001;, score=-0.401 total time=   0.8s\n",
      "[CV 1/5] END alpha_1=1e-05, alpha_2=1e-08, lambda_1=0.1, lambda_2=1e-08, tol=1e-05;, score=-0.393 total time=   0.9s\n",
      "[CV 2/5] END alpha_1=1e-05, alpha_2=1e-08, lambda_1=0.1, lambda_2=1e-08, tol=1e-05;, score=-0.377 total time=   0.8s\n",
      "[CV 3/5] END alpha_1=1e-05, alpha_2=1e-08, lambda_1=0.1, lambda_2=1e-08, tol=1e-05;, score=-0.387 total time=   0.8s\n",
      "[CV 4/5] END alpha_1=1e-05, alpha_2=1e-08, lambda_1=0.1, lambda_2=1e-08, tol=1e-05;, score=-0.394 total time=   0.8s\n",
      "[CV 5/5] END alpha_1=1e-05, alpha_2=1e-08, lambda_1=0.1, lambda_2=1e-08, tol=1e-05;, score=-0.401 total time=   0.8s\n",
      "[CV 1/5] END alpha_1=1e-05, alpha_2=0.001, lambda_1=0.001, lambda_2=1e-12, tol=0.001;, score=-0.393 total time=   0.8s\n",
      "[CV 2/5] END alpha_1=1e-05, alpha_2=0.001, lambda_1=0.001, lambda_2=1e-12, tol=0.001;, score=-0.377 total time=   0.8s\n",
      "[CV 3/5] END alpha_1=1e-05, alpha_2=0.001, lambda_1=0.001, lambda_2=1e-12, tol=0.001;, score=-0.387 total time=   0.8s\n",
      "[CV 4/5] END alpha_1=1e-05, alpha_2=0.001, lambda_1=0.001, lambda_2=1e-12, tol=0.001;, score=-0.394 total time=   0.9s\n",
      "[CV 5/5] END alpha_1=1e-05, alpha_2=0.001, lambda_1=0.001, lambda_2=1e-12, tol=0.001;, score=-0.401 total time=   0.8s\n",
      "[CV 1/5] END alpha_1=0.001, alpha_2=1e-05, lambda_1=0.001, lambda_2=0.001, tol=1e-12;, score=-0.393 total time=   0.9s\n",
      "[CV 2/5] END alpha_1=0.001, alpha_2=1e-05, lambda_1=0.001, lambda_2=0.001, tol=1e-12;, score=-0.377 total time=   0.9s\n",
      "[CV 3/5] END alpha_1=0.001, alpha_2=1e-05, lambda_1=0.001, lambda_2=0.001, tol=1e-12;, score=-0.387 total time=   0.8s\n",
      "[CV 4/5] END alpha_1=0.001, alpha_2=1e-05, lambda_1=0.001, lambda_2=0.001, tol=1e-12;, score=-0.394 total time=   0.8s\n",
      "[CV 5/5] END alpha_1=0.001, alpha_2=1e-05, lambda_1=0.001, lambda_2=0.001, tol=1e-12;, score=-0.401 total time=   0.9s\n",
      "[CV 1/5] END alpha_1=1e-12, alpha_2=1e-05, lambda_1=0.1, lambda_2=1e-08, tol=1e-08;, score=-0.393 total time=   0.8s\n",
      "[CV 2/5] END alpha_1=1e-12, alpha_2=1e-05, lambda_1=0.1, lambda_2=1e-08, tol=1e-08;, score=-0.377 total time=   0.7s\n",
      "[CV 3/5] END alpha_1=1e-12, alpha_2=1e-05, lambda_1=0.1, lambda_2=1e-08, tol=1e-08;, score=-0.387 total time=   0.8s\n",
      "[CV 4/5] END alpha_1=1e-12, alpha_2=1e-05, lambda_1=0.1, lambda_2=1e-08, tol=1e-08;, score=-0.394 total time=   0.7s\n",
      "[CV 5/5] END alpha_1=1e-12, alpha_2=1e-05, lambda_1=0.1, lambda_2=1e-08, tol=1e-08;, score=-0.401 total time=   0.8s\n"
     ]
    },
    {
     "name": "stderr",
     "output_type": "stream",
     "text": [
      "C:\\Python310\\lib\\site-packages\\sklearn\\model_selection\\_validation.py:776: UserWarning: Scoring failed. The score on this train-test partition for these parameters will be set to nan. Details: \n",
      "Traceback (most recent call last):\n",
      "  File \"C:\\Python310\\lib\\site-packages\\sklearn\\model_selection\\_validation.py\", line 767, in _score\n",
      "    scores = scorer(estimator, X_test, y_test)\n",
      "  File \"C:\\Python310\\lib\\site-packages\\sklearn\\metrics\\_scorer.py\", line 219, in __call__\n",
      "    return self._score(\n",
      "  File \"C:\\Python310\\lib\\site-packages\\sklearn\\metrics\\_scorer.py\", line 267, in _score\n",
      "    return self._sign * self._score_func(y_true, y_pred, **self._kwargs)\n",
      "  File \"C:\\Python310\\lib\\site-packages\\sklearn\\metrics\\_regression.py\", line 525, in mean_squared_log_error\n",
      "    raise ValueError(\n",
      "ValueError: Mean Squared Logarithmic Error cannot be used when targets contain negative values.\n",
      "\n",
      "  warnings.warn(\n"
     ]
    },
    {
     "name": "stdout",
     "output_type": "stream",
     "text": [
      "[CV 1/5] END alpha_1=1e-12, alpha_2=1e-05, lambda_1=1e-12, lambda_2=1e-05, tol=0.001;, score=nan total time=   1.0s\n"
     ]
    },
    {
     "name": "stderr",
     "output_type": "stream",
     "text": [
      "C:\\Python310\\lib\\site-packages\\sklearn\\model_selection\\_validation.py:776: UserWarning: Scoring failed. The score on this train-test partition for these parameters will be set to nan. Details: \n",
      "Traceback (most recent call last):\n",
      "  File \"C:\\Python310\\lib\\site-packages\\sklearn\\model_selection\\_validation.py\", line 767, in _score\n",
      "    scores = scorer(estimator, X_test, y_test)\n",
      "  File \"C:\\Python310\\lib\\site-packages\\sklearn\\metrics\\_scorer.py\", line 219, in __call__\n",
      "    return self._score(\n",
      "  File \"C:\\Python310\\lib\\site-packages\\sklearn\\metrics\\_scorer.py\", line 267, in _score\n",
      "    return self._sign * self._score_func(y_true, y_pred, **self._kwargs)\n",
      "  File \"C:\\Python310\\lib\\site-packages\\sklearn\\metrics\\_regression.py\", line 525, in mean_squared_log_error\n",
      "    raise ValueError(\n",
      "ValueError: Mean Squared Logarithmic Error cannot be used when targets contain negative values.\n",
      "\n",
      "  warnings.warn(\n"
     ]
    },
    {
     "name": "stdout",
     "output_type": "stream",
     "text": [
      "[CV 2/5] END alpha_1=1e-12, alpha_2=1e-05, lambda_1=1e-12, lambda_2=1e-05, tol=0.001;, score=nan total time=   0.9s\n",
      "[CV 3/5] END alpha_1=1e-12, alpha_2=1e-05, lambda_1=1e-12, lambda_2=1e-05, tol=0.001;, score=-0.274 total time=   1.0s\n"
     ]
    },
    {
     "name": "stderr",
     "output_type": "stream",
     "text": [
      "C:\\Python310\\lib\\site-packages\\sklearn\\model_selection\\_validation.py:776: UserWarning: Scoring failed. The score on this train-test partition for these parameters will be set to nan. Details: \n",
      "Traceback (most recent call last):\n",
      "  File \"C:\\Python310\\lib\\site-packages\\sklearn\\model_selection\\_validation.py\", line 767, in _score\n",
      "    scores = scorer(estimator, X_test, y_test)\n",
      "  File \"C:\\Python310\\lib\\site-packages\\sklearn\\metrics\\_scorer.py\", line 219, in __call__\n",
      "    return self._score(\n",
      "  File \"C:\\Python310\\lib\\site-packages\\sklearn\\metrics\\_scorer.py\", line 267, in _score\n",
      "    return self._sign * self._score_func(y_true, y_pred, **self._kwargs)\n",
      "  File \"C:\\Python310\\lib\\site-packages\\sklearn\\metrics\\_regression.py\", line 525, in mean_squared_log_error\n",
      "    raise ValueError(\n",
      "ValueError: Mean Squared Logarithmic Error cannot be used when targets contain negative values.\n",
      "\n",
      "  warnings.warn(\n"
     ]
    },
    {
     "name": "stdout",
     "output_type": "stream",
     "text": [
      "[CV 4/5] END alpha_1=1e-12, alpha_2=1e-05, lambda_1=1e-12, lambda_2=1e-05, tol=0.001;, score=nan total time=   1.0s\n"
     ]
    },
    {
     "name": "stderr",
     "output_type": "stream",
     "text": [
      "C:\\Python310\\lib\\site-packages\\sklearn\\model_selection\\_validation.py:776: UserWarning: Scoring failed. The score on this train-test partition for these parameters will be set to nan. Details: \n",
      "Traceback (most recent call last):\n",
      "  File \"C:\\Python310\\lib\\site-packages\\sklearn\\model_selection\\_validation.py\", line 767, in _score\n",
      "    scores = scorer(estimator, X_test, y_test)\n",
      "  File \"C:\\Python310\\lib\\site-packages\\sklearn\\metrics\\_scorer.py\", line 219, in __call__\n",
      "    return self._score(\n",
      "  File \"C:\\Python310\\lib\\site-packages\\sklearn\\metrics\\_scorer.py\", line 267, in _score\n",
      "    return self._sign * self._score_func(y_true, y_pred, **self._kwargs)\n",
      "  File \"C:\\Python310\\lib\\site-packages\\sklearn\\metrics\\_regression.py\", line 525, in mean_squared_log_error\n",
      "    raise ValueError(\n",
      "ValueError: Mean Squared Logarithmic Error cannot be used when targets contain negative values.\n",
      "\n",
      "  warnings.warn(\n"
     ]
    },
    {
     "name": "stdout",
     "output_type": "stream",
     "text": [
      "[CV 5/5] END alpha_1=1e-12, alpha_2=1e-05, lambda_1=1e-12, lambda_2=1e-05, tol=0.001;, score=nan total time=   1.0s\n"
     ]
    },
    {
     "name": "stderr",
     "output_type": "stream",
     "text": [
      "C:\\Python310\\lib\\site-packages\\sklearn\\model_selection\\_validation.py:776: UserWarning: Scoring failed. The score on this train-test partition for these parameters will be set to nan. Details: \n",
      "Traceback (most recent call last):\n",
      "  File \"C:\\Python310\\lib\\site-packages\\sklearn\\model_selection\\_validation.py\", line 767, in _score\n",
      "    scores = scorer(estimator, X_test, y_test)\n",
      "  File \"C:\\Python310\\lib\\site-packages\\sklearn\\metrics\\_scorer.py\", line 219, in __call__\n",
      "    return self._score(\n",
      "  File \"C:\\Python310\\lib\\site-packages\\sklearn\\metrics\\_scorer.py\", line 267, in _score\n",
      "    return self._sign * self._score_func(y_true, y_pred, **self._kwargs)\n",
      "  File \"C:\\Python310\\lib\\site-packages\\sklearn\\metrics\\_regression.py\", line 525, in mean_squared_log_error\n",
      "    raise ValueError(\n",
      "ValueError: Mean Squared Logarithmic Error cannot be used when targets contain negative values.\n",
      "\n",
      "  warnings.warn(\n"
     ]
    },
    {
     "name": "stdout",
     "output_type": "stream",
     "text": [
      "[CV 1/5] END alpha_1=0.1, alpha_2=0.1, lambda_1=1e-08, lambda_2=0.1, tol=0.1;, score=nan total time=   0.9s\n"
     ]
    },
    {
     "name": "stderr",
     "output_type": "stream",
     "text": [
      "C:\\Python310\\lib\\site-packages\\sklearn\\model_selection\\_validation.py:776: UserWarning: Scoring failed. The score on this train-test partition for these parameters will be set to nan. Details: \n",
      "Traceback (most recent call last):\n",
      "  File \"C:\\Python310\\lib\\site-packages\\sklearn\\model_selection\\_validation.py\", line 767, in _score\n",
      "    scores = scorer(estimator, X_test, y_test)\n",
      "  File \"C:\\Python310\\lib\\site-packages\\sklearn\\metrics\\_scorer.py\", line 219, in __call__\n",
      "    return self._score(\n",
      "  File \"C:\\Python310\\lib\\site-packages\\sklearn\\metrics\\_scorer.py\", line 267, in _score\n",
      "    return self._sign * self._score_func(y_true, y_pred, **self._kwargs)\n",
      "  File \"C:\\Python310\\lib\\site-packages\\sklearn\\metrics\\_regression.py\", line 525, in mean_squared_log_error\n",
      "    raise ValueError(\n",
      "ValueError: Mean Squared Logarithmic Error cannot be used when targets contain negative values.\n",
      "\n",
      "  warnings.warn(\n"
     ]
    },
    {
     "name": "stdout",
     "output_type": "stream",
     "text": [
      "[CV 2/5] END alpha_1=0.1, alpha_2=0.1, lambda_1=1e-08, lambda_2=0.1, tol=0.1;, score=nan total time=   0.9s\n",
      "[CV 3/5] END alpha_1=0.1, alpha_2=0.1, lambda_1=1e-08, lambda_2=0.1, tol=0.1;, score=-0.274 total time=   0.9s\n"
     ]
    },
    {
     "name": "stderr",
     "output_type": "stream",
     "text": [
      "C:\\Python310\\lib\\site-packages\\sklearn\\model_selection\\_validation.py:776: UserWarning: Scoring failed. The score on this train-test partition for these parameters will be set to nan. Details: \n",
      "Traceback (most recent call last):\n",
      "  File \"C:\\Python310\\lib\\site-packages\\sklearn\\model_selection\\_validation.py\", line 767, in _score\n",
      "    scores = scorer(estimator, X_test, y_test)\n",
      "  File \"C:\\Python310\\lib\\site-packages\\sklearn\\metrics\\_scorer.py\", line 219, in __call__\n",
      "    return self._score(\n",
      "  File \"C:\\Python310\\lib\\site-packages\\sklearn\\metrics\\_scorer.py\", line 267, in _score\n",
      "    return self._sign * self._score_func(y_true, y_pred, **self._kwargs)\n",
      "  File \"C:\\Python310\\lib\\site-packages\\sklearn\\metrics\\_regression.py\", line 525, in mean_squared_log_error\n",
      "    raise ValueError(\n",
      "ValueError: Mean Squared Logarithmic Error cannot be used when targets contain negative values.\n",
      "\n",
      "  warnings.warn(\n"
     ]
    },
    {
     "name": "stdout",
     "output_type": "stream",
     "text": [
      "[CV 4/5] END alpha_1=0.1, alpha_2=0.1, lambda_1=1e-08, lambda_2=0.1, tol=0.1;, score=nan total time=   0.9s\n"
     ]
    },
    {
     "name": "stderr",
     "output_type": "stream",
     "text": [
      "C:\\Python310\\lib\\site-packages\\sklearn\\model_selection\\_validation.py:776: UserWarning: Scoring failed. The score on this train-test partition for these parameters will be set to nan. Details: \n",
      "Traceback (most recent call last):\n",
      "  File \"C:\\Python310\\lib\\site-packages\\sklearn\\model_selection\\_validation.py\", line 767, in _score\n",
      "    scores = scorer(estimator, X_test, y_test)\n",
      "  File \"C:\\Python310\\lib\\site-packages\\sklearn\\metrics\\_scorer.py\", line 219, in __call__\n",
      "    return self._score(\n",
      "  File \"C:\\Python310\\lib\\site-packages\\sklearn\\metrics\\_scorer.py\", line 267, in _score\n",
      "    return self._sign * self._score_func(y_true, y_pred, **self._kwargs)\n",
      "  File \"C:\\Python310\\lib\\site-packages\\sklearn\\metrics\\_regression.py\", line 525, in mean_squared_log_error\n",
      "    raise ValueError(\n",
      "ValueError: Mean Squared Logarithmic Error cannot be used when targets contain negative values.\n",
      "\n",
      "  warnings.warn(\n"
     ]
    },
    {
     "name": "stdout",
     "output_type": "stream",
     "text": [
      "[CV 5/5] END alpha_1=0.1, alpha_2=0.1, lambda_1=1e-08, lambda_2=0.1, tol=0.1;, score=nan total time=   0.9s\n"
     ]
    },
    {
     "name": "stderr",
     "output_type": "stream",
     "text": [
      "C:\\Python310\\lib\\site-packages\\sklearn\\model_selection\\_validation.py:776: UserWarning: Scoring failed. The score on this train-test partition for these parameters will be set to nan. Details: \n",
      "Traceback (most recent call last):\n",
      "  File \"C:\\Python310\\lib\\site-packages\\sklearn\\model_selection\\_validation.py\", line 767, in _score\n",
      "    scores = scorer(estimator, X_test, y_test)\n",
      "  File \"C:\\Python310\\lib\\site-packages\\sklearn\\metrics\\_scorer.py\", line 219, in __call__\n",
      "    return self._score(\n",
      "  File \"C:\\Python310\\lib\\site-packages\\sklearn\\metrics\\_scorer.py\", line 267, in _score\n",
      "    return self._sign * self._score_func(y_true, y_pred, **self._kwargs)\n",
      "  File \"C:\\Python310\\lib\\site-packages\\sklearn\\metrics\\_regression.py\", line 525, in mean_squared_log_error\n",
      "    raise ValueError(\n",
      "ValueError: Mean Squared Logarithmic Error cannot be used when targets contain negative values.\n",
      "\n",
      "  warnings.warn(\n"
     ]
    },
    {
     "name": "stdout",
     "output_type": "stream",
     "text": [
      "[CV 1/5] END alpha_1=1e-08, alpha_2=1e-05, lambda_1=1e-05, lambda_2=1e-05, tol=0.1;, score=nan total time=   1.0s\n"
     ]
    },
    {
     "name": "stderr",
     "output_type": "stream",
     "text": [
      "C:\\Python310\\lib\\site-packages\\sklearn\\model_selection\\_validation.py:776: UserWarning: Scoring failed. The score on this train-test partition for these parameters will be set to nan. Details: \n",
      "Traceback (most recent call last):\n",
      "  File \"C:\\Python310\\lib\\site-packages\\sklearn\\model_selection\\_validation.py\", line 767, in _score\n",
      "    scores = scorer(estimator, X_test, y_test)\n",
      "  File \"C:\\Python310\\lib\\site-packages\\sklearn\\metrics\\_scorer.py\", line 219, in __call__\n",
      "    return self._score(\n",
      "  File \"C:\\Python310\\lib\\site-packages\\sklearn\\metrics\\_scorer.py\", line 267, in _score\n",
      "    return self._sign * self._score_func(y_true, y_pred, **self._kwargs)\n",
      "  File \"C:\\Python310\\lib\\site-packages\\sklearn\\metrics\\_regression.py\", line 525, in mean_squared_log_error\n",
      "    raise ValueError(\n",
      "ValueError: Mean Squared Logarithmic Error cannot be used when targets contain negative values.\n",
      "\n",
      "  warnings.warn(\n"
     ]
    },
    {
     "name": "stdout",
     "output_type": "stream",
     "text": [
      "[CV 2/5] END alpha_1=1e-08, alpha_2=1e-05, lambda_1=1e-05, lambda_2=1e-05, tol=0.1;, score=nan total time=   0.9s\n",
      "[CV 3/5] END alpha_1=1e-08, alpha_2=1e-05, lambda_1=1e-05, lambda_2=1e-05, tol=0.1;, score=-0.274 total time=   1.0s\n"
     ]
    },
    {
     "name": "stderr",
     "output_type": "stream",
     "text": [
      "C:\\Python310\\lib\\site-packages\\sklearn\\model_selection\\_validation.py:776: UserWarning: Scoring failed. The score on this train-test partition for these parameters will be set to nan. Details: \n",
      "Traceback (most recent call last):\n",
      "  File \"C:\\Python310\\lib\\site-packages\\sklearn\\model_selection\\_validation.py\", line 767, in _score\n",
      "    scores = scorer(estimator, X_test, y_test)\n",
      "  File \"C:\\Python310\\lib\\site-packages\\sklearn\\metrics\\_scorer.py\", line 219, in __call__\n",
      "    return self._score(\n",
      "  File \"C:\\Python310\\lib\\site-packages\\sklearn\\metrics\\_scorer.py\", line 267, in _score\n",
      "    return self._sign * self._score_func(y_true, y_pred, **self._kwargs)\n",
      "  File \"C:\\Python310\\lib\\site-packages\\sklearn\\metrics\\_regression.py\", line 525, in mean_squared_log_error\n",
      "    raise ValueError(\n",
      "ValueError: Mean Squared Logarithmic Error cannot be used when targets contain negative values.\n",
      "\n",
      "  warnings.warn(\n"
     ]
    },
    {
     "name": "stdout",
     "output_type": "stream",
     "text": [
      "[CV 4/5] END alpha_1=1e-08, alpha_2=1e-05, lambda_1=1e-05, lambda_2=1e-05, tol=0.1;, score=nan total time=   0.9s\n"
     ]
    },
    {
     "name": "stderr",
     "output_type": "stream",
     "text": [
      "C:\\Python310\\lib\\site-packages\\sklearn\\model_selection\\_validation.py:776: UserWarning: Scoring failed. The score on this train-test partition for these parameters will be set to nan. Details: \n",
      "Traceback (most recent call last):\n",
      "  File \"C:\\Python310\\lib\\site-packages\\sklearn\\model_selection\\_validation.py\", line 767, in _score\n",
      "    scores = scorer(estimator, X_test, y_test)\n",
      "  File \"C:\\Python310\\lib\\site-packages\\sklearn\\metrics\\_scorer.py\", line 219, in __call__\n",
      "    return self._score(\n",
      "  File \"C:\\Python310\\lib\\site-packages\\sklearn\\metrics\\_scorer.py\", line 267, in _score\n",
      "    return self._sign * self._score_func(y_true, y_pred, **self._kwargs)\n",
      "  File \"C:\\Python310\\lib\\site-packages\\sklearn\\metrics\\_regression.py\", line 525, in mean_squared_log_error\n",
      "    raise ValueError(\n",
      "ValueError: Mean Squared Logarithmic Error cannot be used when targets contain negative values.\n",
      "\n",
      "  warnings.warn(\n"
     ]
    },
    {
     "name": "stdout",
     "output_type": "stream",
     "text": [
      "[CV 5/5] END alpha_1=1e-08, alpha_2=1e-05, lambda_1=1e-05, lambda_2=1e-05, tol=0.1;, score=nan total time=   0.9s\n"
     ]
    },
    {
     "name": "stderr",
     "output_type": "stream",
     "text": [
      "C:\\Python310\\lib\\site-packages\\sklearn\\model_selection\\_validation.py:776: UserWarning: Scoring failed. The score on this train-test partition for these parameters will be set to nan. Details: \n",
      "Traceback (most recent call last):\n",
      "  File \"C:\\Python310\\lib\\site-packages\\sklearn\\model_selection\\_validation.py\", line 767, in _score\n",
      "    scores = scorer(estimator, X_test, y_test)\n",
      "  File \"C:\\Python310\\lib\\site-packages\\sklearn\\metrics\\_scorer.py\", line 219, in __call__\n",
      "    return self._score(\n",
      "  File \"C:\\Python310\\lib\\site-packages\\sklearn\\metrics\\_scorer.py\", line 267, in _score\n",
      "    return self._sign * self._score_func(y_true, y_pred, **self._kwargs)\n",
      "  File \"C:\\Python310\\lib\\site-packages\\sklearn\\metrics\\_regression.py\", line 525, in mean_squared_log_error\n",
      "    raise ValueError(\n",
      "ValueError: Mean Squared Logarithmic Error cannot be used when targets contain negative values.\n",
      "\n",
      "  warnings.warn(\n"
     ]
    },
    {
     "name": "stdout",
     "output_type": "stream",
     "text": [
      "[CV 1/5] END alpha_1=0.001, alpha_2=1e-05, lambda_1=1e-08, lambda_2=0.001, tol=0.1;, score=nan total time=   0.9s\n"
     ]
    },
    {
     "name": "stderr",
     "output_type": "stream",
     "text": [
      "C:\\Python310\\lib\\site-packages\\sklearn\\model_selection\\_validation.py:776: UserWarning: Scoring failed. The score on this train-test partition for these parameters will be set to nan. Details: \n",
      "Traceback (most recent call last):\n",
      "  File \"C:\\Python310\\lib\\site-packages\\sklearn\\model_selection\\_validation.py\", line 767, in _score\n",
      "    scores = scorer(estimator, X_test, y_test)\n",
      "  File \"C:\\Python310\\lib\\site-packages\\sklearn\\metrics\\_scorer.py\", line 219, in __call__\n",
      "    return self._score(\n",
      "  File \"C:\\Python310\\lib\\site-packages\\sklearn\\metrics\\_scorer.py\", line 267, in _score\n",
      "    return self._sign * self._score_func(y_true, y_pred, **self._kwargs)\n",
      "  File \"C:\\Python310\\lib\\site-packages\\sklearn\\metrics\\_regression.py\", line 525, in mean_squared_log_error\n",
      "    raise ValueError(\n",
      "ValueError: Mean Squared Logarithmic Error cannot be used when targets contain negative values.\n",
      "\n",
      "  warnings.warn(\n"
     ]
    },
    {
     "name": "stdout",
     "output_type": "stream",
     "text": [
      "[CV 2/5] END alpha_1=0.001, alpha_2=1e-05, lambda_1=1e-08, lambda_2=0.001, tol=0.1;, score=nan total time=   0.9s\n",
      "[CV 3/5] END alpha_1=0.001, alpha_2=1e-05, lambda_1=1e-08, lambda_2=0.001, tol=0.1;, score=-0.274 total time=   0.9s\n"
     ]
    },
    {
     "name": "stderr",
     "output_type": "stream",
     "text": [
      "C:\\Python310\\lib\\site-packages\\sklearn\\model_selection\\_validation.py:776: UserWarning: Scoring failed. The score on this train-test partition for these parameters will be set to nan. Details: \n",
      "Traceback (most recent call last):\n",
      "  File \"C:\\Python310\\lib\\site-packages\\sklearn\\model_selection\\_validation.py\", line 767, in _score\n",
      "    scores = scorer(estimator, X_test, y_test)\n",
      "  File \"C:\\Python310\\lib\\site-packages\\sklearn\\metrics\\_scorer.py\", line 219, in __call__\n",
      "    return self._score(\n",
      "  File \"C:\\Python310\\lib\\site-packages\\sklearn\\metrics\\_scorer.py\", line 267, in _score\n",
      "    return self._sign * self._score_func(y_true, y_pred, **self._kwargs)\n",
      "  File \"C:\\Python310\\lib\\site-packages\\sklearn\\metrics\\_regression.py\", line 525, in mean_squared_log_error\n",
      "    raise ValueError(\n",
      "ValueError: Mean Squared Logarithmic Error cannot be used when targets contain negative values.\n",
      "\n",
      "  warnings.warn(\n"
     ]
    },
    {
     "name": "stdout",
     "output_type": "stream",
     "text": [
      "[CV 4/5] END alpha_1=0.001, alpha_2=1e-05, lambda_1=1e-08, lambda_2=0.001, tol=0.1;, score=nan total time=   0.9s\n"
     ]
    },
    {
     "name": "stderr",
     "output_type": "stream",
     "text": [
      "C:\\Python310\\lib\\site-packages\\sklearn\\model_selection\\_validation.py:776: UserWarning: Scoring failed. The score on this train-test partition for these parameters will be set to nan. Details: \n",
      "Traceback (most recent call last):\n",
      "  File \"C:\\Python310\\lib\\site-packages\\sklearn\\model_selection\\_validation.py\", line 767, in _score\n",
      "    scores = scorer(estimator, X_test, y_test)\n",
      "  File \"C:\\Python310\\lib\\site-packages\\sklearn\\metrics\\_scorer.py\", line 219, in __call__\n",
      "    return self._score(\n",
      "  File \"C:\\Python310\\lib\\site-packages\\sklearn\\metrics\\_scorer.py\", line 267, in _score\n",
      "    return self._sign * self._score_func(y_true, y_pred, **self._kwargs)\n",
      "  File \"C:\\Python310\\lib\\site-packages\\sklearn\\metrics\\_regression.py\", line 525, in mean_squared_log_error\n",
      "    raise ValueError(\n",
      "ValueError: Mean Squared Logarithmic Error cannot be used when targets contain negative values.\n",
      "\n",
      "  warnings.warn(\n"
     ]
    },
    {
     "name": "stdout",
     "output_type": "stream",
     "text": [
      "[CV 5/5] END alpha_1=0.001, alpha_2=1e-05, lambda_1=1e-08, lambda_2=0.001, tol=0.1;, score=nan total time=   0.8s\n"
     ]
    },
    {
     "name": "stderr",
     "output_type": "stream",
     "text": [
      "C:\\Python310\\lib\\site-packages\\sklearn\\model_selection\\_validation.py:776: UserWarning: Scoring failed. The score on this train-test partition for these parameters will be set to nan. Details: \n",
      "Traceback (most recent call last):\n",
      "  File \"C:\\Python310\\lib\\site-packages\\sklearn\\model_selection\\_validation.py\", line 767, in _score\n",
      "    scores = scorer(estimator, X_test, y_test)\n",
      "  File \"C:\\Python310\\lib\\site-packages\\sklearn\\metrics\\_scorer.py\", line 219, in __call__\n",
      "    return self._score(\n",
      "  File \"C:\\Python310\\lib\\site-packages\\sklearn\\metrics\\_scorer.py\", line 267, in _score\n",
      "    return self._sign * self._score_func(y_true, y_pred, **self._kwargs)\n",
      "  File \"C:\\Python310\\lib\\site-packages\\sklearn\\metrics\\_regression.py\", line 525, in mean_squared_log_error\n",
      "    raise ValueError(\n",
      "ValueError: Mean Squared Logarithmic Error cannot be used when targets contain negative values.\n",
      "\n",
      "  warnings.warn(\n"
     ]
    },
    {
     "name": "stdout",
     "output_type": "stream",
     "text": [
      "[CV 1/5] END alpha_1=1e-12, alpha_2=0.1, lambda_1=1e-12, lambda_2=1e-05, tol=0.1;, score=nan total time=   1.0s\n"
     ]
    },
    {
     "name": "stderr",
     "output_type": "stream",
     "text": [
      "C:\\Python310\\lib\\site-packages\\sklearn\\model_selection\\_validation.py:776: UserWarning: Scoring failed. The score on this train-test partition for these parameters will be set to nan. Details: \n",
      "Traceback (most recent call last):\n",
      "  File \"C:\\Python310\\lib\\site-packages\\sklearn\\model_selection\\_validation.py\", line 767, in _score\n",
      "    scores = scorer(estimator, X_test, y_test)\n",
      "  File \"C:\\Python310\\lib\\site-packages\\sklearn\\metrics\\_scorer.py\", line 219, in __call__\n",
      "    return self._score(\n",
      "  File \"C:\\Python310\\lib\\site-packages\\sklearn\\metrics\\_scorer.py\", line 267, in _score\n",
      "    return self._sign * self._score_func(y_true, y_pred, **self._kwargs)\n",
      "  File \"C:\\Python310\\lib\\site-packages\\sklearn\\metrics\\_regression.py\", line 525, in mean_squared_log_error\n",
      "    raise ValueError(\n",
      "ValueError: Mean Squared Logarithmic Error cannot be used when targets contain negative values.\n",
      "\n",
      "  warnings.warn(\n"
     ]
    },
    {
     "name": "stdout",
     "output_type": "stream",
     "text": [
      "[CV 2/5] END alpha_1=1e-12, alpha_2=0.1, lambda_1=1e-12, lambda_2=1e-05, tol=0.1;, score=nan total time=   0.9s\n",
      "[CV 3/5] END alpha_1=1e-12, alpha_2=0.1, lambda_1=1e-12, lambda_2=1e-05, tol=0.1;, score=-0.274 total time=   1.0s\n"
     ]
    },
    {
     "name": "stderr",
     "output_type": "stream",
     "text": [
      "C:\\Python310\\lib\\site-packages\\sklearn\\model_selection\\_validation.py:776: UserWarning: Scoring failed. The score on this train-test partition for these parameters will be set to nan. Details: \n",
      "Traceback (most recent call last):\n",
      "  File \"C:\\Python310\\lib\\site-packages\\sklearn\\model_selection\\_validation.py\", line 767, in _score\n",
      "    scores = scorer(estimator, X_test, y_test)\n",
      "  File \"C:\\Python310\\lib\\site-packages\\sklearn\\metrics\\_scorer.py\", line 219, in __call__\n",
      "    return self._score(\n",
      "  File \"C:\\Python310\\lib\\site-packages\\sklearn\\metrics\\_scorer.py\", line 267, in _score\n",
      "    return self._sign * self._score_func(y_true, y_pred, **self._kwargs)\n",
      "  File \"C:\\Python310\\lib\\site-packages\\sklearn\\metrics\\_regression.py\", line 525, in mean_squared_log_error\n",
      "    raise ValueError(\n",
      "ValueError: Mean Squared Logarithmic Error cannot be used when targets contain negative values.\n",
      "\n",
      "  warnings.warn(\n"
     ]
    },
    {
     "name": "stdout",
     "output_type": "stream",
     "text": [
      "[CV 4/5] END alpha_1=1e-12, alpha_2=0.1, lambda_1=1e-12, lambda_2=1e-05, tol=0.1;, score=nan total time=   0.9s\n"
     ]
    },
    {
     "name": "stderr",
     "output_type": "stream",
     "text": [
      "C:\\Python310\\lib\\site-packages\\sklearn\\model_selection\\_validation.py:776: UserWarning: Scoring failed. The score on this train-test partition for these parameters will be set to nan. Details: \n",
      "Traceback (most recent call last):\n",
      "  File \"C:\\Python310\\lib\\site-packages\\sklearn\\model_selection\\_validation.py\", line 767, in _score\n",
      "    scores = scorer(estimator, X_test, y_test)\n",
      "  File \"C:\\Python310\\lib\\site-packages\\sklearn\\metrics\\_scorer.py\", line 219, in __call__\n",
      "    return self._score(\n",
      "  File \"C:\\Python310\\lib\\site-packages\\sklearn\\metrics\\_scorer.py\", line 267, in _score\n",
      "    return self._sign * self._score_func(y_true, y_pred, **self._kwargs)\n",
      "  File \"C:\\Python310\\lib\\site-packages\\sklearn\\metrics\\_regression.py\", line 525, in mean_squared_log_error\n",
      "    raise ValueError(\n",
      "ValueError: Mean Squared Logarithmic Error cannot be used when targets contain negative values.\n",
      "\n",
      "  warnings.warn(\n"
     ]
    },
    {
     "name": "stdout",
     "output_type": "stream",
     "text": [
      "[CV 5/5] END alpha_1=1e-12, alpha_2=0.1, lambda_1=1e-12, lambda_2=1e-05, tol=0.1;, score=nan total time=   0.9s\n"
     ]
    },
    {
     "name": "stderr",
     "output_type": "stream",
     "text": [
      "C:\\Python310\\lib\\site-packages\\sklearn\\model_selection\\_validation.py:776: UserWarning: Scoring failed. The score on this train-test partition for these parameters will be set to nan. Details: \n",
      "Traceback (most recent call last):\n",
      "  File \"C:\\Python310\\lib\\site-packages\\sklearn\\model_selection\\_validation.py\", line 767, in _score\n",
      "    scores = scorer(estimator, X_test, y_test)\n",
      "  File \"C:\\Python310\\lib\\site-packages\\sklearn\\metrics\\_scorer.py\", line 219, in __call__\n",
      "    return self._score(\n",
      "  File \"C:\\Python310\\lib\\site-packages\\sklearn\\metrics\\_scorer.py\", line 267, in _score\n",
      "    return self._sign * self._score_func(y_true, y_pred, **self._kwargs)\n",
      "  File \"C:\\Python310\\lib\\site-packages\\sklearn\\metrics\\_regression.py\", line 525, in mean_squared_log_error\n",
      "    raise ValueError(\n",
      "ValueError: Mean Squared Logarithmic Error cannot be used when targets contain negative values.\n",
      "\n",
      "  warnings.warn(\n"
     ]
    },
    {
     "name": "stdout",
     "output_type": "stream",
     "text": [
      "[CV 1/5] END alpha_1=0.1, alpha_2=1e-08, lambda_1=1e-05, lambda_2=1e-05, tol=1e-08;, score=nan total time=   1.1s\n"
     ]
    },
    {
     "name": "stderr",
     "output_type": "stream",
     "text": [
      "C:\\Python310\\lib\\site-packages\\sklearn\\model_selection\\_validation.py:776: UserWarning: Scoring failed. The score on this train-test partition for these parameters will be set to nan. Details: \n",
      "Traceback (most recent call last):\n",
      "  File \"C:\\Python310\\lib\\site-packages\\sklearn\\model_selection\\_validation.py\", line 767, in _score\n",
      "    scores = scorer(estimator, X_test, y_test)\n",
      "  File \"C:\\Python310\\lib\\site-packages\\sklearn\\metrics\\_scorer.py\", line 219, in __call__\n",
      "    return self._score(\n",
      "  File \"C:\\Python310\\lib\\site-packages\\sklearn\\metrics\\_scorer.py\", line 267, in _score\n",
      "    return self._sign * self._score_func(y_true, y_pred, **self._kwargs)\n",
      "  File \"C:\\Python310\\lib\\site-packages\\sklearn\\metrics\\_regression.py\", line 525, in mean_squared_log_error\n",
      "    raise ValueError(\n",
      "ValueError: Mean Squared Logarithmic Error cannot be used when targets contain negative values.\n",
      "\n",
      "  warnings.warn(\n"
     ]
    },
    {
     "name": "stdout",
     "output_type": "stream",
     "text": [
      "[CV 2/5] END alpha_1=0.1, alpha_2=1e-08, lambda_1=1e-05, lambda_2=1e-05, tol=1e-08;, score=nan total time=   2.5s\n",
      "[CV 3/5] END alpha_1=0.1, alpha_2=1e-08, lambda_1=1e-05, lambda_2=1e-05, tol=1e-08;, score=-0.274 total time=   2.6s\n"
     ]
    },
    {
     "name": "stderr",
     "output_type": "stream",
     "text": [
      "C:\\Python310\\lib\\site-packages\\sklearn\\model_selection\\_validation.py:776: UserWarning: Scoring failed. The score on this train-test partition for these parameters will be set to nan. Details: \n",
      "Traceback (most recent call last):\n",
      "  File \"C:\\Python310\\lib\\site-packages\\sklearn\\model_selection\\_validation.py\", line 767, in _score\n",
      "    scores = scorer(estimator, X_test, y_test)\n",
      "  File \"C:\\Python310\\lib\\site-packages\\sklearn\\metrics\\_scorer.py\", line 219, in __call__\n",
      "    return self._score(\n",
      "  File \"C:\\Python310\\lib\\site-packages\\sklearn\\metrics\\_scorer.py\", line 267, in _score\n",
      "    return self._sign * self._score_func(y_true, y_pred, **self._kwargs)\n",
      "  File \"C:\\Python310\\lib\\site-packages\\sklearn\\metrics\\_regression.py\", line 525, in mean_squared_log_error\n",
      "    raise ValueError(\n",
      "ValueError: Mean Squared Logarithmic Error cannot be used when targets contain negative values.\n",
      "\n",
      "  warnings.warn(\n"
     ]
    },
    {
     "name": "stdout",
     "output_type": "stream",
     "text": [
      "[CV 4/5] END alpha_1=0.1, alpha_2=1e-08, lambda_1=1e-05, lambda_2=1e-05, tol=1e-08;, score=nan total time=   2.6s\n"
     ]
    },
    {
     "name": "stderr",
     "output_type": "stream",
     "text": [
      "C:\\Python310\\lib\\site-packages\\sklearn\\model_selection\\_validation.py:776: UserWarning: Scoring failed. The score on this train-test partition for these parameters will be set to nan. Details: \n",
      "Traceback (most recent call last):\n",
      "  File \"C:\\Python310\\lib\\site-packages\\sklearn\\model_selection\\_validation.py\", line 767, in _score\n",
      "    scores = scorer(estimator, X_test, y_test)\n",
      "  File \"C:\\Python310\\lib\\site-packages\\sklearn\\metrics\\_scorer.py\", line 219, in __call__\n",
      "    return self._score(\n",
      "  File \"C:\\Python310\\lib\\site-packages\\sklearn\\metrics\\_scorer.py\", line 267, in _score\n",
      "    return self._sign * self._score_func(y_true, y_pred, **self._kwargs)\n",
      "  File \"C:\\Python310\\lib\\site-packages\\sklearn\\metrics\\_regression.py\", line 525, in mean_squared_log_error\n",
      "    raise ValueError(\n",
      "ValueError: Mean Squared Logarithmic Error cannot be used when targets contain negative values.\n",
      "\n",
      "  warnings.warn(\n"
     ]
    },
    {
     "name": "stdout",
     "output_type": "stream",
     "text": [
      "[CV 5/5] END alpha_1=0.1, alpha_2=1e-08, lambda_1=1e-05, lambda_2=1e-05, tol=1e-08;, score=nan total time=   2.4s\n"
     ]
    },
    {
     "name": "stderr",
     "output_type": "stream",
     "text": [
      "C:\\Python310\\lib\\site-packages\\sklearn\\model_selection\\_validation.py:776: UserWarning: Scoring failed. The score on this train-test partition for these parameters will be set to nan. Details: \n",
      "Traceback (most recent call last):\n",
      "  File \"C:\\Python310\\lib\\site-packages\\sklearn\\model_selection\\_validation.py\", line 767, in _score\n",
      "    scores = scorer(estimator, X_test, y_test)\n",
      "  File \"C:\\Python310\\lib\\site-packages\\sklearn\\metrics\\_scorer.py\", line 219, in __call__\n",
      "    return self._score(\n",
      "  File \"C:\\Python310\\lib\\site-packages\\sklearn\\metrics\\_scorer.py\", line 267, in _score\n",
      "    return self._sign * self._score_func(y_true, y_pred, **self._kwargs)\n",
      "  File \"C:\\Python310\\lib\\site-packages\\sklearn\\metrics\\_regression.py\", line 525, in mean_squared_log_error\n",
      "    raise ValueError(\n",
      "ValueError: Mean Squared Logarithmic Error cannot be used when targets contain negative values.\n",
      "\n",
      "  warnings.warn(\n"
     ]
    },
    {
     "name": "stdout",
     "output_type": "stream",
     "text": [
      "[CV 1/5] END alpha_1=1e-05, alpha_2=0.001, lambda_1=1e-05, lambda_2=0.1, tol=0.001;, score=nan total time=   1.0s\n"
     ]
    },
    {
     "name": "stderr",
     "output_type": "stream",
     "text": [
      "C:\\Python310\\lib\\site-packages\\sklearn\\model_selection\\_validation.py:776: UserWarning: Scoring failed. The score on this train-test partition for these parameters will be set to nan. Details: \n",
      "Traceback (most recent call last):\n",
      "  File \"C:\\Python310\\lib\\site-packages\\sklearn\\model_selection\\_validation.py\", line 767, in _score\n",
      "    scores = scorer(estimator, X_test, y_test)\n",
      "  File \"C:\\Python310\\lib\\site-packages\\sklearn\\metrics\\_scorer.py\", line 219, in __call__\n",
      "    return self._score(\n",
      "  File \"C:\\Python310\\lib\\site-packages\\sklearn\\metrics\\_scorer.py\", line 267, in _score\n",
      "    return self._sign * self._score_func(y_true, y_pred, **self._kwargs)\n",
      "  File \"C:\\Python310\\lib\\site-packages\\sklearn\\metrics\\_regression.py\", line 525, in mean_squared_log_error\n",
      "    raise ValueError(\n",
      "ValueError: Mean Squared Logarithmic Error cannot be used when targets contain negative values.\n",
      "\n",
      "  warnings.warn(\n"
     ]
    },
    {
     "name": "stdout",
     "output_type": "stream",
     "text": [
      "[CV 2/5] END alpha_1=1e-05, alpha_2=0.001, lambda_1=1e-05, lambda_2=0.1, tol=0.001;, score=nan total time=   0.9s\n",
      "[CV 3/5] END alpha_1=1e-05, alpha_2=0.001, lambda_1=1e-05, lambda_2=0.1, tol=0.001;, score=-0.274 total time=   1.0s\n"
     ]
    },
    {
     "name": "stderr",
     "output_type": "stream",
     "text": [
      "C:\\Python310\\lib\\site-packages\\sklearn\\model_selection\\_validation.py:776: UserWarning: Scoring failed. The score on this train-test partition for these parameters will be set to nan. Details: \n",
      "Traceback (most recent call last):\n",
      "  File \"C:\\Python310\\lib\\site-packages\\sklearn\\model_selection\\_validation.py\", line 767, in _score\n",
      "    scores = scorer(estimator, X_test, y_test)\n",
      "  File \"C:\\Python310\\lib\\site-packages\\sklearn\\metrics\\_scorer.py\", line 219, in __call__\n",
      "    return self._score(\n",
      "  File \"C:\\Python310\\lib\\site-packages\\sklearn\\metrics\\_scorer.py\", line 267, in _score\n",
      "    return self._sign * self._score_func(y_true, y_pred, **self._kwargs)\n",
      "  File \"C:\\Python310\\lib\\site-packages\\sklearn\\metrics\\_regression.py\", line 525, in mean_squared_log_error\n",
      "    raise ValueError(\n",
      "ValueError: Mean Squared Logarithmic Error cannot be used when targets contain negative values.\n",
      "\n",
      "  warnings.warn(\n"
     ]
    },
    {
     "name": "stdout",
     "output_type": "stream",
     "text": [
      "[CV 4/5] END alpha_1=1e-05, alpha_2=0.001, lambda_1=1e-05, lambda_2=0.1, tol=0.001;, score=nan total time=   1.0s\n"
     ]
    },
    {
     "name": "stderr",
     "output_type": "stream",
     "text": [
      "C:\\Python310\\lib\\site-packages\\sklearn\\model_selection\\_validation.py:776: UserWarning: Scoring failed. The score on this train-test partition for these parameters will be set to nan. Details: \n",
      "Traceback (most recent call last):\n",
      "  File \"C:\\Python310\\lib\\site-packages\\sklearn\\model_selection\\_validation.py\", line 767, in _score\n",
      "    scores = scorer(estimator, X_test, y_test)\n",
      "  File \"C:\\Python310\\lib\\site-packages\\sklearn\\metrics\\_scorer.py\", line 219, in __call__\n",
      "    return self._score(\n",
      "  File \"C:\\Python310\\lib\\site-packages\\sklearn\\metrics\\_scorer.py\", line 267, in _score\n",
      "    return self._sign * self._score_func(y_true, y_pred, **self._kwargs)\n",
      "  File \"C:\\Python310\\lib\\site-packages\\sklearn\\metrics\\_regression.py\", line 525, in mean_squared_log_error\n",
      "    raise ValueError(\n",
      "ValueError: Mean Squared Logarithmic Error cannot be used when targets contain negative values.\n",
      "\n",
      "  warnings.warn(\n"
     ]
    },
    {
     "name": "stdout",
     "output_type": "stream",
     "text": [
      "[CV 5/5] END alpha_1=1e-05, alpha_2=0.001, lambda_1=1e-05, lambda_2=0.1, tol=0.001;, score=nan total time=   0.9s\n"
     ]
    },
    {
     "name": "stderr",
     "output_type": "stream",
     "text": [
      "C:\\Python310\\lib\\site-packages\\sklearn\\model_selection\\_validation.py:776: UserWarning: Scoring failed. The score on this train-test partition for these parameters will be set to nan. Details: \n",
      "Traceback (most recent call last):\n",
      "  File \"C:\\Python310\\lib\\site-packages\\sklearn\\model_selection\\_validation.py\", line 767, in _score\n",
      "    scores = scorer(estimator, X_test, y_test)\n",
      "  File \"C:\\Python310\\lib\\site-packages\\sklearn\\metrics\\_scorer.py\", line 219, in __call__\n",
      "    return self._score(\n",
      "  File \"C:\\Python310\\lib\\site-packages\\sklearn\\metrics\\_scorer.py\", line 267, in _score\n",
      "    return self._sign * self._score_func(y_true, y_pred, **self._kwargs)\n",
      "  File \"C:\\Python310\\lib\\site-packages\\sklearn\\metrics\\_regression.py\", line 525, in mean_squared_log_error\n",
      "    raise ValueError(\n",
      "ValueError: Mean Squared Logarithmic Error cannot be used when targets contain negative values.\n",
      "\n",
      "  warnings.warn(\n"
     ]
    },
    {
     "name": "stdout",
     "output_type": "stream",
     "text": [
      "[CV 1/5] END alpha_1=1e-08, alpha_2=1e-08, lambda_1=1e-08, lambda_2=1e-12, tol=1e-08;, score=nan total time=   2.5s\n"
     ]
    },
    {
     "name": "stderr",
     "output_type": "stream",
     "text": [
      "C:\\Python310\\lib\\site-packages\\sklearn\\model_selection\\_validation.py:776: UserWarning: Scoring failed. The score on this train-test partition for these parameters will be set to nan. Details: \n",
      "Traceback (most recent call last):\n",
      "  File \"C:\\Python310\\lib\\site-packages\\sklearn\\model_selection\\_validation.py\", line 767, in _score\n",
      "    scores = scorer(estimator, X_test, y_test)\n",
      "  File \"C:\\Python310\\lib\\site-packages\\sklearn\\metrics\\_scorer.py\", line 219, in __call__\n",
      "    return self._score(\n",
      "  File \"C:\\Python310\\lib\\site-packages\\sklearn\\metrics\\_scorer.py\", line 267, in _score\n",
      "    return self._sign * self._score_func(y_true, y_pred, **self._kwargs)\n",
      "  File \"C:\\Python310\\lib\\site-packages\\sklearn\\metrics\\_regression.py\", line 525, in mean_squared_log_error\n",
      "    raise ValueError(\n",
      "ValueError: Mean Squared Logarithmic Error cannot be used when targets contain negative values.\n",
      "\n",
      "  warnings.warn(\n"
     ]
    },
    {
     "name": "stdout",
     "output_type": "stream",
     "text": [
      "[CV 2/5] END alpha_1=1e-08, alpha_2=1e-08, lambda_1=1e-08, lambda_2=1e-12, tol=1e-08;, score=nan total time=   2.5s\n",
      "[CV 3/5] END alpha_1=1e-08, alpha_2=1e-08, lambda_1=1e-08, lambda_2=1e-12, tol=1e-08;, score=-0.274 total time=   2.5s\n"
     ]
    },
    {
     "name": "stderr",
     "output_type": "stream",
     "text": [
      "C:\\Python310\\lib\\site-packages\\sklearn\\model_selection\\_validation.py:776: UserWarning: Scoring failed. The score on this train-test partition for these parameters will be set to nan. Details: \n",
      "Traceback (most recent call last):\n",
      "  File \"C:\\Python310\\lib\\site-packages\\sklearn\\model_selection\\_validation.py\", line 767, in _score\n",
      "    scores = scorer(estimator, X_test, y_test)\n",
      "  File \"C:\\Python310\\lib\\site-packages\\sklearn\\metrics\\_scorer.py\", line 219, in __call__\n",
      "    return self._score(\n",
      "  File \"C:\\Python310\\lib\\site-packages\\sklearn\\metrics\\_scorer.py\", line 267, in _score\n",
      "    return self._sign * self._score_func(y_true, y_pred, **self._kwargs)\n",
      "  File \"C:\\Python310\\lib\\site-packages\\sklearn\\metrics\\_regression.py\", line 525, in mean_squared_log_error\n",
      "    raise ValueError(\n",
      "ValueError: Mean Squared Logarithmic Error cannot be used when targets contain negative values.\n",
      "\n",
      "  warnings.warn(\n"
     ]
    },
    {
     "name": "stdout",
     "output_type": "stream",
     "text": [
      "[CV 4/5] END alpha_1=1e-08, alpha_2=1e-08, lambda_1=1e-08, lambda_2=1e-12, tol=1e-08;, score=nan total time=   1.0s\n"
     ]
    },
    {
     "name": "stderr",
     "output_type": "stream",
     "text": [
      "C:\\Python310\\lib\\site-packages\\sklearn\\model_selection\\_validation.py:776: UserWarning: Scoring failed. The score on this train-test partition for these parameters will be set to nan. Details: \n",
      "Traceback (most recent call last):\n",
      "  File \"C:\\Python310\\lib\\site-packages\\sklearn\\model_selection\\_validation.py\", line 767, in _score\n",
      "    scores = scorer(estimator, X_test, y_test)\n",
      "  File \"C:\\Python310\\lib\\site-packages\\sklearn\\metrics\\_scorer.py\", line 219, in __call__\n",
      "    return self._score(\n",
      "  File \"C:\\Python310\\lib\\site-packages\\sklearn\\metrics\\_scorer.py\", line 267, in _score\n",
      "    return self._sign * self._score_func(y_true, y_pred, **self._kwargs)\n",
      "  File \"C:\\Python310\\lib\\site-packages\\sklearn\\metrics\\_regression.py\", line 525, in mean_squared_log_error\n",
      "    raise ValueError(\n",
      "ValueError: Mean Squared Logarithmic Error cannot be used when targets contain negative values.\n",
      "\n",
      "  warnings.warn(\n"
     ]
    },
    {
     "name": "stdout",
     "output_type": "stream",
     "text": [
      "[CV 5/5] END alpha_1=1e-08, alpha_2=1e-08, lambda_1=1e-08, lambda_2=1e-12, tol=1e-08;, score=nan total time=   2.5s\n",
      "[CV 1/5] END alpha_1=0.1, alpha_2=1e-08, lambda_1=0.1, lambda_2=1e-12, tol=0.001;, score=-0.393 total time=   0.7s\n",
      "[CV 2/5] END alpha_1=0.1, alpha_2=1e-08, lambda_1=0.1, lambda_2=1e-12, tol=0.001;, score=-0.377 total time=   0.7s\n",
      "[CV 3/5] END alpha_1=0.1, alpha_2=1e-08, lambda_1=0.1, lambda_2=1e-12, tol=0.001;, score=-0.387 total time=   0.7s\n",
      "[CV 4/5] END alpha_1=0.1, alpha_2=1e-08, lambda_1=0.1, lambda_2=1e-12, tol=0.001;, score=-0.394 total time=   0.7s\n",
      "[CV 5/5] END alpha_1=0.1, alpha_2=1e-08, lambda_1=0.1, lambda_2=1e-12, tol=0.001;, score=-0.401 total time=   0.7s\n"
     ]
    },
    {
     "name": "stderr",
     "output_type": "stream",
     "text": [
      "C:\\Python310\\lib\\site-packages\\sklearn\\model_selection\\_validation.py:776: UserWarning: Scoring failed. The score on this train-test partition for these parameters will be set to nan. Details: \n",
      "Traceback (most recent call last):\n",
      "  File \"C:\\Python310\\lib\\site-packages\\sklearn\\model_selection\\_validation.py\", line 767, in _score\n",
      "    scores = scorer(estimator, X_test, y_test)\n",
      "  File \"C:\\Python310\\lib\\site-packages\\sklearn\\metrics\\_scorer.py\", line 219, in __call__\n",
      "    return self._score(\n",
      "  File \"C:\\Python310\\lib\\site-packages\\sklearn\\metrics\\_scorer.py\", line 267, in _score\n",
      "    return self._sign * self._score_func(y_true, y_pred, **self._kwargs)\n",
      "  File \"C:\\Python310\\lib\\site-packages\\sklearn\\metrics\\_regression.py\", line 525, in mean_squared_log_error\n",
      "    raise ValueError(\n",
      "ValueError: Mean Squared Logarithmic Error cannot be used when targets contain negative values.\n",
      "\n",
      "  warnings.warn(\n"
     ]
    },
    {
     "name": "stdout",
     "output_type": "stream",
     "text": [
      "[CV 1/5] END alpha_1=0.001, alpha_2=1e-12, lambda_1=1e-05, lambda_2=0.1, tol=1e-12;, score=nan total time=   1.1s\n"
     ]
    },
    {
     "name": "stderr",
     "output_type": "stream",
     "text": [
      "C:\\Python310\\lib\\site-packages\\sklearn\\model_selection\\_validation.py:776: UserWarning: Scoring failed. The score on this train-test partition for these parameters will be set to nan. Details: \n",
      "Traceback (most recent call last):\n",
      "  File \"C:\\Python310\\lib\\site-packages\\sklearn\\model_selection\\_validation.py\", line 767, in _score\n",
      "    scores = scorer(estimator, X_test, y_test)\n",
      "  File \"C:\\Python310\\lib\\site-packages\\sklearn\\metrics\\_scorer.py\", line 219, in __call__\n",
      "    return self._score(\n",
      "  File \"C:\\Python310\\lib\\site-packages\\sklearn\\metrics\\_scorer.py\", line 267, in _score\n",
      "    return self._sign * self._score_func(y_true, y_pred, **self._kwargs)\n",
      "  File \"C:\\Python310\\lib\\site-packages\\sklearn\\metrics\\_regression.py\", line 525, in mean_squared_log_error\n",
      "    raise ValueError(\n",
      "ValueError: Mean Squared Logarithmic Error cannot be used when targets contain negative values.\n",
      "\n",
      "  warnings.warn(\n"
     ]
    },
    {
     "name": "stdout",
     "output_type": "stream",
     "text": [
      "[CV 2/5] END alpha_1=0.001, alpha_2=1e-12, lambda_1=1e-05, lambda_2=0.1, tol=1e-12;, score=nan total time=   2.5s\n",
      "[CV 3/5] END alpha_1=0.001, alpha_2=1e-12, lambda_1=1e-05, lambda_2=0.1, tol=1e-12;, score=-0.274 total time=   2.5s\n"
     ]
    },
    {
     "name": "stderr",
     "output_type": "stream",
     "text": [
      "C:\\Python310\\lib\\site-packages\\sklearn\\model_selection\\_validation.py:776: UserWarning: Scoring failed. The score on this train-test partition for these parameters will be set to nan. Details: \n",
      "Traceback (most recent call last):\n",
      "  File \"C:\\Python310\\lib\\site-packages\\sklearn\\model_selection\\_validation.py\", line 767, in _score\n",
      "    scores = scorer(estimator, X_test, y_test)\n",
      "  File \"C:\\Python310\\lib\\site-packages\\sklearn\\metrics\\_scorer.py\", line 219, in __call__\n",
      "    return self._score(\n",
      "  File \"C:\\Python310\\lib\\site-packages\\sklearn\\metrics\\_scorer.py\", line 267, in _score\n",
      "    return self._sign * self._score_func(y_true, y_pred, **self._kwargs)\n",
      "  File \"C:\\Python310\\lib\\site-packages\\sklearn\\metrics\\_regression.py\", line 525, in mean_squared_log_error\n",
      "    raise ValueError(\n",
      "ValueError: Mean Squared Logarithmic Error cannot be used when targets contain negative values.\n",
      "\n",
      "  warnings.warn(\n"
     ]
    },
    {
     "name": "stdout",
     "output_type": "stream",
     "text": [
      "[CV 4/5] END alpha_1=0.001, alpha_2=1e-12, lambda_1=1e-05, lambda_2=0.1, tol=1e-12;, score=nan total time=   1.0s\n"
     ]
    },
    {
     "name": "stderr",
     "output_type": "stream",
     "text": [
      "C:\\Python310\\lib\\site-packages\\sklearn\\model_selection\\_validation.py:776: UserWarning: Scoring failed. The score on this train-test partition for these parameters will be set to nan. Details: \n",
      "Traceback (most recent call last):\n",
      "  File \"C:\\Python310\\lib\\site-packages\\sklearn\\model_selection\\_validation.py\", line 767, in _score\n",
      "    scores = scorer(estimator, X_test, y_test)\n",
      "  File \"C:\\Python310\\lib\\site-packages\\sklearn\\metrics\\_scorer.py\", line 219, in __call__\n",
      "    return self._score(\n",
      "  File \"C:\\Python310\\lib\\site-packages\\sklearn\\metrics\\_scorer.py\", line 267, in _score\n",
      "    return self._sign * self._score_func(y_true, y_pred, **self._kwargs)\n",
      "  File \"C:\\Python310\\lib\\site-packages\\sklearn\\metrics\\_regression.py\", line 525, in mean_squared_log_error\n",
      "    raise ValueError(\n",
      "ValueError: Mean Squared Logarithmic Error cannot be used when targets contain negative values.\n",
      "\n",
      "  warnings.warn(\n"
     ]
    },
    {
     "name": "stdout",
     "output_type": "stream",
     "text": [
      "[CV 5/5] END alpha_1=0.001, alpha_2=1e-12, lambda_1=1e-05, lambda_2=0.1, tol=1e-12;, score=nan total time=   2.5s\n",
      "[CV 1/5] END alpha_1=1e-05, alpha_2=0.001, lambda_1=0.1, lambda_2=1e-12, tol=0.1;, score=-0.393 total time=   0.7s\n",
      "[CV 2/5] END alpha_1=1e-05, alpha_2=0.001, lambda_1=0.1, lambda_2=1e-12, tol=0.1;, score=-0.377 total time=   0.8s\n",
      "[CV 3/5] END alpha_1=1e-05, alpha_2=0.001, lambda_1=0.1, lambda_2=1e-12, tol=0.1;, score=-0.387 total time=   0.8s\n",
      "[CV 4/5] END alpha_1=1e-05, alpha_2=0.001, lambda_1=0.1, lambda_2=1e-12, tol=0.1;, score=-0.394 total time=   0.7s\n",
      "[CV 5/5] END alpha_1=1e-05, alpha_2=0.001, lambda_1=0.1, lambda_2=1e-12, tol=0.1;, score=-0.401 total time=   0.7s\n"
     ]
    },
    {
     "name": "stderr",
     "output_type": "stream",
     "text": [
      "C:\\Python310\\lib\\site-packages\\sklearn\\model_selection\\_validation.py:776: UserWarning: Scoring failed. The score on this train-test partition for these parameters will be set to nan. Details: \n",
      "Traceback (most recent call last):\n",
      "  File \"C:\\Python310\\lib\\site-packages\\sklearn\\model_selection\\_validation.py\", line 767, in _score\n",
      "    scores = scorer(estimator, X_test, y_test)\n",
      "  File \"C:\\Python310\\lib\\site-packages\\sklearn\\metrics\\_scorer.py\", line 219, in __call__\n",
      "    return self._score(\n",
      "  File \"C:\\Python310\\lib\\site-packages\\sklearn\\metrics\\_scorer.py\", line 267, in _score\n",
      "    return self._sign * self._score_func(y_true, y_pred, **self._kwargs)\n",
      "  File \"C:\\Python310\\lib\\site-packages\\sklearn\\metrics\\_regression.py\", line 525, in mean_squared_log_error\n",
      "    raise ValueError(\n",
      "ValueError: Mean Squared Logarithmic Error cannot be used when targets contain negative values.\n",
      "\n",
      "  warnings.warn(\n"
     ]
    },
    {
     "name": "stdout",
     "output_type": "stream",
     "text": [
      "[CV 1/5] END alpha_1=1e-05, alpha_2=0.1, lambda_1=1e-12, lambda_2=1e-05, tol=1e-08;, score=nan total time=   2.5s\n"
     ]
    },
    {
     "name": "stderr",
     "output_type": "stream",
     "text": [
      "C:\\Python310\\lib\\site-packages\\sklearn\\model_selection\\_validation.py:776: UserWarning: Scoring failed. The score on this train-test partition for these parameters will be set to nan. Details: \n",
      "Traceback (most recent call last):\n",
      "  File \"C:\\Python310\\lib\\site-packages\\sklearn\\model_selection\\_validation.py\", line 767, in _score\n",
      "    scores = scorer(estimator, X_test, y_test)\n",
      "  File \"C:\\Python310\\lib\\site-packages\\sklearn\\metrics\\_scorer.py\", line 219, in __call__\n",
      "    return self._score(\n",
      "  File \"C:\\Python310\\lib\\site-packages\\sklearn\\metrics\\_scorer.py\", line 267, in _score\n",
      "    return self._sign * self._score_func(y_true, y_pred, **self._kwargs)\n",
      "  File \"C:\\Python310\\lib\\site-packages\\sklearn\\metrics\\_regression.py\", line 525, in mean_squared_log_error\n",
      "    raise ValueError(\n",
      "ValueError: Mean Squared Logarithmic Error cannot be used when targets contain negative values.\n",
      "\n",
      "  warnings.warn(\n"
     ]
    },
    {
     "name": "stdout",
     "output_type": "stream",
     "text": [
      "[CV 2/5] END alpha_1=1e-05, alpha_2=0.1, lambda_1=1e-12, lambda_2=1e-05, tol=1e-08;, score=nan total time=   1.0s\n",
      "[CV 3/5] END alpha_1=1e-05, alpha_2=0.1, lambda_1=1e-12, lambda_2=1e-05, tol=1e-08;, score=-0.274 total time=   1.1s\n"
     ]
    },
    {
     "name": "stderr",
     "output_type": "stream",
     "text": [
      "C:\\Python310\\lib\\site-packages\\sklearn\\model_selection\\_validation.py:776: UserWarning: Scoring failed. The score on this train-test partition for these parameters will be set to nan. Details: \n",
      "Traceback (most recent call last):\n",
      "  File \"C:\\Python310\\lib\\site-packages\\sklearn\\model_selection\\_validation.py\", line 767, in _score\n",
      "    scores = scorer(estimator, X_test, y_test)\n",
      "  File \"C:\\Python310\\lib\\site-packages\\sklearn\\metrics\\_scorer.py\", line 219, in __call__\n",
      "    return self._score(\n",
      "  File \"C:\\Python310\\lib\\site-packages\\sklearn\\metrics\\_scorer.py\", line 267, in _score\n",
      "    return self._sign * self._score_func(y_true, y_pred, **self._kwargs)\n",
      "  File \"C:\\Python310\\lib\\site-packages\\sklearn\\metrics\\_regression.py\", line 525, in mean_squared_log_error\n",
      "    raise ValueError(\n",
      "ValueError: Mean Squared Logarithmic Error cannot be used when targets contain negative values.\n",
      "\n",
      "  warnings.warn(\n"
     ]
    },
    {
     "name": "stdout",
     "output_type": "stream",
     "text": [
      "[CV 4/5] END alpha_1=1e-05, alpha_2=0.1, lambda_1=1e-12, lambda_2=1e-05, tol=1e-08;, score=nan total time=   2.6s\n"
     ]
    },
    {
     "name": "stderr",
     "output_type": "stream",
     "text": [
      "C:\\Python310\\lib\\site-packages\\sklearn\\model_selection\\_validation.py:776: UserWarning: Scoring failed. The score on this train-test partition for these parameters will be set to nan. Details: \n",
      "Traceback (most recent call last):\n",
      "  File \"C:\\Python310\\lib\\site-packages\\sklearn\\model_selection\\_validation.py\", line 767, in _score\n",
      "    scores = scorer(estimator, X_test, y_test)\n",
      "  File \"C:\\Python310\\lib\\site-packages\\sklearn\\metrics\\_scorer.py\", line 219, in __call__\n",
      "    return self._score(\n",
      "  File \"C:\\Python310\\lib\\site-packages\\sklearn\\metrics\\_scorer.py\", line 267, in _score\n",
      "    return self._sign * self._score_func(y_true, y_pred, **self._kwargs)\n",
      "  File \"C:\\Python310\\lib\\site-packages\\sklearn\\metrics\\_regression.py\", line 525, in mean_squared_log_error\n",
      "    raise ValueError(\n",
      "ValueError: Mean Squared Logarithmic Error cannot be used when targets contain negative values.\n",
      "\n",
      "  warnings.warn(\n"
     ]
    },
    {
     "name": "stdout",
     "output_type": "stream",
     "text": [
      "[CV 5/5] END alpha_1=1e-05, alpha_2=0.1, lambda_1=1e-12, lambda_2=1e-05, tol=1e-08;, score=nan total time=   2.6s\n"
     ]
    },
    {
     "name": "stderr",
     "output_type": "stream",
     "text": [
      "C:\\Python310\\lib\\site-packages\\sklearn\\model_selection\\_validation.py:776: UserWarning: Scoring failed. The score on this train-test partition for these parameters will be set to nan. Details: \n",
      "Traceback (most recent call last):\n",
      "  File \"C:\\Python310\\lib\\site-packages\\sklearn\\model_selection\\_validation.py\", line 767, in _score\n",
      "    scores = scorer(estimator, X_test, y_test)\n",
      "  File \"C:\\Python310\\lib\\site-packages\\sklearn\\metrics\\_scorer.py\", line 219, in __call__\n",
      "    return self._score(\n",
      "  File \"C:\\Python310\\lib\\site-packages\\sklearn\\metrics\\_scorer.py\", line 267, in _score\n",
      "    return self._sign * self._score_func(y_true, y_pred, **self._kwargs)\n",
      "  File \"C:\\Python310\\lib\\site-packages\\sklearn\\metrics\\_regression.py\", line 525, in mean_squared_log_error\n",
      "    raise ValueError(\n",
      "ValueError: Mean Squared Logarithmic Error cannot be used when targets contain negative values.\n",
      "\n",
      "  warnings.warn(\n"
     ]
    },
    {
     "name": "stdout",
     "output_type": "stream",
     "text": [
      "[CV 1/5] END alpha_1=0.1, alpha_2=0.1, lambda_1=1e-08, lambda_2=1e-12, tol=1e-12;, score=nan total time=   2.6s\n"
     ]
    },
    {
     "name": "stderr",
     "output_type": "stream",
     "text": [
      "C:\\Python310\\lib\\site-packages\\sklearn\\model_selection\\_validation.py:776: UserWarning: Scoring failed. The score on this train-test partition for these parameters will be set to nan. Details: \n",
      "Traceback (most recent call last):\n",
      "  File \"C:\\Python310\\lib\\site-packages\\sklearn\\model_selection\\_validation.py\", line 767, in _score\n",
      "    scores = scorer(estimator, X_test, y_test)\n",
      "  File \"C:\\Python310\\lib\\site-packages\\sklearn\\metrics\\_scorer.py\", line 219, in __call__\n",
      "    return self._score(\n",
      "  File \"C:\\Python310\\lib\\site-packages\\sklearn\\metrics\\_scorer.py\", line 267, in _score\n",
      "    return self._sign * self._score_func(y_true, y_pred, **self._kwargs)\n",
      "  File \"C:\\Python310\\lib\\site-packages\\sklearn\\metrics\\_regression.py\", line 525, in mean_squared_log_error\n",
      "    raise ValueError(\n",
      "ValueError: Mean Squared Logarithmic Error cannot be used when targets contain negative values.\n",
      "\n",
      "  warnings.warn(\n"
     ]
    },
    {
     "name": "stdout",
     "output_type": "stream",
     "text": [
      "[CV 2/5] END alpha_1=0.1, alpha_2=0.1, lambda_1=1e-08, lambda_2=1e-12, tol=1e-12;, score=nan total time=   2.7s\n",
      "[CV 3/5] END alpha_1=0.1, alpha_2=0.1, lambda_1=1e-08, lambda_2=1e-12, tol=1e-12;, score=-0.274 total time=   1.2s\n"
     ]
    },
    {
     "name": "stderr",
     "output_type": "stream",
     "text": [
      "C:\\Python310\\lib\\site-packages\\sklearn\\model_selection\\_validation.py:776: UserWarning: Scoring failed. The score on this train-test partition for these parameters will be set to nan. Details: \n",
      "Traceback (most recent call last):\n",
      "  File \"C:\\Python310\\lib\\site-packages\\sklearn\\model_selection\\_validation.py\", line 767, in _score\n",
      "    scores = scorer(estimator, X_test, y_test)\n",
      "  File \"C:\\Python310\\lib\\site-packages\\sklearn\\metrics\\_scorer.py\", line 219, in __call__\n",
      "    return self._score(\n",
      "  File \"C:\\Python310\\lib\\site-packages\\sklearn\\metrics\\_scorer.py\", line 267, in _score\n",
      "    return self._sign * self._score_func(y_true, y_pred, **self._kwargs)\n",
      "  File \"C:\\Python310\\lib\\site-packages\\sklearn\\metrics\\_regression.py\", line 525, in mean_squared_log_error\n",
      "    raise ValueError(\n",
      "ValueError: Mean Squared Logarithmic Error cannot be used when targets contain negative values.\n",
      "\n",
      "  warnings.warn(\n"
     ]
    },
    {
     "name": "stdout",
     "output_type": "stream",
     "text": [
      "[CV 4/5] END alpha_1=0.1, alpha_2=0.1, lambda_1=1e-08, lambda_2=1e-12, tol=1e-12;, score=nan total time=   1.0s\n"
     ]
    },
    {
     "name": "stderr",
     "output_type": "stream",
     "text": [
      "C:\\Python310\\lib\\site-packages\\sklearn\\model_selection\\_validation.py:776: UserWarning: Scoring failed. The score on this train-test partition for these parameters will be set to nan. Details: \n",
      "Traceback (most recent call last):\n",
      "  File \"C:\\Python310\\lib\\site-packages\\sklearn\\model_selection\\_validation.py\", line 767, in _score\n",
      "    scores = scorer(estimator, X_test, y_test)\n",
      "  File \"C:\\Python310\\lib\\site-packages\\sklearn\\metrics\\_scorer.py\", line 219, in __call__\n",
      "    return self._score(\n",
      "  File \"C:\\Python310\\lib\\site-packages\\sklearn\\metrics\\_scorer.py\", line 267, in _score\n",
      "    return self._sign * self._score_func(y_true, y_pred, **self._kwargs)\n",
      "  File \"C:\\Python310\\lib\\site-packages\\sklearn\\metrics\\_regression.py\", line 525, in mean_squared_log_error\n",
      "    raise ValueError(\n",
      "ValueError: Mean Squared Logarithmic Error cannot be used when targets contain negative values.\n",
      "\n",
      "  warnings.warn(\n"
     ]
    },
    {
     "name": "stdout",
     "output_type": "stream",
     "text": [
      "[CV 5/5] END alpha_1=0.1, alpha_2=0.1, lambda_1=1e-08, lambda_2=1e-12, tol=1e-12;, score=nan total time=   2.4s\n"
     ]
    },
    {
     "name": "stderr",
     "output_type": "stream",
     "text": [
      "C:\\Python310\\lib\\site-packages\\sklearn\\model_selection\\_validation.py:776: UserWarning: Scoring failed. The score on this train-test partition for these parameters will be set to nan. Details: \n",
      "Traceback (most recent call last):\n",
      "  File \"C:\\Python310\\lib\\site-packages\\sklearn\\model_selection\\_validation.py\", line 767, in _score\n",
      "    scores = scorer(estimator, X_test, y_test)\n",
      "  File \"C:\\Python310\\lib\\site-packages\\sklearn\\metrics\\_scorer.py\", line 219, in __call__\n",
      "    return self._score(\n",
      "  File \"C:\\Python310\\lib\\site-packages\\sklearn\\metrics\\_scorer.py\", line 267, in _score\n",
      "    return self._sign * self._score_func(y_true, y_pred, **self._kwargs)\n",
      "  File \"C:\\Python310\\lib\\site-packages\\sklearn\\metrics\\_regression.py\", line 525, in mean_squared_log_error\n",
      "    raise ValueError(\n",
      "ValueError: Mean Squared Logarithmic Error cannot be used when targets contain negative values.\n",
      "\n",
      "  warnings.warn(\n"
     ]
    },
    {
     "name": "stdout",
     "output_type": "stream",
     "text": [
      "[CV 1/5] END alpha_1=1e-12, alpha_2=1e-05, lambda_1=1e-12, lambda_2=1e-12, tol=0.001;, score=nan total time=   1.0s\n"
     ]
    },
    {
     "name": "stderr",
     "output_type": "stream",
     "text": [
      "C:\\Python310\\lib\\site-packages\\sklearn\\model_selection\\_validation.py:776: UserWarning: Scoring failed. The score on this train-test partition for these parameters will be set to nan. Details: \n",
      "Traceback (most recent call last):\n",
      "  File \"C:\\Python310\\lib\\site-packages\\sklearn\\model_selection\\_validation.py\", line 767, in _score\n",
      "    scores = scorer(estimator, X_test, y_test)\n",
      "  File \"C:\\Python310\\lib\\site-packages\\sklearn\\metrics\\_scorer.py\", line 219, in __call__\n",
      "    return self._score(\n",
      "  File \"C:\\Python310\\lib\\site-packages\\sklearn\\metrics\\_scorer.py\", line 267, in _score\n",
      "    return self._sign * self._score_func(y_true, y_pred, **self._kwargs)\n",
      "  File \"C:\\Python310\\lib\\site-packages\\sklearn\\metrics\\_regression.py\", line 525, in mean_squared_log_error\n",
      "    raise ValueError(\n",
      "ValueError: Mean Squared Logarithmic Error cannot be used when targets contain negative values.\n",
      "\n",
      "  warnings.warn(\n"
     ]
    },
    {
     "name": "stdout",
     "output_type": "stream",
     "text": [
      "[CV 2/5] END alpha_1=1e-12, alpha_2=1e-05, lambda_1=1e-12, lambda_2=1e-12, tol=0.001;, score=nan total time=   0.9s\n",
      "[CV 3/5] END alpha_1=1e-12, alpha_2=1e-05, lambda_1=1e-12, lambda_2=1e-12, tol=0.001;, score=-0.274 total time=   1.0s\n"
     ]
    },
    {
     "name": "stderr",
     "output_type": "stream",
     "text": [
      "C:\\Python310\\lib\\site-packages\\sklearn\\model_selection\\_validation.py:776: UserWarning: Scoring failed. The score on this train-test partition for these parameters will be set to nan. Details: \n",
      "Traceback (most recent call last):\n",
      "  File \"C:\\Python310\\lib\\site-packages\\sklearn\\model_selection\\_validation.py\", line 767, in _score\n",
      "    scores = scorer(estimator, X_test, y_test)\n",
      "  File \"C:\\Python310\\lib\\site-packages\\sklearn\\metrics\\_scorer.py\", line 219, in __call__\n",
      "    return self._score(\n",
      "  File \"C:\\Python310\\lib\\site-packages\\sklearn\\metrics\\_scorer.py\", line 267, in _score\n",
      "    return self._sign * self._score_func(y_true, y_pred, **self._kwargs)\n",
      "  File \"C:\\Python310\\lib\\site-packages\\sklearn\\metrics\\_regression.py\", line 525, in mean_squared_log_error\n",
      "    raise ValueError(\n",
      "ValueError: Mean Squared Logarithmic Error cannot be used when targets contain negative values.\n",
      "\n",
      "  warnings.warn(\n"
     ]
    },
    {
     "name": "stdout",
     "output_type": "stream",
     "text": [
      "[CV 4/5] END alpha_1=1e-12, alpha_2=1e-05, lambda_1=1e-12, lambda_2=1e-12, tol=0.001;, score=nan total time=   0.9s\n"
     ]
    },
    {
     "name": "stderr",
     "output_type": "stream",
     "text": [
      "C:\\Python310\\lib\\site-packages\\sklearn\\model_selection\\_validation.py:776: UserWarning: Scoring failed. The score on this train-test partition for these parameters will be set to nan. Details: \n",
      "Traceback (most recent call last):\n",
      "  File \"C:\\Python310\\lib\\site-packages\\sklearn\\model_selection\\_validation.py\", line 767, in _score\n",
      "    scores = scorer(estimator, X_test, y_test)\n",
      "  File \"C:\\Python310\\lib\\site-packages\\sklearn\\metrics\\_scorer.py\", line 219, in __call__\n",
      "    return self._score(\n",
      "  File \"C:\\Python310\\lib\\site-packages\\sklearn\\metrics\\_scorer.py\", line 267, in _score\n",
      "    return self._sign * self._score_func(y_true, y_pred, **self._kwargs)\n",
      "  File \"C:\\Python310\\lib\\site-packages\\sklearn\\metrics\\_regression.py\", line 525, in mean_squared_log_error\n",
      "    raise ValueError(\n",
      "ValueError: Mean Squared Logarithmic Error cannot be used when targets contain negative values.\n",
      "\n",
      "  warnings.warn(\n"
     ]
    },
    {
     "name": "stdout",
     "output_type": "stream",
     "text": [
      "[CV 5/5] END alpha_1=1e-12, alpha_2=1e-05, lambda_1=1e-12, lambda_2=1e-12, tol=0.001;, score=nan total time=   0.9s\n",
      "[CV 1/5] END alpha_1=0.1, alpha_2=0.1, lambda_1=0.1, lambda_2=0.1, tol=1e-08;, score=-0.393 total time=   0.7s\n",
      "[CV 2/5] END alpha_1=0.1, alpha_2=0.1, lambda_1=0.1, lambda_2=0.1, tol=1e-08;, score=-0.377 total time=   0.7s\n",
      "[CV 3/5] END alpha_1=0.1, alpha_2=0.1, lambda_1=0.1, lambda_2=0.1, tol=1e-08;, score=-0.387 total time=   0.7s\n",
      "[CV 4/5] END alpha_1=0.1, alpha_2=0.1, lambda_1=0.1, lambda_2=0.1, tol=1e-08;, score=-0.394 total time=   0.7s\n",
      "[CV 5/5] END alpha_1=0.1, alpha_2=0.1, lambda_1=0.1, lambda_2=0.1, tol=1e-08;, score=-0.401 total time=   0.7s\n"
     ]
    },
    {
     "name": "stderr",
     "output_type": "stream",
     "text": [
      "C:\\Python310\\lib\\site-packages\\sklearn\\model_selection\\_validation.py:776: UserWarning: Scoring failed. The score on this train-test partition for these parameters will be set to nan. Details: \n",
      "Traceback (most recent call last):\n",
      "  File \"C:\\Python310\\lib\\site-packages\\sklearn\\model_selection\\_validation.py\", line 767, in _score\n",
      "    scores = scorer(estimator, X_test, y_test)\n",
      "  File \"C:\\Python310\\lib\\site-packages\\sklearn\\metrics\\_scorer.py\", line 219, in __call__\n",
      "    return self._score(\n",
      "  File \"C:\\Python310\\lib\\site-packages\\sklearn\\metrics\\_scorer.py\", line 267, in _score\n",
      "    return self._sign * self._score_func(y_true, y_pred, **self._kwargs)\n",
      "  File \"C:\\Python310\\lib\\site-packages\\sklearn\\metrics\\_regression.py\", line 525, in mean_squared_log_error\n",
      "    raise ValueError(\n",
      "ValueError: Mean Squared Logarithmic Error cannot be used when targets contain negative values.\n",
      "\n",
      "  warnings.warn(\n"
     ]
    },
    {
     "name": "stdout",
     "output_type": "stream",
     "text": [
      "[CV 1/5] END alpha_1=0.001, alpha_2=1e-05, lambda_1=1e-08, lambda_2=1e-12, tol=1e-08;, score=nan total time=   2.4s\n"
     ]
    },
    {
     "name": "stderr",
     "output_type": "stream",
     "text": [
      "C:\\Python310\\lib\\site-packages\\sklearn\\model_selection\\_validation.py:776: UserWarning: Scoring failed. The score on this train-test partition for these parameters will be set to nan. Details: \n",
      "Traceback (most recent call last):\n",
      "  File \"C:\\Python310\\lib\\site-packages\\sklearn\\model_selection\\_validation.py\", line 767, in _score\n",
      "    scores = scorer(estimator, X_test, y_test)\n",
      "  File \"C:\\Python310\\lib\\site-packages\\sklearn\\metrics\\_scorer.py\", line 219, in __call__\n",
      "    return self._score(\n",
      "  File \"C:\\Python310\\lib\\site-packages\\sklearn\\metrics\\_scorer.py\", line 267, in _score\n",
      "    return self._sign * self._score_func(y_true, y_pred, **self._kwargs)\n",
      "  File \"C:\\Python310\\lib\\site-packages\\sklearn\\metrics\\_regression.py\", line 525, in mean_squared_log_error\n",
      "    raise ValueError(\n",
      "ValueError: Mean Squared Logarithmic Error cannot be used when targets contain negative values.\n",
      "\n",
      "  warnings.warn(\n"
     ]
    },
    {
     "name": "stdout",
     "output_type": "stream",
     "text": [
      "[CV 2/5] END alpha_1=0.001, alpha_2=1e-05, lambda_1=1e-08, lambda_2=1e-12, tol=1e-08;, score=nan total time=   1.0s\n",
      "[CV 3/5] END alpha_1=0.001, alpha_2=1e-05, lambda_1=1e-08, lambda_2=1e-12, tol=1e-08;, score=-0.274 total time=   2.4s\n"
     ]
    },
    {
     "name": "stderr",
     "output_type": "stream",
     "text": [
      "C:\\Python310\\lib\\site-packages\\sklearn\\model_selection\\_validation.py:776: UserWarning: Scoring failed. The score on this train-test partition for these parameters will be set to nan. Details: \n",
      "Traceback (most recent call last):\n",
      "  File \"C:\\Python310\\lib\\site-packages\\sklearn\\model_selection\\_validation.py\", line 767, in _score\n",
      "    scores = scorer(estimator, X_test, y_test)\n",
      "  File \"C:\\Python310\\lib\\site-packages\\sklearn\\metrics\\_scorer.py\", line 219, in __call__\n",
      "    return self._score(\n",
      "  File \"C:\\Python310\\lib\\site-packages\\sklearn\\metrics\\_scorer.py\", line 267, in _score\n",
      "    return self._sign * self._score_func(y_true, y_pred, **self._kwargs)\n",
      "  File \"C:\\Python310\\lib\\site-packages\\sklearn\\metrics\\_regression.py\", line 525, in mean_squared_log_error\n",
      "    raise ValueError(\n",
      "ValueError: Mean Squared Logarithmic Error cannot be used when targets contain negative values.\n",
      "\n",
      "  warnings.warn(\n"
     ]
    },
    {
     "name": "stdout",
     "output_type": "stream",
     "text": [
      "[CV 4/5] END alpha_1=0.001, alpha_2=1e-05, lambda_1=1e-08, lambda_2=1e-12, tol=1e-08;, score=nan total time=   1.0s\n"
     ]
    },
    {
     "name": "stderr",
     "output_type": "stream",
     "text": [
      "C:\\Python310\\lib\\site-packages\\sklearn\\model_selection\\_validation.py:776: UserWarning: Scoring failed. The score on this train-test partition for these parameters will be set to nan. Details: \n",
      "Traceback (most recent call last):\n",
      "  File \"C:\\Python310\\lib\\site-packages\\sklearn\\model_selection\\_validation.py\", line 767, in _score\n",
      "    scores = scorer(estimator, X_test, y_test)\n",
      "  File \"C:\\Python310\\lib\\site-packages\\sklearn\\metrics\\_scorer.py\", line 219, in __call__\n",
      "    return self._score(\n",
      "  File \"C:\\Python310\\lib\\site-packages\\sklearn\\metrics\\_scorer.py\", line 267, in _score\n",
      "    return self._sign * self._score_func(y_true, y_pred, **self._kwargs)\n",
      "  File \"C:\\Python310\\lib\\site-packages\\sklearn\\metrics\\_regression.py\", line 525, in mean_squared_log_error\n",
      "    raise ValueError(\n",
      "ValueError: Mean Squared Logarithmic Error cannot be used when targets contain negative values.\n",
      "\n",
      "  warnings.warn(\n"
     ]
    },
    {
     "name": "stdout",
     "output_type": "stream",
     "text": [
      "[CV 5/5] END alpha_1=0.001, alpha_2=1e-05, lambda_1=1e-08, lambda_2=1e-12, tol=1e-08;, score=nan total time=   2.4s\n",
      "[CV 1/5] END alpha_1=1e-12, alpha_2=1e-05, lambda_1=0.001, lambda_2=1e-05, tol=1e-12;, score=-0.393 total time=   0.8s\n",
      "[CV 2/5] END alpha_1=1e-12, alpha_2=1e-05, lambda_1=0.001, lambda_2=1e-05, tol=1e-12;, score=-0.377 total time=   0.7s\n",
      "[CV 3/5] END alpha_1=1e-12, alpha_2=1e-05, lambda_1=0.001, lambda_2=1e-05, tol=1e-12;, score=-0.387 total time=   0.7s\n",
      "[CV 4/5] END alpha_1=1e-12, alpha_2=1e-05, lambda_1=0.001, lambda_2=1e-05, tol=1e-12;, score=-0.394 total time=   0.8s\n",
      "[CV 5/5] END alpha_1=1e-12, alpha_2=1e-05, lambda_1=0.001, lambda_2=1e-05, tol=1e-12;, score=-0.401 total time=   0.8s\n"
     ]
    },
    {
     "name": "stderr",
     "output_type": "stream",
     "text": [
      "C:\\Python310\\lib\\site-packages\\sklearn\\model_selection\\_validation.py:776: UserWarning: Scoring failed. The score on this train-test partition for these parameters will be set to nan. Details: \n",
      "Traceback (most recent call last):\n",
      "  File \"C:\\Python310\\lib\\site-packages\\sklearn\\model_selection\\_validation.py\", line 767, in _score\n",
      "    scores = scorer(estimator, X_test, y_test)\n",
      "  File \"C:\\Python310\\lib\\site-packages\\sklearn\\metrics\\_scorer.py\", line 219, in __call__\n",
      "    return self._score(\n",
      "  File \"C:\\Python310\\lib\\site-packages\\sklearn\\metrics\\_scorer.py\", line 267, in _score\n",
      "    return self._sign * self._score_func(y_true, y_pred, **self._kwargs)\n",
      "  File \"C:\\Python310\\lib\\site-packages\\sklearn\\metrics\\_regression.py\", line 525, in mean_squared_log_error\n",
      "    raise ValueError(\n",
      "ValueError: Mean Squared Logarithmic Error cannot be used when targets contain negative values.\n",
      "\n",
      "  warnings.warn(\n"
     ]
    },
    {
     "name": "stdout",
     "output_type": "stream",
     "text": [
      "[CV 1/5] END alpha_1=1e-08, alpha_2=1e-08, lambda_1=1e-08, lambda_2=0.001, tol=1e-08;, score=nan total time=   2.6s\n"
     ]
    },
    {
     "name": "stderr",
     "output_type": "stream",
     "text": [
      "C:\\Python310\\lib\\site-packages\\sklearn\\model_selection\\_validation.py:776: UserWarning: Scoring failed. The score on this train-test partition for these parameters will be set to nan. Details: \n",
      "Traceback (most recent call last):\n",
      "  File \"C:\\Python310\\lib\\site-packages\\sklearn\\model_selection\\_validation.py\", line 767, in _score\n",
      "    scores = scorer(estimator, X_test, y_test)\n",
      "  File \"C:\\Python310\\lib\\site-packages\\sklearn\\metrics\\_scorer.py\", line 219, in __call__\n",
      "    return self._score(\n",
      "  File \"C:\\Python310\\lib\\site-packages\\sklearn\\metrics\\_scorer.py\", line 267, in _score\n",
      "    return self._sign * self._score_func(y_true, y_pred, **self._kwargs)\n",
      "  File \"C:\\Python310\\lib\\site-packages\\sklearn\\metrics\\_regression.py\", line 525, in mean_squared_log_error\n",
      "    raise ValueError(\n",
      "ValueError: Mean Squared Logarithmic Error cannot be used when targets contain negative values.\n",
      "\n",
      "  warnings.warn(\n"
     ]
    },
    {
     "name": "stdout",
     "output_type": "stream",
     "text": [
      "[CV 2/5] END alpha_1=1e-08, alpha_2=1e-08, lambda_1=1e-08, lambda_2=0.001, tol=1e-08;, score=nan total time=   2.5s\n",
      "[CV 3/5] END alpha_1=1e-08, alpha_2=1e-08, lambda_1=1e-08, lambda_2=0.001, tol=1e-08;, score=-0.274 total time=   1.1s\n"
     ]
    },
    {
     "name": "stderr",
     "output_type": "stream",
     "text": [
      "C:\\Python310\\lib\\site-packages\\sklearn\\model_selection\\_validation.py:776: UserWarning: Scoring failed. The score on this train-test partition for these parameters will be set to nan. Details: \n",
      "Traceback (most recent call last):\n",
      "  File \"C:\\Python310\\lib\\site-packages\\sklearn\\model_selection\\_validation.py\", line 767, in _score\n",
      "    scores = scorer(estimator, X_test, y_test)\n",
      "  File \"C:\\Python310\\lib\\site-packages\\sklearn\\metrics\\_scorer.py\", line 219, in __call__\n",
      "    return self._score(\n",
      "  File \"C:\\Python310\\lib\\site-packages\\sklearn\\metrics\\_scorer.py\", line 267, in _score\n",
      "    return self._sign * self._score_func(y_true, y_pred, **self._kwargs)\n",
      "  File \"C:\\Python310\\lib\\site-packages\\sklearn\\metrics\\_regression.py\", line 525, in mean_squared_log_error\n",
      "    raise ValueError(\n",
      "ValueError: Mean Squared Logarithmic Error cannot be used when targets contain negative values.\n",
      "\n",
      "  warnings.warn(\n"
     ]
    },
    {
     "name": "stdout",
     "output_type": "stream",
     "text": [
      "[CV 4/5] END alpha_1=1e-08, alpha_2=1e-08, lambda_1=1e-08, lambda_2=0.001, tol=1e-08;, score=nan total time=   2.5s\n"
     ]
    },
    {
     "name": "stderr",
     "output_type": "stream",
     "text": [
      "C:\\Python310\\lib\\site-packages\\sklearn\\model_selection\\_validation.py:776: UserWarning: Scoring failed. The score on this train-test partition for these parameters will be set to nan. Details: \n",
      "Traceback (most recent call last):\n",
      "  File \"C:\\Python310\\lib\\site-packages\\sklearn\\model_selection\\_validation.py\", line 767, in _score\n",
      "    scores = scorer(estimator, X_test, y_test)\n",
      "  File \"C:\\Python310\\lib\\site-packages\\sklearn\\metrics\\_scorer.py\", line 219, in __call__\n",
      "    return self._score(\n",
      "  File \"C:\\Python310\\lib\\site-packages\\sklearn\\metrics\\_scorer.py\", line 267, in _score\n",
      "    return self._sign * self._score_func(y_true, y_pred, **self._kwargs)\n",
      "  File \"C:\\Python310\\lib\\site-packages\\sklearn\\metrics\\_regression.py\", line 525, in mean_squared_log_error\n",
      "    raise ValueError(\n",
      "ValueError: Mean Squared Logarithmic Error cannot be used when targets contain negative values.\n",
      "\n",
      "  warnings.warn(\n"
     ]
    },
    {
     "name": "stdout",
     "output_type": "stream",
     "text": [
      "[CV 5/5] END alpha_1=1e-08, alpha_2=1e-08, lambda_1=1e-08, lambda_2=0.001, tol=1e-08;, score=nan total time=   2.6s\n",
      "[CV 1/5] END alpha_1=0.001, alpha_2=1e-08, lambda_1=0.1, lambda_2=1e-12, tol=0.1;, score=-0.393 total time=   0.8s\n",
      "[CV 2/5] END alpha_1=0.001, alpha_2=1e-08, lambda_1=0.1, lambda_2=1e-12, tol=0.1;, score=-0.377 total time=   0.8s\n",
      "[CV 3/5] END alpha_1=0.001, alpha_2=1e-08, lambda_1=0.1, lambda_2=1e-12, tol=0.1;, score=-0.387 total time=   0.8s\n",
      "[CV 4/5] END alpha_1=0.001, alpha_2=1e-08, lambda_1=0.1, lambda_2=1e-12, tol=0.1;, score=-0.394 total time=   0.8s\n",
      "[CV 5/5] END alpha_1=0.001, alpha_2=1e-08, lambda_1=0.1, lambda_2=1e-12, tol=0.1;, score=-0.401 total time=   0.7s\n"
     ]
    },
    {
     "name": "stderr",
     "output_type": "stream",
     "text": [
      "C:\\Python310\\lib\\site-packages\\sklearn\\model_selection\\_validation.py:776: UserWarning: Scoring failed. The score on this train-test partition for these parameters will be set to nan. Details: \n",
      "Traceback (most recent call last):\n",
      "  File \"C:\\Python310\\lib\\site-packages\\sklearn\\model_selection\\_validation.py\", line 767, in _score\n",
      "    scores = scorer(estimator, X_test, y_test)\n",
      "  File \"C:\\Python310\\lib\\site-packages\\sklearn\\metrics\\_scorer.py\", line 219, in __call__\n",
      "    return self._score(\n",
      "  File \"C:\\Python310\\lib\\site-packages\\sklearn\\metrics\\_scorer.py\", line 267, in _score\n",
      "    return self._sign * self._score_func(y_true, y_pred, **self._kwargs)\n",
      "  File \"C:\\Python310\\lib\\site-packages\\sklearn\\metrics\\_regression.py\", line 525, in mean_squared_log_error\n",
      "    raise ValueError(\n",
      "ValueError: Mean Squared Logarithmic Error cannot be used when targets contain negative values.\n",
      "\n",
      "  warnings.warn(\n"
     ]
    },
    {
     "name": "stdout",
     "output_type": "stream",
     "text": [
      "[CV 1/5] END alpha_1=1e-05, alpha_2=1e-12, lambda_1=1e-08, lambda_2=0.1, tol=0.001;, score=nan total time=   1.0s\n"
     ]
    },
    {
     "name": "stderr",
     "output_type": "stream",
     "text": [
      "C:\\Python310\\lib\\site-packages\\sklearn\\model_selection\\_validation.py:776: UserWarning: Scoring failed. The score on this train-test partition for these parameters will be set to nan. Details: \n",
      "Traceback (most recent call last):\n",
      "  File \"C:\\Python310\\lib\\site-packages\\sklearn\\model_selection\\_validation.py\", line 767, in _score\n",
      "    scores = scorer(estimator, X_test, y_test)\n",
      "  File \"C:\\Python310\\lib\\site-packages\\sklearn\\metrics\\_scorer.py\", line 219, in __call__\n",
      "    return self._score(\n",
      "  File \"C:\\Python310\\lib\\site-packages\\sklearn\\metrics\\_scorer.py\", line 267, in _score\n",
      "    return self._sign * self._score_func(y_true, y_pred, **self._kwargs)\n",
      "  File \"C:\\Python310\\lib\\site-packages\\sklearn\\metrics\\_regression.py\", line 525, in mean_squared_log_error\n",
      "    raise ValueError(\n",
      "ValueError: Mean Squared Logarithmic Error cannot be used when targets contain negative values.\n",
      "\n",
      "  warnings.warn(\n"
     ]
    },
    {
     "name": "stdout",
     "output_type": "stream",
     "text": [
      "[CV 2/5] END alpha_1=1e-05, alpha_2=1e-12, lambda_1=1e-08, lambda_2=0.1, tol=0.001;, score=nan total time=   0.9s\n",
      "[CV 3/5] END alpha_1=1e-05, alpha_2=1e-12, lambda_1=1e-08, lambda_2=0.1, tol=0.001;, score=-0.274 total time=   1.0s\n"
     ]
    },
    {
     "name": "stderr",
     "output_type": "stream",
     "text": [
      "C:\\Python310\\lib\\site-packages\\sklearn\\model_selection\\_validation.py:776: UserWarning: Scoring failed. The score on this train-test partition for these parameters will be set to nan. Details: \n",
      "Traceback (most recent call last):\n",
      "  File \"C:\\Python310\\lib\\site-packages\\sklearn\\model_selection\\_validation.py\", line 767, in _score\n",
      "    scores = scorer(estimator, X_test, y_test)\n",
      "  File \"C:\\Python310\\lib\\site-packages\\sklearn\\metrics\\_scorer.py\", line 219, in __call__\n",
      "    return self._score(\n",
      "  File \"C:\\Python310\\lib\\site-packages\\sklearn\\metrics\\_scorer.py\", line 267, in _score\n",
      "    return self._sign * self._score_func(y_true, y_pred, **self._kwargs)\n",
      "  File \"C:\\Python310\\lib\\site-packages\\sklearn\\metrics\\_regression.py\", line 525, in mean_squared_log_error\n",
      "    raise ValueError(\n",
      "ValueError: Mean Squared Logarithmic Error cannot be used when targets contain negative values.\n",
      "\n",
      "  warnings.warn(\n"
     ]
    },
    {
     "name": "stdout",
     "output_type": "stream",
     "text": [
      "[CV 4/5] END alpha_1=1e-05, alpha_2=1e-12, lambda_1=1e-08, lambda_2=0.1, tol=0.001;, score=nan total time=   0.9s\n"
     ]
    },
    {
     "name": "stderr",
     "output_type": "stream",
     "text": [
      "C:\\Python310\\lib\\site-packages\\sklearn\\model_selection\\_validation.py:776: UserWarning: Scoring failed. The score on this train-test partition for these parameters will be set to nan. Details: \n",
      "Traceback (most recent call last):\n",
      "  File \"C:\\Python310\\lib\\site-packages\\sklearn\\model_selection\\_validation.py\", line 767, in _score\n",
      "    scores = scorer(estimator, X_test, y_test)\n",
      "  File \"C:\\Python310\\lib\\site-packages\\sklearn\\metrics\\_scorer.py\", line 219, in __call__\n",
      "    return self._score(\n",
      "  File \"C:\\Python310\\lib\\site-packages\\sklearn\\metrics\\_scorer.py\", line 267, in _score\n",
      "    return self._sign * self._score_func(y_true, y_pred, **self._kwargs)\n",
      "  File \"C:\\Python310\\lib\\site-packages\\sklearn\\metrics\\_regression.py\", line 525, in mean_squared_log_error\n",
      "    raise ValueError(\n",
      "ValueError: Mean Squared Logarithmic Error cannot be used when targets contain negative values.\n",
      "\n",
      "  warnings.warn(\n"
     ]
    },
    {
     "name": "stdout",
     "output_type": "stream",
     "text": [
      "[CV 5/5] END alpha_1=1e-05, alpha_2=1e-12, lambda_1=1e-08, lambda_2=0.1, tol=0.001;, score=nan total time=   0.9s\n"
     ]
    },
    {
     "name": "stderr",
     "output_type": "stream",
     "text": [
      "C:\\Python310\\lib\\site-packages\\sklearn\\model_selection\\_validation.py:776: UserWarning: Scoring failed. The score on this train-test partition for these parameters will be set to nan. Details: \n",
      "Traceback (most recent call last):\n",
      "  File \"C:\\Python310\\lib\\site-packages\\sklearn\\model_selection\\_validation.py\", line 767, in _score\n",
      "    scores = scorer(estimator, X_test, y_test)\n",
      "  File \"C:\\Python310\\lib\\site-packages\\sklearn\\metrics\\_scorer.py\", line 219, in __call__\n",
      "    return self._score(\n",
      "  File \"C:\\Python310\\lib\\site-packages\\sklearn\\metrics\\_scorer.py\", line 267, in _score\n",
      "    return self._sign * self._score_func(y_true, y_pred, **self._kwargs)\n",
      "  File \"C:\\Python310\\lib\\site-packages\\sklearn\\metrics\\_regression.py\", line 525, in mean_squared_log_error\n",
      "    raise ValueError(\n",
      "ValueError: Mean Squared Logarithmic Error cannot be used when targets contain negative values.\n",
      "\n",
      "  warnings.warn(\n"
     ]
    },
    {
     "name": "stdout",
     "output_type": "stream",
     "text": [
      "[CV 1/5] END alpha_1=1e-12, alpha_2=1e-05, lambda_1=1e-12, lambda_2=1e-08, tol=1e-12;, score=nan total time=   2.5s\n"
     ]
    },
    {
     "name": "stderr",
     "output_type": "stream",
     "text": [
      "C:\\Python310\\lib\\site-packages\\sklearn\\model_selection\\_validation.py:776: UserWarning: Scoring failed. The score on this train-test partition for these parameters will be set to nan. Details: \n",
      "Traceback (most recent call last):\n",
      "  File \"C:\\Python310\\lib\\site-packages\\sklearn\\model_selection\\_validation.py\", line 767, in _score\n",
      "    scores = scorer(estimator, X_test, y_test)\n",
      "  File \"C:\\Python310\\lib\\site-packages\\sklearn\\metrics\\_scorer.py\", line 219, in __call__\n",
      "    return self._score(\n",
      "  File \"C:\\Python310\\lib\\site-packages\\sklearn\\metrics\\_scorer.py\", line 267, in _score\n",
      "    return self._sign * self._score_func(y_true, y_pred, **self._kwargs)\n",
      "  File \"C:\\Python310\\lib\\site-packages\\sklearn\\metrics\\_regression.py\", line 525, in mean_squared_log_error\n",
      "    raise ValueError(\n",
      "ValueError: Mean Squared Logarithmic Error cannot be used when targets contain negative values.\n",
      "\n",
      "  warnings.warn(\n"
     ]
    },
    {
     "name": "stdout",
     "output_type": "stream",
     "text": [
      "[CV 2/5] END alpha_1=1e-12, alpha_2=1e-05, lambda_1=1e-12, lambda_2=1e-08, tol=1e-12;, score=nan total time=   1.0s\n",
      "[CV 3/5] END alpha_1=1e-12, alpha_2=1e-05, lambda_1=1e-12, lambda_2=1e-08, tol=1e-12;, score=-0.274 total time=   1.1s\n"
     ]
    },
    {
     "name": "stderr",
     "output_type": "stream",
     "text": [
      "C:\\Python310\\lib\\site-packages\\sklearn\\model_selection\\_validation.py:776: UserWarning: Scoring failed. The score on this train-test partition for these parameters will be set to nan. Details: \n",
      "Traceback (most recent call last):\n",
      "  File \"C:\\Python310\\lib\\site-packages\\sklearn\\model_selection\\_validation.py\", line 767, in _score\n",
      "    scores = scorer(estimator, X_test, y_test)\n",
      "  File \"C:\\Python310\\lib\\site-packages\\sklearn\\metrics\\_scorer.py\", line 219, in __call__\n",
      "    return self._score(\n",
      "  File \"C:\\Python310\\lib\\site-packages\\sklearn\\metrics\\_scorer.py\", line 267, in _score\n",
      "    return self._sign * self._score_func(y_true, y_pred, **self._kwargs)\n",
      "  File \"C:\\Python310\\lib\\site-packages\\sklearn\\metrics\\_regression.py\", line 525, in mean_squared_log_error\n",
      "    raise ValueError(\n",
      "ValueError: Mean Squared Logarithmic Error cannot be used when targets contain negative values.\n",
      "\n",
      "  warnings.warn(\n"
     ]
    },
    {
     "name": "stdout",
     "output_type": "stream",
     "text": [
      "[CV 4/5] END alpha_1=1e-12, alpha_2=1e-05, lambda_1=1e-12, lambda_2=1e-08, tol=1e-12;, score=nan total time=   1.0s\n"
     ]
    },
    {
     "name": "stderr",
     "output_type": "stream",
     "text": [
      "C:\\Python310\\lib\\site-packages\\sklearn\\model_selection\\_validation.py:776: UserWarning: Scoring failed. The score on this train-test partition for these parameters will be set to nan. Details: \n",
      "Traceback (most recent call last):\n",
      "  File \"C:\\Python310\\lib\\site-packages\\sklearn\\model_selection\\_validation.py\", line 767, in _score\n",
      "    scores = scorer(estimator, X_test, y_test)\n",
      "  File \"C:\\Python310\\lib\\site-packages\\sklearn\\metrics\\_scorer.py\", line 219, in __call__\n",
      "    return self._score(\n",
      "  File \"C:\\Python310\\lib\\site-packages\\sklearn\\metrics\\_scorer.py\", line 267, in _score\n",
      "    return self._sign * self._score_func(y_true, y_pred, **self._kwargs)\n",
      "  File \"C:\\Python310\\lib\\site-packages\\sklearn\\metrics\\_regression.py\", line 525, in mean_squared_log_error\n",
      "    raise ValueError(\n",
      "ValueError: Mean Squared Logarithmic Error cannot be used when targets contain negative values.\n",
      "\n",
      "  warnings.warn(\n"
     ]
    },
    {
     "name": "stdout",
     "output_type": "stream",
     "text": [
      "[CV 5/5] END alpha_1=1e-12, alpha_2=1e-05, lambda_1=1e-12, lambda_2=1e-08, tol=1e-12;, score=nan total time=   0.9s\n"
     ]
    },
    {
     "name": "stderr",
     "output_type": "stream",
     "text": [
      "C:\\Python310\\lib\\site-packages\\sklearn\\model_selection\\_validation.py:776: UserWarning: Scoring failed. The score on this train-test partition for these parameters will be set to nan. Details: \n",
      "Traceback (most recent call last):\n",
      "  File \"C:\\Python310\\lib\\site-packages\\sklearn\\model_selection\\_validation.py\", line 767, in _score\n",
      "    scores = scorer(estimator, X_test, y_test)\n",
      "  File \"C:\\Python310\\lib\\site-packages\\sklearn\\metrics\\_scorer.py\", line 219, in __call__\n",
      "    return self._score(\n",
      "  File \"C:\\Python310\\lib\\site-packages\\sklearn\\metrics\\_scorer.py\", line 267, in _score\n",
      "    return self._sign * self._score_func(y_true, y_pred, **self._kwargs)\n",
      "  File \"C:\\Python310\\lib\\site-packages\\sklearn\\metrics\\_regression.py\", line 525, in mean_squared_log_error\n",
      "    raise ValueError(\n",
      "ValueError: Mean Squared Logarithmic Error cannot be used when targets contain negative values.\n",
      "\n",
      "  warnings.warn(\n"
     ]
    },
    {
     "name": "stdout",
     "output_type": "stream",
     "text": [
      "[CV 1/5] END alpha_1=1e-05, alpha_2=0.1, lambda_1=1e-08, lambda_2=0.001, tol=1e-08;, score=nan total time=   2.5s\n"
     ]
    },
    {
     "name": "stderr",
     "output_type": "stream",
     "text": [
      "C:\\Python310\\lib\\site-packages\\sklearn\\model_selection\\_validation.py:776: UserWarning: Scoring failed. The score on this train-test partition for these parameters will be set to nan. Details: \n",
      "Traceback (most recent call last):\n",
      "  File \"C:\\Python310\\lib\\site-packages\\sklearn\\model_selection\\_validation.py\", line 767, in _score\n",
      "    scores = scorer(estimator, X_test, y_test)\n",
      "  File \"C:\\Python310\\lib\\site-packages\\sklearn\\metrics\\_scorer.py\", line 219, in __call__\n",
      "    return self._score(\n",
      "  File \"C:\\Python310\\lib\\site-packages\\sklearn\\metrics\\_scorer.py\", line 267, in _score\n",
      "    return self._sign * self._score_func(y_true, y_pred, **self._kwargs)\n",
      "  File \"C:\\Python310\\lib\\site-packages\\sklearn\\metrics\\_regression.py\", line 525, in mean_squared_log_error\n",
      "    raise ValueError(\n",
      "ValueError: Mean Squared Logarithmic Error cannot be used when targets contain negative values.\n",
      "\n",
      "  warnings.warn(\n"
     ]
    },
    {
     "name": "stdout",
     "output_type": "stream",
     "text": [
      "[CV 2/5] END alpha_1=1e-05, alpha_2=0.1, lambda_1=1e-08, lambda_2=0.001, tol=1e-08;, score=nan total time=   2.5s\n",
      "[CV 3/5] END alpha_1=1e-05, alpha_2=0.1, lambda_1=1e-08, lambda_2=0.001, tol=1e-08;, score=-0.274 total time=   2.4s\n"
     ]
    },
    {
     "name": "stderr",
     "output_type": "stream",
     "text": [
      "C:\\Python310\\lib\\site-packages\\sklearn\\model_selection\\_validation.py:776: UserWarning: Scoring failed. The score on this train-test partition for these parameters will be set to nan. Details: \n",
      "Traceback (most recent call last):\n",
      "  File \"C:\\Python310\\lib\\site-packages\\sklearn\\model_selection\\_validation.py\", line 767, in _score\n",
      "    scores = scorer(estimator, X_test, y_test)\n",
      "  File \"C:\\Python310\\lib\\site-packages\\sklearn\\metrics\\_scorer.py\", line 219, in __call__\n",
      "    return self._score(\n",
      "  File \"C:\\Python310\\lib\\site-packages\\sklearn\\metrics\\_scorer.py\", line 267, in _score\n",
      "    return self._sign * self._score_func(y_true, y_pred, **self._kwargs)\n",
      "  File \"C:\\Python310\\lib\\site-packages\\sklearn\\metrics\\_regression.py\", line 525, in mean_squared_log_error\n",
      "    raise ValueError(\n",
      "ValueError: Mean Squared Logarithmic Error cannot be used when targets contain negative values.\n",
      "\n",
      "  warnings.warn(\n"
     ]
    },
    {
     "name": "stdout",
     "output_type": "stream",
     "text": [
      "[CV 4/5] END alpha_1=1e-05, alpha_2=0.1, lambda_1=1e-08, lambda_2=0.001, tol=1e-08;, score=nan total time=   1.0s\n"
     ]
    },
    {
     "name": "stderr",
     "output_type": "stream",
     "text": [
      "C:\\Python310\\lib\\site-packages\\sklearn\\model_selection\\_validation.py:776: UserWarning: Scoring failed. The score on this train-test partition for these parameters will be set to nan. Details: \n",
      "Traceback (most recent call last):\n",
      "  File \"C:\\Python310\\lib\\site-packages\\sklearn\\model_selection\\_validation.py\", line 767, in _score\n",
      "    scores = scorer(estimator, X_test, y_test)\n",
      "  File \"C:\\Python310\\lib\\site-packages\\sklearn\\metrics\\_scorer.py\", line 219, in __call__\n",
      "    return self._score(\n",
      "  File \"C:\\Python310\\lib\\site-packages\\sklearn\\metrics\\_scorer.py\", line 267, in _score\n",
      "    return self._sign * self._score_func(y_true, y_pred, **self._kwargs)\n",
      "  File \"C:\\Python310\\lib\\site-packages\\sklearn\\metrics\\_regression.py\", line 525, in mean_squared_log_error\n",
      "    raise ValueError(\n",
      "ValueError: Mean Squared Logarithmic Error cannot be used when targets contain negative values.\n",
      "\n",
      "  warnings.warn(\n"
     ]
    },
    {
     "name": "stdout",
     "output_type": "stream",
     "text": [
      "[CV 5/5] END alpha_1=1e-05, alpha_2=0.1, lambda_1=1e-08, lambda_2=0.001, tol=1e-08;, score=nan total time=   2.4s\n"
     ]
    },
    {
     "name": "stderr",
     "output_type": "stream",
     "text": [
      "C:\\Python310\\lib\\site-packages\\sklearn\\model_selection\\_validation.py:776: UserWarning: Scoring failed. The score on this train-test partition for these parameters will be set to nan. Details: \n",
      "Traceback (most recent call last):\n",
      "  File \"C:\\Python310\\lib\\site-packages\\sklearn\\model_selection\\_validation.py\", line 767, in _score\n",
      "    scores = scorer(estimator, X_test, y_test)\n",
      "  File \"C:\\Python310\\lib\\site-packages\\sklearn\\metrics\\_scorer.py\", line 219, in __call__\n",
      "    return self._score(\n",
      "  File \"C:\\Python310\\lib\\site-packages\\sklearn\\metrics\\_scorer.py\", line 267, in _score\n",
      "    return self._sign * self._score_func(y_true, y_pred, **self._kwargs)\n",
      "  File \"C:\\Python310\\lib\\site-packages\\sklearn\\metrics\\_regression.py\", line 525, in mean_squared_log_error\n",
      "    raise ValueError(\n",
      "ValueError: Mean Squared Logarithmic Error cannot be used when targets contain negative values.\n",
      "\n",
      "  warnings.warn(\n"
     ]
    },
    {
     "name": "stdout",
     "output_type": "stream",
     "text": [
      "[CV 1/5] END alpha_1=0.001, alpha_2=0.1, lambda_1=1e-12, lambda_2=0.001, tol=0.1;, score=nan total time=   0.9s\n"
     ]
    },
    {
     "name": "stderr",
     "output_type": "stream",
     "text": [
      "C:\\Python310\\lib\\site-packages\\sklearn\\model_selection\\_validation.py:776: UserWarning: Scoring failed. The score on this train-test partition for these parameters will be set to nan. Details: \n",
      "Traceback (most recent call last):\n",
      "  File \"C:\\Python310\\lib\\site-packages\\sklearn\\model_selection\\_validation.py\", line 767, in _score\n",
      "    scores = scorer(estimator, X_test, y_test)\n",
      "  File \"C:\\Python310\\lib\\site-packages\\sklearn\\metrics\\_scorer.py\", line 219, in __call__\n",
      "    return self._score(\n",
      "  File \"C:\\Python310\\lib\\site-packages\\sklearn\\metrics\\_scorer.py\", line 267, in _score\n",
      "    return self._sign * self._score_func(y_true, y_pred, **self._kwargs)\n",
      "  File \"C:\\Python310\\lib\\site-packages\\sklearn\\metrics\\_regression.py\", line 525, in mean_squared_log_error\n",
      "    raise ValueError(\n",
      "ValueError: Mean Squared Logarithmic Error cannot be used when targets contain negative values.\n",
      "\n",
      "  warnings.warn(\n"
     ]
    },
    {
     "name": "stdout",
     "output_type": "stream",
     "text": [
      "[CV 2/5] END alpha_1=0.001, alpha_2=0.1, lambda_1=1e-12, lambda_2=0.001, tol=0.1;, score=nan total time=   0.9s\n",
      "[CV 3/5] END alpha_1=0.001, alpha_2=0.1, lambda_1=1e-12, lambda_2=0.001, tol=0.1;, score=-0.274 total time=   0.9s\n"
     ]
    },
    {
     "name": "stderr",
     "output_type": "stream",
     "text": [
      "C:\\Python310\\lib\\site-packages\\sklearn\\model_selection\\_validation.py:776: UserWarning: Scoring failed. The score on this train-test partition for these parameters will be set to nan. Details: \n",
      "Traceback (most recent call last):\n",
      "  File \"C:\\Python310\\lib\\site-packages\\sklearn\\model_selection\\_validation.py\", line 767, in _score\n",
      "    scores = scorer(estimator, X_test, y_test)\n",
      "  File \"C:\\Python310\\lib\\site-packages\\sklearn\\metrics\\_scorer.py\", line 219, in __call__\n",
      "    return self._score(\n",
      "  File \"C:\\Python310\\lib\\site-packages\\sklearn\\metrics\\_scorer.py\", line 267, in _score\n",
      "    return self._sign * self._score_func(y_true, y_pred, **self._kwargs)\n",
      "  File \"C:\\Python310\\lib\\site-packages\\sklearn\\metrics\\_regression.py\", line 525, in mean_squared_log_error\n",
      "    raise ValueError(\n",
      "ValueError: Mean Squared Logarithmic Error cannot be used when targets contain negative values.\n",
      "\n",
      "  warnings.warn(\n"
     ]
    },
    {
     "name": "stdout",
     "output_type": "stream",
     "text": [
      "[CV 4/5] END alpha_1=0.001, alpha_2=0.1, lambda_1=1e-12, lambda_2=0.001, tol=0.1;, score=nan total time=   0.9s\n"
     ]
    },
    {
     "name": "stderr",
     "output_type": "stream",
     "text": [
      "C:\\Python310\\lib\\site-packages\\sklearn\\model_selection\\_validation.py:776: UserWarning: Scoring failed. The score on this train-test partition for these parameters will be set to nan. Details: \n",
      "Traceback (most recent call last):\n",
      "  File \"C:\\Python310\\lib\\site-packages\\sklearn\\model_selection\\_validation.py\", line 767, in _score\n",
      "    scores = scorer(estimator, X_test, y_test)\n",
      "  File \"C:\\Python310\\lib\\site-packages\\sklearn\\metrics\\_scorer.py\", line 219, in __call__\n",
      "    return self._score(\n",
      "  File \"C:\\Python310\\lib\\site-packages\\sklearn\\metrics\\_scorer.py\", line 267, in _score\n",
      "    return self._sign * self._score_func(y_true, y_pred, **self._kwargs)\n",
      "  File \"C:\\Python310\\lib\\site-packages\\sklearn\\metrics\\_regression.py\", line 525, in mean_squared_log_error\n",
      "    raise ValueError(\n",
      "ValueError: Mean Squared Logarithmic Error cannot be used when targets contain negative values.\n",
      "\n",
      "  warnings.warn(\n"
     ]
    },
    {
     "name": "stdout",
     "output_type": "stream",
     "text": [
      "[CV 5/5] END alpha_1=0.001, alpha_2=0.1, lambda_1=1e-12, lambda_2=0.001, tol=0.1;, score=nan total time=   0.8s\n",
      "[CV 1/5] END alpha_1=1e-12, alpha_2=0.001, lambda_1=0.001, lambda_2=1e-12, tol=1e-08;, score=-0.393 total time=   0.7s\n",
      "[CV 2/5] END alpha_1=1e-12, alpha_2=0.001, lambda_1=0.001, lambda_2=1e-12, tol=1e-08;, score=-0.377 total time=   0.7s\n",
      "[CV 3/5] END alpha_1=1e-12, alpha_2=0.001, lambda_1=0.001, lambda_2=1e-12, tol=1e-08;, score=-0.387 total time=   0.7s\n",
      "[CV 4/5] END alpha_1=1e-12, alpha_2=0.001, lambda_1=0.001, lambda_2=1e-12, tol=1e-08;, score=-0.394 total time=   0.7s\n",
      "[CV 5/5] END alpha_1=1e-12, alpha_2=0.001, lambda_1=0.001, lambda_2=1e-12, tol=1e-08;, score=-0.401 total time=   0.7s\n",
      "[CV 1/5] END alpha_1=1e-05, alpha_2=0.001, lambda_1=0.1, lambda_2=0.001, tol=1e-05;, score=-0.393 total time=   0.7s\n",
      "[CV 2/5] END alpha_1=1e-05, alpha_2=0.001, lambda_1=0.1, lambda_2=0.001, tol=1e-05;, score=-0.377 total time=   0.7s\n",
      "[CV 3/5] END alpha_1=1e-05, alpha_2=0.001, lambda_1=0.1, lambda_2=0.001, tol=1e-05;, score=-0.387 total time=   0.7s\n",
      "[CV 4/5] END alpha_1=1e-05, alpha_2=0.001, lambda_1=0.1, lambda_2=0.001, tol=1e-05;, score=-0.394 total time=   0.7s\n",
      "[CV 5/5] END alpha_1=1e-05, alpha_2=0.001, lambda_1=0.1, lambda_2=0.001, tol=1e-05;, score=-0.401 total time=   0.7s\n"
     ]
    },
    {
     "name": "stderr",
     "output_type": "stream",
     "text": [
      "C:\\Python310\\lib\\site-packages\\sklearn\\model_selection\\_validation.py:776: UserWarning: Scoring failed. The score on this train-test partition for these parameters will be set to nan. Details: \n",
      "Traceback (most recent call last):\n",
      "  File \"C:\\Python310\\lib\\site-packages\\sklearn\\model_selection\\_validation.py\", line 767, in _score\n",
      "    scores = scorer(estimator, X_test, y_test)\n",
      "  File \"C:\\Python310\\lib\\site-packages\\sklearn\\metrics\\_scorer.py\", line 219, in __call__\n",
      "    return self._score(\n",
      "  File \"C:\\Python310\\lib\\site-packages\\sklearn\\metrics\\_scorer.py\", line 267, in _score\n",
      "    return self._sign * self._score_func(y_true, y_pred, **self._kwargs)\n",
      "  File \"C:\\Python310\\lib\\site-packages\\sklearn\\metrics\\_regression.py\", line 525, in mean_squared_log_error\n",
      "    raise ValueError(\n",
      "ValueError: Mean Squared Logarithmic Error cannot be used when targets contain negative values.\n",
      "\n",
      "  warnings.warn(\n"
     ]
    },
    {
     "name": "stdout",
     "output_type": "stream",
     "text": [
      "[CV 1/5] END alpha_1=0.1, alpha_2=1e-08, lambda_1=1e-12, lambda_2=0.001, tol=0.001;, score=nan total time=   1.0s\n"
     ]
    },
    {
     "name": "stderr",
     "output_type": "stream",
     "text": [
      "C:\\Python310\\lib\\site-packages\\sklearn\\model_selection\\_validation.py:776: UserWarning: Scoring failed. The score on this train-test partition for these parameters will be set to nan. Details: \n",
      "Traceback (most recent call last):\n",
      "  File \"C:\\Python310\\lib\\site-packages\\sklearn\\model_selection\\_validation.py\", line 767, in _score\n",
      "    scores = scorer(estimator, X_test, y_test)\n",
      "  File \"C:\\Python310\\lib\\site-packages\\sklearn\\metrics\\_scorer.py\", line 219, in __call__\n",
      "    return self._score(\n",
      "  File \"C:\\Python310\\lib\\site-packages\\sklearn\\metrics\\_scorer.py\", line 267, in _score\n",
      "    return self._sign * self._score_func(y_true, y_pred, **self._kwargs)\n",
      "  File \"C:\\Python310\\lib\\site-packages\\sklearn\\metrics\\_regression.py\", line 525, in mean_squared_log_error\n",
      "    raise ValueError(\n",
      "ValueError: Mean Squared Logarithmic Error cannot be used when targets contain negative values.\n",
      "\n",
      "  warnings.warn(\n"
     ]
    },
    {
     "name": "stdout",
     "output_type": "stream",
     "text": [
      "[CV 2/5] END alpha_1=0.1, alpha_2=1e-08, lambda_1=1e-12, lambda_2=0.001, tol=0.001;, score=nan total time=   0.9s\n",
      "[CV 3/5] END alpha_1=0.1, alpha_2=1e-08, lambda_1=1e-12, lambda_2=0.001, tol=0.001;, score=-0.274 total time=   1.0s\n"
     ]
    },
    {
     "name": "stderr",
     "output_type": "stream",
     "text": [
      "C:\\Python310\\lib\\site-packages\\sklearn\\model_selection\\_validation.py:776: UserWarning: Scoring failed. The score on this train-test partition for these parameters will be set to nan. Details: \n",
      "Traceback (most recent call last):\n",
      "  File \"C:\\Python310\\lib\\site-packages\\sklearn\\model_selection\\_validation.py\", line 767, in _score\n",
      "    scores = scorer(estimator, X_test, y_test)\n",
      "  File \"C:\\Python310\\lib\\site-packages\\sklearn\\metrics\\_scorer.py\", line 219, in __call__\n",
      "    return self._score(\n",
      "  File \"C:\\Python310\\lib\\site-packages\\sklearn\\metrics\\_scorer.py\", line 267, in _score\n",
      "    return self._sign * self._score_func(y_true, y_pred, **self._kwargs)\n",
      "  File \"C:\\Python310\\lib\\site-packages\\sklearn\\metrics\\_regression.py\", line 525, in mean_squared_log_error\n",
      "    raise ValueError(\n",
      "ValueError: Mean Squared Logarithmic Error cannot be used when targets contain negative values.\n",
      "\n",
      "  warnings.warn(\n"
     ]
    },
    {
     "name": "stdout",
     "output_type": "stream",
     "text": [
      "[CV 4/5] END alpha_1=0.1, alpha_2=1e-08, lambda_1=1e-12, lambda_2=0.001, tol=0.001;, score=nan total time=   0.9s\n"
     ]
    },
    {
     "name": "stderr",
     "output_type": "stream",
     "text": [
      "C:\\Python310\\lib\\site-packages\\sklearn\\model_selection\\_validation.py:776: UserWarning: Scoring failed. The score on this train-test partition for these parameters will be set to nan. Details: \n",
      "Traceback (most recent call last):\n",
      "  File \"C:\\Python310\\lib\\site-packages\\sklearn\\model_selection\\_validation.py\", line 767, in _score\n",
      "    scores = scorer(estimator, X_test, y_test)\n",
      "  File \"C:\\Python310\\lib\\site-packages\\sklearn\\metrics\\_scorer.py\", line 219, in __call__\n",
      "    return self._score(\n",
      "  File \"C:\\Python310\\lib\\site-packages\\sklearn\\metrics\\_scorer.py\", line 267, in _score\n",
      "    return self._sign * self._score_func(y_true, y_pred, **self._kwargs)\n",
      "  File \"C:\\Python310\\lib\\site-packages\\sklearn\\metrics\\_regression.py\", line 525, in mean_squared_log_error\n",
      "    raise ValueError(\n",
      "ValueError: Mean Squared Logarithmic Error cannot be used when targets contain negative values.\n",
      "\n",
      "  warnings.warn(\n"
     ]
    },
    {
     "name": "stdout",
     "output_type": "stream",
     "text": [
      "[CV 5/5] END alpha_1=0.1, alpha_2=1e-08, lambda_1=1e-12, lambda_2=0.001, tol=0.001;, score=nan total time=   0.9s\n"
     ]
    },
    {
     "name": "stderr",
     "output_type": "stream",
     "text": [
      "C:\\Python310\\lib\\site-packages\\sklearn\\model_selection\\_validation.py:776: UserWarning: Scoring failed. The score on this train-test partition for these parameters will be set to nan. Details: \n",
      "Traceback (most recent call last):\n",
      "  File \"C:\\Python310\\lib\\site-packages\\sklearn\\model_selection\\_validation.py\", line 767, in _score\n",
      "    scores = scorer(estimator, X_test, y_test)\n",
      "  File \"C:\\Python310\\lib\\site-packages\\sklearn\\metrics\\_scorer.py\", line 219, in __call__\n",
      "    return self._score(\n",
      "  File \"C:\\Python310\\lib\\site-packages\\sklearn\\metrics\\_scorer.py\", line 267, in _score\n",
      "    return self._sign * self._score_func(y_true, y_pred, **self._kwargs)\n",
      "  File \"C:\\Python310\\lib\\site-packages\\sklearn\\metrics\\_regression.py\", line 525, in mean_squared_log_error\n",
      "    raise ValueError(\n",
      "ValueError: Mean Squared Logarithmic Error cannot be used when targets contain negative values.\n",
      "\n",
      "  warnings.warn(\n"
     ]
    },
    {
     "name": "stdout",
     "output_type": "stream",
     "text": [
      "[CV 1/5] END alpha_1=1e-08, alpha_2=0.001, lambda_1=1e-12, lambda_2=1e-05, tol=0.001;, score=nan total time=   1.0s\n"
     ]
    },
    {
     "name": "stderr",
     "output_type": "stream",
     "text": [
      "C:\\Python310\\lib\\site-packages\\sklearn\\model_selection\\_validation.py:776: UserWarning: Scoring failed. The score on this train-test partition for these parameters will be set to nan. Details: \n",
      "Traceback (most recent call last):\n",
      "  File \"C:\\Python310\\lib\\site-packages\\sklearn\\model_selection\\_validation.py\", line 767, in _score\n",
      "    scores = scorer(estimator, X_test, y_test)\n",
      "  File \"C:\\Python310\\lib\\site-packages\\sklearn\\metrics\\_scorer.py\", line 219, in __call__\n",
      "    return self._score(\n",
      "  File \"C:\\Python310\\lib\\site-packages\\sklearn\\metrics\\_scorer.py\", line 267, in _score\n",
      "    return self._sign * self._score_func(y_true, y_pred, **self._kwargs)\n",
      "  File \"C:\\Python310\\lib\\site-packages\\sklearn\\metrics\\_regression.py\", line 525, in mean_squared_log_error\n",
      "    raise ValueError(\n",
      "ValueError: Mean Squared Logarithmic Error cannot be used when targets contain negative values.\n",
      "\n",
      "  warnings.warn(\n"
     ]
    },
    {
     "name": "stdout",
     "output_type": "stream",
     "text": [
      "[CV 2/5] END alpha_1=1e-08, alpha_2=0.001, lambda_1=1e-12, lambda_2=1e-05, tol=0.001;, score=nan total time=   0.9s\n",
      "[CV 3/5] END alpha_1=1e-08, alpha_2=0.001, lambda_1=1e-12, lambda_2=1e-05, tol=0.001;, score=-0.274 total time=   1.0s\n"
     ]
    },
    {
     "name": "stderr",
     "output_type": "stream",
     "text": [
      "C:\\Python310\\lib\\site-packages\\sklearn\\model_selection\\_validation.py:776: UserWarning: Scoring failed. The score on this train-test partition for these parameters will be set to nan. Details: \n",
      "Traceback (most recent call last):\n",
      "  File \"C:\\Python310\\lib\\site-packages\\sklearn\\model_selection\\_validation.py\", line 767, in _score\n",
      "    scores = scorer(estimator, X_test, y_test)\n",
      "  File \"C:\\Python310\\lib\\site-packages\\sklearn\\metrics\\_scorer.py\", line 219, in __call__\n",
      "    return self._score(\n",
      "  File \"C:\\Python310\\lib\\site-packages\\sklearn\\metrics\\_scorer.py\", line 267, in _score\n",
      "    return self._sign * self._score_func(y_true, y_pred, **self._kwargs)\n",
      "  File \"C:\\Python310\\lib\\site-packages\\sklearn\\metrics\\_regression.py\", line 525, in mean_squared_log_error\n",
      "    raise ValueError(\n",
      "ValueError: Mean Squared Logarithmic Error cannot be used when targets contain negative values.\n",
      "\n",
      "  warnings.warn(\n"
     ]
    },
    {
     "name": "stdout",
     "output_type": "stream",
     "text": [
      "[CV 4/5] END alpha_1=1e-08, alpha_2=0.001, lambda_1=1e-12, lambda_2=1e-05, tol=0.001;, score=nan total time=   0.9s\n"
     ]
    },
    {
     "name": "stderr",
     "output_type": "stream",
     "text": [
      "C:\\Python310\\lib\\site-packages\\sklearn\\model_selection\\_validation.py:776: UserWarning: Scoring failed. The score on this train-test partition for these parameters will be set to nan. Details: \n",
      "Traceback (most recent call last):\n",
      "  File \"C:\\Python310\\lib\\site-packages\\sklearn\\model_selection\\_validation.py\", line 767, in _score\n",
      "    scores = scorer(estimator, X_test, y_test)\n",
      "  File \"C:\\Python310\\lib\\site-packages\\sklearn\\metrics\\_scorer.py\", line 219, in __call__\n",
      "    return self._score(\n",
      "  File \"C:\\Python310\\lib\\site-packages\\sklearn\\metrics\\_scorer.py\", line 267, in _score\n",
      "    return self._sign * self._score_func(y_true, y_pred, **self._kwargs)\n",
      "  File \"C:\\Python310\\lib\\site-packages\\sklearn\\metrics\\_regression.py\", line 525, in mean_squared_log_error\n",
      "    raise ValueError(\n",
      "ValueError: Mean Squared Logarithmic Error cannot be used when targets contain negative values.\n",
      "\n",
      "  warnings.warn(\n"
     ]
    },
    {
     "name": "stdout",
     "output_type": "stream",
     "text": [
      "[CV 5/5] END alpha_1=1e-08, alpha_2=0.001, lambda_1=1e-12, lambda_2=1e-05, tol=0.001;, score=nan total time=   0.9s\n",
      "[CV 1/5] END alpha_1=1e-12, alpha_2=1e-08, lambda_1=0.1, lambda_2=0.001, tol=0.001;, score=-0.393 total time=   0.7s\n",
      "[CV 2/5] END alpha_1=1e-12, alpha_2=1e-08, lambda_1=0.1, lambda_2=0.001, tol=0.001;, score=-0.377 total time=   0.7s\n",
      "[CV 3/5] END alpha_1=1e-12, alpha_2=1e-08, lambda_1=0.1, lambda_2=0.001, tol=0.001;, score=-0.387 total time=   0.7s\n",
      "[CV 4/5] END alpha_1=1e-12, alpha_2=1e-08, lambda_1=0.1, lambda_2=0.001, tol=0.001;, score=-0.394 total time=   0.7s\n",
      "[CV 5/5] END alpha_1=1e-12, alpha_2=1e-08, lambda_1=0.1, lambda_2=0.001, tol=0.001;, score=-0.401 total time=   0.7s\n",
      "[CV 1/5] END alpha_1=0.001, alpha_2=1e-12, lambda_1=0.1, lambda_2=0.1, tol=1e-08;, score=-0.393 total time=   0.7s\n",
      "[CV 2/5] END alpha_1=0.001, alpha_2=1e-12, lambda_1=0.1, lambda_2=0.1, tol=1e-08;, score=-0.377 total time=   0.7s\n",
      "[CV 3/5] END alpha_1=0.001, alpha_2=1e-12, lambda_1=0.1, lambda_2=0.1, tol=1e-08;, score=-0.387 total time=   0.7s\n",
      "[CV 4/5] END alpha_1=0.001, alpha_2=1e-12, lambda_1=0.1, lambda_2=0.1, tol=1e-08;, score=-0.394 total time=   0.7s\n",
      "[CV 5/5] END alpha_1=0.001, alpha_2=1e-12, lambda_1=0.1, lambda_2=0.1, tol=1e-08;, score=-0.401 total time=   0.7s\n",
      "[CV 1/5] END alpha_1=1e-08, alpha_2=1e-05, lambda_1=0.1, lambda_2=1e-05, tol=1e-08;, score=-0.393 total time=   0.8s\n",
      "[CV 2/5] END alpha_1=1e-08, alpha_2=1e-05, lambda_1=0.1, lambda_2=1e-05, tol=1e-08;, score=-0.377 total time=   0.7s\n",
      "[CV 3/5] END alpha_1=1e-08, alpha_2=1e-05, lambda_1=0.1, lambda_2=1e-05, tol=1e-08;, score=-0.387 total time=   0.7s\n",
      "[CV 4/5] END alpha_1=1e-08, alpha_2=1e-05, lambda_1=0.1, lambda_2=1e-05, tol=1e-08;, score=-0.394 total time=   0.7s\n",
      "[CV 5/5] END alpha_1=1e-08, alpha_2=1e-05, lambda_1=0.1, lambda_2=1e-05, tol=1e-08;, score=-0.401 total time=   0.7s\n",
      "[CV 1/5] END alpha_1=0.001, alpha_2=0.001, lambda_1=0.1, lambda_2=1e-12, tol=1e-12;, score=-0.393 total time=   0.8s\n",
      "[CV 2/5] END alpha_1=0.001, alpha_2=0.001, lambda_1=0.1, lambda_2=1e-12, tol=1e-12;, score=-0.377 total time=   0.7s\n",
      "[CV 3/5] END alpha_1=0.001, alpha_2=0.001, lambda_1=0.1, lambda_2=1e-12, tol=1e-12;, score=-0.387 total time=   0.7s\n",
      "[CV 4/5] END alpha_1=0.001, alpha_2=0.001, lambda_1=0.1, lambda_2=1e-12, tol=1e-12;, score=-0.394 total time=   0.7s\n",
      "[CV 5/5] END alpha_1=0.001, alpha_2=0.001, lambda_1=0.1, lambda_2=1e-12, tol=1e-12;, score=-0.401 total time=   0.7s\n",
      "[CV 1/5] END alpha_1=1e-12, alpha_2=1e-12, lambda_1=0.1, lambda_2=1e-08, tol=0.001;, score=-0.393 total time=   0.7s\n",
      "[CV 2/5] END alpha_1=1e-12, alpha_2=1e-12, lambda_1=0.1, lambda_2=1e-08, tol=0.001;, score=-0.377 total time=   0.7s\n",
      "[CV 3/5] END alpha_1=1e-12, alpha_2=1e-12, lambda_1=0.1, lambda_2=1e-08, tol=0.001;, score=-0.387 total time=   0.7s\n",
      "[CV 4/5] END alpha_1=1e-12, alpha_2=1e-12, lambda_1=0.1, lambda_2=1e-08, tol=0.001;, score=-0.394 total time=   0.7s\n",
      "[CV 5/5] END alpha_1=1e-12, alpha_2=1e-12, lambda_1=0.1, lambda_2=1e-08, tol=0.001;, score=-0.401 total time=   0.7s\n"
     ]
    },
    {
     "name": "stderr",
     "output_type": "stream",
     "text": [
      "C:\\Python310\\lib\\site-packages\\sklearn\\model_selection\\_validation.py:776: UserWarning: Scoring failed. The score on this train-test partition for these parameters will be set to nan. Details: \n",
      "Traceback (most recent call last):\n",
      "  File \"C:\\Python310\\lib\\site-packages\\sklearn\\model_selection\\_validation.py\", line 767, in _score\n",
      "    scores = scorer(estimator, X_test, y_test)\n",
      "  File \"C:\\Python310\\lib\\site-packages\\sklearn\\metrics\\_scorer.py\", line 219, in __call__\n",
      "    return self._score(\n",
      "  File \"C:\\Python310\\lib\\site-packages\\sklearn\\metrics\\_scorer.py\", line 267, in _score\n",
      "    return self._sign * self._score_func(y_true, y_pred, **self._kwargs)\n",
      "  File \"C:\\Python310\\lib\\site-packages\\sklearn\\metrics\\_regression.py\", line 525, in mean_squared_log_error\n",
      "    raise ValueError(\n",
      "ValueError: Mean Squared Logarithmic Error cannot be used when targets contain negative values.\n",
      "\n",
      "  warnings.warn(\n"
     ]
    },
    {
     "name": "stdout",
     "output_type": "stream",
     "text": [
      "[CV 1/5] END alpha_1=0.1, alpha_2=1e-12, lambda_1=1e-12, lambda_2=1e-05, tol=1e-08;, score=nan total time=   2.4s\n"
     ]
    },
    {
     "name": "stderr",
     "output_type": "stream",
     "text": [
      "C:\\Python310\\lib\\site-packages\\sklearn\\model_selection\\_validation.py:776: UserWarning: Scoring failed. The score on this train-test partition for these parameters will be set to nan. Details: \n",
      "Traceback (most recent call last):\n",
      "  File \"C:\\Python310\\lib\\site-packages\\sklearn\\model_selection\\_validation.py\", line 767, in _score\n",
      "    scores = scorer(estimator, X_test, y_test)\n",
      "  File \"C:\\Python310\\lib\\site-packages\\sklearn\\metrics\\_scorer.py\", line 219, in __call__\n",
      "    return self._score(\n",
      "  File \"C:\\Python310\\lib\\site-packages\\sklearn\\metrics\\_scorer.py\", line 267, in _score\n",
      "    return self._sign * self._score_func(y_true, y_pred, **self._kwargs)\n",
      "  File \"C:\\Python310\\lib\\site-packages\\sklearn\\metrics\\_regression.py\", line 525, in mean_squared_log_error\n",
      "    raise ValueError(\n",
      "ValueError: Mean Squared Logarithmic Error cannot be used when targets contain negative values.\n",
      "\n",
      "  warnings.warn(\n"
     ]
    },
    {
     "name": "stdout",
     "output_type": "stream",
     "text": [
      "[CV 2/5] END alpha_1=0.1, alpha_2=1e-12, lambda_1=1e-12, lambda_2=1e-05, tol=1e-08;, score=nan total time=   2.5s\n",
      "[CV 3/5] END alpha_1=0.1, alpha_2=1e-12, lambda_1=1e-12, lambda_2=1e-05, tol=1e-08;, score=-0.274 total time=   2.5s\n"
     ]
    },
    {
     "name": "stderr",
     "output_type": "stream",
     "text": [
      "C:\\Python310\\lib\\site-packages\\sklearn\\model_selection\\_validation.py:776: UserWarning: Scoring failed. The score on this train-test partition for these parameters will be set to nan. Details: \n",
      "Traceback (most recent call last):\n",
      "  File \"C:\\Python310\\lib\\site-packages\\sklearn\\model_selection\\_validation.py\", line 767, in _score\n",
      "    scores = scorer(estimator, X_test, y_test)\n",
      "  File \"C:\\Python310\\lib\\site-packages\\sklearn\\metrics\\_scorer.py\", line 219, in __call__\n",
      "    return self._score(\n",
      "  File \"C:\\Python310\\lib\\site-packages\\sklearn\\metrics\\_scorer.py\", line 267, in _score\n",
      "    return self._sign * self._score_func(y_true, y_pred, **self._kwargs)\n",
      "  File \"C:\\Python310\\lib\\site-packages\\sklearn\\metrics\\_regression.py\", line 525, in mean_squared_log_error\n",
      "    raise ValueError(\n",
      "ValueError: Mean Squared Logarithmic Error cannot be used when targets contain negative values.\n",
      "\n",
      "  warnings.warn(\n"
     ]
    },
    {
     "name": "stdout",
     "output_type": "stream",
     "text": [
      "[CV 4/5] END alpha_1=0.1, alpha_2=1e-12, lambda_1=1e-12, lambda_2=1e-05, tol=1e-08;, score=nan total time=   1.0s\n"
     ]
    },
    {
     "name": "stderr",
     "output_type": "stream",
     "text": [
      "C:\\Python310\\lib\\site-packages\\sklearn\\model_selection\\_validation.py:776: UserWarning: Scoring failed. The score on this train-test partition for these parameters will be set to nan. Details: \n",
      "Traceback (most recent call last):\n",
      "  File \"C:\\Python310\\lib\\site-packages\\sklearn\\model_selection\\_validation.py\", line 767, in _score\n",
      "    scores = scorer(estimator, X_test, y_test)\n",
      "  File \"C:\\Python310\\lib\\site-packages\\sklearn\\metrics\\_scorer.py\", line 219, in __call__\n",
      "    return self._score(\n",
      "  File \"C:\\Python310\\lib\\site-packages\\sklearn\\metrics\\_scorer.py\", line 267, in _score\n",
      "    return self._sign * self._score_func(y_true, y_pred, **self._kwargs)\n",
      "  File \"C:\\Python310\\lib\\site-packages\\sklearn\\metrics\\_regression.py\", line 525, in mean_squared_log_error\n",
      "    raise ValueError(\n",
      "ValueError: Mean Squared Logarithmic Error cannot be used when targets contain negative values.\n",
      "\n",
      "  warnings.warn(\n"
     ]
    },
    {
     "name": "stdout",
     "output_type": "stream",
     "text": [
      "[CV 5/5] END alpha_1=0.1, alpha_2=1e-12, lambda_1=1e-12, lambda_2=1e-05, tol=1e-08;, score=nan total time=   2.4s\n"
     ]
    },
    {
     "name": "stderr",
     "output_type": "stream",
     "text": [
      "C:\\Python310\\lib\\site-packages\\sklearn\\model_selection\\_validation.py:776: UserWarning: Scoring failed. The score on this train-test partition for these parameters will be set to nan. Details: \n",
      "Traceback (most recent call last):\n",
      "  File \"C:\\Python310\\lib\\site-packages\\sklearn\\model_selection\\_validation.py\", line 767, in _score\n",
      "    scores = scorer(estimator, X_test, y_test)\n",
      "  File \"C:\\Python310\\lib\\site-packages\\sklearn\\metrics\\_scorer.py\", line 219, in __call__\n",
      "    return self._score(\n",
      "  File \"C:\\Python310\\lib\\site-packages\\sklearn\\metrics\\_scorer.py\", line 267, in _score\n",
      "    return self._sign * self._score_func(y_true, y_pred, **self._kwargs)\n",
      "  File \"C:\\Python310\\lib\\site-packages\\sklearn\\metrics\\_regression.py\", line 525, in mean_squared_log_error\n",
      "    raise ValueError(\n",
      "ValueError: Mean Squared Logarithmic Error cannot be used when targets contain negative values.\n",
      "\n",
      "  warnings.warn(\n"
     ]
    },
    {
     "name": "stdout",
     "output_type": "stream",
     "text": [
      "[CV 1/5] END alpha_1=0.001, alpha_2=0.1, lambda_1=1e-05, lambda_2=0.1, tol=1e-08;, score=nan total time=   1.1s\n"
     ]
    },
    {
     "name": "stderr",
     "output_type": "stream",
     "text": [
      "C:\\Python310\\lib\\site-packages\\sklearn\\model_selection\\_validation.py:776: UserWarning: Scoring failed. The score on this train-test partition for these parameters will be set to nan. Details: \n",
      "Traceback (most recent call last):\n",
      "  File \"C:\\Python310\\lib\\site-packages\\sklearn\\model_selection\\_validation.py\", line 767, in _score\n",
      "    scores = scorer(estimator, X_test, y_test)\n",
      "  File \"C:\\Python310\\lib\\site-packages\\sklearn\\metrics\\_scorer.py\", line 219, in __call__\n",
      "    return self._score(\n",
      "  File \"C:\\Python310\\lib\\site-packages\\sklearn\\metrics\\_scorer.py\", line 267, in _score\n",
      "    return self._sign * self._score_func(y_true, y_pred, **self._kwargs)\n",
      "  File \"C:\\Python310\\lib\\site-packages\\sklearn\\metrics\\_regression.py\", line 525, in mean_squared_log_error\n",
      "    raise ValueError(\n",
      "ValueError: Mean Squared Logarithmic Error cannot be used when targets contain negative values.\n",
      "\n",
      "  warnings.warn(\n"
     ]
    },
    {
     "name": "stdout",
     "output_type": "stream",
     "text": [
      "[CV 2/5] END alpha_1=0.001, alpha_2=0.1, lambda_1=1e-05, lambda_2=0.1, tol=1e-08;, score=nan total time=   2.4s\n",
      "[CV 3/5] END alpha_1=0.001, alpha_2=0.1, lambda_1=1e-05, lambda_2=0.1, tol=1e-08;, score=-0.274 total time=   2.4s\n"
     ]
    },
    {
     "name": "stderr",
     "output_type": "stream",
     "text": [
      "C:\\Python310\\lib\\site-packages\\sklearn\\model_selection\\_validation.py:776: UserWarning: Scoring failed. The score on this train-test partition for these parameters will be set to nan. Details: \n",
      "Traceback (most recent call last):\n",
      "  File \"C:\\Python310\\lib\\site-packages\\sklearn\\model_selection\\_validation.py\", line 767, in _score\n",
      "    scores = scorer(estimator, X_test, y_test)\n",
      "  File \"C:\\Python310\\lib\\site-packages\\sklearn\\metrics\\_scorer.py\", line 219, in __call__\n",
      "    return self._score(\n",
      "  File \"C:\\Python310\\lib\\site-packages\\sklearn\\metrics\\_scorer.py\", line 267, in _score\n",
      "    return self._sign * self._score_func(y_true, y_pred, **self._kwargs)\n",
      "  File \"C:\\Python310\\lib\\site-packages\\sklearn\\metrics\\_regression.py\", line 525, in mean_squared_log_error\n",
      "    raise ValueError(\n",
      "ValueError: Mean Squared Logarithmic Error cannot be used when targets contain negative values.\n",
      "\n",
      "  warnings.warn(\n"
     ]
    },
    {
     "name": "stdout",
     "output_type": "stream",
     "text": [
      "[CV 4/5] END alpha_1=0.001, alpha_2=0.1, lambda_1=1e-05, lambda_2=0.1, tol=1e-08;, score=nan total time=   1.0s\n"
     ]
    },
    {
     "name": "stderr",
     "output_type": "stream",
     "text": [
      "C:\\Python310\\lib\\site-packages\\sklearn\\model_selection\\_validation.py:776: UserWarning: Scoring failed. The score on this train-test partition for these parameters will be set to nan. Details: \n",
      "Traceback (most recent call last):\n",
      "  File \"C:\\Python310\\lib\\site-packages\\sklearn\\model_selection\\_validation.py\", line 767, in _score\n",
      "    scores = scorer(estimator, X_test, y_test)\n",
      "  File \"C:\\Python310\\lib\\site-packages\\sklearn\\metrics\\_scorer.py\", line 219, in __call__\n",
      "    return self._score(\n",
      "  File \"C:\\Python310\\lib\\site-packages\\sklearn\\metrics\\_scorer.py\", line 267, in _score\n",
      "    return self._sign * self._score_func(y_true, y_pred, **self._kwargs)\n",
      "  File \"C:\\Python310\\lib\\site-packages\\sklearn\\metrics\\_regression.py\", line 525, in mean_squared_log_error\n",
      "    raise ValueError(\n",
      "ValueError: Mean Squared Logarithmic Error cannot be used when targets contain negative values.\n",
      "\n",
      "  warnings.warn(\n"
     ]
    },
    {
     "name": "stdout",
     "output_type": "stream",
     "text": [
      "[CV 5/5] END alpha_1=0.001, alpha_2=0.1, lambda_1=1e-05, lambda_2=0.1, tol=1e-08;, score=nan total time=   2.4s\n"
     ]
    },
    {
     "name": "stderr",
     "output_type": "stream",
     "text": [
      "C:\\Python310\\lib\\site-packages\\sklearn\\model_selection\\_validation.py:776: UserWarning: Scoring failed. The score on this train-test partition for these parameters will be set to nan. Details: \n",
      "Traceback (most recent call last):\n",
      "  File \"C:\\Python310\\lib\\site-packages\\sklearn\\model_selection\\_validation.py\", line 767, in _score\n",
      "    scores = scorer(estimator, X_test, y_test)\n",
      "  File \"C:\\Python310\\lib\\site-packages\\sklearn\\metrics\\_scorer.py\", line 219, in __call__\n",
      "    return self._score(\n",
      "  File \"C:\\Python310\\lib\\site-packages\\sklearn\\metrics\\_scorer.py\", line 267, in _score\n",
      "    return self._sign * self._score_func(y_true, y_pred, **self._kwargs)\n",
      "  File \"C:\\Python310\\lib\\site-packages\\sklearn\\metrics\\_regression.py\", line 525, in mean_squared_log_error\n",
      "    raise ValueError(\n",
      "ValueError: Mean Squared Logarithmic Error cannot be used when targets contain negative values.\n",
      "\n",
      "  warnings.warn(\n"
     ]
    },
    {
     "name": "stdout",
     "output_type": "stream",
     "text": [
      "[CV 1/5] END alpha_1=1e-12, alpha_2=1e-08, lambda_1=1e-05, lambda_2=1e-12, tol=0.001;, score=nan total time=   1.0s\n"
     ]
    },
    {
     "name": "stderr",
     "output_type": "stream",
     "text": [
      "C:\\Python310\\lib\\site-packages\\sklearn\\model_selection\\_validation.py:776: UserWarning: Scoring failed. The score on this train-test partition for these parameters will be set to nan. Details: \n",
      "Traceback (most recent call last):\n",
      "  File \"C:\\Python310\\lib\\site-packages\\sklearn\\model_selection\\_validation.py\", line 767, in _score\n",
      "    scores = scorer(estimator, X_test, y_test)\n",
      "  File \"C:\\Python310\\lib\\site-packages\\sklearn\\metrics\\_scorer.py\", line 219, in __call__\n",
      "    return self._score(\n",
      "  File \"C:\\Python310\\lib\\site-packages\\sklearn\\metrics\\_scorer.py\", line 267, in _score\n",
      "    return self._sign * self._score_func(y_true, y_pred, **self._kwargs)\n",
      "  File \"C:\\Python310\\lib\\site-packages\\sklearn\\metrics\\_regression.py\", line 525, in mean_squared_log_error\n",
      "    raise ValueError(\n",
      "ValueError: Mean Squared Logarithmic Error cannot be used when targets contain negative values.\n",
      "\n",
      "  warnings.warn(\n"
     ]
    },
    {
     "name": "stdout",
     "output_type": "stream",
     "text": [
      "[CV 2/5] END alpha_1=1e-12, alpha_2=1e-08, lambda_1=1e-05, lambda_2=1e-12, tol=0.001;, score=nan total time=   0.9s\n",
      "[CV 3/5] END alpha_1=1e-12, alpha_2=1e-08, lambda_1=1e-05, lambda_2=1e-12, tol=0.001;, score=-0.274 total time=   1.0s\n"
     ]
    },
    {
     "name": "stderr",
     "output_type": "stream",
     "text": [
      "C:\\Python310\\lib\\site-packages\\sklearn\\model_selection\\_validation.py:776: UserWarning: Scoring failed. The score on this train-test partition for these parameters will be set to nan. Details: \n",
      "Traceback (most recent call last):\n",
      "  File \"C:\\Python310\\lib\\site-packages\\sklearn\\model_selection\\_validation.py\", line 767, in _score\n",
      "    scores = scorer(estimator, X_test, y_test)\n",
      "  File \"C:\\Python310\\lib\\site-packages\\sklearn\\metrics\\_scorer.py\", line 219, in __call__\n",
      "    return self._score(\n",
      "  File \"C:\\Python310\\lib\\site-packages\\sklearn\\metrics\\_scorer.py\", line 267, in _score\n",
      "    return self._sign * self._score_func(y_true, y_pred, **self._kwargs)\n",
      "  File \"C:\\Python310\\lib\\site-packages\\sklearn\\metrics\\_regression.py\", line 525, in mean_squared_log_error\n",
      "    raise ValueError(\n",
      "ValueError: Mean Squared Logarithmic Error cannot be used when targets contain negative values.\n",
      "\n",
      "  warnings.warn(\n"
     ]
    },
    {
     "name": "stdout",
     "output_type": "stream",
     "text": [
      "[CV 4/5] END alpha_1=1e-12, alpha_2=1e-08, lambda_1=1e-05, lambda_2=1e-12, tol=0.001;, score=nan total time=   0.9s\n"
     ]
    },
    {
     "name": "stderr",
     "output_type": "stream",
     "text": [
      "C:\\Python310\\lib\\site-packages\\sklearn\\model_selection\\_validation.py:776: UserWarning: Scoring failed. The score on this train-test partition for these parameters will be set to nan. Details: \n",
      "Traceback (most recent call last):\n",
      "  File \"C:\\Python310\\lib\\site-packages\\sklearn\\model_selection\\_validation.py\", line 767, in _score\n",
      "    scores = scorer(estimator, X_test, y_test)\n",
      "  File \"C:\\Python310\\lib\\site-packages\\sklearn\\metrics\\_scorer.py\", line 219, in __call__\n",
      "    return self._score(\n",
      "  File \"C:\\Python310\\lib\\site-packages\\sklearn\\metrics\\_scorer.py\", line 267, in _score\n",
      "    return self._sign * self._score_func(y_true, y_pred, **self._kwargs)\n",
      "  File \"C:\\Python310\\lib\\site-packages\\sklearn\\metrics\\_regression.py\", line 525, in mean_squared_log_error\n",
      "    raise ValueError(\n",
      "ValueError: Mean Squared Logarithmic Error cannot be used when targets contain negative values.\n",
      "\n",
      "  warnings.warn(\n"
     ]
    },
    {
     "name": "stdout",
     "output_type": "stream",
     "text": [
      "[CV 5/5] END alpha_1=1e-12, alpha_2=1e-08, lambda_1=1e-05, lambda_2=1e-12, tol=0.001;, score=nan total time=   0.9s\n"
     ]
    },
    {
     "name": "stderr",
     "output_type": "stream",
     "text": [
      "C:\\Python310\\lib\\site-packages\\sklearn\\model_selection\\_validation.py:776: UserWarning: Scoring failed. The score on this train-test partition for these parameters will be set to nan. Details: \n",
      "Traceback (most recent call last):\n",
      "  File \"C:\\Python310\\lib\\site-packages\\sklearn\\model_selection\\_validation.py\", line 767, in _score\n",
      "    scores = scorer(estimator, X_test, y_test)\n",
      "  File \"C:\\Python310\\lib\\site-packages\\sklearn\\metrics\\_scorer.py\", line 219, in __call__\n",
      "    return self._score(\n",
      "  File \"C:\\Python310\\lib\\site-packages\\sklearn\\metrics\\_scorer.py\", line 267, in _score\n",
      "    return self._sign * self._score_func(y_true, y_pred, **self._kwargs)\n",
      "  File \"C:\\Python310\\lib\\site-packages\\sklearn\\metrics\\_regression.py\", line 525, in mean_squared_log_error\n",
      "    raise ValueError(\n",
      "ValueError: Mean Squared Logarithmic Error cannot be used when targets contain negative values.\n",
      "\n",
      "  warnings.warn(\n"
     ]
    },
    {
     "name": "stdout",
     "output_type": "stream",
     "text": [
      "[CV 1/5] END alpha_1=1e-12, alpha_2=0.001, lambda_1=1e-12, lambda_2=0.1, tol=0.1;, score=nan total time=   0.9s\n"
     ]
    },
    {
     "name": "stderr",
     "output_type": "stream",
     "text": [
      "C:\\Python310\\lib\\site-packages\\sklearn\\model_selection\\_validation.py:776: UserWarning: Scoring failed. The score on this train-test partition for these parameters will be set to nan. Details: \n",
      "Traceback (most recent call last):\n",
      "  File \"C:\\Python310\\lib\\site-packages\\sklearn\\model_selection\\_validation.py\", line 767, in _score\n",
      "    scores = scorer(estimator, X_test, y_test)\n",
      "  File \"C:\\Python310\\lib\\site-packages\\sklearn\\metrics\\_scorer.py\", line 219, in __call__\n",
      "    return self._score(\n",
      "  File \"C:\\Python310\\lib\\site-packages\\sklearn\\metrics\\_scorer.py\", line 267, in _score\n",
      "    return self._sign * self._score_func(y_true, y_pred, **self._kwargs)\n",
      "  File \"C:\\Python310\\lib\\site-packages\\sklearn\\metrics\\_regression.py\", line 525, in mean_squared_log_error\n",
      "    raise ValueError(\n",
      "ValueError: Mean Squared Logarithmic Error cannot be used when targets contain negative values.\n",
      "\n",
      "  warnings.warn(\n"
     ]
    },
    {
     "name": "stdout",
     "output_type": "stream",
     "text": [
      "[CV 2/5] END alpha_1=1e-12, alpha_2=0.001, lambda_1=1e-12, lambda_2=0.1, tol=0.1;, score=nan total time=   0.9s\n",
      "[CV 3/5] END alpha_1=1e-12, alpha_2=0.001, lambda_1=1e-12, lambda_2=0.1, tol=0.1;, score=-0.274 total time=   0.9s\n"
     ]
    },
    {
     "name": "stderr",
     "output_type": "stream",
     "text": [
      "C:\\Python310\\lib\\site-packages\\sklearn\\model_selection\\_validation.py:776: UserWarning: Scoring failed. The score on this train-test partition for these parameters will be set to nan. Details: \n",
      "Traceback (most recent call last):\n",
      "  File \"C:\\Python310\\lib\\site-packages\\sklearn\\model_selection\\_validation.py\", line 767, in _score\n",
      "    scores = scorer(estimator, X_test, y_test)\n",
      "  File \"C:\\Python310\\lib\\site-packages\\sklearn\\metrics\\_scorer.py\", line 219, in __call__\n",
      "    return self._score(\n",
      "  File \"C:\\Python310\\lib\\site-packages\\sklearn\\metrics\\_scorer.py\", line 267, in _score\n",
      "    return self._sign * self._score_func(y_true, y_pred, **self._kwargs)\n",
      "  File \"C:\\Python310\\lib\\site-packages\\sklearn\\metrics\\_regression.py\", line 525, in mean_squared_log_error\n",
      "    raise ValueError(\n",
      "ValueError: Mean Squared Logarithmic Error cannot be used when targets contain negative values.\n",
      "\n",
      "  warnings.warn(\n"
     ]
    },
    {
     "name": "stdout",
     "output_type": "stream",
     "text": [
      "[CV 4/5] END alpha_1=1e-12, alpha_2=0.001, lambda_1=1e-12, lambda_2=0.1, tol=0.1;, score=nan total time=   0.9s\n"
     ]
    },
    {
     "name": "stderr",
     "output_type": "stream",
     "text": [
      "C:\\Python310\\lib\\site-packages\\sklearn\\model_selection\\_validation.py:776: UserWarning: Scoring failed. The score on this train-test partition for these parameters will be set to nan. Details: \n",
      "Traceback (most recent call last):\n",
      "  File \"C:\\Python310\\lib\\site-packages\\sklearn\\model_selection\\_validation.py\", line 767, in _score\n",
      "    scores = scorer(estimator, X_test, y_test)\n",
      "  File \"C:\\Python310\\lib\\site-packages\\sklearn\\metrics\\_scorer.py\", line 219, in __call__\n",
      "    return self._score(\n",
      "  File \"C:\\Python310\\lib\\site-packages\\sklearn\\metrics\\_scorer.py\", line 267, in _score\n",
      "    return self._sign * self._score_func(y_true, y_pred, **self._kwargs)\n",
      "  File \"C:\\Python310\\lib\\site-packages\\sklearn\\metrics\\_regression.py\", line 525, in mean_squared_log_error\n",
      "    raise ValueError(\n",
      "ValueError: Mean Squared Logarithmic Error cannot be used when targets contain negative values.\n",
      "\n",
      "  warnings.warn(\n"
     ]
    },
    {
     "name": "stdout",
     "output_type": "stream",
     "text": [
      "[CV 5/5] END alpha_1=1e-12, alpha_2=0.001, lambda_1=1e-12, lambda_2=0.1, tol=0.1;, score=nan total time=   0.9s\n"
     ]
    },
    {
     "name": "stderr",
     "output_type": "stream",
     "text": [
      "C:\\Python310\\lib\\site-packages\\sklearn\\model_selection\\_validation.py:776: UserWarning: Scoring failed. The score on this train-test partition for these parameters will be set to nan. Details: \n",
      "Traceback (most recent call last):\n",
      "  File \"C:\\Python310\\lib\\site-packages\\sklearn\\model_selection\\_validation.py\", line 767, in _score\n",
      "    scores = scorer(estimator, X_test, y_test)\n",
      "  File \"C:\\Python310\\lib\\site-packages\\sklearn\\metrics\\_scorer.py\", line 219, in __call__\n",
      "    return self._score(\n",
      "  File \"C:\\Python310\\lib\\site-packages\\sklearn\\metrics\\_scorer.py\", line 267, in _score\n",
      "    return self._sign * self._score_func(y_true, y_pred, **self._kwargs)\n",
      "  File \"C:\\Python310\\lib\\site-packages\\sklearn\\metrics\\_regression.py\", line 525, in mean_squared_log_error\n",
      "    raise ValueError(\n",
      "ValueError: Mean Squared Logarithmic Error cannot be used when targets contain negative values.\n",
      "\n",
      "  warnings.warn(\n"
     ]
    },
    {
     "name": "stdout",
     "output_type": "stream",
     "text": [
      "[CV 1/5] END alpha_1=1e-12, alpha_2=1e-08, lambda_1=1e-05, lambda_2=1e-12, tol=1e-08;, score=nan total time=   2.4s\n"
     ]
    },
    {
     "name": "stderr",
     "output_type": "stream",
     "text": [
      "C:\\Python310\\lib\\site-packages\\sklearn\\model_selection\\_validation.py:776: UserWarning: Scoring failed. The score on this train-test partition for these parameters will be set to nan. Details: \n",
      "Traceback (most recent call last):\n",
      "  File \"C:\\Python310\\lib\\site-packages\\sklearn\\model_selection\\_validation.py\", line 767, in _score\n",
      "    scores = scorer(estimator, X_test, y_test)\n",
      "  File \"C:\\Python310\\lib\\site-packages\\sklearn\\metrics\\_scorer.py\", line 219, in __call__\n",
      "    return self._score(\n",
      "  File \"C:\\Python310\\lib\\site-packages\\sklearn\\metrics\\_scorer.py\", line 267, in _score\n",
      "    return self._sign * self._score_func(y_true, y_pred, **self._kwargs)\n",
      "  File \"C:\\Python310\\lib\\site-packages\\sklearn\\metrics\\_regression.py\", line 525, in mean_squared_log_error\n",
      "    raise ValueError(\n",
      "ValueError: Mean Squared Logarithmic Error cannot be used when targets contain negative values.\n",
      "\n",
      "  warnings.warn(\n"
     ]
    },
    {
     "name": "stdout",
     "output_type": "stream",
     "text": [
      "[CV 2/5] END alpha_1=1e-12, alpha_2=1e-08, lambda_1=1e-05, lambda_2=1e-12, tol=1e-08;, score=nan total time=   1.0s\n",
      "[CV 3/5] END alpha_1=1e-12, alpha_2=1e-08, lambda_1=1e-05, lambda_2=1e-12, tol=1e-08;, score=-0.274 total time=   2.4s\n"
     ]
    },
    {
     "name": "stderr",
     "output_type": "stream",
     "text": [
      "C:\\Python310\\lib\\site-packages\\sklearn\\model_selection\\_validation.py:776: UserWarning: Scoring failed. The score on this train-test partition for these parameters will be set to nan. Details: \n",
      "Traceback (most recent call last):\n",
      "  File \"C:\\Python310\\lib\\site-packages\\sklearn\\model_selection\\_validation.py\", line 767, in _score\n",
      "    scores = scorer(estimator, X_test, y_test)\n",
      "  File \"C:\\Python310\\lib\\site-packages\\sklearn\\metrics\\_scorer.py\", line 219, in __call__\n",
      "    return self._score(\n",
      "  File \"C:\\Python310\\lib\\site-packages\\sklearn\\metrics\\_scorer.py\", line 267, in _score\n",
      "    return self._sign * self._score_func(y_true, y_pred, **self._kwargs)\n",
      "  File \"C:\\Python310\\lib\\site-packages\\sklearn\\metrics\\_regression.py\", line 525, in mean_squared_log_error\n",
      "    raise ValueError(\n",
      "ValueError: Mean Squared Logarithmic Error cannot be used when targets contain negative values.\n",
      "\n",
      "  warnings.warn(\n"
     ]
    },
    {
     "name": "stdout",
     "output_type": "stream",
     "text": [
      "[CV 4/5] END alpha_1=1e-12, alpha_2=1e-08, lambda_1=1e-05, lambda_2=1e-12, tol=1e-08;, score=nan total time=   2.4s\n"
     ]
    },
    {
     "name": "stderr",
     "output_type": "stream",
     "text": [
      "C:\\Python310\\lib\\site-packages\\sklearn\\model_selection\\_validation.py:776: UserWarning: Scoring failed. The score on this train-test partition for these parameters will be set to nan. Details: \n",
      "Traceback (most recent call last):\n",
      "  File \"C:\\Python310\\lib\\site-packages\\sklearn\\model_selection\\_validation.py\", line 767, in _score\n",
      "    scores = scorer(estimator, X_test, y_test)\n",
      "  File \"C:\\Python310\\lib\\site-packages\\sklearn\\metrics\\_scorer.py\", line 219, in __call__\n",
      "    return self._score(\n",
      "  File \"C:\\Python310\\lib\\site-packages\\sklearn\\metrics\\_scorer.py\", line 267, in _score\n",
      "    return self._sign * self._score_func(y_true, y_pred, **self._kwargs)\n",
      "  File \"C:\\Python310\\lib\\site-packages\\sklearn\\metrics\\_regression.py\", line 525, in mean_squared_log_error\n",
      "    raise ValueError(\n",
      "ValueError: Mean Squared Logarithmic Error cannot be used when targets contain negative values.\n",
      "\n",
      "  warnings.warn(\n"
     ]
    },
    {
     "name": "stdout",
     "output_type": "stream",
     "text": [
      "[CV 5/5] END alpha_1=1e-12, alpha_2=1e-08, lambda_1=1e-05, lambda_2=1e-12, tol=1e-08;, score=nan total time=   2.4s\n",
      "[CV 1/5] END alpha_1=1e-05, alpha_2=0.001, lambda_1=0.001, lambda_2=1e-05, tol=1e-12;, score=-0.393 total time=   0.8s\n",
      "[CV 2/5] END alpha_1=1e-05, alpha_2=0.001, lambda_1=0.001, lambda_2=1e-05, tol=1e-12;, score=-0.377 total time=   0.7s\n",
      "[CV 3/5] END alpha_1=1e-05, alpha_2=0.001, lambda_1=0.001, lambda_2=1e-05, tol=1e-12;, score=-0.387 total time=   0.8s\n",
      "[CV 4/5] END alpha_1=1e-05, alpha_2=0.001, lambda_1=0.001, lambda_2=1e-05, tol=1e-12;, score=-0.394 total time=   0.7s\n",
      "[CV 5/5] END alpha_1=1e-05, alpha_2=0.001, lambda_1=0.001, lambda_2=1e-05, tol=1e-12;, score=-0.401 total time=   0.7s\n",
      "[CV 1/5] END alpha_1=0.001, alpha_2=1e-05, lambda_1=0.001, lambda_2=0.001, tol=0.001;, score=-0.393 total time=   0.7s\n",
      "[CV 2/5] END alpha_1=0.001, alpha_2=1e-05, lambda_1=0.001, lambda_2=0.001, tol=0.001;, score=-0.377 total time=   0.7s\n",
      "[CV 3/5] END alpha_1=0.001, alpha_2=1e-05, lambda_1=0.001, lambda_2=0.001, tol=0.001;, score=-0.387 total time=   0.7s\n",
      "[CV 4/5] END alpha_1=0.001, alpha_2=1e-05, lambda_1=0.001, lambda_2=0.001, tol=0.001;, score=-0.394 total time=   0.7s\n",
      "[CV 5/5] END alpha_1=0.001, alpha_2=1e-05, lambda_1=0.001, lambda_2=0.001, tol=0.001;, score=-0.401 total time=   0.7s\n"
     ]
    },
    {
     "name": "stderr",
     "output_type": "stream",
     "text": [
      "C:\\Python310\\lib\\site-packages\\sklearn\\model_selection\\_validation.py:776: UserWarning: Scoring failed. The score on this train-test partition for these parameters will be set to nan. Details: \n",
      "Traceback (most recent call last):\n",
      "  File \"C:\\Python310\\lib\\site-packages\\sklearn\\model_selection\\_validation.py\", line 767, in _score\n",
      "    scores = scorer(estimator, X_test, y_test)\n",
      "  File \"C:\\Python310\\lib\\site-packages\\sklearn\\metrics\\_scorer.py\", line 219, in __call__\n",
      "    return self._score(\n",
      "  File \"C:\\Python310\\lib\\site-packages\\sklearn\\metrics\\_scorer.py\", line 267, in _score\n",
      "    return self._sign * self._score_func(y_true, y_pred, **self._kwargs)\n",
      "  File \"C:\\Python310\\lib\\site-packages\\sklearn\\metrics\\_regression.py\", line 525, in mean_squared_log_error\n",
      "    raise ValueError(\n",
      "ValueError: Mean Squared Logarithmic Error cannot be used when targets contain negative values.\n",
      "\n",
      "  warnings.warn(\n"
     ]
    },
    {
     "name": "stdout",
     "output_type": "stream",
     "text": [
      "[CV 1/5] END alpha_1=0.1, alpha_2=1e-12, lambda_1=1e-12, lambda_2=0.1, tol=1e-05;, score=nan total time=   1.0s\n"
     ]
    },
    {
     "name": "stderr",
     "output_type": "stream",
     "text": [
      "C:\\Python310\\lib\\site-packages\\sklearn\\model_selection\\_validation.py:776: UserWarning: Scoring failed. The score on this train-test partition for these parameters will be set to nan. Details: \n",
      "Traceback (most recent call last):\n",
      "  File \"C:\\Python310\\lib\\site-packages\\sklearn\\model_selection\\_validation.py\", line 767, in _score\n",
      "    scores = scorer(estimator, X_test, y_test)\n",
      "  File \"C:\\Python310\\lib\\site-packages\\sklearn\\metrics\\_scorer.py\", line 219, in __call__\n",
      "    return self._score(\n",
      "  File \"C:\\Python310\\lib\\site-packages\\sklearn\\metrics\\_scorer.py\", line 267, in _score\n",
      "    return self._sign * self._score_func(y_true, y_pred, **self._kwargs)\n",
      "  File \"C:\\Python310\\lib\\site-packages\\sklearn\\metrics\\_regression.py\", line 525, in mean_squared_log_error\n",
      "    raise ValueError(\n",
      "ValueError: Mean Squared Logarithmic Error cannot be used when targets contain negative values.\n",
      "\n",
      "  warnings.warn(\n"
     ]
    },
    {
     "name": "stdout",
     "output_type": "stream",
     "text": [
      "[CV 2/5] END alpha_1=0.1, alpha_2=1e-12, lambda_1=1e-12, lambda_2=0.1, tol=1e-05;, score=nan total time=   0.9s\n",
      "[CV 3/5] END alpha_1=0.1, alpha_2=1e-12, lambda_1=1e-12, lambda_2=0.1, tol=1e-05;, score=-0.274 total time=   1.0s\n"
     ]
    },
    {
     "name": "stderr",
     "output_type": "stream",
     "text": [
      "C:\\Python310\\lib\\site-packages\\sklearn\\model_selection\\_validation.py:776: UserWarning: Scoring failed. The score on this train-test partition for these parameters will be set to nan. Details: \n",
      "Traceback (most recent call last):\n",
      "  File \"C:\\Python310\\lib\\site-packages\\sklearn\\model_selection\\_validation.py\", line 767, in _score\n",
      "    scores = scorer(estimator, X_test, y_test)\n",
      "  File \"C:\\Python310\\lib\\site-packages\\sklearn\\metrics\\_scorer.py\", line 219, in __call__\n",
      "    return self._score(\n",
      "  File \"C:\\Python310\\lib\\site-packages\\sklearn\\metrics\\_scorer.py\", line 267, in _score\n",
      "    return self._sign * self._score_func(y_true, y_pred, **self._kwargs)\n",
      "  File \"C:\\Python310\\lib\\site-packages\\sklearn\\metrics\\_regression.py\", line 525, in mean_squared_log_error\n",
      "    raise ValueError(\n",
      "ValueError: Mean Squared Logarithmic Error cannot be used when targets contain negative values.\n",
      "\n",
      "  warnings.warn(\n"
     ]
    },
    {
     "name": "stdout",
     "output_type": "stream",
     "text": [
      "[CV 4/5] END alpha_1=0.1, alpha_2=1e-12, lambda_1=1e-12, lambda_2=0.1, tol=1e-05;, score=nan total time=   1.0s\n"
     ]
    },
    {
     "name": "stderr",
     "output_type": "stream",
     "text": [
      "C:\\Python310\\lib\\site-packages\\sklearn\\model_selection\\_validation.py:776: UserWarning: Scoring failed. The score on this train-test partition for these parameters will be set to nan. Details: \n",
      "Traceback (most recent call last):\n",
      "  File \"C:\\Python310\\lib\\site-packages\\sklearn\\model_selection\\_validation.py\", line 767, in _score\n",
      "    scores = scorer(estimator, X_test, y_test)\n",
      "  File \"C:\\Python310\\lib\\site-packages\\sklearn\\metrics\\_scorer.py\", line 219, in __call__\n",
      "    return self._score(\n",
      "  File \"C:\\Python310\\lib\\site-packages\\sklearn\\metrics\\_scorer.py\", line 267, in _score\n",
      "    return self._sign * self._score_func(y_true, y_pred, **self._kwargs)\n",
      "  File \"C:\\Python310\\lib\\site-packages\\sklearn\\metrics\\_regression.py\", line 525, in mean_squared_log_error\n",
      "    raise ValueError(\n",
      "ValueError: Mean Squared Logarithmic Error cannot be used when targets contain negative values.\n",
      "\n",
      "  warnings.warn(\n"
     ]
    },
    {
     "name": "stdout",
     "output_type": "stream",
     "text": [
      "[CV 5/5] END alpha_1=0.1, alpha_2=1e-12, lambda_1=1e-12, lambda_2=0.1, tol=1e-05;, score=nan total time=   0.9s\n",
      "[CV 1/5] END alpha_1=1e-12, alpha_2=0.1, lambda_1=0.001, lambda_2=1e-08, tol=1e-08;, score=-0.393 total time=   0.7s\n",
      "[CV 2/5] END alpha_1=1e-12, alpha_2=0.1, lambda_1=0.001, lambda_2=1e-08, tol=1e-08;, score=-0.377 total time=   0.7s\n",
      "[CV 3/5] END alpha_1=1e-12, alpha_2=0.1, lambda_1=0.001, lambda_2=1e-08, tol=1e-08;, score=-0.387 total time=   0.7s\n",
      "[CV 4/5] END alpha_1=1e-12, alpha_2=0.1, lambda_1=0.001, lambda_2=1e-08, tol=1e-08;, score=-0.394 total time=   0.7s\n",
      "[CV 5/5] END alpha_1=1e-12, alpha_2=0.1, lambda_1=0.001, lambda_2=1e-08, tol=1e-08;, score=-0.401 total time=   0.7s\n",
      "[CV 1/5] END alpha_1=1e-05, alpha_2=1e-12, lambda_1=0.1, lambda_2=1e-08, tol=0.1;, score=-0.393 total time=   0.7s\n",
      "[CV 2/5] END alpha_1=1e-05, alpha_2=1e-12, lambda_1=0.1, lambda_2=1e-08, tol=0.1;, score=-0.377 total time=   0.7s\n",
      "[CV 3/5] END alpha_1=1e-05, alpha_2=1e-12, lambda_1=0.1, lambda_2=1e-08, tol=0.1;, score=-0.387 total time=   0.7s\n",
      "[CV 4/5] END alpha_1=1e-05, alpha_2=1e-12, lambda_1=0.1, lambda_2=1e-08, tol=0.1;, score=-0.394 total time=   0.7s\n",
      "[CV 5/5] END alpha_1=1e-05, alpha_2=1e-12, lambda_1=0.1, lambda_2=1e-08, tol=0.1;, score=-0.401 total time=   0.7s\n"
     ]
    },
    {
     "name": "stderr",
     "output_type": "stream",
     "text": [
      "C:\\Python310\\lib\\site-packages\\sklearn\\model_selection\\_validation.py:776: UserWarning: Scoring failed. The score on this train-test partition for these parameters will be set to nan. Details: \n",
      "Traceback (most recent call last):\n",
      "  File \"C:\\Python310\\lib\\site-packages\\sklearn\\model_selection\\_validation.py\", line 767, in _score\n",
      "    scores = scorer(estimator, X_test, y_test)\n",
      "  File \"C:\\Python310\\lib\\site-packages\\sklearn\\metrics\\_scorer.py\", line 219, in __call__\n",
      "    return self._score(\n",
      "  File \"C:\\Python310\\lib\\site-packages\\sklearn\\metrics\\_scorer.py\", line 267, in _score\n",
      "    return self._sign * self._score_func(y_true, y_pred, **self._kwargs)\n",
      "  File \"C:\\Python310\\lib\\site-packages\\sklearn\\metrics\\_regression.py\", line 525, in mean_squared_log_error\n",
      "    raise ValueError(\n",
      "ValueError: Mean Squared Logarithmic Error cannot be used when targets contain negative values.\n",
      "\n",
      "  warnings.warn(\n"
     ]
    },
    {
     "name": "stdout",
     "output_type": "stream",
     "text": [
      "[CV 1/5] END alpha_1=1e-12, alpha_2=1e-08, lambda_1=1e-08, lambda_2=1e-12, tol=1e-08;, score=nan total time=   2.4s\n"
     ]
    },
    {
     "name": "stderr",
     "output_type": "stream",
     "text": [
      "C:\\Python310\\lib\\site-packages\\sklearn\\model_selection\\_validation.py:776: UserWarning: Scoring failed. The score on this train-test partition for these parameters will be set to nan. Details: \n",
      "Traceback (most recent call last):\n",
      "  File \"C:\\Python310\\lib\\site-packages\\sklearn\\model_selection\\_validation.py\", line 767, in _score\n",
      "    scores = scorer(estimator, X_test, y_test)\n",
      "  File \"C:\\Python310\\lib\\site-packages\\sklearn\\metrics\\_scorer.py\", line 219, in __call__\n",
      "    return self._score(\n",
      "  File \"C:\\Python310\\lib\\site-packages\\sklearn\\metrics\\_scorer.py\", line 267, in _score\n",
      "    return self._sign * self._score_func(y_true, y_pred, **self._kwargs)\n",
      "  File \"C:\\Python310\\lib\\site-packages\\sklearn\\metrics\\_regression.py\", line 525, in mean_squared_log_error\n",
      "    raise ValueError(\n",
      "ValueError: Mean Squared Logarithmic Error cannot be used when targets contain negative values.\n",
      "\n",
      "  warnings.warn(\n"
     ]
    },
    {
     "name": "stdout",
     "output_type": "stream",
     "text": [
      "[CV 2/5] END alpha_1=1e-12, alpha_2=1e-08, lambda_1=1e-08, lambda_2=1e-12, tol=1e-08;, score=nan total time=   2.5s\n",
      "[CV 3/5] END alpha_1=1e-12, alpha_2=1e-08, lambda_1=1e-08, lambda_2=1e-12, tol=1e-08;, score=-0.274 total time=   2.4s\n"
     ]
    },
    {
     "name": "stderr",
     "output_type": "stream",
     "text": [
      "C:\\Python310\\lib\\site-packages\\sklearn\\model_selection\\_validation.py:776: UserWarning: Scoring failed. The score on this train-test partition for these parameters will be set to nan. Details: \n",
      "Traceback (most recent call last):\n",
      "  File \"C:\\Python310\\lib\\site-packages\\sklearn\\model_selection\\_validation.py\", line 767, in _score\n",
      "    scores = scorer(estimator, X_test, y_test)\n",
      "  File \"C:\\Python310\\lib\\site-packages\\sklearn\\metrics\\_scorer.py\", line 219, in __call__\n",
      "    return self._score(\n",
      "  File \"C:\\Python310\\lib\\site-packages\\sklearn\\metrics\\_scorer.py\", line 267, in _score\n",
      "    return self._sign * self._score_func(y_true, y_pred, **self._kwargs)\n",
      "  File \"C:\\Python310\\lib\\site-packages\\sklearn\\metrics\\_regression.py\", line 525, in mean_squared_log_error\n",
      "    raise ValueError(\n",
      "ValueError: Mean Squared Logarithmic Error cannot be used when targets contain negative values.\n",
      "\n",
      "  warnings.warn(\n"
     ]
    },
    {
     "name": "stdout",
     "output_type": "stream",
     "text": [
      "[CV 4/5] END alpha_1=1e-12, alpha_2=1e-08, lambda_1=1e-08, lambda_2=1e-12, tol=1e-08;, score=nan total time=   2.4s\n"
     ]
    },
    {
     "name": "stderr",
     "output_type": "stream",
     "text": [
      "C:\\Python310\\lib\\site-packages\\sklearn\\model_selection\\_validation.py:776: UserWarning: Scoring failed. The score on this train-test partition for these parameters will be set to nan. Details: \n",
      "Traceback (most recent call last):\n",
      "  File \"C:\\Python310\\lib\\site-packages\\sklearn\\model_selection\\_validation.py\", line 767, in _score\n",
      "    scores = scorer(estimator, X_test, y_test)\n",
      "  File \"C:\\Python310\\lib\\site-packages\\sklearn\\metrics\\_scorer.py\", line 219, in __call__\n",
      "    return self._score(\n",
      "  File \"C:\\Python310\\lib\\site-packages\\sklearn\\metrics\\_scorer.py\", line 267, in _score\n",
      "    return self._sign * self._score_func(y_true, y_pred, **self._kwargs)\n",
      "  File \"C:\\Python310\\lib\\site-packages\\sklearn\\metrics\\_regression.py\", line 525, in mean_squared_log_error\n",
      "    raise ValueError(\n",
      "ValueError: Mean Squared Logarithmic Error cannot be used when targets contain negative values.\n",
      "\n",
      "  warnings.warn(\n"
     ]
    },
    {
     "name": "stdout",
     "output_type": "stream",
     "text": [
      "[CV 5/5] END alpha_1=1e-12, alpha_2=1e-08, lambda_1=1e-08, lambda_2=1e-12, tol=1e-08;, score=nan total time=   2.4s\n",
      "[CV 1/5] END alpha_1=1e-08, alpha_2=1e-05, lambda_1=0.001, lambda_2=1e-05, tol=1e-08;, score=-0.393 total time=   0.8s\n",
      "[CV 2/5] END alpha_1=1e-08, alpha_2=1e-05, lambda_1=0.001, lambda_2=1e-05, tol=1e-08;, score=-0.377 total time=   0.7s\n",
      "[CV 3/5] END alpha_1=1e-08, alpha_2=1e-05, lambda_1=0.001, lambda_2=1e-05, tol=1e-08;, score=-0.387 total time=   0.7s\n",
      "[CV 4/5] END alpha_1=1e-08, alpha_2=1e-05, lambda_1=0.001, lambda_2=1e-05, tol=1e-08;, score=-0.394 total time=   0.7s\n",
      "[CV 5/5] END alpha_1=1e-08, alpha_2=1e-05, lambda_1=0.001, lambda_2=1e-05, tol=1e-08;, score=-0.401 total time=   0.8s\n",
      "[CV 1/5] END alpha_1=1e-08, alpha_2=1e-12, lambda_1=0.1, lambda_2=1e-12, tol=0.1;, score=-0.393 total time=   0.7s\n",
      "[CV 2/5] END alpha_1=1e-08, alpha_2=1e-12, lambda_1=0.1, lambda_2=1e-12, tol=0.1;, score=-0.377 total time=   0.7s\n",
      "[CV 3/5] END alpha_1=1e-08, alpha_2=1e-12, lambda_1=0.1, lambda_2=1e-12, tol=0.1;, score=-0.387 total time=   0.7s\n",
      "[CV 4/5] END alpha_1=1e-08, alpha_2=1e-12, lambda_1=0.1, lambda_2=1e-12, tol=0.1;, score=-0.394 total time=   0.7s\n",
      "[CV 5/5] END alpha_1=1e-08, alpha_2=1e-12, lambda_1=0.1, lambda_2=1e-12, tol=0.1;, score=-0.401 total time=   0.7s\n"
     ]
    },
    {
     "name": "stderr",
     "output_type": "stream",
     "text": [
      "C:\\Python310\\lib\\site-packages\\sklearn\\model_selection\\_validation.py:776: UserWarning: Scoring failed. The score on this train-test partition for these parameters will be set to nan. Details: \n",
      "Traceback (most recent call last):\n",
      "  File \"C:\\Python310\\lib\\site-packages\\sklearn\\model_selection\\_validation.py\", line 767, in _score\n",
      "    scores = scorer(estimator, X_test, y_test)\n",
      "  File \"C:\\Python310\\lib\\site-packages\\sklearn\\metrics\\_scorer.py\", line 219, in __call__\n",
      "    return self._score(\n",
      "  File \"C:\\Python310\\lib\\site-packages\\sklearn\\metrics\\_scorer.py\", line 267, in _score\n",
      "    return self._sign * self._score_func(y_true, y_pred, **self._kwargs)\n",
      "  File \"C:\\Python310\\lib\\site-packages\\sklearn\\metrics\\_regression.py\", line 525, in mean_squared_log_error\n",
      "    raise ValueError(\n",
      "ValueError: Mean Squared Logarithmic Error cannot be used when targets contain negative values.\n",
      "\n",
      "  warnings.warn(\n"
     ]
    },
    {
     "name": "stdout",
     "output_type": "stream",
     "text": [
      "[CV 1/5] END alpha_1=1e-12, alpha_2=1e-05, lambda_1=1e-12, lambda_2=1e-12, tol=0.1;, score=nan total time=   0.9s\n"
     ]
    },
    {
     "name": "stderr",
     "output_type": "stream",
     "text": [
      "C:\\Python310\\lib\\site-packages\\sklearn\\model_selection\\_validation.py:776: UserWarning: Scoring failed. The score on this train-test partition for these parameters will be set to nan. Details: \n",
      "Traceback (most recent call last):\n",
      "  File \"C:\\Python310\\lib\\site-packages\\sklearn\\model_selection\\_validation.py\", line 767, in _score\n",
      "    scores = scorer(estimator, X_test, y_test)\n",
      "  File \"C:\\Python310\\lib\\site-packages\\sklearn\\metrics\\_scorer.py\", line 219, in __call__\n",
      "    return self._score(\n",
      "  File \"C:\\Python310\\lib\\site-packages\\sklearn\\metrics\\_scorer.py\", line 267, in _score\n",
      "    return self._sign * self._score_func(y_true, y_pred, **self._kwargs)\n",
      "  File \"C:\\Python310\\lib\\site-packages\\sklearn\\metrics\\_regression.py\", line 525, in mean_squared_log_error\n",
      "    raise ValueError(\n",
      "ValueError: Mean Squared Logarithmic Error cannot be used when targets contain negative values.\n",
      "\n",
      "  warnings.warn(\n"
     ]
    },
    {
     "name": "stdout",
     "output_type": "stream",
     "text": [
      "[CV 2/5] END alpha_1=1e-12, alpha_2=1e-05, lambda_1=1e-12, lambda_2=1e-12, tol=0.1;, score=nan total time=   0.9s\n",
      "[CV 3/5] END alpha_1=1e-12, alpha_2=1e-05, lambda_1=1e-12, lambda_2=1e-12, tol=0.1;, score=-0.274 total time=   0.9s\n"
     ]
    },
    {
     "name": "stderr",
     "output_type": "stream",
     "text": [
      "C:\\Python310\\lib\\site-packages\\sklearn\\model_selection\\_validation.py:776: UserWarning: Scoring failed. The score on this train-test partition for these parameters will be set to nan. Details: \n",
      "Traceback (most recent call last):\n",
      "  File \"C:\\Python310\\lib\\site-packages\\sklearn\\model_selection\\_validation.py\", line 767, in _score\n",
      "    scores = scorer(estimator, X_test, y_test)\n",
      "  File \"C:\\Python310\\lib\\site-packages\\sklearn\\metrics\\_scorer.py\", line 219, in __call__\n",
      "    return self._score(\n",
      "  File \"C:\\Python310\\lib\\site-packages\\sklearn\\metrics\\_scorer.py\", line 267, in _score\n",
      "    return self._sign * self._score_func(y_true, y_pred, **self._kwargs)\n",
      "  File \"C:\\Python310\\lib\\site-packages\\sklearn\\metrics\\_regression.py\", line 525, in mean_squared_log_error\n",
      "    raise ValueError(\n",
      "ValueError: Mean Squared Logarithmic Error cannot be used when targets contain negative values.\n",
      "\n",
      "  warnings.warn(\n"
     ]
    },
    {
     "name": "stdout",
     "output_type": "stream",
     "text": [
      "[CV 4/5] END alpha_1=1e-12, alpha_2=1e-05, lambda_1=1e-12, lambda_2=1e-12, tol=0.1;, score=nan total time=   0.9s\n"
     ]
    },
    {
     "name": "stderr",
     "output_type": "stream",
     "text": [
      "C:\\Python310\\lib\\site-packages\\sklearn\\model_selection\\_validation.py:776: UserWarning: Scoring failed. The score on this train-test partition for these parameters will be set to nan. Details: \n",
      "Traceback (most recent call last):\n",
      "  File \"C:\\Python310\\lib\\site-packages\\sklearn\\model_selection\\_validation.py\", line 767, in _score\n",
      "    scores = scorer(estimator, X_test, y_test)\n",
      "  File \"C:\\Python310\\lib\\site-packages\\sklearn\\metrics\\_scorer.py\", line 219, in __call__\n",
      "    return self._score(\n",
      "  File \"C:\\Python310\\lib\\site-packages\\sklearn\\metrics\\_scorer.py\", line 267, in _score\n",
      "    return self._sign * self._score_func(y_true, y_pred, **self._kwargs)\n",
      "  File \"C:\\Python310\\lib\\site-packages\\sklearn\\metrics\\_regression.py\", line 525, in mean_squared_log_error\n",
      "    raise ValueError(\n",
      "ValueError: Mean Squared Logarithmic Error cannot be used when targets contain negative values.\n",
      "\n",
      "  warnings.warn(\n"
     ]
    },
    {
     "name": "stdout",
     "output_type": "stream",
     "text": [
      "[CV 5/5] END alpha_1=1e-12, alpha_2=1e-05, lambda_1=1e-12, lambda_2=1e-12, tol=0.1;, score=nan total time=   0.9s\n"
     ]
    },
    {
     "name": "stderr",
     "output_type": "stream",
     "text": [
      "C:\\Python310\\lib\\site-packages\\sklearn\\model_selection\\_validation.py:776: UserWarning: Scoring failed. The score on this train-test partition for these parameters will be set to nan. Details: \n",
      "Traceback (most recent call last):\n",
      "  File \"C:\\Python310\\lib\\site-packages\\sklearn\\model_selection\\_validation.py\", line 767, in _score\n",
      "    scores = scorer(estimator, X_test, y_test)\n",
      "  File \"C:\\Python310\\lib\\site-packages\\sklearn\\metrics\\_scorer.py\", line 219, in __call__\n",
      "    return self._score(\n",
      "  File \"C:\\Python310\\lib\\site-packages\\sklearn\\metrics\\_scorer.py\", line 267, in _score\n",
      "    return self._sign * self._score_func(y_true, y_pred, **self._kwargs)\n",
      "  File \"C:\\Python310\\lib\\site-packages\\sklearn\\metrics\\_regression.py\", line 525, in mean_squared_log_error\n",
      "    raise ValueError(\n",
      "ValueError: Mean Squared Logarithmic Error cannot be used when targets contain negative values.\n",
      "\n",
      "  warnings.warn(\n"
     ]
    },
    {
     "name": "stdout",
     "output_type": "stream",
     "text": [
      "[CV 1/5] END alpha_1=1e-08, alpha_2=1e-12, lambda_1=1e-08, lambda_2=1e-12, tol=0.001;, score=nan total time=   1.0s\n"
     ]
    },
    {
     "name": "stderr",
     "output_type": "stream",
     "text": [
      "C:\\Python310\\lib\\site-packages\\sklearn\\model_selection\\_validation.py:776: UserWarning: Scoring failed. The score on this train-test partition for these parameters will be set to nan. Details: \n",
      "Traceback (most recent call last):\n",
      "  File \"C:\\Python310\\lib\\site-packages\\sklearn\\model_selection\\_validation.py\", line 767, in _score\n",
      "    scores = scorer(estimator, X_test, y_test)\n",
      "  File \"C:\\Python310\\lib\\site-packages\\sklearn\\metrics\\_scorer.py\", line 219, in __call__\n",
      "    return self._score(\n",
      "  File \"C:\\Python310\\lib\\site-packages\\sklearn\\metrics\\_scorer.py\", line 267, in _score\n",
      "    return self._sign * self._score_func(y_true, y_pred, **self._kwargs)\n",
      "  File \"C:\\Python310\\lib\\site-packages\\sklearn\\metrics\\_regression.py\", line 525, in mean_squared_log_error\n",
      "    raise ValueError(\n",
      "ValueError: Mean Squared Logarithmic Error cannot be used when targets contain negative values.\n",
      "\n",
      "  warnings.warn(\n"
     ]
    },
    {
     "name": "stdout",
     "output_type": "stream",
     "text": [
      "[CV 2/5] END alpha_1=1e-08, alpha_2=1e-12, lambda_1=1e-08, lambda_2=1e-12, tol=0.001;, score=nan total time=   0.9s\n",
      "[CV 3/5] END alpha_1=1e-08, alpha_2=1e-12, lambda_1=1e-08, lambda_2=1e-12, tol=0.001;, score=-0.274 total time=   1.0s\n"
     ]
    },
    {
     "name": "stderr",
     "output_type": "stream",
     "text": [
      "C:\\Python310\\lib\\site-packages\\sklearn\\model_selection\\_validation.py:776: UserWarning: Scoring failed. The score on this train-test partition for these parameters will be set to nan. Details: \n",
      "Traceback (most recent call last):\n",
      "  File \"C:\\Python310\\lib\\site-packages\\sklearn\\model_selection\\_validation.py\", line 767, in _score\n",
      "    scores = scorer(estimator, X_test, y_test)\n",
      "  File \"C:\\Python310\\lib\\site-packages\\sklearn\\metrics\\_scorer.py\", line 219, in __call__\n",
      "    return self._score(\n",
      "  File \"C:\\Python310\\lib\\site-packages\\sklearn\\metrics\\_scorer.py\", line 267, in _score\n",
      "    return self._sign * self._score_func(y_true, y_pred, **self._kwargs)\n",
      "  File \"C:\\Python310\\lib\\site-packages\\sklearn\\metrics\\_regression.py\", line 525, in mean_squared_log_error\n",
      "    raise ValueError(\n",
      "ValueError: Mean Squared Logarithmic Error cannot be used when targets contain negative values.\n",
      "\n",
      "  warnings.warn(\n"
     ]
    },
    {
     "name": "stdout",
     "output_type": "stream",
     "text": [
      "[CV 4/5] END alpha_1=1e-08, alpha_2=1e-12, lambda_1=1e-08, lambda_2=1e-12, tol=0.001;, score=nan total time=   0.9s\n"
     ]
    },
    {
     "name": "stderr",
     "output_type": "stream",
     "text": [
      "C:\\Python310\\lib\\site-packages\\sklearn\\model_selection\\_validation.py:776: UserWarning: Scoring failed. The score on this train-test partition for these parameters will be set to nan. Details: \n",
      "Traceback (most recent call last):\n",
      "  File \"C:\\Python310\\lib\\site-packages\\sklearn\\model_selection\\_validation.py\", line 767, in _score\n",
      "    scores = scorer(estimator, X_test, y_test)\n",
      "  File \"C:\\Python310\\lib\\site-packages\\sklearn\\metrics\\_scorer.py\", line 219, in __call__\n",
      "    return self._score(\n",
      "  File \"C:\\Python310\\lib\\site-packages\\sklearn\\metrics\\_scorer.py\", line 267, in _score\n",
      "    return self._sign * self._score_func(y_true, y_pred, **self._kwargs)\n",
      "  File \"C:\\Python310\\lib\\site-packages\\sklearn\\metrics\\_regression.py\", line 525, in mean_squared_log_error\n",
      "    raise ValueError(\n",
      "ValueError: Mean Squared Logarithmic Error cannot be used when targets contain negative values.\n",
      "\n",
      "  warnings.warn(\n"
     ]
    },
    {
     "name": "stdout",
     "output_type": "stream",
     "text": [
      "[CV 5/5] END alpha_1=1e-08, alpha_2=1e-12, lambda_1=1e-08, lambda_2=1e-12, tol=0.001;, score=nan total time=   0.9s\n"
     ]
    },
    {
     "name": "stderr",
     "output_type": "stream",
     "text": [
      "C:\\Python310\\lib\\site-packages\\sklearn\\model_selection\\_validation.py:776: UserWarning: Scoring failed. The score on this train-test partition for these parameters will be set to nan. Details: \n",
      "Traceback (most recent call last):\n",
      "  File \"C:\\Python310\\lib\\site-packages\\sklearn\\model_selection\\_validation.py\", line 767, in _score\n",
      "    scores = scorer(estimator, X_test, y_test)\n",
      "  File \"C:\\Python310\\lib\\site-packages\\sklearn\\metrics\\_scorer.py\", line 219, in __call__\n",
      "    return self._score(\n",
      "  File \"C:\\Python310\\lib\\site-packages\\sklearn\\metrics\\_scorer.py\", line 267, in _score\n",
      "    return self._sign * self._score_func(y_true, y_pred, **self._kwargs)\n",
      "  File \"C:\\Python310\\lib\\site-packages\\sklearn\\metrics\\_regression.py\", line 525, in mean_squared_log_error\n",
      "    raise ValueError(\n",
      "ValueError: Mean Squared Logarithmic Error cannot be used when targets contain negative values.\n",
      "\n",
      "  warnings.warn(\n"
     ]
    },
    {
     "name": "stdout",
     "output_type": "stream",
     "text": [
      "[CV 1/5] END alpha_1=1e-05, alpha_2=1e-05, lambda_1=1e-12, lambda_2=1e-08, tol=1e-05;, score=nan total time=   1.0s\n"
     ]
    },
    {
     "name": "stderr",
     "output_type": "stream",
     "text": [
      "C:\\Python310\\lib\\site-packages\\sklearn\\model_selection\\_validation.py:776: UserWarning: Scoring failed. The score on this train-test partition for these parameters will be set to nan. Details: \n",
      "Traceback (most recent call last):\n",
      "  File \"C:\\Python310\\lib\\site-packages\\sklearn\\model_selection\\_validation.py\", line 767, in _score\n",
      "    scores = scorer(estimator, X_test, y_test)\n",
      "  File \"C:\\Python310\\lib\\site-packages\\sklearn\\metrics\\_scorer.py\", line 219, in __call__\n",
      "    return self._score(\n",
      "  File \"C:\\Python310\\lib\\site-packages\\sklearn\\metrics\\_scorer.py\", line 267, in _score\n",
      "    return self._sign * self._score_func(y_true, y_pred, **self._kwargs)\n",
      "  File \"C:\\Python310\\lib\\site-packages\\sklearn\\metrics\\_regression.py\", line 525, in mean_squared_log_error\n",
      "    raise ValueError(\n",
      "ValueError: Mean Squared Logarithmic Error cannot be used when targets contain negative values.\n",
      "\n",
      "  warnings.warn(\n"
     ]
    },
    {
     "name": "stdout",
     "output_type": "stream",
     "text": [
      "[CV 2/5] END alpha_1=1e-05, alpha_2=1e-05, lambda_1=1e-12, lambda_2=1e-08, tol=1e-05;, score=nan total time=   1.0s\n",
      "[CV 3/5] END alpha_1=1e-05, alpha_2=1e-05, lambda_1=1e-12, lambda_2=1e-08, tol=1e-05;, score=-0.274 total time=   1.0s\n"
     ]
    },
    {
     "name": "stderr",
     "output_type": "stream",
     "text": [
      "C:\\Python310\\lib\\site-packages\\sklearn\\model_selection\\_validation.py:776: UserWarning: Scoring failed. The score on this train-test partition for these parameters will be set to nan. Details: \n",
      "Traceback (most recent call last):\n",
      "  File \"C:\\Python310\\lib\\site-packages\\sklearn\\model_selection\\_validation.py\", line 767, in _score\n",
      "    scores = scorer(estimator, X_test, y_test)\n",
      "  File \"C:\\Python310\\lib\\site-packages\\sklearn\\metrics\\_scorer.py\", line 219, in __call__\n",
      "    return self._score(\n",
      "  File \"C:\\Python310\\lib\\site-packages\\sklearn\\metrics\\_scorer.py\", line 267, in _score\n",
      "    return self._sign * self._score_func(y_true, y_pred, **self._kwargs)\n",
      "  File \"C:\\Python310\\lib\\site-packages\\sklearn\\metrics\\_regression.py\", line 525, in mean_squared_log_error\n",
      "    raise ValueError(\n",
      "ValueError: Mean Squared Logarithmic Error cannot be used when targets contain negative values.\n",
      "\n",
      "  warnings.warn(\n"
     ]
    },
    {
     "name": "stdout",
     "output_type": "stream",
     "text": [
      "[CV 4/5] END alpha_1=1e-05, alpha_2=1e-05, lambda_1=1e-12, lambda_2=1e-08, tol=1e-05;, score=nan total time=   1.0s\n"
     ]
    },
    {
     "name": "stderr",
     "output_type": "stream",
     "text": [
      "C:\\Python310\\lib\\site-packages\\sklearn\\model_selection\\_validation.py:776: UserWarning: Scoring failed. The score on this train-test partition for these parameters will be set to nan. Details: \n",
      "Traceback (most recent call last):\n",
      "  File \"C:\\Python310\\lib\\site-packages\\sklearn\\model_selection\\_validation.py\", line 767, in _score\n",
      "    scores = scorer(estimator, X_test, y_test)\n",
      "  File \"C:\\Python310\\lib\\site-packages\\sklearn\\metrics\\_scorer.py\", line 219, in __call__\n",
      "    return self._score(\n",
      "  File \"C:\\Python310\\lib\\site-packages\\sklearn\\metrics\\_scorer.py\", line 267, in _score\n",
      "    return self._sign * self._score_func(y_true, y_pred, **self._kwargs)\n",
      "  File \"C:\\Python310\\lib\\site-packages\\sklearn\\metrics\\_regression.py\", line 525, in mean_squared_log_error\n",
      "    raise ValueError(\n",
      "ValueError: Mean Squared Logarithmic Error cannot be used when targets contain negative values.\n",
      "\n",
      "  warnings.warn(\n"
     ]
    },
    {
     "name": "stdout",
     "output_type": "stream",
     "text": [
      "[CV 5/5] END alpha_1=1e-05, alpha_2=1e-05, lambda_1=1e-12, lambda_2=1e-08, tol=1e-05;, score=nan total time=   0.9s\n",
      "[CV 1/5] END alpha_1=0.001, alpha_2=0.001, lambda_1=0.1, lambda_2=0.001, tol=0.001;, score=-0.393 total time=   0.7s\n",
      "[CV 2/5] END alpha_1=0.001, alpha_2=0.001, lambda_1=0.1, lambda_2=0.001, tol=0.001;, score=-0.377 total time=   0.7s\n",
      "[CV 3/5] END alpha_1=0.001, alpha_2=0.001, lambda_1=0.1, lambda_2=0.001, tol=0.001;, score=-0.387 total time=   0.7s\n",
      "[CV 4/5] END alpha_1=0.001, alpha_2=0.001, lambda_1=0.1, lambda_2=0.001, tol=0.001;, score=-0.394 total time=   0.7s\n",
      "[CV 5/5] END alpha_1=0.001, alpha_2=0.001, lambda_1=0.1, lambda_2=0.001, tol=0.001;, score=-0.401 total time=   0.7s\n",
      "[CV 1/5] END alpha_1=0.1, alpha_2=0.1, lambda_1=0.1, lambda_2=0.1, tol=1e-12;, score=-0.393 total time=   0.7s\n",
      "[CV 2/5] END alpha_1=0.1, alpha_2=0.1, lambda_1=0.1, lambda_2=0.1, tol=1e-12;, score=-0.377 total time=   0.7s\n",
      "[CV 3/5] END alpha_1=0.1, alpha_2=0.1, lambda_1=0.1, lambda_2=0.1, tol=1e-12;, score=-0.387 total time=   0.7s\n",
      "[CV 4/5] END alpha_1=0.1, alpha_2=0.1, lambda_1=0.1, lambda_2=0.1, tol=1e-12;, score=-0.394 total time=   0.7s\n",
      "[CV 5/5] END alpha_1=0.1, alpha_2=0.1, lambda_1=0.1, lambda_2=0.1, tol=1e-12;, score=-0.401 total time=   0.7s\n",
      "[CV 1/5] END alpha_1=0.001, alpha_2=1e-12, lambda_1=0.1, lambda_2=1e-08, tol=1e-08;, score=-0.393 total time=   0.7s\n",
      "[CV 2/5] END alpha_1=0.001, alpha_2=1e-12, lambda_1=0.1, lambda_2=1e-08, tol=1e-08;, score=-0.377 total time=   0.7s\n",
      "[CV 3/5] END alpha_1=0.001, alpha_2=1e-12, lambda_1=0.1, lambda_2=1e-08, tol=1e-08;, score=-0.387 total time=   0.7s\n",
      "[CV 4/5] END alpha_1=0.001, alpha_2=1e-12, lambda_1=0.1, lambda_2=1e-08, tol=1e-08;, score=-0.394 total time=   0.7s\n",
      "[CV 5/5] END alpha_1=0.001, alpha_2=1e-12, lambda_1=0.1, lambda_2=1e-08, tol=1e-08;, score=-0.401 total time=   0.7s\n",
      "[CV 1/5] END alpha_1=1e-05, alpha_2=1e-12, lambda_1=0.1, lambda_2=1e-05, tol=0.001;, score=-0.393 total time=   0.7s\n",
      "[CV 2/5] END alpha_1=1e-05, alpha_2=1e-12, lambda_1=0.1, lambda_2=1e-05, tol=0.001;, score=-0.377 total time=   0.7s\n",
      "[CV 3/5] END alpha_1=1e-05, alpha_2=1e-12, lambda_1=0.1, lambda_2=1e-05, tol=0.001;, score=-0.387 total time=   0.7s\n",
      "[CV 4/5] END alpha_1=1e-05, alpha_2=1e-12, lambda_1=0.1, lambda_2=1e-05, tol=0.001;, score=-0.394 total time=   0.7s\n",
      "[CV 5/5] END alpha_1=1e-05, alpha_2=1e-12, lambda_1=0.1, lambda_2=1e-05, tol=0.001;, score=-0.401 total time=   0.7s\n",
      "[CV 1/5] END alpha_1=0.001, alpha_2=1e-12, lambda_1=0.001, lambda_2=0.001, tol=1e-12;, score=-0.393 total time=   0.8s\n",
      "[CV 2/5] END alpha_1=0.001, alpha_2=1e-12, lambda_1=0.001, lambda_2=0.001, tol=1e-12;, score=-0.377 total time=   0.8s\n",
      "[CV 3/5] END alpha_1=0.001, alpha_2=1e-12, lambda_1=0.001, lambda_2=0.001, tol=1e-12;, score=-0.387 total time=   0.8s\n",
      "[CV 4/5] END alpha_1=0.001, alpha_2=1e-12, lambda_1=0.001, lambda_2=0.001, tol=1e-12;, score=-0.394 total time=   0.8s\n",
      "[CV 5/5] END alpha_1=0.001, alpha_2=1e-12, lambda_1=0.001, lambda_2=0.001, tol=1e-12;, score=-0.401 total time=   0.8s\n"
     ]
    },
    {
     "name": "stderr",
     "output_type": "stream",
     "text": [
      "C:\\Python310\\lib\\site-packages\\sklearn\\model_selection\\_validation.py:776: UserWarning: Scoring failed. The score on this train-test partition for these parameters will be set to nan. Details: \n",
      "Traceback (most recent call last):\n",
      "  File \"C:\\Python310\\lib\\site-packages\\sklearn\\model_selection\\_validation.py\", line 767, in _score\n",
      "    scores = scorer(estimator, X_test, y_test)\n",
      "  File \"C:\\Python310\\lib\\site-packages\\sklearn\\metrics\\_scorer.py\", line 219, in __call__\n",
      "    return self._score(\n",
      "  File \"C:\\Python310\\lib\\site-packages\\sklearn\\metrics\\_scorer.py\", line 267, in _score\n",
      "    return self._sign * self._score_func(y_true, y_pred, **self._kwargs)\n",
      "  File \"C:\\Python310\\lib\\site-packages\\sklearn\\metrics\\_regression.py\", line 525, in mean_squared_log_error\n",
      "    raise ValueError(\n",
      "ValueError: Mean Squared Logarithmic Error cannot be used when targets contain negative values.\n",
      "\n",
      "  warnings.warn(\n"
     ]
    },
    {
     "name": "stdout",
     "output_type": "stream",
     "text": [
      "[CV 1/5] END alpha_1=0.1, alpha_2=1e-12, lambda_1=1e-08, lambda_2=0.1, tol=1e-05;, score=nan total time=   1.0s\n"
     ]
    },
    {
     "name": "stderr",
     "output_type": "stream",
     "text": [
      "C:\\Python310\\lib\\site-packages\\sklearn\\model_selection\\_validation.py:776: UserWarning: Scoring failed. The score on this train-test partition for these parameters will be set to nan. Details: \n",
      "Traceback (most recent call last):\n",
      "  File \"C:\\Python310\\lib\\site-packages\\sklearn\\model_selection\\_validation.py\", line 767, in _score\n",
      "    scores = scorer(estimator, X_test, y_test)\n",
      "  File \"C:\\Python310\\lib\\site-packages\\sklearn\\metrics\\_scorer.py\", line 219, in __call__\n",
      "    return self._score(\n",
      "  File \"C:\\Python310\\lib\\site-packages\\sklearn\\metrics\\_scorer.py\", line 267, in _score\n",
      "    return self._sign * self._score_func(y_true, y_pred, **self._kwargs)\n",
      "  File \"C:\\Python310\\lib\\site-packages\\sklearn\\metrics\\_regression.py\", line 525, in mean_squared_log_error\n",
      "    raise ValueError(\n",
      "ValueError: Mean Squared Logarithmic Error cannot be used when targets contain negative values.\n",
      "\n",
      "  warnings.warn(\n"
     ]
    },
    {
     "name": "stdout",
     "output_type": "stream",
     "text": [
      "[CV 2/5] END alpha_1=0.1, alpha_2=1e-12, lambda_1=1e-08, lambda_2=0.1, tol=1e-05;, score=nan total time=   0.9s\n",
      "[CV 3/5] END alpha_1=0.1, alpha_2=1e-12, lambda_1=1e-08, lambda_2=0.1, tol=1e-05;, score=-0.274 total time=   1.0s\n"
     ]
    },
    {
     "name": "stderr",
     "output_type": "stream",
     "text": [
      "C:\\Python310\\lib\\site-packages\\sklearn\\model_selection\\_validation.py:776: UserWarning: Scoring failed. The score on this train-test partition for these parameters will be set to nan. Details: \n",
      "Traceback (most recent call last):\n",
      "  File \"C:\\Python310\\lib\\site-packages\\sklearn\\model_selection\\_validation.py\", line 767, in _score\n",
      "    scores = scorer(estimator, X_test, y_test)\n",
      "  File \"C:\\Python310\\lib\\site-packages\\sklearn\\metrics\\_scorer.py\", line 219, in __call__\n",
      "    return self._score(\n",
      "  File \"C:\\Python310\\lib\\site-packages\\sklearn\\metrics\\_scorer.py\", line 267, in _score\n",
      "    return self._sign * self._score_func(y_true, y_pred, **self._kwargs)\n",
      "  File \"C:\\Python310\\lib\\site-packages\\sklearn\\metrics\\_regression.py\", line 525, in mean_squared_log_error\n",
      "    raise ValueError(\n",
      "ValueError: Mean Squared Logarithmic Error cannot be used when targets contain negative values.\n",
      "\n",
      "  warnings.warn(\n"
     ]
    },
    {
     "name": "stdout",
     "output_type": "stream",
     "text": [
      "[CV 4/5] END alpha_1=0.1, alpha_2=1e-12, lambda_1=1e-08, lambda_2=0.1, tol=1e-05;, score=nan total time=   1.0s\n"
     ]
    },
    {
     "name": "stderr",
     "output_type": "stream",
     "text": [
      "C:\\Python310\\lib\\site-packages\\sklearn\\model_selection\\_validation.py:776: UserWarning: Scoring failed. The score on this train-test partition for these parameters will be set to nan. Details: \n",
      "Traceback (most recent call last):\n",
      "  File \"C:\\Python310\\lib\\site-packages\\sklearn\\model_selection\\_validation.py\", line 767, in _score\n",
      "    scores = scorer(estimator, X_test, y_test)\n",
      "  File \"C:\\Python310\\lib\\site-packages\\sklearn\\metrics\\_scorer.py\", line 219, in __call__\n",
      "    return self._score(\n",
      "  File \"C:\\Python310\\lib\\site-packages\\sklearn\\metrics\\_scorer.py\", line 267, in _score\n",
      "    return self._sign * self._score_func(y_true, y_pred, **self._kwargs)\n",
      "  File \"C:\\Python310\\lib\\site-packages\\sklearn\\metrics\\_regression.py\", line 525, in mean_squared_log_error\n",
      "    raise ValueError(\n",
      "ValueError: Mean Squared Logarithmic Error cannot be used when targets contain negative values.\n",
      "\n",
      "  warnings.warn(\n"
     ]
    },
    {
     "name": "stdout",
     "output_type": "stream",
     "text": [
      "[CV 5/5] END alpha_1=0.1, alpha_2=1e-12, lambda_1=1e-08, lambda_2=0.1, tol=1e-05;, score=nan total time=   0.9s\n"
     ]
    },
    {
     "name": "stderr",
     "output_type": "stream",
     "text": [
      "C:\\Python310\\lib\\site-packages\\sklearn\\model_selection\\_validation.py:776: UserWarning: Scoring failed. The score on this train-test partition for these parameters will be set to nan. Details: \n",
      "Traceback (most recent call last):\n",
      "  File \"C:\\Python310\\lib\\site-packages\\sklearn\\model_selection\\_validation.py\", line 767, in _score\n",
      "    scores = scorer(estimator, X_test, y_test)\n",
      "  File \"C:\\Python310\\lib\\site-packages\\sklearn\\metrics\\_scorer.py\", line 219, in __call__\n",
      "    return self._score(\n",
      "  File \"C:\\Python310\\lib\\site-packages\\sklearn\\metrics\\_scorer.py\", line 267, in _score\n",
      "    return self._sign * self._score_func(y_true, y_pred, **self._kwargs)\n",
      "  File \"C:\\Python310\\lib\\site-packages\\sklearn\\metrics\\_regression.py\", line 525, in mean_squared_log_error\n",
      "    raise ValueError(\n",
      "ValueError: Mean Squared Logarithmic Error cannot be used when targets contain negative values.\n",
      "\n",
      "  warnings.warn(\n"
     ]
    },
    {
     "name": "stdout",
     "output_type": "stream",
     "text": [
      "[CV 1/5] END alpha_1=1e-05, alpha_2=1e-08, lambda_1=1e-05, lambda_2=1e-12, tol=1e-08;, score=nan total time=   1.1s\n"
     ]
    },
    {
     "name": "stderr",
     "output_type": "stream",
     "text": [
      "C:\\Python310\\lib\\site-packages\\sklearn\\model_selection\\_validation.py:776: UserWarning: Scoring failed. The score on this train-test partition for these parameters will be set to nan. Details: \n",
      "Traceback (most recent call last):\n",
      "  File \"C:\\Python310\\lib\\site-packages\\sklearn\\model_selection\\_validation.py\", line 767, in _score\n",
      "    scores = scorer(estimator, X_test, y_test)\n",
      "  File \"C:\\Python310\\lib\\site-packages\\sklearn\\metrics\\_scorer.py\", line 219, in __call__\n",
      "    return self._score(\n",
      "  File \"C:\\Python310\\lib\\site-packages\\sklearn\\metrics\\_scorer.py\", line 267, in _score\n",
      "    return self._sign * self._score_func(y_true, y_pred, **self._kwargs)\n",
      "  File \"C:\\Python310\\lib\\site-packages\\sklearn\\metrics\\_regression.py\", line 525, in mean_squared_log_error\n",
      "    raise ValueError(\n",
      "ValueError: Mean Squared Logarithmic Error cannot be used when targets contain negative values.\n",
      "\n",
      "  warnings.warn(\n"
     ]
    },
    {
     "name": "stdout",
     "output_type": "stream",
     "text": [
      "[CV 2/5] END alpha_1=1e-05, alpha_2=1e-08, lambda_1=1e-05, lambda_2=1e-12, tol=1e-08;, score=nan total time=   2.5s\n",
      "[CV 3/5] END alpha_1=1e-05, alpha_2=1e-08, lambda_1=1e-05, lambda_2=1e-12, tol=1e-08;, score=-0.274 total time=   1.1s\n"
     ]
    },
    {
     "name": "stderr",
     "output_type": "stream",
     "text": [
      "C:\\Python310\\lib\\site-packages\\sklearn\\model_selection\\_validation.py:776: UserWarning: Scoring failed. The score on this train-test partition for these parameters will be set to nan. Details: \n",
      "Traceback (most recent call last):\n",
      "  File \"C:\\Python310\\lib\\site-packages\\sklearn\\model_selection\\_validation.py\", line 767, in _score\n",
      "    scores = scorer(estimator, X_test, y_test)\n",
      "  File \"C:\\Python310\\lib\\site-packages\\sklearn\\metrics\\_scorer.py\", line 219, in __call__\n",
      "    return self._score(\n",
      "  File \"C:\\Python310\\lib\\site-packages\\sklearn\\metrics\\_scorer.py\", line 267, in _score\n",
      "    return self._sign * self._score_func(y_true, y_pred, **self._kwargs)\n",
      "  File \"C:\\Python310\\lib\\site-packages\\sklearn\\metrics\\_regression.py\", line 525, in mean_squared_log_error\n",
      "    raise ValueError(\n",
      "ValueError: Mean Squared Logarithmic Error cannot be used when targets contain negative values.\n",
      "\n",
      "  warnings.warn(\n"
     ]
    },
    {
     "name": "stdout",
     "output_type": "stream",
     "text": [
      "[CV 4/5] END alpha_1=1e-05, alpha_2=1e-08, lambda_1=1e-05, lambda_2=1e-12, tol=1e-08;, score=nan total time=   2.4s\n"
     ]
    },
    {
     "name": "stderr",
     "output_type": "stream",
     "text": [
      "C:\\Python310\\lib\\site-packages\\sklearn\\model_selection\\_validation.py:776: UserWarning: Scoring failed. The score on this train-test partition for these parameters will be set to nan. Details: \n",
      "Traceback (most recent call last):\n",
      "  File \"C:\\Python310\\lib\\site-packages\\sklearn\\model_selection\\_validation.py\", line 767, in _score\n",
      "    scores = scorer(estimator, X_test, y_test)\n",
      "  File \"C:\\Python310\\lib\\site-packages\\sklearn\\metrics\\_scorer.py\", line 219, in __call__\n",
      "    return self._score(\n",
      "  File \"C:\\Python310\\lib\\site-packages\\sklearn\\metrics\\_scorer.py\", line 267, in _score\n",
      "    return self._sign * self._score_func(y_true, y_pred, **self._kwargs)\n",
      "  File \"C:\\Python310\\lib\\site-packages\\sklearn\\metrics\\_regression.py\", line 525, in mean_squared_log_error\n",
      "    raise ValueError(\n",
      "ValueError: Mean Squared Logarithmic Error cannot be used when targets contain negative values.\n",
      "\n",
      "  warnings.warn(\n"
     ]
    },
    {
     "name": "stdout",
     "output_type": "stream",
     "text": [
      "[CV 5/5] END alpha_1=1e-05, alpha_2=1e-08, lambda_1=1e-05, lambda_2=1e-12, tol=1e-08;, score=nan total time=   2.5s\n",
      "[CV 1/5] END alpha_1=0.001, alpha_2=1e-12, lambda_1=0.001, lambda_2=1e-08, tol=1e-12;, score=-0.393 total time=   0.8s\n",
      "[CV 2/5] END alpha_1=0.001, alpha_2=1e-12, lambda_1=0.001, lambda_2=1e-08, tol=1e-12;, score=-0.377 total time=   0.7s\n",
      "[CV 3/5] END alpha_1=0.001, alpha_2=1e-12, lambda_1=0.001, lambda_2=1e-08, tol=1e-12;, score=-0.387 total time=   0.8s\n",
      "[CV 4/5] END alpha_1=0.001, alpha_2=1e-12, lambda_1=0.001, lambda_2=1e-08, tol=1e-12;, score=-0.394 total time=   0.7s\n",
      "[CV 5/5] END alpha_1=0.001, alpha_2=1e-12, lambda_1=0.001, lambda_2=1e-08, tol=1e-12;, score=-0.401 total time=   0.8s\n"
     ]
    },
    {
     "name": "stderr",
     "output_type": "stream",
     "text": [
      "C:\\Python310\\lib\\site-packages\\sklearn\\model_selection\\_validation.py:776: UserWarning: Scoring failed. The score on this train-test partition for these parameters will be set to nan. Details: \n",
      "Traceback (most recent call last):\n",
      "  File \"C:\\Python310\\lib\\site-packages\\sklearn\\model_selection\\_validation.py\", line 767, in _score\n",
      "    scores = scorer(estimator, X_test, y_test)\n",
      "  File \"C:\\Python310\\lib\\site-packages\\sklearn\\metrics\\_scorer.py\", line 219, in __call__\n",
      "    return self._score(\n",
      "  File \"C:\\Python310\\lib\\site-packages\\sklearn\\metrics\\_scorer.py\", line 267, in _score\n",
      "    return self._sign * self._score_func(y_true, y_pred, **self._kwargs)\n",
      "  File \"C:\\Python310\\lib\\site-packages\\sklearn\\metrics\\_regression.py\", line 525, in mean_squared_log_error\n",
      "    raise ValueError(\n",
      "ValueError: Mean Squared Logarithmic Error cannot be used when targets contain negative values.\n",
      "\n",
      "  warnings.warn(\n"
     ]
    },
    {
     "name": "stdout",
     "output_type": "stream",
     "text": [
      "[CV 1/5] END alpha_1=0.1, alpha_2=0.1, lambda_1=1e-08, lambda_2=1e-12, tol=1e-08;, score=nan total time=   2.4s\n"
     ]
    },
    {
     "name": "stderr",
     "output_type": "stream",
     "text": [
      "C:\\Python310\\lib\\site-packages\\sklearn\\model_selection\\_validation.py:776: UserWarning: Scoring failed. The score on this train-test partition for these parameters will be set to nan. Details: \n",
      "Traceback (most recent call last):\n",
      "  File \"C:\\Python310\\lib\\site-packages\\sklearn\\model_selection\\_validation.py\", line 767, in _score\n",
      "    scores = scorer(estimator, X_test, y_test)\n",
      "  File \"C:\\Python310\\lib\\site-packages\\sklearn\\metrics\\_scorer.py\", line 219, in __call__\n",
      "    return self._score(\n",
      "  File \"C:\\Python310\\lib\\site-packages\\sklearn\\metrics\\_scorer.py\", line 267, in _score\n",
      "    return self._sign * self._score_func(y_true, y_pred, **self._kwargs)\n",
      "  File \"C:\\Python310\\lib\\site-packages\\sklearn\\metrics\\_regression.py\", line 525, in mean_squared_log_error\n",
      "    raise ValueError(\n",
      "ValueError: Mean Squared Logarithmic Error cannot be used when targets contain negative values.\n",
      "\n",
      "  warnings.warn(\n"
     ]
    },
    {
     "name": "stdout",
     "output_type": "stream",
     "text": [
      "[CV 2/5] END alpha_1=0.1, alpha_2=0.1, lambda_1=1e-08, lambda_2=1e-12, tol=1e-08;, score=nan total time=   2.4s\n",
      "[CV 3/5] END alpha_1=0.1, alpha_2=0.1, lambda_1=1e-08, lambda_2=1e-12, tol=1e-08;, score=-0.274 total time=   1.1s\n"
     ]
    },
    {
     "name": "stderr",
     "output_type": "stream",
     "text": [
      "C:\\Python310\\lib\\site-packages\\sklearn\\model_selection\\_validation.py:776: UserWarning: Scoring failed. The score on this train-test partition for these parameters will be set to nan. Details: \n",
      "Traceback (most recent call last):\n",
      "  File \"C:\\Python310\\lib\\site-packages\\sklearn\\model_selection\\_validation.py\", line 767, in _score\n",
      "    scores = scorer(estimator, X_test, y_test)\n",
      "  File \"C:\\Python310\\lib\\site-packages\\sklearn\\metrics\\_scorer.py\", line 219, in __call__\n",
      "    return self._score(\n",
      "  File \"C:\\Python310\\lib\\site-packages\\sklearn\\metrics\\_scorer.py\", line 267, in _score\n",
      "    return self._sign * self._score_func(y_true, y_pred, **self._kwargs)\n",
      "  File \"C:\\Python310\\lib\\site-packages\\sklearn\\metrics\\_regression.py\", line 525, in mean_squared_log_error\n",
      "    raise ValueError(\n",
      "ValueError: Mean Squared Logarithmic Error cannot be used when targets contain negative values.\n",
      "\n",
      "  warnings.warn(\n"
     ]
    },
    {
     "name": "stdout",
     "output_type": "stream",
     "text": [
      "[CV 4/5] END alpha_1=0.1, alpha_2=0.1, lambda_1=1e-08, lambda_2=1e-12, tol=1e-08;, score=nan total time=   1.0s\n"
     ]
    },
    {
     "name": "stderr",
     "output_type": "stream",
     "text": [
      "C:\\Python310\\lib\\site-packages\\sklearn\\model_selection\\_validation.py:776: UserWarning: Scoring failed. The score on this train-test partition for these parameters will be set to nan. Details: \n",
      "Traceback (most recent call last):\n",
      "  File \"C:\\Python310\\lib\\site-packages\\sklearn\\model_selection\\_validation.py\", line 767, in _score\n",
      "    scores = scorer(estimator, X_test, y_test)\n",
      "  File \"C:\\Python310\\lib\\site-packages\\sklearn\\metrics\\_scorer.py\", line 219, in __call__\n",
      "    return self._score(\n",
      "  File \"C:\\Python310\\lib\\site-packages\\sklearn\\metrics\\_scorer.py\", line 267, in _score\n",
      "    return self._sign * self._score_func(y_true, y_pred, **self._kwargs)\n",
      "  File \"C:\\Python310\\lib\\site-packages\\sklearn\\metrics\\_regression.py\", line 525, in mean_squared_log_error\n",
      "    raise ValueError(\n",
      "ValueError: Mean Squared Logarithmic Error cannot be used when targets contain negative values.\n",
      "\n",
      "  warnings.warn(\n"
     ]
    },
    {
     "name": "stdout",
     "output_type": "stream",
     "text": [
      "[CV 5/5] END alpha_1=0.1, alpha_2=0.1, lambda_1=1e-08, lambda_2=1e-12, tol=1e-08;, score=nan total time=   2.4s\n"
     ]
    },
    {
     "name": "stderr",
     "output_type": "stream",
     "text": [
      "C:\\Python310\\lib\\site-packages\\sklearn\\model_selection\\_validation.py:776: UserWarning: Scoring failed. The score on this train-test partition for these parameters will be set to nan. Details: \n",
      "Traceback (most recent call last):\n",
      "  File \"C:\\Python310\\lib\\site-packages\\sklearn\\model_selection\\_validation.py\", line 767, in _score\n",
      "    scores = scorer(estimator, X_test, y_test)\n",
      "  File \"C:\\Python310\\lib\\site-packages\\sklearn\\metrics\\_scorer.py\", line 219, in __call__\n",
      "    return self._score(\n",
      "  File \"C:\\Python310\\lib\\site-packages\\sklearn\\metrics\\_scorer.py\", line 267, in _score\n",
      "    return self._sign * self._score_func(y_true, y_pred, **self._kwargs)\n",
      "  File \"C:\\Python310\\lib\\site-packages\\sklearn\\metrics\\_regression.py\", line 525, in mean_squared_log_error\n",
      "    raise ValueError(\n",
      "ValueError: Mean Squared Logarithmic Error cannot be used when targets contain negative values.\n",
      "\n",
      "  warnings.warn(\n"
     ]
    },
    {
     "name": "stdout",
     "output_type": "stream",
     "text": [
      "[CV 1/5] END alpha_1=0.001, alpha_2=1e-05, lambda_1=1e-05, lambda_2=1e-05, tol=1e-05;, score=nan total time=   1.0s\n"
     ]
    },
    {
     "name": "stderr",
     "output_type": "stream",
     "text": [
      "C:\\Python310\\lib\\site-packages\\sklearn\\model_selection\\_validation.py:776: UserWarning: Scoring failed. The score on this train-test partition for these parameters will be set to nan. Details: \n",
      "Traceback (most recent call last):\n",
      "  File \"C:\\Python310\\lib\\site-packages\\sklearn\\model_selection\\_validation.py\", line 767, in _score\n",
      "    scores = scorer(estimator, X_test, y_test)\n",
      "  File \"C:\\Python310\\lib\\site-packages\\sklearn\\metrics\\_scorer.py\", line 219, in __call__\n",
      "    return self._score(\n",
      "  File \"C:\\Python310\\lib\\site-packages\\sklearn\\metrics\\_scorer.py\", line 267, in _score\n",
      "    return self._sign * self._score_func(y_true, y_pred, **self._kwargs)\n",
      "  File \"C:\\Python310\\lib\\site-packages\\sklearn\\metrics\\_regression.py\", line 525, in mean_squared_log_error\n",
      "    raise ValueError(\n",
      "ValueError: Mean Squared Logarithmic Error cannot be used when targets contain negative values.\n",
      "\n",
      "  warnings.warn(\n"
     ]
    },
    {
     "name": "stdout",
     "output_type": "stream",
     "text": [
      "[CV 2/5] END alpha_1=0.001, alpha_2=1e-05, lambda_1=1e-05, lambda_2=1e-05, tol=1e-05;, score=nan total time=   0.9s\n",
      "[CV 3/5] END alpha_1=0.001, alpha_2=1e-05, lambda_1=1e-05, lambda_2=1e-05, tol=1e-05;, score=-0.274 total time=   1.0s\n"
     ]
    },
    {
     "name": "stderr",
     "output_type": "stream",
     "text": [
      "C:\\Python310\\lib\\site-packages\\sklearn\\model_selection\\_validation.py:776: UserWarning: Scoring failed. The score on this train-test partition for these parameters will be set to nan. Details: \n",
      "Traceback (most recent call last):\n",
      "  File \"C:\\Python310\\lib\\site-packages\\sklearn\\model_selection\\_validation.py\", line 767, in _score\n",
      "    scores = scorer(estimator, X_test, y_test)\n",
      "  File \"C:\\Python310\\lib\\site-packages\\sklearn\\metrics\\_scorer.py\", line 219, in __call__\n",
      "    return self._score(\n",
      "  File \"C:\\Python310\\lib\\site-packages\\sklearn\\metrics\\_scorer.py\", line 267, in _score\n",
      "    return self._sign * self._score_func(y_true, y_pred, **self._kwargs)\n",
      "  File \"C:\\Python310\\lib\\site-packages\\sklearn\\metrics\\_regression.py\", line 525, in mean_squared_log_error\n",
      "    raise ValueError(\n",
      "ValueError: Mean Squared Logarithmic Error cannot be used when targets contain negative values.\n",
      "\n",
      "  warnings.warn(\n"
     ]
    },
    {
     "name": "stdout",
     "output_type": "stream",
     "text": [
      "[CV 4/5] END alpha_1=0.001, alpha_2=1e-05, lambda_1=1e-05, lambda_2=1e-05, tol=1e-05;, score=nan total time=   1.0s\n"
     ]
    },
    {
     "name": "stderr",
     "output_type": "stream",
     "text": [
      "C:\\Python310\\lib\\site-packages\\sklearn\\model_selection\\_validation.py:776: UserWarning: Scoring failed. The score on this train-test partition for these parameters will be set to nan. Details: \n",
      "Traceback (most recent call last):\n",
      "  File \"C:\\Python310\\lib\\site-packages\\sklearn\\model_selection\\_validation.py\", line 767, in _score\n",
      "    scores = scorer(estimator, X_test, y_test)\n",
      "  File \"C:\\Python310\\lib\\site-packages\\sklearn\\metrics\\_scorer.py\", line 219, in __call__\n",
      "    return self._score(\n",
      "  File \"C:\\Python310\\lib\\site-packages\\sklearn\\metrics\\_scorer.py\", line 267, in _score\n",
      "    return self._sign * self._score_func(y_true, y_pred, **self._kwargs)\n",
      "  File \"C:\\Python310\\lib\\site-packages\\sklearn\\metrics\\_regression.py\", line 525, in mean_squared_log_error\n",
      "    raise ValueError(\n",
      "ValueError: Mean Squared Logarithmic Error cannot be used when targets contain negative values.\n",
      "\n",
      "  warnings.warn(\n"
     ]
    },
    {
     "name": "stdout",
     "output_type": "stream",
     "text": [
      "[CV 5/5] END alpha_1=0.001, alpha_2=1e-05, lambda_1=1e-05, lambda_2=1e-05, tol=1e-05;, score=nan total time=   0.9s\n",
      "[CV 1/5] END alpha_1=0.1, alpha_2=0.001, lambda_1=0.001, lambda_2=1e-12, tol=0.001;, score=-0.393 total time=   0.7s\n",
      "[CV 2/5] END alpha_1=0.1, alpha_2=0.001, lambda_1=0.001, lambda_2=1e-12, tol=0.001;, score=-0.377 total time=   0.7s\n",
      "[CV 3/5] END alpha_1=0.1, alpha_2=0.001, lambda_1=0.001, lambda_2=1e-12, tol=0.001;, score=-0.387 total time=   0.7s\n",
      "[CV 4/5] END alpha_1=0.1, alpha_2=0.001, lambda_1=0.001, lambda_2=1e-12, tol=0.001;, score=-0.394 total time=   0.7s\n",
      "[CV 5/5] END alpha_1=0.1, alpha_2=0.001, lambda_1=0.001, lambda_2=1e-12, tol=0.001;, score=-0.401 total time=   0.7s\n"
     ]
    },
    {
     "name": "stderr",
     "output_type": "stream",
     "text": [
      "C:\\Python310\\lib\\site-packages\\sklearn\\model_selection\\_validation.py:776: UserWarning: Scoring failed. The score on this train-test partition for these parameters will be set to nan. Details: \n",
      "Traceback (most recent call last):\n",
      "  File \"C:\\Python310\\lib\\site-packages\\sklearn\\model_selection\\_validation.py\", line 767, in _score\n",
      "    scores = scorer(estimator, X_test, y_test)\n",
      "  File \"C:\\Python310\\lib\\site-packages\\sklearn\\metrics\\_scorer.py\", line 219, in __call__\n",
      "    return self._score(\n",
      "  File \"C:\\Python310\\lib\\site-packages\\sklearn\\metrics\\_scorer.py\", line 267, in _score\n",
      "    return self._sign * self._score_func(y_true, y_pred, **self._kwargs)\n",
      "  File \"C:\\Python310\\lib\\site-packages\\sklearn\\metrics\\_regression.py\", line 525, in mean_squared_log_error\n",
      "    raise ValueError(\n",
      "ValueError: Mean Squared Logarithmic Error cannot be used when targets contain negative values.\n",
      "\n",
      "  warnings.warn(\n"
     ]
    },
    {
     "name": "stdout",
     "output_type": "stream",
     "text": [
      "[CV 1/5] END alpha_1=0.001, alpha_2=0.1, lambda_1=1e-05, lambda_2=0.1, tol=0.1;, score=nan total time=   0.9s\n"
     ]
    },
    {
     "name": "stderr",
     "output_type": "stream",
     "text": [
      "C:\\Python310\\lib\\site-packages\\sklearn\\model_selection\\_validation.py:776: UserWarning: Scoring failed. The score on this train-test partition for these parameters will be set to nan. Details: \n",
      "Traceback (most recent call last):\n",
      "  File \"C:\\Python310\\lib\\site-packages\\sklearn\\model_selection\\_validation.py\", line 767, in _score\n",
      "    scores = scorer(estimator, X_test, y_test)\n",
      "  File \"C:\\Python310\\lib\\site-packages\\sklearn\\metrics\\_scorer.py\", line 219, in __call__\n",
      "    return self._score(\n",
      "  File \"C:\\Python310\\lib\\site-packages\\sklearn\\metrics\\_scorer.py\", line 267, in _score\n",
      "    return self._sign * self._score_func(y_true, y_pred, **self._kwargs)\n",
      "  File \"C:\\Python310\\lib\\site-packages\\sklearn\\metrics\\_regression.py\", line 525, in mean_squared_log_error\n",
      "    raise ValueError(\n",
      "ValueError: Mean Squared Logarithmic Error cannot be used when targets contain negative values.\n",
      "\n",
      "  warnings.warn(\n"
     ]
    },
    {
     "name": "stdout",
     "output_type": "stream",
     "text": [
      "[CV 2/5] END alpha_1=0.001, alpha_2=0.1, lambda_1=1e-05, lambda_2=0.1, tol=0.1;, score=nan total time=   0.9s\n",
      "[CV 3/5] END alpha_1=0.001, alpha_2=0.1, lambda_1=1e-05, lambda_2=0.1, tol=0.1;, score=-0.274 total time=   0.9s\n"
     ]
    },
    {
     "name": "stderr",
     "output_type": "stream",
     "text": [
      "C:\\Python310\\lib\\site-packages\\sklearn\\model_selection\\_validation.py:776: UserWarning: Scoring failed. The score on this train-test partition for these parameters will be set to nan. Details: \n",
      "Traceback (most recent call last):\n",
      "  File \"C:\\Python310\\lib\\site-packages\\sklearn\\model_selection\\_validation.py\", line 767, in _score\n",
      "    scores = scorer(estimator, X_test, y_test)\n",
      "  File \"C:\\Python310\\lib\\site-packages\\sklearn\\metrics\\_scorer.py\", line 219, in __call__\n",
      "    return self._score(\n",
      "  File \"C:\\Python310\\lib\\site-packages\\sklearn\\metrics\\_scorer.py\", line 267, in _score\n",
      "    return self._sign * self._score_func(y_true, y_pred, **self._kwargs)\n",
      "  File \"C:\\Python310\\lib\\site-packages\\sklearn\\metrics\\_regression.py\", line 525, in mean_squared_log_error\n",
      "    raise ValueError(\n",
      "ValueError: Mean Squared Logarithmic Error cannot be used when targets contain negative values.\n",
      "\n",
      "  warnings.warn(\n"
     ]
    },
    {
     "name": "stdout",
     "output_type": "stream",
     "text": [
      "[CV 4/5] END alpha_1=0.001, alpha_2=0.1, lambda_1=1e-05, lambda_2=0.1, tol=0.1;, score=nan total time=   0.9s\n"
     ]
    },
    {
     "name": "stderr",
     "output_type": "stream",
     "text": [
      "C:\\Python310\\lib\\site-packages\\sklearn\\model_selection\\_validation.py:776: UserWarning: Scoring failed. The score on this train-test partition for these parameters will be set to nan. Details: \n",
      "Traceback (most recent call last):\n",
      "  File \"C:\\Python310\\lib\\site-packages\\sklearn\\model_selection\\_validation.py\", line 767, in _score\n",
      "    scores = scorer(estimator, X_test, y_test)\n",
      "  File \"C:\\Python310\\lib\\site-packages\\sklearn\\metrics\\_scorer.py\", line 219, in __call__\n",
      "    return self._score(\n",
      "  File \"C:\\Python310\\lib\\site-packages\\sklearn\\metrics\\_scorer.py\", line 267, in _score\n",
      "    return self._sign * self._score_func(y_true, y_pred, **self._kwargs)\n",
      "  File \"C:\\Python310\\lib\\site-packages\\sklearn\\metrics\\_regression.py\", line 525, in mean_squared_log_error\n",
      "    raise ValueError(\n",
      "ValueError: Mean Squared Logarithmic Error cannot be used when targets contain negative values.\n",
      "\n",
      "  warnings.warn(\n"
     ]
    },
    {
     "name": "stdout",
     "output_type": "stream",
     "text": [
      "[CV 5/5] END alpha_1=0.001, alpha_2=0.1, lambda_1=1e-05, lambda_2=0.1, tol=0.1;, score=nan total time=   0.9s\n",
      "[CV 1/5] END alpha_1=0.1, alpha_2=0.001, lambda_1=0.001, lambda_2=1e-05, tol=0.001;, score=-0.393 total time=   0.7s\n",
      "[CV 2/5] END alpha_1=0.1, alpha_2=0.001, lambda_1=0.001, lambda_2=1e-05, tol=0.001;, score=-0.377 total time=   0.7s\n",
      "[CV 3/5] END alpha_1=0.1, alpha_2=0.001, lambda_1=0.001, lambda_2=1e-05, tol=0.001;, score=-0.387 total time=   0.7s\n",
      "[CV 4/5] END alpha_1=0.1, alpha_2=0.001, lambda_1=0.001, lambda_2=1e-05, tol=0.001;, score=-0.394 total time=   0.7s\n",
      "[CV 5/5] END alpha_1=0.1, alpha_2=0.001, lambda_1=0.001, lambda_2=1e-05, tol=0.001;, score=-0.401 total time=   0.7s\n"
     ]
    },
    {
     "name": "stderr",
     "output_type": "stream",
     "text": [
      "C:\\Python310\\lib\\site-packages\\sklearn\\model_selection\\_validation.py:776: UserWarning: Scoring failed. The score on this train-test partition for these parameters will be set to nan. Details: \n",
      "Traceback (most recent call last):\n",
      "  File \"C:\\Python310\\lib\\site-packages\\sklearn\\model_selection\\_validation.py\", line 767, in _score\n",
      "    scores = scorer(estimator, X_test, y_test)\n",
      "  File \"C:\\Python310\\lib\\site-packages\\sklearn\\metrics\\_scorer.py\", line 219, in __call__\n",
      "    return self._score(\n",
      "  File \"C:\\Python310\\lib\\site-packages\\sklearn\\metrics\\_scorer.py\", line 267, in _score\n",
      "    return self._sign * self._score_func(y_true, y_pred, **self._kwargs)\n",
      "  File \"C:\\Python310\\lib\\site-packages\\sklearn\\metrics\\_regression.py\", line 525, in mean_squared_log_error\n",
      "    raise ValueError(\n",
      "ValueError: Mean Squared Logarithmic Error cannot be used when targets contain negative values.\n",
      "\n",
      "  warnings.warn(\n"
     ]
    },
    {
     "name": "stdout",
     "output_type": "stream",
     "text": [
      "[CV 1/5] END alpha_1=1e-05, alpha_2=0.001, lambda_1=1e-08, lambda_2=1e-12, tol=0.001;, score=nan total time=   1.0s\n"
     ]
    },
    {
     "name": "stderr",
     "output_type": "stream",
     "text": [
      "C:\\Python310\\lib\\site-packages\\sklearn\\model_selection\\_validation.py:776: UserWarning: Scoring failed. The score on this train-test partition for these parameters will be set to nan. Details: \n",
      "Traceback (most recent call last):\n",
      "  File \"C:\\Python310\\lib\\site-packages\\sklearn\\model_selection\\_validation.py\", line 767, in _score\n",
      "    scores = scorer(estimator, X_test, y_test)\n",
      "  File \"C:\\Python310\\lib\\site-packages\\sklearn\\metrics\\_scorer.py\", line 219, in __call__\n",
      "    return self._score(\n",
      "  File \"C:\\Python310\\lib\\site-packages\\sklearn\\metrics\\_scorer.py\", line 267, in _score\n",
      "    return self._sign * self._score_func(y_true, y_pred, **self._kwargs)\n",
      "  File \"C:\\Python310\\lib\\site-packages\\sklearn\\metrics\\_regression.py\", line 525, in mean_squared_log_error\n",
      "    raise ValueError(\n",
      "ValueError: Mean Squared Logarithmic Error cannot be used when targets contain negative values.\n",
      "\n",
      "  warnings.warn(\n"
     ]
    },
    {
     "name": "stdout",
     "output_type": "stream",
     "text": [
      "[CV 2/5] END alpha_1=1e-05, alpha_2=0.001, lambda_1=1e-08, lambda_2=1e-12, tol=0.001;, score=nan total time=   1.0s\n",
      "[CV 3/5] END alpha_1=1e-05, alpha_2=0.001, lambda_1=1e-08, lambda_2=1e-12, tol=0.001;, score=-0.274 total time=   1.0s\n"
     ]
    },
    {
     "name": "stderr",
     "output_type": "stream",
     "text": [
      "C:\\Python310\\lib\\site-packages\\sklearn\\model_selection\\_validation.py:776: UserWarning: Scoring failed. The score on this train-test partition for these parameters will be set to nan. Details: \n",
      "Traceback (most recent call last):\n",
      "  File \"C:\\Python310\\lib\\site-packages\\sklearn\\model_selection\\_validation.py\", line 767, in _score\n",
      "    scores = scorer(estimator, X_test, y_test)\n",
      "  File \"C:\\Python310\\lib\\site-packages\\sklearn\\metrics\\_scorer.py\", line 219, in __call__\n",
      "    return self._score(\n",
      "  File \"C:\\Python310\\lib\\site-packages\\sklearn\\metrics\\_scorer.py\", line 267, in _score\n",
      "    return self._sign * self._score_func(y_true, y_pred, **self._kwargs)\n",
      "  File \"C:\\Python310\\lib\\site-packages\\sklearn\\metrics\\_regression.py\", line 525, in mean_squared_log_error\n",
      "    raise ValueError(\n",
      "ValueError: Mean Squared Logarithmic Error cannot be used when targets contain negative values.\n",
      "\n",
      "  warnings.warn(\n"
     ]
    },
    {
     "name": "stdout",
     "output_type": "stream",
     "text": [
      "[CV 4/5] END alpha_1=1e-05, alpha_2=0.001, lambda_1=1e-08, lambda_2=1e-12, tol=0.001;, score=nan total time=   0.9s\n"
     ]
    },
    {
     "name": "stderr",
     "output_type": "stream",
     "text": [
      "C:\\Python310\\lib\\site-packages\\sklearn\\model_selection\\_validation.py:776: UserWarning: Scoring failed. The score on this train-test partition for these parameters will be set to nan. Details: \n",
      "Traceback (most recent call last):\n",
      "  File \"C:\\Python310\\lib\\site-packages\\sklearn\\model_selection\\_validation.py\", line 767, in _score\n",
      "    scores = scorer(estimator, X_test, y_test)\n",
      "  File \"C:\\Python310\\lib\\site-packages\\sklearn\\metrics\\_scorer.py\", line 219, in __call__\n",
      "    return self._score(\n",
      "  File \"C:\\Python310\\lib\\site-packages\\sklearn\\metrics\\_scorer.py\", line 267, in _score\n",
      "    return self._sign * self._score_func(y_true, y_pred, **self._kwargs)\n",
      "  File \"C:\\Python310\\lib\\site-packages\\sklearn\\metrics\\_regression.py\", line 525, in mean_squared_log_error\n",
      "    raise ValueError(\n",
      "ValueError: Mean Squared Logarithmic Error cannot be used when targets contain negative values.\n",
      "\n",
      "  warnings.warn(\n",
      "C:\\Python310\\lib\\site-packages\\sklearn\\model_selection\\_search.py:953: UserWarning: One or more of the test scores are non-finite: [        nan         nan -0.39034899 -0.39034899         nan         nan\n",
      " -0.39034899         nan         nan         nan         nan -0.39034899\n",
      "         nan -0.39034899         nan -0.39034899 -0.39034899 -0.39034899\n",
      " -0.39034899         nan -0.39034899         nan         nan         nan\n",
      "         nan         nan         nan -0.39034899         nan -0.39034899\n",
      "         nan         nan         nan -0.39034899 -0.39034899 -0.39034899\n",
      " -0.39034899 -0.39034899         nan         nan         nan         nan\n",
      "         nan         nan         nan         nan -0.39034899         nan\n",
      " -0.39034899         nan         nan         nan -0.39034899         nan\n",
      " -0.39034899         nan -0.39034899         nan         nan         nan\n",
      "         nan -0.39034899 -0.39034899         nan         nan -0.39034899\n",
      " -0.39034899 -0.39034899 -0.39034899 -0.39034899         nan         nan\n",
      "         nan         nan         nan -0.39034899 -0.39034899         nan\n",
      " -0.39034899 -0.39034899         nan -0.39034899 -0.39034899         nan\n",
      "         nan         nan -0.39034899 -0.39034899 -0.39034899 -0.39034899\n",
      " -0.39034899         nan         nan -0.39034899         nan         nan\n",
      " -0.39034899         nan -0.39034899         nan]\n",
      "  warnings.warn(\n"
     ]
    },
    {
     "name": "stdout",
     "output_type": "stream",
     "text": [
      "[CV 5/5] END alpha_1=1e-05, alpha_2=0.001, lambda_1=1e-08, lambda_2=1e-12, tol=0.001;, score=nan total time=   0.9s\n",
      "Best params:  {'tol': 1e-12, 'lambda_2': 0.001, 'lambda_1': 0.001, 'alpha_2': 1e-05, 'alpha_1': 0.001}\n",
      "Validation score:  -0.3903489889833359\n",
      "--- 622.0354762077332 seconds ---\n",
      "0.6394207224026672\n"
     ]
    }
   ],
   "source": [
    "from sklearn.linear_model import BayesianRidge\n",
    "start_time = time.time()\n",
    "param_grid = {'tol': [1e-1, 1e-3, 1e-5, 1e-8, 1e-12], 'alpha_1': [1e-1, 1e-3, 1e-5, 1e-8, 1e-12], 'alpha_2': [1e-1, 1e-3, 1e-5, 1e-8, 1e-12],\n",
    "              'lambda_1': [1e-1, 1e-3, 1e-5, 1e-8, 1e-12], 'lambda_2': [1e-1, 1e-3, 1e-5, 1e-8, 1e-12]}\n",
    "svc = BayesianRidge()\n",
    "clf = RandomizedSearchCV(svc, param_grid, n_iter=100, cv=5, random_state=1, refit=True, scoring='neg_mean_squared_log_error', verbose=5)\n",
    "clf.fit(sttrainX[:20000], trainY[:20000])\n",
    "print('Best params: ', clf.best_params_)\n",
    "print('Validation score: ', clf.best_score_)\n",
    "print(\"--- %s seconds ---\" % (time.time() - start_time))\n",
    "pred = clf.predict(sttrainX[20000:])\n",
    "print(mean_squared_log_error(trainY[20000:], pred, squared=False))"
   ]
  },
  {
   "cell_type": "code",
   "execution_count": 21,
   "id": "9f57f3bf",
   "metadata": {},
   "outputs": [
    {
     "name": "stdout",
     "output_type": "stream",
     "text": [
      "Fitting 5 folds for each of 10 candidates, totalling 50 fits\n",
      "[CV 1/5] END ..C=1e-12, kernel=linear, tol=0.1;, score=-0.368 total time= 1.1min\n",
      "[CV 2/5] END ..C=1e-12, kernel=linear, tol=0.1;, score=-0.351 total time= 1.1min\n",
      "[CV 3/5] END ..C=1e-12, kernel=linear, tol=0.1;, score=-0.360 total time= 1.1min\n",
      "[CV 4/5] END ..C=1e-12, kernel=linear, tol=0.1;, score=-0.368 total time= 1.1min\n",
      "[CV 5/5] END ..C=1e-12, kernel=linear, tol=0.1;, score=-0.370 total time= 1.1min\n",
      "[CV 1/5] END C=1e-12, kernel=linear, tol=1e-12;, score=-0.368 total time= 1.1min\n",
      "[CV 2/5] END C=1e-12, kernel=linear, tol=1e-12;, score=-0.351 total time= 1.1min\n",
      "[CV 3/5] END C=1e-12, kernel=linear, tol=1e-12;, score=-0.360 total time= 1.1min\n",
      "[CV 4/5] END C=1e-12, kernel=linear, tol=1e-12;, score=-0.368 total time= 1.1min\n",
      "[CV 5/5] END C=1e-12, kernel=linear, tol=1e-12;, score=-0.370 total time= 1.1min\n",
      "[CV 1/5] END ...C=0.001, kernel=rbf, tol=1e-08;, score=-0.368 total time= 1.3min\n",
      "[CV 2/5] END ...C=0.001, kernel=rbf, tol=1e-08;, score=-0.351 total time= 1.3min\n",
      "[CV 3/5] END ...C=0.001, kernel=rbf, tol=1e-08;, score=-0.360 total time= 1.3min\n",
      "[CV 4/5] END ...C=0.001, kernel=rbf, tol=1e-08;, score=-0.368 total time= 1.3min\n",
      "[CV 5/5] END ...C=0.001, kernel=rbf, tol=1e-08;, score=-0.370 total time= 1.3min\n",
      "[CV 1/5] END C=1e-12, kernel=linear, tol=0.001;, score=-0.368 total time= 1.1min\n",
      "[CV 2/5] END C=1e-12, kernel=linear, tol=0.001;, score=-0.351 total time= 1.1min\n",
      "[CV 3/5] END C=1e-12, kernel=linear, tol=0.001;, score=-0.360 total time= 1.1min\n",
      "[CV 4/5] END C=1e-12, kernel=linear, tol=0.001;, score=-0.368 total time= 1.1min\n",
      "[CV 5/5] END C=1e-12, kernel=linear, tol=0.001;, score=-0.370 total time= 1.1min\n",
      "[CV 1/5] END ...C=1e-12, kernel=rbf, tol=1e-08;, score=-0.368 total time= 1.3min\n",
      "[CV 2/5] END ...C=1e-12, kernel=rbf, tol=1e-08;, score=-0.351 total time= 1.3min\n",
      "[CV 3/5] END ...C=1e-12, kernel=rbf, tol=1e-08;, score=-0.360 total time= 1.3min\n",
      "[CV 4/5] END ...C=1e-12, kernel=rbf, tol=1e-08;, score=-0.368 total time= 1.3min\n",
      "[CV 5/5] END ...C=1e-12, kernel=rbf, tol=1e-08;, score=-0.370 total time= 1.3min\n",
      "[CV 1/5] END .C=0.1, kernel=sigmoid, tol=1e-05;, score=-0.368 total time= 1.2min\n",
      "[CV 2/5] END .C=0.1, kernel=sigmoid, tol=1e-05;, score=-0.351 total time= 1.2min\n",
      "[CV 3/5] END .C=0.1, kernel=sigmoid, tol=1e-05;, score=-0.360 total time= 1.2min\n",
      "[CV 4/5] END .C=0.1, kernel=sigmoid, tol=1e-05;, score=-0.368 total time= 1.2min\n",
      "[CV 5/5] END .C=0.1, kernel=sigmoid, tol=1e-05;, score=-0.370 total time= 1.2min\n",
      "[CV 1/5] END C=0.001, kernel=sigmoid, tol=0.001;, score=-0.368 total time= 1.2min\n",
      "[CV 2/5] END C=0.001, kernel=sigmoid, tol=0.001;, score=-0.351 total time= 1.2min\n",
      "[CV 3/5] END C=0.001, kernel=sigmoid, tol=0.001;, score=-0.360 total time= 1.2min\n",
      "[CV 4/5] END C=0.001, kernel=sigmoid, tol=0.001;, score=-0.368 total time= 1.2min\n",
      "[CV 5/5] END C=0.001, kernel=sigmoid, tol=0.001;, score=-0.370 total time= 1.2min\n",
      "[CV 1/5] END C=1e-12, kernel=linear, tol=1e-05;, score=-0.368 total time= 1.1min\n",
      "[CV 2/5] END C=1e-12, kernel=linear, tol=1e-05;, score=-0.351 total time= 1.1min\n",
      "[CV 3/5] END C=1e-12, kernel=linear, tol=1e-05;, score=-0.360 total time= 1.1min\n",
      "[CV 4/5] END C=1e-12, kernel=linear, tol=1e-05;, score=-0.368 total time= 1.1min\n",
      "[CV 5/5] END C=1e-12, kernel=linear, tol=1e-05;, score=-0.370 total time= 1.1min\n",
      "[CV 1/5] END ..C=1e-08, kernel=poly, tol=1e-12;, score=-0.368 total time= 8.7min\n",
      "[CV 2/5] END ..C=1e-08, kernel=poly, tol=1e-12;, score=-0.351 total time= 1.1min\n",
      "[CV 3/5] END ..C=1e-08, kernel=poly, tol=1e-12;, score=-0.360 total time= 1.1min\n",
      "[CV 4/5] END ..C=1e-08, kernel=poly, tol=1e-12;, score=-0.368 total time= 1.1min\n",
      "[CV 5/5] END ..C=1e-08, kernel=poly, tol=1e-12;, score=-0.370 total time= 1.1min\n",
      "[CV 1/5] END ....C=1e-08, kernel=poly, tol=0.1;, score=-0.368 total time= 1.1min\n",
      "[CV 2/5] END ....C=1e-08, kernel=poly, tol=0.1;, score=-0.351 total time= 1.1min\n",
      "[CV 3/5] END ....C=1e-08, kernel=poly, tol=0.1;, score=-0.360 total time= 1.1min\n",
      "[CV 4/5] END ....C=1e-08, kernel=poly, tol=0.1;, score=-0.368 total time= 1.1min\n",
      "[CV 5/5] END ....C=1e-08, kernel=poly, tol=0.1;, score=-0.370 total time= 1.1min\n",
      "Best params:  {'tol': 1e-05, 'kernel': 'sigmoid', 'C': 0.1}\n",
      "Validation score:  -0.36350095231175644\n",
      "--- 4032.9123871326447 seconds ---\n",
      "0.6175592673214232\n"
     ]
    }
   ],
   "source": [
    "from sklearn.svm import SVR\n",
    "start_time = time.time()\n",
    "param_grid = {'kernel': ['linear', 'poly', 'rbf', 'sigmoid'], 'tol': [1e-1, 1e-3, 1e-5, 1e-8, 1e-12], 'C': [1e-1, 1e-3, 1e-5, 1e-8, 1e-12]}\n",
    "svc = SVR()\n",
    "clf = RandomizedSearchCV(svc, param_grid, n_iter=10, cv=5, random_state=1, refit=True, scoring='neg_mean_squared_log_error', verbose=5)\n",
    "clf.fit(sttrainX[:20000], trainY[:20000])\n",
    "print('Best params: ', clf.best_params_)\n",
    "print('Validation score: ', clf.best_score_)\n",
    "print(\"--- %s seconds ---\" % (time.time() - start_time))\n",
    "pred = clf.predict(sttrainX[20000:])\n",
    "print(mean_squared_log_error(trainY[20000:], pred, squared=False))"
   ]
  },
  {
   "cell_type": "code",
   "execution_count": 44,
   "id": "775c71d7",
   "metadata": {},
   "outputs": [
    {
     "name": "stdout",
     "output_type": "stream",
     "text": [
      "Fitting 5 folds for each of 100 candidates, totalling 500 fits\n",
      "[CV 1/5] END bootstrap=True, criterion=friedman_mse, max_depth=28, max_features=log2, min_samples_leaf=10, min_samples_split=23, n_jobs=-1, random_state=1;, score=-0.258 total time=   0.8s\n",
      "[CV 2/5] END bootstrap=True, criterion=friedman_mse, max_depth=28, max_features=log2, min_samples_leaf=10, min_samples_split=23, n_jobs=-1, random_state=1;, score=-0.252 total time=   0.8s\n",
      "[CV 3/5] END bootstrap=True, criterion=friedman_mse, max_depth=28, max_features=log2, min_samples_leaf=10, min_samples_split=23, n_jobs=-1, random_state=1;, score=-0.257 total time=   0.8s\n",
      "[CV 4/5] END bootstrap=True, criterion=friedman_mse, max_depth=28, max_features=log2, min_samples_leaf=10, min_samples_split=23, n_jobs=-1, random_state=1;, score=-0.266 total time=   0.9s\n",
      "[CV 5/5] END bootstrap=True, criterion=friedman_mse, max_depth=28, max_features=log2, min_samples_leaf=10, min_samples_split=23, n_jobs=-1, random_state=1;, score=-0.273 total time=   0.9s\n",
      "[CV 1/5] END bootstrap=False, criterion=friedman_mse, max_depth=3, max_features=log2, min_samples_leaf=29, min_samples_split=22, n_jobs=-1, random_state=1;, score=-0.327 total time=   0.6s\n",
      "[CV 2/5] END bootstrap=False, criterion=friedman_mse, max_depth=3, max_features=log2, min_samples_leaf=29, min_samples_split=22, n_jobs=-1, random_state=1;, score=-0.315 total time=   0.6s\n",
      "[CV 3/5] END bootstrap=False, criterion=friedman_mse, max_depth=3, max_features=log2, min_samples_leaf=29, min_samples_split=22, n_jobs=-1, random_state=1;, score=-0.322 total time=   0.6s\n",
      "[CV 4/5] END bootstrap=False, criterion=friedman_mse, max_depth=3, max_features=log2, min_samples_leaf=29, min_samples_split=22, n_jobs=-1, random_state=1;, score=-0.331 total time=   0.6s\n",
      "[CV 5/5] END bootstrap=False, criterion=friedman_mse, max_depth=3, max_features=log2, min_samples_leaf=29, min_samples_split=22, n_jobs=-1, random_state=1;, score=-0.335 total time=   0.6s\n",
      "[CV 1/5] END bootstrap=False, criterion=friedman_mse, max_depth=22, max_features=None, min_samples_leaf=8, min_samples_split=3, n_jobs=-1, random_state=1;, score=-0.269 total time=  26.4s\n",
      "[CV 2/5] END bootstrap=False, criterion=friedman_mse, max_depth=22, max_features=None, min_samples_leaf=8, min_samples_split=3, n_jobs=-1, random_state=1;, score=-0.263 total time=  26.7s\n",
      "[CV 3/5] END bootstrap=False, criterion=friedman_mse, max_depth=22, max_features=None, min_samples_leaf=8, min_samples_split=3, n_jobs=-1, random_state=1;, score=-0.269 total time=  28.6s\n",
      "[CV 4/5] END bootstrap=False, criterion=friedman_mse, max_depth=22, max_features=None, min_samples_leaf=8, min_samples_split=3, n_jobs=-1, random_state=1;, score=-0.274 total time=  29.2s\n",
      "[CV 5/5] END bootstrap=False, criterion=friedman_mse, max_depth=22, max_features=None, min_samples_leaf=8, min_samples_split=3, n_jobs=-1, random_state=1;, score=-0.290 total time=  26.9s\n",
      "[CV 1/5] END bootstrap=False, criterion=poisson, max_depth=19, max_features=None, min_samples_leaf=22, min_samples_split=13, n_jobs=-1, random_state=1;, score=-0.238 total time=  24.8s\n",
      "[CV 2/5] END bootstrap=False, criterion=poisson, max_depth=19, max_features=None, min_samples_leaf=22, min_samples_split=13, n_jobs=-1, random_state=1;, score=-0.232 total time=  26.7s\n",
      "[CV 3/5] END bootstrap=False, criterion=poisson, max_depth=19, max_features=None, min_samples_leaf=22, min_samples_split=13, n_jobs=-1, random_state=1;, score=-0.244 total time=  30.4s\n",
      "[CV 4/5] END bootstrap=False, criterion=poisson, max_depth=19, max_features=None, min_samples_leaf=22, min_samples_split=13, n_jobs=-1, random_state=1;, score=-0.250 total time=  27.6s\n",
      "[CV 5/5] END bootstrap=False, criterion=poisson, max_depth=19, max_features=None, min_samples_leaf=22, min_samples_split=13, n_jobs=-1, random_state=1;, score=-0.261 total time=  27.4s\n",
      "[CV 1/5] END bootstrap=True, criterion=friedman_mse, max_depth=5, max_features=sqrt, min_samples_leaf=17, min_samples_split=19, n_jobs=-1, random_state=1;, score=-0.281 total time=   0.9s\n",
      "[CV 2/5] END bootstrap=True, criterion=friedman_mse, max_depth=5, max_features=sqrt, min_samples_leaf=17, min_samples_split=19, n_jobs=-1, random_state=1;, score=-0.270 total time=   1.0s\n",
      "[CV 3/5] END bootstrap=True, criterion=friedman_mse, max_depth=5, max_features=sqrt, min_samples_leaf=17, min_samples_split=19, n_jobs=-1, random_state=1;, score=-0.277 total time=   1.0s\n",
      "[CV 4/5] END bootstrap=True, criterion=friedman_mse, max_depth=5, max_features=sqrt, min_samples_leaf=17, min_samples_split=19, n_jobs=-1, random_state=1;, score=-0.285 total time=   0.9s\n",
      "[CV 5/5] END bootstrap=True, criterion=friedman_mse, max_depth=5, max_features=sqrt, min_samples_leaf=17, min_samples_split=19, n_jobs=-1, random_state=1;, score=-0.293 total time=   0.9s\n",
      "[CV 1/5] END bootstrap=True, criterion=friedman_mse, max_depth=23, max_features=None, min_samples_leaf=29, min_samples_split=13, n_jobs=-1, random_state=1;, score=-0.220 total time=  15.2s\n",
      "[CV 2/5] END bootstrap=True, criterion=friedman_mse, max_depth=23, max_features=None, min_samples_leaf=29, min_samples_split=13, n_jobs=-1, random_state=1;, score=-0.215 total time=  15.8s\n",
      "[CV 3/5] END bootstrap=True, criterion=friedman_mse, max_depth=23, max_features=None, min_samples_leaf=29, min_samples_split=13, n_jobs=-1, random_state=1;, score=-0.219 total time=  15.5s\n",
      "[CV 4/5] END bootstrap=True, criterion=friedman_mse, max_depth=23, max_features=None, min_samples_leaf=29, min_samples_split=13, n_jobs=-1, random_state=1;, score=-0.232 total time=  15.4s\n",
      "[CV 5/5] END bootstrap=True, criterion=friedman_mse, max_depth=23, max_features=None, min_samples_leaf=29, min_samples_split=13, n_jobs=-1, random_state=1;, score=-0.239 total time=  15.7s\n",
      "[CV 1/5] END bootstrap=True, criterion=squared_error, max_depth=11, max_features=sqrt, min_samples_leaf=11, min_samples_split=22, n_jobs=-1, random_state=1;, score=-0.241 total time=   1.2s\n",
      "[CV 2/5] END bootstrap=True, criterion=squared_error, max_depth=11, max_features=sqrt, min_samples_leaf=11, min_samples_split=22, n_jobs=-1, random_state=1;, score=-0.236 total time=   1.2s\n",
      "[CV 3/5] END bootstrap=True, criterion=squared_error, max_depth=11, max_features=sqrt, min_samples_leaf=11, min_samples_split=22, n_jobs=-1, random_state=1;, score=-0.242 total time=   1.1s\n",
      "[CV 4/5] END bootstrap=True, criterion=squared_error, max_depth=11, max_features=sqrt, min_samples_leaf=11, min_samples_split=22, n_jobs=-1, random_state=1;, score=-0.250 total time=   1.1s\n",
      "[CV 5/5] END bootstrap=True, criterion=squared_error, max_depth=11, max_features=sqrt, min_samples_leaf=11, min_samples_split=22, n_jobs=-1, random_state=1;, score=-0.257 total time=   1.3s\n",
      "[CV 1/5] END bootstrap=False, criterion=squared_error, max_depth=15, max_features=log2, min_samples_leaf=23, min_samples_split=6, n_jobs=-1, random_state=1;, score=-0.263 total time=   1.0s\n",
      "[CV 2/5] END bootstrap=False, criterion=squared_error, max_depth=15, max_features=log2, min_samples_leaf=23, min_samples_split=6, n_jobs=-1, random_state=1;, score=-0.257 total time=   1.0s\n",
      "[CV 3/5] END bootstrap=False, criterion=squared_error, max_depth=15, max_features=log2, min_samples_leaf=23, min_samples_split=6, n_jobs=-1, random_state=1;, score=-0.263 total time=   0.9s\n",
      "[CV 4/5] END bootstrap=False, criterion=squared_error, max_depth=15, max_features=log2, min_samples_leaf=23, min_samples_split=6, n_jobs=-1, random_state=1;, score=-0.272 total time=   1.1s\n",
      "[CV 5/5] END bootstrap=False, criterion=squared_error, max_depth=15, max_features=log2, min_samples_leaf=23, min_samples_split=6, n_jobs=-1, random_state=1;, score=-0.278 total time=   1.1s\n",
      "[CV 1/5] END bootstrap=False, criterion=friedman_mse, max_depth=14, max_features=None, min_samples_leaf=7, min_samples_split=18, n_jobs=-1, random_state=1;, score=-0.258 total time=  26.2s\n",
      "[CV 2/5] END bootstrap=False, criterion=friedman_mse, max_depth=14, max_features=None, min_samples_leaf=7, min_samples_split=18, n_jobs=-1, random_state=1;, score=-0.259 total time=  26.0s\n",
      "[CV 3/5] END bootstrap=False, criterion=friedman_mse, max_depth=14, max_features=None, min_samples_leaf=7, min_samples_split=18, n_jobs=-1, random_state=1;, score=-0.255 total time=  26.1s\n",
      "[CV 4/5] END bootstrap=False, criterion=friedman_mse, max_depth=14, max_features=None, min_samples_leaf=7, min_samples_split=18, n_jobs=-1, random_state=1;, score=-0.266 total time=  27.3s\n"
     ]
    },
    {
     "name": "stdout",
     "output_type": "stream",
     "text": [
      "[CV 5/5] END bootstrap=False, criterion=friedman_mse, max_depth=14, max_features=None, min_samples_leaf=7, min_samples_split=18, n_jobs=-1, random_state=1;, score=-0.280 total time=  26.1s\n",
      "[CV 1/5] END bootstrap=True, criterion=poisson, max_depth=17, max_features=sqrt, min_samples_leaf=13, min_samples_split=4, n_jobs=-1, random_state=1;, score=-0.237 total time=   1.3s\n",
      "[CV 2/5] END bootstrap=True, criterion=poisson, max_depth=17, max_features=sqrt, min_samples_leaf=13, min_samples_split=4, n_jobs=-1, random_state=1;, score=-0.231 total time=   1.5s\n",
      "[CV 3/5] END bootstrap=True, criterion=poisson, max_depth=17, max_features=sqrt, min_samples_leaf=13, min_samples_split=4, n_jobs=-1, random_state=1;, score=-0.238 total time=   1.4s\n",
      "[CV 4/5] END bootstrap=True, criterion=poisson, max_depth=17, max_features=sqrt, min_samples_leaf=13, min_samples_split=4, n_jobs=-1, random_state=1;, score=-0.246 total time=   1.5s\n",
      "[CV 5/5] END bootstrap=True, criterion=poisson, max_depth=17, max_features=sqrt, min_samples_leaf=13, min_samples_split=4, n_jobs=-1, random_state=1;, score=-0.250 total time=   1.3s\n",
      "[CV 1/5] END bootstrap=True, criterion=squared_error, max_depth=11, max_features=sqrt, min_samples_leaf=23, min_samples_split=4, n_jobs=-1, random_state=1;, score=-0.247 total time=   1.1s\n",
      "[CV 2/5] END bootstrap=True, criterion=squared_error, max_depth=11, max_features=sqrt, min_samples_leaf=23, min_samples_split=4, n_jobs=-1, random_state=1;, score=-0.239 total time=   1.1s\n",
      "[CV 3/5] END bootstrap=True, criterion=squared_error, max_depth=11, max_features=sqrt, min_samples_leaf=23, min_samples_split=4, n_jobs=-1, random_state=1;, score=-0.245 total time=   1.1s\n",
      "[CV 4/5] END bootstrap=True, criterion=squared_error, max_depth=11, max_features=sqrt, min_samples_leaf=23, min_samples_split=4, n_jobs=-1, random_state=1;, score=-0.254 total time=   1.2s\n",
      "[CV 5/5] END bootstrap=True, criterion=squared_error, max_depth=11, max_features=sqrt, min_samples_leaf=23, min_samples_split=4, n_jobs=-1, random_state=1;, score=-0.263 total time=   1.2s\n",
      "[CV 1/5] END bootstrap=True, criterion=poisson, max_depth=21, max_features=sqrt, min_samples_leaf=5, min_samples_split=3, n_jobs=-1, random_state=1;, score=-0.227 total time=   1.5s\n",
      "[CV 2/5] END bootstrap=True, criterion=poisson, max_depth=21, max_features=sqrt, min_samples_leaf=5, min_samples_split=3, n_jobs=-1, random_state=1;, score=-0.222 total time=   1.6s\n",
      "[CV 3/5] END bootstrap=True, criterion=poisson, max_depth=21, max_features=sqrt, min_samples_leaf=5, min_samples_split=3, n_jobs=-1, random_state=1;, score=-0.230 total time=   1.6s\n",
      "[CV 4/5] END bootstrap=True, criterion=poisson, max_depth=21, max_features=sqrt, min_samples_leaf=5, min_samples_split=3, n_jobs=-1, random_state=1;, score=-0.236 total time=   1.5s\n",
      "[CV 5/5] END bootstrap=True, criterion=poisson, max_depth=21, max_features=sqrt, min_samples_leaf=5, min_samples_split=3, n_jobs=-1, random_state=1;, score=-0.244 total time=   1.5s\n",
      "[CV 1/5] END bootstrap=True, criterion=poisson, max_depth=16, max_features=None, min_samples_leaf=23, min_samples_split=8, n_jobs=-1, random_state=1;, score=-0.218 total time=  16.5s\n",
      "[CV 2/5] END bootstrap=True, criterion=poisson, max_depth=16, max_features=None, min_samples_leaf=23, min_samples_split=8, n_jobs=-1, random_state=1;, score=-0.212 total time=  16.5s\n",
      "[CV 3/5] END bootstrap=True, criterion=poisson, max_depth=16, max_features=None, min_samples_leaf=23, min_samples_split=8, n_jobs=-1, random_state=1;, score=-0.219 total time=  16.9s\n",
      "[CV 4/5] END bootstrap=True, criterion=poisson, max_depth=16, max_features=None, min_samples_leaf=23, min_samples_split=8, n_jobs=-1, random_state=1;, score=-0.231 total time=  16.9s\n",
      "[CV 5/5] END bootstrap=True, criterion=poisson, max_depth=16, max_features=None, min_samples_leaf=23, min_samples_split=8, n_jobs=-1, random_state=1;, score=-0.239 total time=  16.9s\n",
      "[CV 1/5] END bootstrap=True, criterion=squared_error, max_depth=23, max_features=None, min_samples_leaf=27, min_samples_split=10, n_jobs=-1, random_state=1;, score=-0.220 total time=  15.4s\n",
      "[CV 2/5] END bootstrap=True, criterion=squared_error, max_depth=23, max_features=None, min_samples_leaf=27, min_samples_split=10, n_jobs=-1, random_state=1;, score=-0.215 total time=  15.5s\n",
      "[CV 3/5] END bootstrap=True, criterion=squared_error, max_depth=23, max_features=None, min_samples_leaf=27, min_samples_split=10, n_jobs=-1, random_state=1;, score=-0.219 total time=  15.5s\n",
      "[CV 4/5] END bootstrap=True, criterion=squared_error, max_depth=23, max_features=None, min_samples_leaf=27, min_samples_split=10, n_jobs=-1, random_state=1;, score=-0.231 total time=  15.6s\n",
      "[CV 5/5] END bootstrap=True, criterion=squared_error, max_depth=23, max_features=None, min_samples_leaf=27, min_samples_split=10, n_jobs=-1, random_state=1;, score=-0.239 total time=  15.8s\n",
      "[CV 1/5] END bootstrap=False, criterion=friedman_mse, max_depth=9, max_features=None, min_samples_leaf=24, min_samples_split=20, n_jobs=-1, random_state=1;, score=-0.233 total time=  20.8s\n",
      "[CV 2/5] END bootstrap=False, criterion=friedman_mse, max_depth=9, max_features=None, min_samples_leaf=24, min_samples_split=20, n_jobs=-1, random_state=1;, score=-0.231 total time=  20.9s\n",
      "[CV 3/5] END bootstrap=False, criterion=friedman_mse, max_depth=9, max_features=None, min_samples_leaf=24, min_samples_split=20, n_jobs=-1, random_state=1;, score=-0.230 total time=  20.8s\n",
      "[CV 4/5] END bootstrap=False, criterion=friedman_mse, max_depth=9, max_features=None, min_samples_leaf=24, min_samples_split=20, n_jobs=-1, random_state=1;, score=-0.242 total time=  22.0s\n",
      "[CV 5/5] END bootstrap=False, criterion=friedman_mse, max_depth=9, max_features=None, min_samples_leaf=24, min_samples_split=20, n_jobs=-1, random_state=1;, score=-0.251 total time=  20.9s\n",
      "[CV 1/5] END bootstrap=False, criterion=poisson, max_depth=17, max_features=sqrt, min_samples_leaf=25, min_samples_split=10, n_jobs=-1, random_state=1;, score=-0.238 total time=   1.9s\n",
      "[CV 2/5] END bootstrap=False, criterion=poisson, max_depth=17, max_features=sqrt, min_samples_leaf=25, min_samples_split=10, n_jobs=-1, random_state=1;, score=-0.233 total time=   2.0s\n",
      "[CV 3/5] END bootstrap=False, criterion=poisson, max_depth=17, max_features=sqrt, min_samples_leaf=25, min_samples_split=10, n_jobs=-1, random_state=1;, score=-0.237 total time=   1.9s\n",
      "[CV 4/5] END bootstrap=False, criterion=poisson, max_depth=17, max_features=sqrt, min_samples_leaf=25, min_samples_split=10, n_jobs=-1, random_state=1;, score=-0.248 total time=   1.8s\n",
      "[CV 5/5] END bootstrap=False, criterion=poisson, max_depth=17, max_features=sqrt, min_samples_leaf=25, min_samples_split=10, n_jobs=-1, random_state=1;, score=-0.252 total time=   2.0s\n",
      "[CV 1/5] END bootstrap=True, criterion=poisson, max_depth=26, max_features=sqrt, min_samples_leaf=7, min_samples_split=19, n_jobs=-1, random_state=1;, score=-0.230 total time=   1.4s\n",
      "[CV 2/5] END bootstrap=True, criterion=poisson, max_depth=26, max_features=sqrt, min_samples_leaf=7, min_samples_split=19, n_jobs=-1, random_state=1;, score=-0.226 total time=   1.5s\n",
      "[CV 3/5] END bootstrap=True, criterion=poisson, max_depth=26, max_features=sqrt, min_samples_leaf=7, min_samples_split=19, n_jobs=-1, random_state=1;, score=-0.233 total time=   1.6s\n",
      "[CV 4/5] END bootstrap=True, criterion=poisson, max_depth=26, max_features=sqrt, min_samples_leaf=7, min_samples_split=19, n_jobs=-1, random_state=1;, score=-0.241 total time=   1.6s\n",
      "[CV 5/5] END bootstrap=True, criterion=poisson, max_depth=26, max_features=sqrt, min_samples_leaf=7, min_samples_split=19, n_jobs=-1, random_state=1;, score=-0.247 total time=   1.6s\n",
      "[CV 1/5] END bootstrap=False, criterion=squared_error, max_depth=22, max_features=None, min_samples_leaf=7, min_samples_split=8, n_jobs=-1, random_state=1;, score=-0.271 total time=  28.6s\n",
      "[CV 2/5] END bootstrap=False, criterion=squared_error, max_depth=22, max_features=None, min_samples_leaf=7, min_samples_split=8, n_jobs=-1, random_state=1;, score=-0.271 total time=  29.0s\n",
      "[CV 3/5] END bootstrap=False, criterion=squared_error, max_depth=22, max_features=None, min_samples_leaf=7, min_samples_split=8, n_jobs=-1, random_state=1;, score=-0.280 total time=  29.1s\n",
      "[CV 4/5] END bootstrap=False, criterion=squared_error, max_depth=22, max_features=None, min_samples_leaf=7, min_samples_split=8, n_jobs=-1, random_state=1;, score=-0.279 total time=  30.3s\n"
     ]
    },
    {
     "name": "stdout",
     "output_type": "stream",
     "text": [
      "[CV 5/5] END bootstrap=False, criterion=squared_error, max_depth=22, max_features=None, min_samples_leaf=7, min_samples_split=8, n_jobs=-1, random_state=1;, score=-0.293 total time=  28.7s\n",
      "[CV 1/5] END bootstrap=True, criterion=friedman_mse, max_depth=13, max_features=log2, min_samples_leaf=10, min_samples_split=6, n_jobs=-1, random_state=1;, score=-0.261 total time=   0.8s\n",
      "[CV 2/5] END bootstrap=True, criterion=friedman_mse, max_depth=13, max_features=log2, min_samples_leaf=10, min_samples_split=6, n_jobs=-1, random_state=1;, score=-0.255 total time=   0.9s\n",
      "[CV 3/5] END bootstrap=True, criterion=friedman_mse, max_depth=13, max_features=log2, min_samples_leaf=10, min_samples_split=6, n_jobs=-1, random_state=1;, score=-0.261 total time=   0.8s\n",
      "[CV 4/5] END bootstrap=True, criterion=friedman_mse, max_depth=13, max_features=log2, min_samples_leaf=10, min_samples_split=6, n_jobs=-1, random_state=1;, score=-0.272 total time=   0.8s\n",
      "[CV 5/5] END bootstrap=True, criterion=friedman_mse, max_depth=13, max_features=log2, min_samples_leaf=10, min_samples_split=6, n_jobs=-1, random_state=1;, score=-0.276 total time=   0.9s\n",
      "[CV 1/5] END bootstrap=False, criterion=friedman_mse, max_depth=15, max_features=sqrt, min_samples_leaf=5, min_samples_split=21, n_jobs=-1, random_state=1;, score=-0.231 total time=   1.8s\n",
      "[CV 2/5] END bootstrap=False, criterion=friedman_mse, max_depth=15, max_features=sqrt, min_samples_leaf=5, min_samples_split=21, n_jobs=-1, random_state=1;, score=-0.225 total time=   1.8s\n",
      "[CV 3/5] END bootstrap=False, criterion=friedman_mse, max_depth=15, max_features=sqrt, min_samples_leaf=5, min_samples_split=21, n_jobs=-1, random_state=1;, score=-0.231 total time=   1.9s\n",
      "[CV 4/5] END bootstrap=False, criterion=friedman_mse, max_depth=15, max_features=sqrt, min_samples_leaf=5, min_samples_split=21, n_jobs=-1, random_state=1;, score=-0.238 total time=   1.9s\n",
      "[CV 5/5] END bootstrap=False, criterion=friedman_mse, max_depth=15, max_features=sqrt, min_samples_leaf=5, min_samples_split=21, n_jobs=-1, random_state=1;, score=-0.245 total time=   1.8s\n",
      "[CV 1/5] END bootstrap=False, criterion=squared_error, max_depth=12, max_features=sqrt, min_samples_leaf=3, min_samples_split=29, n_jobs=-1, random_state=1;, score=-0.233 total time=   1.6s\n",
      "[CV 2/5] END bootstrap=False, criterion=squared_error, max_depth=12, max_features=sqrt, min_samples_leaf=3, min_samples_split=29, n_jobs=-1, random_state=1;, score=-0.230 total time=   1.7s\n",
      "[CV 3/5] END bootstrap=False, criterion=squared_error, max_depth=12, max_features=sqrt, min_samples_leaf=3, min_samples_split=29, n_jobs=-1, random_state=1;, score=-0.236 total time=   1.7s\n",
      "[CV 4/5] END bootstrap=False, criterion=squared_error, max_depth=12, max_features=sqrt, min_samples_leaf=3, min_samples_split=29, n_jobs=-1, random_state=1;, score=-0.244 total time=   1.7s\n",
      "[CV 5/5] END bootstrap=False, criterion=squared_error, max_depth=12, max_features=sqrt, min_samples_leaf=3, min_samples_split=29, n_jobs=-1, random_state=1;, score=-0.250 total time=   1.6s\n",
      "[CV 1/5] END bootstrap=True, criterion=poisson, max_depth=9, max_features=sqrt, min_samples_leaf=3, min_samples_split=7, n_jobs=-1, random_state=1;, score=-0.244 total time=   1.2s\n",
      "[CV 2/5] END bootstrap=True, criterion=poisson, max_depth=9, max_features=sqrt, min_samples_leaf=3, min_samples_split=7, n_jobs=-1, random_state=1;, score=-0.238 total time=   1.2s\n",
      "[CV 3/5] END bootstrap=True, criterion=poisson, max_depth=9, max_features=sqrt, min_samples_leaf=3, min_samples_split=7, n_jobs=-1, random_state=1;, score=-0.244 total time=   1.2s\n",
      "[CV 4/5] END bootstrap=True, criterion=poisson, max_depth=9, max_features=sqrt, min_samples_leaf=3, min_samples_split=7, n_jobs=-1, random_state=1;, score=-0.252 total time=   1.3s\n",
      "[CV 5/5] END bootstrap=True, criterion=poisson, max_depth=9, max_features=sqrt, min_samples_leaf=3, min_samples_split=7, n_jobs=-1, random_state=1;, score=-0.261 total time=   1.3s\n",
      "[CV 1/5] END bootstrap=True, criterion=squared_error, max_depth=13, max_features=sqrt, min_samples_leaf=10, min_samples_split=9, n_jobs=-1, random_state=1;, score=-0.237 total time=   1.3s\n",
      "[CV 2/5] END bootstrap=True, criterion=squared_error, max_depth=13, max_features=sqrt, min_samples_leaf=10, min_samples_split=9, n_jobs=-1, random_state=1;, score=-0.232 total time=   1.2s\n",
      "[CV 3/5] END bootstrap=True, criterion=squared_error, max_depth=13, max_features=sqrt, min_samples_leaf=10, min_samples_split=9, n_jobs=-1, random_state=1;, score=-0.236 total time=   1.3s\n",
      "[CV 4/5] END bootstrap=True, criterion=squared_error, max_depth=13, max_features=sqrt, min_samples_leaf=10, min_samples_split=9, n_jobs=-1, random_state=1;, score=-0.246 total time=   1.3s\n",
      "[CV 5/5] END bootstrap=True, criterion=squared_error, max_depth=13, max_features=sqrt, min_samples_leaf=10, min_samples_split=9, n_jobs=-1, random_state=1;, score=-0.253 total time=   1.3s\n",
      "[CV 1/5] END bootstrap=True, criterion=poisson, max_depth=20, max_features=log2, min_samples_leaf=28, min_samples_split=24, n_jobs=-1, random_state=1;, score=-0.270 total time=   0.9s\n",
      "[CV 2/5] END bootstrap=True, criterion=poisson, max_depth=20, max_features=log2, min_samples_leaf=28, min_samples_split=24, n_jobs=-1, random_state=1;, score=-0.262 total time=   0.8s\n",
      "[CV 3/5] END bootstrap=True, criterion=poisson, max_depth=20, max_features=log2, min_samples_leaf=28, min_samples_split=24, n_jobs=-1, random_state=1;, score=-0.268 total time=   0.9s\n",
      "[CV 4/5] END bootstrap=True, criterion=poisson, max_depth=20, max_features=log2, min_samples_leaf=28, min_samples_split=24, n_jobs=-1, random_state=1;, score=-0.277 total time=   1.0s\n",
      "[CV 5/5] END bootstrap=True, criterion=poisson, max_depth=20, max_features=log2, min_samples_leaf=28, min_samples_split=24, n_jobs=-1, random_state=1;, score=-0.284 total time=   0.8s\n",
      "[CV 1/5] END bootstrap=False, criterion=friedman_mse, max_depth=15, max_features=None, min_samples_leaf=18, min_samples_split=8, n_jobs=-1, random_state=1;, score=-0.238 total time=  25.2s\n",
      "[CV 2/5] END bootstrap=False, criterion=friedman_mse, max_depth=15, max_features=None, min_samples_leaf=18, min_samples_split=8, n_jobs=-1, random_state=1;, score=-0.239 total time=  25.2s\n",
      "[CV 3/5] END bootstrap=False, criterion=friedman_mse, max_depth=15, max_features=None, min_samples_leaf=18, min_samples_split=8, n_jobs=-1, random_state=1;, score=-0.244 total time=  25.2s\n",
      "[CV 4/5] END bootstrap=False, criterion=friedman_mse, max_depth=15, max_features=None, min_samples_leaf=18, min_samples_split=8, n_jobs=-1, random_state=1;, score=-0.250 total time=  26.6s\n",
      "[CV 5/5] END bootstrap=False, criterion=friedman_mse, max_depth=15, max_features=None, min_samples_leaf=18, min_samples_split=8, n_jobs=-1, random_state=1;, score=-0.263 total time=  25.1s\n",
      "[CV 1/5] END bootstrap=False, criterion=poisson, max_depth=17, max_features=None, min_samples_leaf=23, min_samples_split=19, n_jobs=-1, random_state=1;, score=-0.235 total time=  25.9s\n",
      "[CV 2/5] END bootstrap=False, criterion=poisson, max_depth=17, max_features=None, min_samples_leaf=23, min_samples_split=19, n_jobs=-1, random_state=1;, score=-0.232 total time=  26.5s\n",
      "[CV 3/5] END bootstrap=False, criterion=poisson, max_depth=17, max_features=None, min_samples_leaf=23, min_samples_split=19, n_jobs=-1, random_state=1;, score=-0.239 total time=  26.7s\n",
      "[CV 4/5] END bootstrap=False, criterion=poisson, max_depth=17, max_features=None, min_samples_leaf=23, min_samples_split=19, n_jobs=-1, random_state=1;, score=-0.248 total time=  26.4s\n",
      "[CV 5/5] END bootstrap=False, criterion=poisson, max_depth=17, max_features=None, min_samples_leaf=23, min_samples_split=19, n_jobs=-1, random_state=1;, score=-0.261 total time=  26.5s\n",
      "[CV 1/5] END bootstrap=True, criterion=friedman_mse, max_depth=25, max_features=log2, min_samples_leaf=4, min_samples_split=19, n_jobs=-1, random_state=1;, score=-0.254 total time=   0.9s\n",
      "[CV 2/5] END bootstrap=True, criterion=friedman_mse, max_depth=25, max_features=log2, min_samples_leaf=4, min_samples_split=19, n_jobs=-1, random_state=1;, score=-0.246 total time=   0.8s\n",
      "[CV 3/5] END bootstrap=True, criterion=friedman_mse, max_depth=25, max_features=log2, min_samples_leaf=4, min_samples_split=19, n_jobs=-1, random_state=1;, score=-0.252 total time=   0.8s\n"
     ]
    },
    {
     "name": "stdout",
     "output_type": "stream",
     "text": [
      "[CV 4/5] END bootstrap=True, criterion=friedman_mse, max_depth=25, max_features=log2, min_samples_leaf=4, min_samples_split=19, n_jobs=-1, random_state=1;, score=-0.260 total time=   0.8s\n",
      "[CV 5/5] END bootstrap=True, criterion=friedman_mse, max_depth=25, max_features=log2, min_samples_leaf=4, min_samples_split=19, n_jobs=-1, random_state=1;, score=-0.266 total time=   0.8s\n",
      "[CV 1/5] END bootstrap=True, criterion=friedman_mse, max_depth=16, max_features=sqrt, min_samples_leaf=21, min_samples_split=21, n_jobs=-1, random_state=1;, score=-0.242 total time=   1.2s\n",
      "[CV 2/5] END bootstrap=True, criterion=friedman_mse, max_depth=16, max_features=sqrt, min_samples_leaf=21, min_samples_split=21, n_jobs=-1, random_state=1;, score=-0.235 total time=   1.2s\n",
      "[CV 3/5] END bootstrap=True, criterion=friedman_mse, max_depth=16, max_features=sqrt, min_samples_leaf=21, min_samples_split=21, n_jobs=-1, random_state=1;, score=-0.242 total time=   1.2s\n",
      "[CV 4/5] END bootstrap=True, criterion=friedman_mse, max_depth=16, max_features=sqrt, min_samples_leaf=21, min_samples_split=21, n_jobs=-1, random_state=1;, score=-0.251 total time=   1.2s\n",
      "[CV 5/5] END bootstrap=True, criterion=friedman_mse, max_depth=16, max_features=sqrt, min_samples_leaf=21, min_samples_split=21, n_jobs=-1, random_state=1;, score=-0.256 total time=   1.2s\n",
      "[CV 1/5] END bootstrap=False, criterion=friedman_mse, max_depth=17, max_features=sqrt, min_samples_leaf=24, min_samples_split=9, n_jobs=-1, random_state=1;, score=-0.238 total time=   1.7s\n",
      "[CV 2/5] END bootstrap=False, criterion=friedman_mse, max_depth=17, max_features=sqrt, min_samples_leaf=24, min_samples_split=9, n_jobs=-1, random_state=1;, score=-0.232 total time=   1.9s\n",
      "[CV 3/5] END bootstrap=False, criterion=friedman_mse, max_depth=17, max_features=sqrt, min_samples_leaf=24, min_samples_split=9, n_jobs=-1, random_state=1;, score=-0.238 total time=   1.7s\n",
      "[CV 4/5] END bootstrap=False, criterion=friedman_mse, max_depth=17, max_features=sqrt, min_samples_leaf=24, min_samples_split=9, n_jobs=-1, random_state=1;, score=-0.246 total time=   1.8s\n",
      "[CV 5/5] END bootstrap=False, criterion=friedman_mse, max_depth=17, max_features=sqrt, min_samples_leaf=24, min_samples_split=9, n_jobs=-1, random_state=1;, score=-0.255 total time=   1.7s\n",
      "[CV 1/5] END bootstrap=True, criterion=friedman_mse, max_depth=23, max_features=None, min_samples_leaf=28, min_samples_split=23, n_jobs=-1, random_state=1;, score=-0.220 total time=  15.2s\n",
      "[CV 2/5] END bootstrap=True, criterion=friedman_mse, max_depth=23, max_features=None, min_samples_leaf=28, min_samples_split=23, n_jobs=-1, random_state=1;, score=-0.215 total time=  15.4s\n",
      "[CV 3/5] END bootstrap=True, criterion=friedman_mse, max_depth=23, max_features=None, min_samples_leaf=28, min_samples_split=23, n_jobs=-1, random_state=1;, score=-0.219 total time=  15.5s\n",
      "[CV 4/5] END bootstrap=True, criterion=friedman_mse, max_depth=23, max_features=None, min_samples_leaf=28, min_samples_split=23, n_jobs=-1, random_state=1;, score=-0.232 total time=  15.5s\n",
      "[CV 5/5] END bootstrap=True, criterion=friedman_mse, max_depth=23, max_features=None, min_samples_leaf=28, min_samples_split=23, n_jobs=-1, random_state=1;, score=-0.239 total time=  15.7s\n",
      "[CV 1/5] END bootstrap=False, criterion=friedman_mse, max_depth=2, max_features=None, min_samples_leaf=29, min_samples_split=4, n_jobs=-1, random_state=1;, score=-0.296 total time=   8.6s\n",
      "[CV 2/5] END bootstrap=False, criterion=friedman_mse, max_depth=2, max_features=None, min_samples_leaf=29, min_samples_split=4, n_jobs=-1, random_state=1;, score=-0.286 total time=   8.5s\n",
      "[CV 3/5] END bootstrap=False, criterion=friedman_mse, max_depth=2, max_features=None, min_samples_leaf=29, min_samples_split=4, n_jobs=-1, random_state=1;, score=-0.293 total time=   9.2s\n",
      "[CV 4/5] END bootstrap=False, criterion=friedman_mse, max_depth=2, max_features=None, min_samples_leaf=29, min_samples_split=4, n_jobs=-1, random_state=1;, score=-0.308 total time=   8.9s\n",
      "[CV 5/5] END bootstrap=False, criterion=friedman_mse, max_depth=2, max_features=None, min_samples_leaf=29, min_samples_split=4, n_jobs=-1, random_state=1;, score=-0.313 total time=   8.9s\n",
      "[CV 1/5] END bootstrap=False, criterion=poisson, max_depth=19, max_features=sqrt, min_samples_leaf=27, min_samples_split=15, n_jobs=-1, random_state=1;, score=-0.237 total time=   1.9s\n",
      "[CV 2/5] END bootstrap=False, criterion=poisson, max_depth=19, max_features=sqrt, min_samples_leaf=27, min_samples_split=15, n_jobs=-1, random_state=1;, score=-0.231 total time=   2.0s\n",
      "[CV 3/5] END bootstrap=False, criterion=poisson, max_depth=19, max_features=sqrt, min_samples_leaf=27, min_samples_split=15, n_jobs=-1, random_state=1;, score=-0.238 total time=   1.9s\n",
      "[CV 4/5] END bootstrap=False, criterion=poisson, max_depth=19, max_features=sqrt, min_samples_leaf=27, min_samples_split=15, n_jobs=-1, random_state=1;, score=-0.247 total time=   2.0s\n",
      "[CV 5/5] END bootstrap=False, criterion=poisson, max_depth=19, max_features=sqrt, min_samples_leaf=27, min_samples_split=15, n_jobs=-1, random_state=1;, score=-0.253 total time=   2.0s\n",
      "[CV 1/5] END bootstrap=False, criterion=squared_error, max_depth=2, max_features=None, min_samples_leaf=3, min_samples_split=7, n_jobs=-1, random_state=1;, score=-0.296 total time=   8.9s\n",
      "[CV 2/5] END bootstrap=False, criterion=squared_error, max_depth=2, max_features=None, min_samples_leaf=3, min_samples_split=7, n_jobs=-1, random_state=1;, score=-0.286 total time=   9.0s\n",
      "[CV 3/5] END bootstrap=False, criterion=squared_error, max_depth=2, max_features=None, min_samples_leaf=3, min_samples_split=7, n_jobs=-1, random_state=1;, score=-0.293 total time=   8.7s\n",
      "[CV 4/5] END bootstrap=False, criterion=squared_error, max_depth=2, max_features=None, min_samples_leaf=3, min_samples_split=7, n_jobs=-1, random_state=1;, score=-0.308 total time=   9.2s\n",
      "[CV 5/5] END bootstrap=False, criterion=squared_error, max_depth=2, max_features=None, min_samples_leaf=3, min_samples_split=7, n_jobs=-1, random_state=1;, score=-0.313 total time=   9.2s\n",
      "[CV 1/5] END bootstrap=True, criterion=friedman_mse, max_depth=28, max_features=None, min_samples_leaf=13, min_samples_split=14, n_jobs=-1, random_state=1;, score=-0.216 total time=  17.0s\n",
      "[CV 2/5] END bootstrap=True, criterion=friedman_mse, max_depth=28, max_features=None, min_samples_leaf=13, min_samples_split=14, n_jobs=-1, random_state=1;, score=-0.213 total time=  17.5s\n",
      "[CV 3/5] END bootstrap=True, criterion=friedman_mse, max_depth=28, max_features=None, min_samples_leaf=13, min_samples_split=14, n_jobs=-1, random_state=1;, score=-0.216 total time=  16.9s\n",
      "[CV 4/5] END bootstrap=True, criterion=friedman_mse, max_depth=28, max_features=None, min_samples_leaf=13, min_samples_split=14, n_jobs=-1, random_state=1;, score=-0.229 total time=  17.2s\n",
      "[CV 5/5] END bootstrap=True, criterion=friedman_mse, max_depth=28, max_features=None, min_samples_leaf=13, min_samples_split=14, n_jobs=-1, random_state=1;, score=-0.235 total time=  17.3s\n",
      "[CV 1/5] END bootstrap=False, criterion=friedman_mse, max_depth=27, max_features=None, min_samples_leaf=5, min_samples_split=26, n_jobs=-1, random_state=1;, score=-0.263 total time=  28.8s\n",
      "[CV 2/5] END bootstrap=False, criterion=friedman_mse, max_depth=27, max_features=None, min_samples_leaf=5, min_samples_split=26, n_jobs=-1, random_state=1;, score=-0.266 total time=  28.9s\n",
      "[CV 3/5] END bootstrap=False, criterion=friedman_mse, max_depth=27, max_features=None, min_samples_leaf=5, min_samples_split=26, n_jobs=-1, random_state=1;, score=-0.271 total time=  29.1s\n",
      "[CV 4/5] END bootstrap=False, criterion=friedman_mse, max_depth=27, max_features=None, min_samples_leaf=5, min_samples_split=26, n_jobs=-1, random_state=1;, score=-0.279 total time=  30.4s\n",
      "[CV 5/5] END bootstrap=False, criterion=friedman_mse, max_depth=27, max_features=None, min_samples_leaf=5, min_samples_split=26, n_jobs=-1, random_state=1;, score=-0.285 total time=  29.4s\n",
      "[CV 1/5] END bootstrap=True, criterion=poisson, max_depth=28, max_features=None, min_samples_leaf=14, min_samples_split=3, n_jobs=-1, random_state=1;, score=-0.216 total time=  18.2s\n",
      "[CV 2/5] END bootstrap=True, criterion=poisson, max_depth=28, max_features=None, min_samples_leaf=14, min_samples_split=3, n_jobs=-1, random_state=1;, score=-0.211 total time=  18.2s\n"
     ]
    },
    {
     "name": "stdout",
     "output_type": "stream",
     "text": [
      "[CV 3/5] END bootstrap=True, criterion=poisson, max_depth=28, max_features=None, min_samples_leaf=14, min_samples_split=3, n_jobs=-1, random_state=1;, score=-0.217 total time=  18.3s\n",
      "[CV 4/5] END bootstrap=True, criterion=poisson, max_depth=28, max_features=None, min_samples_leaf=14, min_samples_split=3, n_jobs=-1, random_state=1;, score=-0.228 total time=  18.2s\n",
      "[CV 5/5] END bootstrap=True, criterion=poisson, max_depth=28, max_features=None, min_samples_leaf=14, min_samples_split=3, n_jobs=-1, random_state=1;, score=-0.236 total time=  18.6s\n",
      "[CV 1/5] END bootstrap=False, criterion=poisson, max_depth=14, max_features=sqrt, min_samples_leaf=6, min_samples_split=26, n_jobs=-1, random_state=1;, score=-0.231 total time=   2.0s\n",
      "[CV 2/5] END bootstrap=False, criterion=poisson, max_depth=14, max_features=sqrt, min_samples_leaf=6, min_samples_split=26, n_jobs=-1, random_state=1;, score=-0.226 total time=   2.0s\n",
      "[CV 3/5] END bootstrap=False, criterion=poisson, max_depth=14, max_features=sqrt, min_samples_leaf=6, min_samples_split=26, n_jobs=-1, random_state=1;, score=-0.232 total time=   2.1s\n",
      "[CV 4/5] END bootstrap=False, criterion=poisson, max_depth=14, max_features=sqrt, min_samples_leaf=6, min_samples_split=26, n_jobs=-1, random_state=1;, score=-0.240 total time=   2.0s\n",
      "[CV 5/5] END bootstrap=False, criterion=poisson, max_depth=14, max_features=sqrt, min_samples_leaf=6, min_samples_split=26, n_jobs=-1, random_state=1;, score=-0.246 total time=   2.1s\n",
      "[CV 1/5] END bootstrap=True, criterion=squared_error, max_depth=26, max_features=None, min_samples_leaf=4, min_samples_split=2, n_jobs=-1, random_state=1;, score=-0.213 total time=  20.1s\n",
      "[CV 2/5] END bootstrap=True, criterion=squared_error, max_depth=26, max_features=None, min_samples_leaf=4, min_samples_split=2, n_jobs=-1, random_state=1;, score=-0.209 total time=  20.0s\n",
      "[CV 3/5] END bootstrap=True, criterion=squared_error, max_depth=26, max_features=None, min_samples_leaf=4, min_samples_split=2, n_jobs=-1, random_state=1;, score=-0.213 total time=  19.9s\n",
      "[CV 4/5] END bootstrap=True, criterion=squared_error, max_depth=26, max_features=None, min_samples_leaf=4, min_samples_split=2, n_jobs=-1, random_state=1;, score=-0.225 total time=  19.7s\n",
      "[CV 5/5] END bootstrap=True, criterion=squared_error, max_depth=26, max_features=None, min_samples_leaf=4, min_samples_split=2, n_jobs=-1, random_state=1;, score=-0.230 total time=  20.0s\n",
      "[CV 1/5] END bootstrap=True, criterion=friedman_mse, max_depth=29, max_features=None, min_samples_leaf=22, min_samples_split=17, n_jobs=-1, random_state=1;, score=-0.219 total time=  15.7s\n",
      "[CV 2/5] END bootstrap=True, criterion=friedman_mse, max_depth=29, max_features=None, min_samples_leaf=22, min_samples_split=17, n_jobs=-1, random_state=1;, score=-0.214 total time=  16.1s\n",
      "[CV 3/5] END bootstrap=True, criterion=friedman_mse, max_depth=29, max_features=None, min_samples_leaf=22, min_samples_split=17, n_jobs=-1, random_state=1;, score=-0.218 total time=  15.9s\n",
      "[CV 4/5] END bootstrap=True, criterion=friedman_mse, max_depth=29, max_features=None, min_samples_leaf=22, min_samples_split=17, n_jobs=-1, random_state=1;, score=-0.231 total time=  16.1s\n",
      "[CV 5/5] END bootstrap=True, criterion=friedman_mse, max_depth=29, max_features=None, min_samples_leaf=22, min_samples_split=17, n_jobs=-1, random_state=1;, score=-0.238 total time=  16.3s\n",
      "[CV 1/5] END bootstrap=True, criterion=poisson, max_depth=17, max_features=log2, min_samples_leaf=6, min_samples_split=28, n_jobs=-1, random_state=1;, score=-0.255 total time=   0.8s\n",
      "[CV 2/5] END bootstrap=True, criterion=poisson, max_depth=17, max_features=log2, min_samples_leaf=6, min_samples_split=28, n_jobs=-1, random_state=1;, score=-0.250 total time=   1.0s\n",
      "[CV 3/5] END bootstrap=True, criterion=poisson, max_depth=17, max_features=log2, min_samples_leaf=6, min_samples_split=28, n_jobs=-1, random_state=1;, score=-0.256 total time=   0.9s\n",
      "[CV 4/5] END bootstrap=True, criterion=poisson, max_depth=17, max_features=log2, min_samples_leaf=6, min_samples_split=28, n_jobs=-1, random_state=1;, score=-0.265 total time=   1.0s\n",
      "[CV 5/5] END bootstrap=True, criterion=poisson, max_depth=17, max_features=log2, min_samples_leaf=6, min_samples_split=28, n_jobs=-1, random_state=1;, score=-0.270 total time=   1.0s\n",
      "[CV 1/5] END bootstrap=False, criterion=poisson, max_depth=27, max_features=None, min_samples_leaf=5, min_samples_split=23, n_jobs=-1, random_state=1;, score=-0.263 total time=  32.9s\n",
      "[CV 2/5] END bootstrap=False, criterion=poisson, max_depth=27, max_features=None, min_samples_leaf=5, min_samples_split=23, n_jobs=-1, random_state=1;, score=-0.257 total time=  33.8s\n",
      "[CV 3/5] END bootstrap=False, criterion=poisson, max_depth=27, max_features=None, min_samples_leaf=5, min_samples_split=23, n_jobs=-1, random_state=1;, score=-0.264 total time=  33.1s\n",
      "[CV 4/5] END bootstrap=False, criterion=poisson, max_depth=27, max_features=None, min_samples_leaf=5, min_samples_split=23, n_jobs=-1, random_state=1;, score=-0.276 total time=  33.2s\n",
      "[CV 5/5] END bootstrap=False, criterion=poisson, max_depth=27, max_features=None, min_samples_leaf=5, min_samples_split=23, n_jobs=-1, random_state=1;, score=-0.277 total time=  33.2s\n",
      "[CV 1/5] END bootstrap=False, criterion=poisson, max_depth=8, max_features=log2, min_samples_leaf=17, min_samples_split=12, n_jobs=-1, random_state=1;, score=-0.275 total time=   0.9s\n",
      "[CV 2/5] END bootstrap=False, criterion=poisson, max_depth=8, max_features=log2, min_samples_leaf=17, min_samples_split=12, n_jobs=-1, random_state=1;, score=-0.269 total time=   1.0s\n",
      "[CV 3/5] END bootstrap=False, criterion=poisson, max_depth=8, max_features=log2, min_samples_leaf=17, min_samples_split=12, n_jobs=-1, random_state=1;, score=-0.275 total time=   0.9s\n",
      "[CV 4/5] END bootstrap=False, criterion=poisson, max_depth=8, max_features=log2, min_samples_leaf=17, min_samples_split=12, n_jobs=-1, random_state=1;, score=-0.286 total time=   1.0s\n",
      "[CV 5/5] END bootstrap=False, criterion=poisson, max_depth=8, max_features=log2, min_samples_leaf=17, min_samples_split=12, n_jobs=-1, random_state=1;, score=-0.292 total time=   0.9s\n",
      "[CV 1/5] END bootstrap=False, criterion=squared_error, max_depth=5, max_features=log2, min_samples_leaf=19, min_samples_split=13, n_jobs=-1, random_state=1;, score=-0.301 total time=   0.7s\n",
      "[CV 2/5] END bootstrap=False, criterion=squared_error, max_depth=5, max_features=log2, min_samples_leaf=19, min_samples_split=13, n_jobs=-1, random_state=1;, score=-0.296 total time=   0.7s\n",
      "[CV 3/5] END bootstrap=False, criterion=squared_error, max_depth=5, max_features=log2, min_samples_leaf=19, min_samples_split=13, n_jobs=-1, random_state=1;, score=-0.300 total time=   0.7s\n",
      "[CV 4/5] END bootstrap=False, criterion=squared_error, max_depth=5, max_features=log2, min_samples_leaf=19, min_samples_split=13, n_jobs=-1, random_state=1;, score=-0.309 total time=   0.7s\n",
      "[CV 5/5] END bootstrap=False, criterion=squared_error, max_depth=5, max_features=log2, min_samples_leaf=19, min_samples_split=13, n_jobs=-1, random_state=1;, score=-0.314 total time=   0.7s\n",
      "[CV 1/5] END bootstrap=False, criterion=poisson, max_depth=21, max_features=sqrt, min_samples_leaf=8, min_samples_split=13, n_jobs=-1, random_state=1;, score=-0.228 total time=   2.3s\n",
      "[CV 2/5] END bootstrap=False, criterion=poisson, max_depth=21, max_features=sqrt, min_samples_leaf=8, min_samples_split=13, n_jobs=-1, random_state=1;, score=-0.222 total time=   2.3s\n",
      "[CV 3/5] END bootstrap=False, criterion=poisson, max_depth=21, max_features=sqrt, min_samples_leaf=8, min_samples_split=13, n_jobs=-1, random_state=1;, score=-0.230 total time=   2.4s\n",
      "[CV 4/5] END bootstrap=False, criterion=poisson, max_depth=21, max_features=sqrt, min_samples_leaf=8, min_samples_split=13, n_jobs=-1, random_state=1;, score=-0.236 total time=   2.4s\n",
      "[CV 5/5] END bootstrap=False, criterion=poisson, max_depth=21, max_features=sqrt, min_samples_leaf=8, min_samples_split=13, n_jobs=-1, random_state=1;, score=-0.244 total time=   2.2s\n",
      "[CV 1/5] END bootstrap=True, criterion=friedman_mse, max_depth=16, max_features=log2, min_samples_leaf=9, min_samples_split=20, n_jobs=-1, random_state=1;, score=-0.257 total time=   0.8s\n",
      "[CV 2/5] END bootstrap=True, criterion=friedman_mse, max_depth=16, max_features=log2, min_samples_leaf=9, min_samples_split=20, n_jobs=-1, random_state=1;, score=-0.252 total time=   0.8s\n"
     ]
    },
    {
     "name": "stdout",
     "output_type": "stream",
     "text": [
      "[CV 3/5] END bootstrap=True, criterion=friedman_mse, max_depth=16, max_features=log2, min_samples_leaf=9, min_samples_split=20, n_jobs=-1, random_state=1;, score=-0.258 total time=   0.9s\n",
      "[CV 4/5] END bootstrap=True, criterion=friedman_mse, max_depth=16, max_features=log2, min_samples_leaf=9, min_samples_split=20, n_jobs=-1, random_state=1;, score=-0.265 total time=   0.8s\n",
      "[CV 5/5] END bootstrap=True, criterion=friedman_mse, max_depth=16, max_features=log2, min_samples_leaf=9, min_samples_split=20, n_jobs=-1, random_state=1;, score=-0.272 total time=   0.8s\n",
      "[CV 1/5] END bootstrap=True, criterion=squared_error, max_depth=8, max_features=None, min_samples_leaf=23, min_samples_split=11, n_jobs=-1, random_state=1;, score=-0.223 total time=  13.3s\n",
      "[CV 2/5] END bootstrap=True, criterion=squared_error, max_depth=8, max_features=None, min_samples_leaf=23, min_samples_split=11, n_jobs=-1, random_state=1;, score=-0.220 total time=  13.3s\n",
      "[CV 3/5] END bootstrap=True, criterion=squared_error, max_depth=8, max_features=None, min_samples_leaf=23, min_samples_split=11, n_jobs=-1, random_state=1;, score=-0.223 total time=  13.1s\n",
      "[CV 4/5] END bootstrap=True, criterion=squared_error, max_depth=8, max_features=None, min_samples_leaf=23, min_samples_split=11, n_jobs=-1, random_state=1;, score=-0.236 total time=  13.7s\n",
      "[CV 5/5] END bootstrap=True, criterion=squared_error, max_depth=8, max_features=None, min_samples_leaf=23, min_samples_split=11, n_jobs=-1, random_state=1;, score=-0.244 total time=  14.7s\n",
      "[CV 1/5] END bootstrap=True, criterion=poisson, max_depth=27, max_features=log2, min_samples_leaf=28, min_samples_split=27, n_jobs=-1, random_state=1;, score=-0.270 total time=   0.8s\n",
      "[CV 2/5] END bootstrap=True, criterion=poisson, max_depth=27, max_features=log2, min_samples_leaf=28, min_samples_split=27, n_jobs=-1, random_state=1;, score=-0.262 total time=   0.9s\n",
      "[CV 3/5] END bootstrap=True, criterion=poisson, max_depth=27, max_features=log2, min_samples_leaf=28, min_samples_split=27, n_jobs=-1, random_state=1;, score=-0.268 total time=   0.8s\n",
      "[CV 4/5] END bootstrap=True, criterion=poisson, max_depth=27, max_features=log2, min_samples_leaf=28, min_samples_split=27, n_jobs=-1, random_state=1;, score=-0.277 total time=   0.8s\n",
      "[CV 5/5] END bootstrap=True, criterion=poisson, max_depth=27, max_features=log2, min_samples_leaf=28, min_samples_split=27, n_jobs=-1, random_state=1;, score=-0.284 total time=   0.8s\n",
      "[CV 1/5] END bootstrap=False, criterion=poisson, max_depth=15, max_features=None, min_samples_leaf=14, min_samples_split=27, n_jobs=-1, random_state=1;, score=-0.242 total time=  28.8s\n",
      "[CV 2/5] END bootstrap=False, criterion=poisson, max_depth=15, max_features=None, min_samples_leaf=14, min_samples_split=27, n_jobs=-1, random_state=1;, score=-0.241 total time=  28.4s\n",
      "[CV 3/5] END bootstrap=False, criterion=poisson, max_depth=15, max_features=None, min_samples_leaf=14, min_samples_split=27, n_jobs=-1, random_state=1;, score=-0.248 total time=  27.9s\n",
      "[CV 4/5] END bootstrap=False, criterion=poisson, max_depth=15, max_features=None, min_samples_leaf=14, min_samples_split=27, n_jobs=-1, random_state=1;, score=-0.255 total time=  27.8s\n",
      "[CV 5/5] END bootstrap=False, criterion=poisson, max_depth=15, max_features=None, min_samples_leaf=14, min_samples_split=27, n_jobs=-1, random_state=1;, score=-0.267 total time=  28.1s\n",
      "[CV 1/5] END bootstrap=True, criterion=poisson, max_depth=21, max_features=sqrt, min_samples_leaf=10, min_samples_split=21, n_jobs=-1, random_state=1;, score=-0.233 total time=   1.4s\n",
      "[CV 2/5] END bootstrap=True, criterion=poisson, max_depth=21, max_features=sqrt, min_samples_leaf=10, min_samples_split=21, n_jobs=-1, random_state=1;, score=-0.227 total time=   1.4s\n",
      "[CV 3/5] END bootstrap=True, criterion=poisson, max_depth=21, max_features=sqrt, min_samples_leaf=10, min_samples_split=21, n_jobs=-1, random_state=1;, score=-0.233 total time=   1.5s\n",
      "[CV 4/5] END bootstrap=True, criterion=poisson, max_depth=21, max_features=sqrt, min_samples_leaf=10, min_samples_split=21, n_jobs=-1, random_state=1;, score=-0.242 total time=   1.4s\n",
      "[CV 5/5] END bootstrap=True, criterion=poisson, max_depth=21, max_features=sqrt, min_samples_leaf=10, min_samples_split=21, n_jobs=-1, random_state=1;, score=-0.248 total time=   1.5s\n",
      "[CV 1/5] END bootstrap=False, criterion=poisson, max_depth=6, max_features=sqrt, min_samples_leaf=2, min_samples_split=26, n_jobs=-1, random_state=1;, score=-0.265 total time=   1.4s\n",
      "[CV 2/5] END bootstrap=False, criterion=poisson, max_depth=6, max_features=sqrt, min_samples_leaf=2, min_samples_split=26, n_jobs=-1, random_state=1;, score=-0.258 total time=   1.3s\n",
      "[CV 3/5] END bootstrap=False, criterion=poisson, max_depth=6, max_features=sqrt, min_samples_leaf=2, min_samples_split=26, n_jobs=-1, random_state=1;, score=-0.263 total time=   1.4s\n",
      "[CV 4/5] END bootstrap=False, criterion=poisson, max_depth=6, max_features=sqrt, min_samples_leaf=2, min_samples_split=26, n_jobs=-1, random_state=1;, score=-0.274 total time=   1.3s\n",
      "[CV 5/5] END bootstrap=False, criterion=poisson, max_depth=6, max_features=sqrt, min_samples_leaf=2, min_samples_split=26, n_jobs=-1, random_state=1;, score=-0.280 total time=   1.3s\n",
      "[CV 1/5] END bootstrap=False, criterion=poisson, max_depth=18, max_features=None, min_samples_leaf=25, min_samples_split=15, n_jobs=-1, random_state=1;, score=-0.236 total time=  25.7s\n",
      "[CV 2/5] END bootstrap=False, criterion=poisson, max_depth=18, max_features=None, min_samples_leaf=25, min_samples_split=15, n_jobs=-1, random_state=1;, score=-0.230 total time=  26.4s\n",
      "[CV 3/5] END bootstrap=False, criterion=poisson, max_depth=18, max_features=None, min_samples_leaf=25, min_samples_split=15, n_jobs=-1, random_state=1;, score=-0.238 total time=  26.8s\n",
      "[CV 4/5] END bootstrap=False, criterion=poisson, max_depth=18, max_features=None, min_samples_leaf=25, min_samples_split=15, n_jobs=-1, random_state=1;, score=-0.252 total time=  26.1s\n",
      "[CV 5/5] END bootstrap=False, criterion=poisson, max_depth=18, max_features=None, min_samples_leaf=25, min_samples_split=15, n_jobs=-1, random_state=1;, score=-0.261 total time=  26.3s\n",
      "[CV 1/5] END bootstrap=True, criterion=friedman_mse, max_depth=29, max_features=sqrt, min_samples_leaf=28, min_samples_split=5, n_jobs=-1, random_state=1;, score=-0.245 total time=   1.3s\n",
      "[CV 2/5] END bootstrap=True, criterion=friedman_mse, max_depth=29, max_features=sqrt, min_samples_leaf=28, min_samples_split=5, n_jobs=-1, random_state=1;, score=-0.239 total time=   1.2s\n",
      "[CV 3/5] END bootstrap=True, criterion=friedman_mse, max_depth=29, max_features=sqrt, min_samples_leaf=28, min_samples_split=5, n_jobs=-1, random_state=1;, score=-0.245 total time=   1.2s\n",
      "[CV 4/5] END bootstrap=True, criterion=friedman_mse, max_depth=29, max_features=sqrt, min_samples_leaf=28, min_samples_split=5, n_jobs=-1, random_state=1;, score=-0.254 total time=   1.3s\n",
      "[CV 5/5] END bootstrap=True, criterion=friedman_mse, max_depth=29, max_features=sqrt, min_samples_leaf=28, min_samples_split=5, n_jobs=-1, random_state=1;, score=-0.261 total time=   1.2s\n",
      "[CV 1/5] END bootstrap=True, criterion=poisson, max_depth=2, max_features=log2, min_samples_leaf=17, min_samples_split=2, n_jobs=-1, random_state=1;, score=-0.341 total time=   0.5s\n",
      "[CV 2/5] END bootstrap=True, criterion=poisson, max_depth=2, max_features=log2, min_samples_leaf=17, min_samples_split=2, n_jobs=-1, random_state=1;, score=-0.329 total time=   0.6s\n",
      "[CV 3/5] END bootstrap=True, criterion=poisson, max_depth=2, max_features=log2, min_samples_leaf=17, min_samples_split=2, n_jobs=-1, random_state=1;, score=-0.336 total time=   0.6s\n",
      "[CV 4/5] END bootstrap=True, criterion=poisson, max_depth=2, max_features=log2, min_samples_leaf=17, min_samples_split=2, n_jobs=-1, random_state=1;, score=-0.344 total time=   0.6s\n",
      "[CV 5/5] END bootstrap=True, criterion=poisson, max_depth=2, max_features=log2, min_samples_leaf=17, min_samples_split=2, n_jobs=-1, random_state=1;, score=-0.348 total time=   0.5s\n",
      "[CV 1/5] END bootstrap=False, criterion=friedman_mse, max_depth=5, max_features=log2, min_samples_leaf=17, min_samples_split=14, n_jobs=-1, random_state=1;, score=-0.301 total time=   0.7s\n",
      "[CV 2/5] END bootstrap=False, criterion=friedman_mse, max_depth=5, max_features=log2, min_samples_leaf=17, min_samples_split=14, n_jobs=-1, random_state=1;, score=-0.294 total time=   0.8s\n"
     ]
    },
    {
     "name": "stdout",
     "output_type": "stream",
     "text": [
      "[CV 3/5] END bootstrap=False, criterion=friedman_mse, max_depth=5, max_features=log2, min_samples_leaf=17, min_samples_split=14, n_jobs=-1, random_state=1;, score=-0.299 total time=   0.7s\n",
      "[CV 4/5] END bootstrap=False, criterion=friedman_mse, max_depth=5, max_features=log2, min_samples_leaf=17, min_samples_split=14, n_jobs=-1, random_state=1;, score=-0.310 total time=   0.9s\n",
      "[CV 5/5] END bootstrap=False, criterion=friedman_mse, max_depth=5, max_features=log2, min_samples_leaf=17, min_samples_split=14, n_jobs=-1, random_state=1;, score=-0.314 total time=   0.9s\n",
      "[CV 1/5] END bootstrap=True, criterion=friedman_mse, max_depth=14, max_features=log2, min_samples_leaf=25, min_samples_split=23, n_jobs=-1, random_state=1;, score=-0.270 total time=   0.8s\n",
      "[CV 2/5] END bootstrap=True, criterion=friedman_mse, max_depth=14, max_features=log2, min_samples_leaf=25, min_samples_split=23, n_jobs=-1, random_state=1;, score=-0.263 total time=   0.8s\n",
      "[CV 3/5] END bootstrap=True, criterion=friedman_mse, max_depth=14, max_features=log2, min_samples_leaf=25, min_samples_split=23, n_jobs=-1, random_state=1;, score=-0.268 total time=   0.8s\n",
      "[CV 4/5] END bootstrap=True, criterion=friedman_mse, max_depth=14, max_features=log2, min_samples_leaf=25, min_samples_split=23, n_jobs=-1, random_state=1;, score=-0.278 total time=   0.9s\n",
      "[CV 5/5] END bootstrap=True, criterion=friedman_mse, max_depth=14, max_features=log2, min_samples_leaf=25, min_samples_split=23, n_jobs=-1, random_state=1;, score=-0.284 total time=   0.8s\n",
      "[CV 1/5] END bootstrap=True, criterion=squared_error, max_depth=13, max_features=None, min_samples_leaf=26, min_samples_split=4, n_jobs=-1, random_state=1;, score=-0.220 total time=  15.6s\n",
      "[CV 2/5] END bootstrap=True, criterion=squared_error, max_depth=13, max_features=None, min_samples_leaf=26, min_samples_split=4, n_jobs=-1, random_state=1;, score=-0.215 total time=  15.5s\n",
      "[CV 3/5] END bootstrap=True, criterion=squared_error, max_depth=13, max_features=None, min_samples_leaf=26, min_samples_split=4, n_jobs=-1, random_state=1;, score=-0.219 total time=  15.4s\n",
      "[CV 4/5] END bootstrap=True, criterion=squared_error, max_depth=13, max_features=None, min_samples_leaf=26, min_samples_split=4, n_jobs=-1, random_state=1;, score=-0.231 total time=  15.4s\n",
      "[CV 5/5] END bootstrap=True, criterion=squared_error, max_depth=13, max_features=None, min_samples_leaf=26, min_samples_split=4, n_jobs=-1, random_state=1;, score=-0.239 total time=  15.7s\n",
      "[CV 1/5] END bootstrap=False, criterion=poisson, max_depth=29, max_features=sqrt, min_samples_leaf=17, min_samples_split=29, n_jobs=-1, random_state=1;, score=-0.233 total time=   2.0s\n",
      "[CV 2/5] END bootstrap=False, criterion=poisson, max_depth=29, max_features=sqrt, min_samples_leaf=17, min_samples_split=29, n_jobs=-1, random_state=1;, score=-0.228 total time=   2.0s\n",
      "[CV 3/5] END bootstrap=False, criterion=poisson, max_depth=29, max_features=sqrt, min_samples_leaf=17, min_samples_split=29, n_jobs=-1, random_state=1;, score=-0.234 total time=   2.1s\n",
      "[CV 4/5] END bootstrap=False, criterion=poisson, max_depth=29, max_features=sqrt, min_samples_leaf=17, min_samples_split=29, n_jobs=-1, random_state=1;, score=-0.243 total time=   2.1s\n",
      "[CV 5/5] END bootstrap=False, criterion=poisson, max_depth=29, max_features=sqrt, min_samples_leaf=17, min_samples_split=29, n_jobs=-1, random_state=1;, score=-0.249 total time=   1.9s\n",
      "[CV 1/5] END bootstrap=True, criterion=poisson, max_depth=6, max_features=None, min_samples_leaf=26, min_samples_split=27, n_jobs=-1, random_state=1;, score=-0.228 total time=  11.6s\n",
      "[CV 2/5] END bootstrap=True, criterion=poisson, max_depth=6, max_features=None, min_samples_leaf=26, min_samples_split=27, n_jobs=-1, random_state=1;, score=-0.225 total time=  11.6s\n",
      "[CV 3/5] END bootstrap=True, criterion=poisson, max_depth=6, max_features=None, min_samples_leaf=26, min_samples_split=27, n_jobs=-1, random_state=1;, score=-0.228 total time=  11.7s\n",
      "[CV 4/5] END bootstrap=True, criterion=poisson, max_depth=6, max_features=None, min_samples_leaf=26, min_samples_split=27, n_jobs=-1, random_state=1;, score=-0.242 total time=  11.5s\n",
      "[CV 5/5] END bootstrap=True, criterion=poisson, max_depth=6, max_features=None, min_samples_leaf=26, min_samples_split=27, n_jobs=-1, random_state=1;, score=-0.250 total time=  11.5s\n",
      "[CV 1/5] END bootstrap=False, criterion=squared_error, max_depth=6, max_features=log2, min_samples_leaf=19, min_samples_split=5, n_jobs=-1, random_state=1;, score=-0.293 total time=   0.8s\n",
      "[CV 2/5] END bootstrap=False, criterion=squared_error, max_depth=6, max_features=log2, min_samples_leaf=19, min_samples_split=5, n_jobs=-1, random_state=1;, score=-0.286 total time=   0.9s\n",
      "[CV 3/5] END bootstrap=False, criterion=squared_error, max_depth=6, max_features=log2, min_samples_leaf=19, min_samples_split=5, n_jobs=-1, random_state=1;, score=-0.293 total time=   0.8s\n",
      "[CV 4/5] END bootstrap=False, criterion=squared_error, max_depth=6, max_features=log2, min_samples_leaf=19, min_samples_split=5, n_jobs=-1, random_state=1;, score=-0.300 total time=   0.9s\n",
      "[CV 5/5] END bootstrap=False, criterion=squared_error, max_depth=6, max_features=log2, min_samples_leaf=19, min_samples_split=5, n_jobs=-1, random_state=1;, score=-0.305 total time=   0.9s\n",
      "[CV 1/5] END bootstrap=False, criterion=poisson, max_depth=25, max_features=log2, min_samples_leaf=22, min_samples_split=20, n_jobs=-1, random_state=1;, score=-0.262 total time=   1.0s\n",
      "[CV 2/5] END bootstrap=False, criterion=poisson, max_depth=25, max_features=log2, min_samples_leaf=22, min_samples_split=20, n_jobs=-1, random_state=1;, score=-0.252 total time=   1.1s\n",
      "[CV 3/5] END bootstrap=False, criterion=poisson, max_depth=25, max_features=log2, min_samples_leaf=22, min_samples_split=20, n_jobs=-1, random_state=1;, score=-0.262 total time=   1.1s\n",
      "[CV 4/5] END bootstrap=False, criterion=poisson, max_depth=25, max_features=log2, min_samples_leaf=22, min_samples_split=20, n_jobs=-1, random_state=1;, score=-0.270 total time=   1.2s\n",
      "[CV 5/5] END bootstrap=False, criterion=poisson, max_depth=25, max_features=log2, min_samples_leaf=22, min_samples_split=20, n_jobs=-1, random_state=1;, score=-0.273 total time=   1.1s\n",
      "[CV 1/5] END bootstrap=False, criterion=poisson, max_depth=5, max_features=log2, min_samples_leaf=26, min_samples_split=9, n_jobs=-1, random_state=1;, score=-0.298 total time=   0.8s\n",
      "[CV 2/5] END bootstrap=False, criterion=poisson, max_depth=5, max_features=log2, min_samples_leaf=26, min_samples_split=9, n_jobs=-1, random_state=1;, score=-0.292 total time=   0.8s\n",
      "[CV 3/5] END bootstrap=False, criterion=poisson, max_depth=5, max_features=log2, min_samples_leaf=26, min_samples_split=9, n_jobs=-1, random_state=1;, score=-0.299 total time=   0.7s\n",
      "[CV 4/5] END bootstrap=False, criterion=poisson, max_depth=5, max_features=log2, min_samples_leaf=26, min_samples_split=9, n_jobs=-1, random_state=1;, score=-0.309 total time=   0.8s\n",
      "[CV 5/5] END bootstrap=False, criterion=poisson, max_depth=5, max_features=log2, min_samples_leaf=26, min_samples_split=9, n_jobs=-1, random_state=1;, score=-0.313 total time=   0.7s\n",
      "[CV 1/5] END bootstrap=False, criterion=friedman_mse, max_depth=29, max_features=None, min_samples_leaf=19, min_samples_split=16, n_jobs=-1, random_state=1;, score=-0.239 total time=  24.9s\n",
      "[CV 2/5] END bootstrap=False, criterion=friedman_mse, max_depth=29, max_features=None, min_samples_leaf=19, min_samples_split=16, n_jobs=-1, random_state=1;, score=-0.239 total time=  25.9s\n",
      "[CV 3/5] END bootstrap=False, criterion=friedman_mse, max_depth=29, max_features=None, min_samples_leaf=19, min_samples_split=16, n_jobs=-1, random_state=1;, score=-0.243 total time=  25.8s\n",
      "[CV 4/5] END bootstrap=False, criterion=friedman_mse, max_depth=29, max_features=None, min_samples_leaf=19, min_samples_split=16, n_jobs=-1, random_state=1;, score=-0.251 total time=  27.1s\n",
      "[CV 5/5] END bootstrap=False, criterion=friedman_mse, max_depth=29, max_features=None, min_samples_leaf=19, min_samples_split=16, n_jobs=-1, random_state=1;, score=-0.261 total time=  25.5s\n",
      "[CV 1/5] END bootstrap=True, criterion=friedman_mse, max_depth=6, max_features=sqrt, min_samples_leaf=5, min_samples_split=22, n_jobs=-1, random_state=1;, score=-0.272 total time=   1.1s\n"
     ]
    },
    {
     "name": "stdout",
     "output_type": "stream",
     "text": [
      "[CV 2/5] END bootstrap=True, criterion=friedman_mse, max_depth=6, max_features=sqrt, min_samples_leaf=5, min_samples_split=22, n_jobs=-1, random_state=1;, score=-0.261 total time=   1.0s\n",
      "[CV 3/5] END bootstrap=True, criterion=friedman_mse, max_depth=6, max_features=sqrt, min_samples_leaf=5, min_samples_split=22, n_jobs=-1, random_state=1;, score=-0.267 total time=   0.9s\n",
      "[CV 4/5] END bootstrap=True, criterion=friedman_mse, max_depth=6, max_features=sqrt, min_samples_leaf=5, min_samples_split=22, n_jobs=-1, random_state=1;, score=-0.276 total time=   1.0s\n",
      "[CV 5/5] END bootstrap=True, criterion=friedman_mse, max_depth=6, max_features=sqrt, min_samples_leaf=5, min_samples_split=22, n_jobs=-1, random_state=1;, score=-0.283 total time=   0.9s\n",
      "[CV 1/5] END bootstrap=True, criterion=squared_error, max_depth=2, max_features=log2, min_samples_leaf=11, min_samples_split=12, n_jobs=-1, random_state=1;, score=-0.342 total time=   0.5s\n",
      "[CV 2/5] END bootstrap=True, criterion=squared_error, max_depth=2, max_features=log2, min_samples_leaf=11, min_samples_split=12, n_jobs=-1, random_state=1;, score=-0.329 total time=   0.5s\n",
      "[CV 3/5] END bootstrap=True, criterion=squared_error, max_depth=2, max_features=log2, min_samples_leaf=11, min_samples_split=12, n_jobs=-1, random_state=1;, score=-0.337 total time=   0.5s\n",
      "[CV 4/5] END bootstrap=True, criterion=squared_error, max_depth=2, max_features=log2, min_samples_leaf=11, min_samples_split=12, n_jobs=-1, random_state=1;, score=-0.345 total time=   0.5s\n",
      "[CV 5/5] END bootstrap=True, criterion=squared_error, max_depth=2, max_features=log2, min_samples_leaf=11, min_samples_split=12, n_jobs=-1, random_state=1;, score=-0.349 total time=   0.5s\n",
      "[CV 1/5] END bootstrap=True, criterion=friedman_mse, max_depth=21, max_features=None, min_samples_leaf=12, min_samples_split=3, n_jobs=-1, random_state=1;, score=-0.216 total time=  16.9s\n",
      "[CV 2/5] END bootstrap=True, criterion=friedman_mse, max_depth=21, max_features=None, min_samples_leaf=12, min_samples_split=3, n_jobs=-1, random_state=1;, score=-0.212 total time=  17.3s\n",
      "[CV 3/5] END bootstrap=True, criterion=friedman_mse, max_depth=21, max_features=None, min_samples_leaf=12, min_samples_split=3, n_jobs=-1, random_state=1;, score=-0.216 total time=  17.4s\n",
      "[CV 4/5] END bootstrap=True, criterion=friedman_mse, max_depth=21, max_features=None, min_samples_leaf=12, min_samples_split=3, n_jobs=-1, random_state=1;, score=-0.228 total time=  17.2s\n",
      "[CV 5/5] END bootstrap=True, criterion=friedman_mse, max_depth=21, max_features=None, min_samples_leaf=12, min_samples_split=3, n_jobs=-1, random_state=1;, score=-0.235 total time=  17.4s\n",
      "[CV 1/5] END bootstrap=True, criterion=poisson, max_depth=9, max_features=None, min_samples_leaf=29, min_samples_split=5, n_jobs=-1, random_state=1;, score=-0.222 total time=  14.3s\n",
      "[CV 2/5] END bootstrap=True, criterion=poisson, max_depth=9, max_features=None, min_samples_leaf=29, min_samples_split=5, n_jobs=-1, random_state=1;, score=-0.216 total time=  14.3s\n",
      "[CV 3/5] END bootstrap=True, criterion=poisson, max_depth=9, max_features=None, min_samples_leaf=29, min_samples_split=5, n_jobs=-1, random_state=1;, score=-0.222 total time=  14.3s\n",
      "[CV 4/5] END bootstrap=True, criterion=poisson, max_depth=9, max_features=None, min_samples_leaf=29, min_samples_split=5, n_jobs=-1, random_state=1;, score=-0.234 total time=  14.7s\n",
      "[CV 5/5] END bootstrap=True, criterion=poisson, max_depth=9, max_features=None, min_samples_leaf=29, min_samples_split=5, n_jobs=-1, random_state=1;, score=-0.242 total time=  14.8s\n",
      "[CV 1/5] END bootstrap=False, criterion=squared_error, max_depth=9, max_features=sqrt, min_samples_leaf=5, min_samples_split=28, n_jobs=-1, random_state=1;, score=-0.246 total time=   1.6s\n",
      "[CV 2/5] END bootstrap=False, criterion=squared_error, max_depth=9, max_features=sqrt, min_samples_leaf=5, min_samples_split=28, n_jobs=-1, random_state=1;, score=-0.242 total time=   1.6s\n",
      "[CV 3/5] END bootstrap=False, criterion=squared_error, max_depth=9, max_features=sqrt, min_samples_leaf=5, min_samples_split=28, n_jobs=-1, random_state=1;, score=-0.245 total time=   1.6s\n",
      "[CV 4/5] END bootstrap=False, criterion=squared_error, max_depth=9, max_features=sqrt, min_samples_leaf=5, min_samples_split=28, n_jobs=-1, random_state=1;, score=-0.255 total time=   1.5s\n",
      "[CV 5/5] END bootstrap=False, criterion=squared_error, max_depth=9, max_features=sqrt, min_samples_leaf=5, min_samples_split=28, n_jobs=-1, random_state=1;, score=-0.260 total time=   1.5s\n",
      "[CV 1/5] END bootstrap=False, criterion=squared_error, max_depth=19, max_features=log2, min_samples_leaf=21, min_samples_split=5, n_jobs=-1, random_state=1;, score=-0.263 total time=   1.0s\n",
      "[CV 2/5] END bootstrap=False, criterion=squared_error, max_depth=19, max_features=log2, min_samples_leaf=21, min_samples_split=5, n_jobs=-1, random_state=1;, score=-0.254 total time=   1.1s\n",
      "[CV 3/5] END bootstrap=False, criterion=squared_error, max_depth=19, max_features=log2, min_samples_leaf=21, min_samples_split=5, n_jobs=-1, random_state=1;, score=-0.262 total time=   1.1s\n",
      "[CV 4/5] END bootstrap=False, criterion=squared_error, max_depth=19, max_features=log2, min_samples_leaf=21, min_samples_split=5, n_jobs=-1, random_state=1;, score=-0.268 total time=   1.0s\n",
      "[CV 5/5] END bootstrap=False, criterion=squared_error, max_depth=19, max_features=log2, min_samples_leaf=21, min_samples_split=5, n_jobs=-1, random_state=1;, score=-0.276 total time=   1.1s\n",
      "[CV 1/5] END bootstrap=True, criterion=friedman_mse, max_depth=17, max_features=sqrt, min_samples_leaf=23, min_samples_split=10, n_jobs=-1, random_state=1;, score=-0.244 total time=   1.2s\n",
      "[CV 2/5] END bootstrap=True, criterion=friedman_mse, max_depth=17, max_features=sqrt, min_samples_leaf=23, min_samples_split=10, n_jobs=-1, random_state=1;, score=-0.236 total time=   1.3s\n",
      "[CV 3/5] END bootstrap=True, criterion=friedman_mse, max_depth=17, max_features=sqrt, min_samples_leaf=23, min_samples_split=10, n_jobs=-1, random_state=1;, score=-0.242 total time=   1.3s\n",
      "[CV 4/5] END bootstrap=True, criterion=friedman_mse, max_depth=17, max_features=sqrt, min_samples_leaf=23, min_samples_split=10, n_jobs=-1, random_state=1;, score=-0.251 total time=   1.3s\n",
      "[CV 5/5] END bootstrap=True, criterion=friedman_mse, max_depth=17, max_features=sqrt, min_samples_leaf=23, min_samples_split=10, n_jobs=-1, random_state=1;, score=-0.258 total time=   1.3s\n",
      "[CV 1/5] END bootstrap=True, criterion=friedman_mse, max_depth=8, max_features=None, min_samples_leaf=21, min_samples_split=9, n_jobs=-1, random_state=1;, score=-0.223 total time=  13.3s\n",
      "[CV 2/5] END bootstrap=True, criterion=friedman_mse, max_depth=8, max_features=None, min_samples_leaf=21, min_samples_split=9, n_jobs=-1, random_state=1;, score=-0.220 total time=  13.6s\n",
      "[CV 3/5] END bootstrap=True, criterion=friedman_mse, max_depth=8, max_features=None, min_samples_leaf=21, min_samples_split=9, n_jobs=-1, random_state=1;, score=-0.223 total time=  13.1s\n",
      "[CV 4/5] END bootstrap=True, criterion=friedman_mse, max_depth=8, max_features=None, min_samples_leaf=21, min_samples_split=9, n_jobs=-1, random_state=1;, score=-0.236 total time=  13.4s\n",
      "[CV 5/5] END bootstrap=True, criterion=friedman_mse, max_depth=8, max_features=None, min_samples_leaf=21, min_samples_split=9, n_jobs=-1, random_state=1;, score=-0.244 total time=  13.5s\n",
      "[CV 1/5] END bootstrap=False, criterion=poisson, max_depth=7, max_features=None, min_samples_leaf=14, min_samples_split=7, n_jobs=-1, random_state=1;, score=-0.233 total time=  19.0s\n",
      "[CV 2/5] END bootstrap=False, criterion=poisson, max_depth=7, max_features=None, min_samples_leaf=14, min_samples_split=7, n_jobs=-1, random_state=1;, score=-0.232 total time=  19.0s\n",
      "[CV 3/5] END bootstrap=False, criterion=poisson, max_depth=7, max_features=None, min_samples_leaf=14, min_samples_split=7, n_jobs=-1, random_state=1;, score=-0.239 total time=  18.9s\n",
      "[CV 4/5] END bootstrap=False, criterion=poisson, max_depth=7, max_features=None, min_samples_leaf=14, min_samples_split=7, n_jobs=-1, random_state=1;, score=-0.247 total time=  19.0s\n",
      "[CV 5/5] END bootstrap=False, criterion=poisson, max_depth=7, max_features=None, min_samples_leaf=14, min_samples_split=7, n_jobs=-1, random_state=1;, score=-0.256 total time=  19.0s\n"
     ]
    },
    {
     "name": "stdout",
     "output_type": "stream",
     "text": [
      "[CV 1/5] END bootstrap=True, criterion=squared_error, max_depth=10, max_features=None, min_samples_leaf=16, min_samples_split=19, n_jobs=-1, random_state=1;, score=-0.219 total time=  14.5s\n",
      "[CV 2/5] END bootstrap=True, criterion=squared_error, max_depth=10, max_features=None, min_samples_leaf=16, min_samples_split=19, n_jobs=-1, random_state=1;, score=-0.216 total time=  14.8s\n",
      "[CV 3/5] END bootstrap=True, criterion=squared_error, max_depth=10, max_features=None, min_samples_leaf=16, min_samples_split=19, n_jobs=-1, random_state=1;, score=-0.219 total time=  14.6s\n",
      "[CV 4/5] END bootstrap=True, criterion=squared_error, max_depth=10, max_features=None, min_samples_leaf=16, min_samples_split=19, n_jobs=-1, random_state=1;, score=-0.232 total time=  14.8s\n",
      "[CV 5/5] END bootstrap=True, criterion=squared_error, max_depth=10, max_features=None, min_samples_leaf=16, min_samples_split=19, n_jobs=-1, random_state=1;, score=-0.240 total time=  14.8s\n",
      "[CV 1/5] END bootstrap=True, criterion=squared_error, max_depth=6, max_features=log2, min_samples_leaf=24, min_samples_split=29, n_jobs=-1, random_state=1;, score=-0.295 total time=   0.6s\n",
      "[CV 2/5] END bootstrap=True, criterion=squared_error, max_depth=6, max_features=log2, min_samples_leaf=24, min_samples_split=29, n_jobs=-1, random_state=1;, score=-0.287 total time=   0.7s\n",
      "[CV 3/5] END bootstrap=True, criterion=squared_error, max_depth=6, max_features=log2, min_samples_leaf=24, min_samples_split=29, n_jobs=-1, random_state=1;, score=-0.295 total time=   0.6s\n",
      "[CV 4/5] END bootstrap=True, criterion=squared_error, max_depth=6, max_features=log2, min_samples_leaf=24, min_samples_split=29, n_jobs=-1, random_state=1;, score=-0.303 total time=   0.6s\n",
      "[CV 5/5] END bootstrap=True, criterion=squared_error, max_depth=6, max_features=log2, min_samples_leaf=24, min_samples_split=29, n_jobs=-1, random_state=1;, score=-0.307 total time=   0.6s\n",
      "[CV 1/5] END bootstrap=False, criterion=poisson, max_depth=8, max_features=log2, min_samples_leaf=21, min_samples_split=6, n_jobs=-1, random_state=1;, score=-0.279 total time=   0.9s\n",
      "[CV 2/5] END bootstrap=False, criterion=poisson, max_depth=8, max_features=log2, min_samples_leaf=21, min_samples_split=6, n_jobs=-1, random_state=1;, score=-0.269 total time=   0.9s\n",
      "[CV 3/5] END bootstrap=False, criterion=poisson, max_depth=8, max_features=log2, min_samples_leaf=21, min_samples_split=6, n_jobs=-1, random_state=1;, score=-0.275 total time=   1.0s\n",
      "[CV 4/5] END bootstrap=False, criterion=poisson, max_depth=8, max_features=log2, min_samples_leaf=21, min_samples_split=6, n_jobs=-1, random_state=1;, score=-0.288 total time=   1.0s\n",
      "[CV 5/5] END bootstrap=False, criterion=poisson, max_depth=8, max_features=log2, min_samples_leaf=21, min_samples_split=6, n_jobs=-1, random_state=1;, score=-0.291 total time=   1.0s\n",
      "[CV 1/5] END bootstrap=False, criterion=squared_error, max_depth=5, max_features=log2, min_samples_leaf=27, min_samples_split=6, n_jobs=-1, random_state=1;, score=-0.302 total time=   0.8s\n",
      "[CV 2/5] END bootstrap=False, criterion=squared_error, max_depth=5, max_features=log2, min_samples_leaf=27, min_samples_split=6, n_jobs=-1, random_state=1;, score=-0.296 total time=   0.7s\n",
      "[CV 3/5] END bootstrap=False, criterion=squared_error, max_depth=5, max_features=log2, min_samples_leaf=27, min_samples_split=6, n_jobs=-1, random_state=1;, score=-0.302 total time=   0.8s\n",
      "[CV 4/5] END bootstrap=False, criterion=squared_error, max_depth=5, max_features=log2, min_samples_leaf=27, min_samples_split=6, n_jobs=-1, random_state=1;, score=-0.311 total time=   0.7s\n",
      "[CV 5/5] END bootstrap=False, criterion=squared_error, max_depth=5, max_features=log2, min_samples_leaf=27, min_samples_split=6, n_jobs=-1, random_state=1;, score=-0.315 total time=   0.7s\n",
      "[CV 1/5] END bootstrap=True, criterion=poisson, max_depth=25, max_features=None, min_samples_leaf=17, min_samples_split=16, n_jobs=-1, random_state=1;, score=-0.217 total time=  17.7s\n",
      "[CV 2/5] END bootstrap=True, criterion=poisson, max_depth=25, max_features=None, min_samples_leaf=17, min_samples_split=16, n_jobs=-1, random_state=1;, score=-0.212 total time=  17.7s\n",
      "[CV 3/5] END bootstrap=True, criterion=poisson, max_depth=25, max_features=None, min_samples_leaf=17, min_samples_split=16, n_jobs=-1, random_state=1;, score=-0.218 total time=  17.6s\n",
      "[CV 4/5] END bootstrap=True, criterion=poisson, max_depth=25, max_features=None, min_samples_leaf=17, min_samples_split=16, n_jobs=-1, random_state=1;, score=-0.229 total time=  17.7s\n",
      "[CV 5/5] END bootstrap=True, criterion=poisson, max_depth=25, max_features=None, min_samples_leaf=17, min_samples_split=16, n_jobs=-1, random_state=1;, score=-0.237 total time=  17.7s\n",
      "[CV 1/5] END bootstrap=True, criterion=poisson, max_depth=16, max_features=log2, min_samples_leaf=5, min_samples_split=13, n_jobs=-1, random_state=1;, score=-0.251 total time=   0.8s\n",
      "[CV 2/5] END bootstrap=True, criterion=poisson, max_depth=16, max_features=log2, min_samples_leaf=5, min_samples_split=13, n_jobs=-1, random_state=1;, score=-0.245 total time=   1.0s\n",
      "[CV 3/5] END bootstrap=True, criterion=poisson, max_depth=16, max_features=log2, min_samples_leaf=5, min_samples_split=13, n_jobs=-1, random_state=1;, score=-0.253 total time=   1.0s\n",
      "[CV 4/5] END bootstrap=True, criterion=poisson, max_depth=16, max_features=log2, min_samples_leaf=5, min_samples_split=13, n_jobs=-1, random_state=1;, score=-0.261 total time=   0.9s\n",
      "[CV 5/5] END bootstrap=True, criterion=poisson, max_depth=16, max_features=log2, min_samples_leaf=5, min_samples_split=13, n_jobs=-1, random_state=1;, score=-0.267 total time=   0.9s\n",
      "[CV 1/5] END bootstrap=True, criterion=friedman_mse, max_depth=6, max_features=log2, min_samples_leaf=19, min_samples_split=5, n_jobs=-1, random_state=1;, score=-0.297 total time=   0.7s\n",
      "[CV 2/5] END bootstrap=True, criterion=friedman_mse, max_depth=6, max_features=log2, min_samples_leaf=19, min_samples_split=5, n_jobs=-1, random_state=1;, score=-0.287 total time=   0.6s\n",
      "[CV 3/5] END bootstrap=True, criterion=friedman_mse, max_depth=6, max_features=log2, min_samples_leaf=19, min_samples_split=5, n_jobs=-1, random_state=1;, score=-0.293 total time=   0.7s\n",
      "[CV 4/5] END bootstrap=True, criterion=friedman_mse, max_depth=6, max_features=log2, min_samples_leaf=19, min_samples_split=5, n_jobs=-1, random_state=1;, score=-0.303 total time=   0.6s\n",
      "[CV 5/5] END bootstrap=True, criterion=friedman_mse, max_depth=6, max_features=log2, min_samples_leaf=19, min_samples_split=5, n_jobs=-1, random_state=1;, score=-0.309 total time=   0.7s\n",
      "[CV 1/5] END bootstrap=True, criterion=friedman_mse, max_depth=12, max_features=sqrt, min_samples_leaf=20, min_samples_split=3, n_jobs=-1, random_state=1;, score=-0.245 total time=   1.3s\n",
      "[CV 2/5] END bootstrap=True, criterion=friedman_mse, max_depth=12, max_features=sqrt, min_samples_leaf=20, min_samples_split=3, n_jobs=-1, random_state=1;, score=-0.237 total time=   1.2s\n",
      "[CV 3/5] END bootstrap=True, criterion=friedman_mse, max_depth=12, max_features=sqrt, min_samples_leaf=20, min_samples_split=3, n_jobs=-1, random_state=1;, score=-0.243 total time=   1.2s\n",
      "[CV 4/5] END bootstrap=True, criterion=friedman_mse, max_depth=12, max_features=sqrt, min_samples_leaf=20, min_samples_split=3, n_jobs=-1, random_state=1;, score=-0.252 total time=   1.2s\n",
      "[CV 5/5] END bootstrap=True, criterion=friedman_mse, max_depth=12, max_features=sqrt, min_samples_leaf=20, min_samples_split=3, n_jobs=-1, random_state=1;, score=-0.259 total time=   1.2s\n",
      "[CV 1/5] END bootstrap=False, criterion=squared_error, max_depth=3, max_features=sqrt, min_samples_leaf=27, min_samples_split=29, n_jobs=-1, random_state=1;, score=-0.307 total time=   0.9s\n",
      "[CV 2/5] END bootstrap=False, criterion=squared_error, max_depth=3, max_features=sqrt, min_samples_leaf=27, min_samples_split=29, n_jobs=-1, random_state=1;, score=-0.296 total time=   0.9s\n",
      "[CV 3/5] END bootstrap=False, criterion=squared_error, max_depth=3, max_features=sqrt, min_samples_leaf=27, min_samples_split=29, n_jobs=-1, random_state=1;, score=-0.303 total time=   1.0s\n",
      "[CV 4/5] END bootstrap=False, criterion=squared_error, max_depth=3, max_features=sqrt, min_samples_leaf=27, min_samples_split=29, n_jobs=-1, random_state=1;, score=-0.311 total time=   1.0s\n"
     ]
    },
    {
     "name": "stdout",
     "output_type": "stream",
     "text": [
      "[CV 5/5] END bootstrap=False, criterion=squared_error, max_depth=3, max_features=sqrt, min_samples_leaf=27, min_samples_split=29, n_jobs=-1, random_state=1;, score=-0.317 total time=   1.0s\n",
      "[CV 1/5] END bootstrap=True, criterion=squared_error, max_depth=2, max_features=sqrt, min_samples_leaf=10, min_samples_split=21, n_jobs=-1, random_state=1;, score=-0.329 total time=   0.7s\n",
      "[CV 2/5] END bootstrap=True, criterion=squared_error, max_depth=2, max_features=sqrt, min_samples_leaf=10, min_samples_split=21, n_jobs=-1, random_state=1;, score=-0.314 total time=   0.7s\n",
      "[CV 3/5] END bootstrap=True, criterion=squared_error, max_depth=2, max_features=sqrt, min_samples_leaf=10, min_samples_split=21, n_jobs=-1, random_state=1;, score=-0.323 total time=   0.7s\n",
      "[CV 4/5] END bootstrap=True, criterion=squared_error, max_depth=2, max_features=sqrt, min_samples_leaf=10, min_samples_split=21, n_jobs=-1, random_state=1;, score=-0.329 total time=   0.6s\n",
      "[CV 5/5] END bootstrap=True, criterion=squared_error, max_depth=2, max_features=sqrt, min_samples_leaf=10, min_samples_split=21, n_jobs=-1, random_state=1;, score=-0.336 total time=   0.6s\n",
      "[CV 1/5] END bootstrap=False, criterion=friedman_mse, max_depth=21, max_features=None, min_samples_leaf=7, min_samples_split=16, n_jobs=-1, random_state=1;, score=-0.270 total time=  28.3s\n",
      "[CV 2/5] END bootstrap=False, criterion=friedman_mse, max_depth=21, max_features=None, min_samples_leaf=7, min_samples_split=16, n_jobs=-1, random_state=1;, score=-0.268 total time=  28.8s\n",
      "[CV 3/5] END bootstrap=False, criterion=friedman_mse, max_depth=21, max_features=None, min_samples_leaf=7, min_samples_split=16, n_jobs=-1, random_state=1;, score=-0.272 total time=  29.3s\n",
      "[CV 4/5] END bootstrap=False, criterion=friedman_mse, max_depth=21, max_features=None, min_samples_leaf=7, min_samples_split=16, n_jobs=-1, random_state=1;, score=-0.276 total time=  30.3s\n",
      "[CV 5/5] END bootstrap=False, criterion=friedman_mse, max_depth=21, max_features=None, min_samples_leaf=7, min_samples_split=16, n_jobs=-1, random_state=1;, score=-0.288 total time=  29.3s\n",
      "[CV 1/5] END bootstrap=False, criterion=squared_error, max_depth=11, max_features=None, min_samples_leaf=7, min_samples_split=20, n_jobs=-1, random_state=1;, score=-0.247 total time=  23.9s\n",
      "[CV 2/5] END bootstrap=False, criterion=squared_error, max_depth=11, max_features=None, min_samples_leaf=7, min_samples_split=20, n_jobs=-1, random_state=1;, score=-0.252 total time=  25.9s\n",
      "[CV 3/5] END bootstrap=False, criterion=squared_error, max_depth=11, max_features=None, min_samples_leaf=7, min_samples_split=20, n_jobs=-1, random_state=1;, score=-0.246 total time=  23.9s\n",
      "[CV 4/5] END bootstrap=False, criterion=squared_error, max_depth=11, max_features=None, min_samples_leaf=7, min_samples_split=20, n_jobs=-1, random_state=1;, score=-0.252 total time=  24.6s\n",
      "[CV 5/5] END bootstrap=False, criterion=squared_error, max_depth=11, max_features=None, min_samples_leaf=7, min_samples_split=20, n_jobs=-1, random_state=1;, score=-0.266 total time=  24.4s\n",
      "[CV 1/5] END bootstrap=False, criterion=squared_error, max_depth=24, max_features=log2, min_samples_leaf=26, min_samples_split=18, n_jobs=-1, random_state=1;, score=-0.262 total time=   1.0s\n",
      "[CV 2/5] END bootstrap=False, criterion=squared_error, max_depth=24, max_features=log2, min_samples_leaf=26, min_samples_split=18, n_jobs=-1, random_state=1;, score=-0.255 total time=   0.9s\n",
      "[CV 3/5] END bootstrap=False, criterion=squared_error, max_depth=24, max_features=log2, min_samples_leaf=26, min_samples_split=18, n_jobs=-1, random_state=1;, score=-0.265 total time=   1.0s\n",
      "[CV 4/5] END bootstrap=False, criterion=squared_error, max_depth=24, max_features=log2, min_samples_leaf=26, min_samples_split=18, n_jobs=-1, random_state=1;, score=-0.272 total time=   0.9s\n",
      "[CV 5/5] END bootstrap=False, criterion=squared_error, max_depth=24, max_features=log2, min_samples_leaf=26, min_samples_split=18, n_jobs=-1, random_state=1;, score=-0.278 total time=   0.9s\n",
      "[CV 1/5] END bootstrap=True, criterion=poisson, max_depth=18, max_features=sqrt, min_samples_leaf=14, min_samples_split=10, n_jobs=-1, random_state=1;, score=-0.237 total time=   1.5s\n",
      "[CV 2/5] END bootstrap=True, criterion=poisson, max_depth=18, max_features=sqrt, min_samples_leaf=14, min_samples_split=10, n_jobs=-1, random_state=1;, score=-0.231 total time=   1.3s\n",
      "[CV 3/5] END bootstrap=True, criterion=poisson, max_depth=18, max_features=sqrt, min_samples_leaf=14, min_samples_split=10, n_jobs=-1, random_state=1;, score=-0.238 total time=   1.5s\n",
      "[CV 4/5] END bootstrap=True, criterion=poisson, max_depth=18, max_features=sqrt, min_samples_leaf=14, min_samples_split=10, n_jobs=-1, random_state=1;, score=-0.246 total time=   1.5s\n",
      "[CV 5/5] END bootstrap=True, criterion=poisson, max_depth=18, max_features=sqrt, min_samples_leaf=14, min_samples_split=10, n_jobs=-1, random_state=1;, score=-0.253 total time=   1.5s\n",
      "[CV 1/5] END bootstrap=True, criterion=squared_error, max_depth=4, max_features=sqrt, min_samples_leaf=22, min_samples_split=9, n_jobs=-1, random_state=1;, score=-0.292 total time=   0.9s\n",
      "[CV 2/5] END bootstrap=True, criterion=squared_error, max_depth=4, max_features=sqrt, min_samples_leaf=22, min_samples_split=9, n_jobs=-1, random_state=1;, score=-0.279 total time=   0.8s\n",
      "[CV 3/5] END bootstrap=True, criterion=squared_error, max_depth=4, max_features=sqrt, min_samples_leaf=22, min_samples_split=9, n_jobs=-1, random_state=1;, score=-0.288 total time=   0.9s\n",
      "[CV 4/5] END bootstrap=True, criterion=squared_error, max_depth=4, max_features=sqrt, min_samples_leaf=22, min_samples_split=9, n_jobs=-1, random_state=1;, score=-0.294 total time=   0.8s\n",
      "[CV 5/5] END bootstrap=True, criterion=squared_error, max_depth=4, max_features=sqrt, min_samples_leaf=22, min_samples_split=9, n_jobs=-1, random_state=1;, score=-0.301 total time=   0.8s\n",
      "[CV 1/5] END bootstrap=False, criterion=friedman_mse, max_depth=7, max_features=sqrt, min_samples_leaf=24, min_samples_split=27, n_jobs=-1, random_state=1;, score=-0.260 total time=   1.4s\n",
      "[CV 2/5] END bootstrap=False, criterion=friedman_mse, max_depth=7, max_features=sqrt, min_samples_leaf=24, min_samples_split=27, n_jobs=-1, random_state=1;, score=-0.252 total time=   1.4s\n",
      "[CV 3/5] END bootstrap=False, criterion=friedman_mse, max_depth=7, max_features=sqrt, min_samples_leaf=24, min_samples_split=27, n_jobs=-1, random_state=1;, score=-0.259 total time=   1.3s\n",
      "[CV 4/5] END bootstrap=False, criterion=friedman_mse, max_depth=7, max_features=sqrt, min_samples_leaf=24, min_samples_split=27, n_jobs=-1, random_state=1;, score=-0.269 total time=   1.4s\n",
      "[CV 5/5] END bootstrap=False, criterion=friedman_mse, max_depth=7, max_features=sqrt, min_samples_leaf=24, min_samples_split=27, n_jobs=-1, random_state=1;, score=-0.276 total time=   1.5s\n",
      "[CV 1/5] END bootstrap=True, criterion=friedman_mse, max_depth=6, max_features=sqrt, min_samples_leaf=13, min_samples_split=27, n_jobs=-1, random_state=1;, score=-0.271 total time=   1.0s\n",
      "[CV 2/5] END bootstrap=True, criterion=friedman_mse, max_depth=6, max_features=sqrt, min_samples_leaf=13, min_samples_split=27, n_jobs=-1, random_state=1;, score=-0.259 total time=   1.1s\n",
      "[CV 3/5] END bootstrap=True, criterion=friedman_mse, max_depth=6, max_features=sqrt, min_samples_leaf=13, min_samples_split=27, n_jobs=-1, random_state=1;, score=-0.269 total time=   1.0s\n",
      "[CV 4/5] END bootstrap=True, criterion=friedman_mse, max_depth=6, max_features=sqrt, min_samples_leaf=13, min_samples_split=27, n_jobs=-1, random_state=1;, score=-0.276 total time=   1.1s\n",
      "[CV 5/5] END bootstrap=True, criterion=friedman_mse, max_depth=6, max_features=sqrt, min_samples_leaf=13, min_samples_split=27, n_jobs=-1, random_state=1;, score=-0.283 total time=   1.0s\n",
      "[CV 1/5] END bootstrap=False, criterion=friedman_mse, max_depth=23, max_features=log2, min_samples_leaf=24, min_samples_split=26, n_jobs=-1, random_state=1;, score=-0.262 total time=   0.9s\n",
      "[CV 2/5] END bootstrap=False, criterion=friedman_mse, max_depth=23, max_features=log2, min_samples_leaf=24, min_samples_split=26, n_jobs=-1, random_state=1;, score=-0.255 total time=   1.0s\n",
      "[CV 3/5] END bootstrap=False, criterion=friedman_mse, max_depth=23, max_features=log2, min_samples_leaf=24, min_samples_split=26, n_jobs=-1, random_state=1;, score=-0.263 total time=   1.0s\n"
     ]
    },
    {
     "name": "stdout",
     "output_type": "stream",
     "text": [
      "[CV 4/5] END bootstrap=False, criterion=friedman_mse, max_depth=23, max_features=log2, min_samples_leaf=24, min_samples_split=26, n_jobs=-1, random_state=1;, score=-0.270 total time=   1.0s\n",
      "[CV 5/5] END bootstrap=False, criterion=friedman_mse, max_depth=23, max_features=log2, min_samples_leaf=24, min_samples_split=26, n_jobs=-1, random_state=1;, score=-0.279 total time=   0.9s\n",
      "[CV 1/5] END bootstrap=True, criterion=friedman_mse, max_depth=22, max_features=None, min_samples_leaf=9, min_samples_split=22, n_jobs=-1, random_state=1;, score=-0.215 total time=  17.4s\n",
      "[CV 2/5] END bootstrap=True, criterion=friedman_mse, max_depth=22, max_features=None, min_samples_leaf=9, min_samples_split=22, n_jobs=-1, random_state=1;, score=-0.211 total time=  17.5s\n",
      "[CV 3/5] END bootstrap=True, criterion=friedman_mse, max_depth=22, max_features=None, min_samples_leaf=9, min_samples_split=22, n_jobs=-1, random_state=1;, score=-0.216 total time=  17.6s\n",
      "[CV 4/5] END bootstrap=True, criterion=friedman_mse, max_depth=22, max_features=None, min_samples_leaf=9, min_samples_split=22, n_jobs=-1, random_state=1;, score=-0.228 total time=  17.8s\n",
      "[CV 5/5] END bootstrap=True, criterion=friedman_mse, max_depth=22, max_features=None, min_samples_leaf=9, min_samples_split=22, n_jobs=-1, random_state=1;, score=-0.234 total time=  17.9s\n",
      "[CV 1/5] END bootstrap=True, criterion=squared_error, max_depth=16, max_features=sqrt, min_samples_leaf=12, min_samples_split=23, n_jobs=-1, random_state=1;, score=-0.237 total time=   1.2s\n",
      "[CV 2/5] END bootstrap=True, criterion=squared_error, max_depth=16, max_features=sqrt, min_samples_leaf=12, min_samples_split=23, n_jobs=-1, random_state=1;, score=-0.230 total time=   1.2s\n",
      "[CV 3/5] END bootstrap=True, criterion=squared_error, max_depth=16, max_features=sqrt, min_samples_leaf=12, min_samples_split=23, n_jobs=-1, random_state=1;, score=-0.237 total time=   1.2s\n",
      "[CV 4/5] END bootstrap=True, criterion=squared_error, max_depth=16, max_features=sqrt, min_samples_leaf=12, min_samples_split=23, n_jobs=-1, random_state=1;, score=-0.245 total time=   1.3s\n",
      "[CV 5/5] END bootstrap=True, criterion=squared_error, max_depth=16, max_features=sqrt, min_samples_leaf=12, min_samples_split=23, n_jobs=-1, random_state=1;, score=-0.252 total time=   1.2s\n",
      "[CV 1/5] END bootstrap=False, criterion=squared_error, max_depth=23, max_features=sqrt, min_samples_leaf=23, min_samples_split=12, n_jobs=-1, random_state=1;, score=-0.238 total time=   1.7s\n",
      "[CV 2/5] END bootstrap=False, criterion=squared_error, max_depth=23, max_features=sqrt, min_samples_leaf=23, min_samples_split=12, n_jobs=-1, random_state=1;, score=-0.232 total time=   1.7s\n",
      "[CV 3/5] END bootstrap=False, criterion=squared_error, max_depth=23, max_features=sqrt, min_samples_leaf=23, min_samples_split=12, n_jobs=-1, random_state=1;, score=-0.238 total time=   1.9s\n",
      "[CV 4/5] END bootstrap=False, criterion=squared_error, max_depth=23, max_features=sqrt, min_samples_leaf=23, min_samples_split=12, n_jobs=-1, random_state=1;, score=-0.247 total time=   1.7s\n",
      "[CV 5/5] END bootstrap=False, criterion=squared_error, max_depth=23, max_features=sqrt, min_samples_leaf=23, min_samples_split=12, n_jobs=-1, random_state=1;, score=-0.253 total time=   1.7s\n",
      "[CV 1/5] END bootstrap=False, criterion=friedman_mse, max_depth=24, max_features=sqrt, min_samples_leaf=26, min_samples_split=23, n_jobs=-1, random_state=1;, score=-0.239 total time=   1.7s\n",
      "[CV 2/5] END bootstrap=False, criterion=friedman_mse, max_depth=24, max_features=sqrt, min_samples_leaf=26, min_samples_split=23, n_jobs=-1, random_state=1;, score=-0.233 total time=   1.7s\n",
      "[CV 3/5] END bootstrap=False, criterion=friedman_mse, max_depth=24, max_features=sqrt, min_samples_leaf=26, min_samples_split=23, n_jobs=-1, random_state=1;, score=-0.239 total time=   1.8s\n",
      "[CV 4/5] END bootstrap=False, criterion=friedman_mse, max_depth=24, max_features=sqrt, min_samples_leaf=26, min_samples_split=23, n_jobs=-1, random_state=1;, score=-0.247 total time=   1.7s\n",
      "[CV 5/5] END bootstrap=False, criterion=friedman_mse, max_depth=24, max_features=sqrt, min_samples_leaf=26, min_samples_split=23, n_jobs=-1, random_state=1;, score=-0.254 total time=   1.8s\n",
      "[CV 1/5] END bootstrap=True, criterion=poisson, max_depth=28, max_features=log2, min_samples_leaf=16, min_samples_split=12, n_jobs=-1, random_state=1;, score=-0.262 total time=   0.8s\n",
      "[CV 2/5] END bootstrap=True, criterion=poisson, max_depth=28, max_features=log2, min_samples_leaf=16, min_samples_split=12, n_jobs=-1, random_state=1;, score=-0.253 total time=   0.8s\n",
      "[CV 3/5] END bootstrap=True, criterion=poisson, max_depth=28, max_features=log2, min_samples_leaf=16, min_samples_split=12, n_jobs=-1, random_state=1;, score=-0.261 total time=   0.8s\n",
      "[CV 4/5] END bootstrap=True, criterion=poisson, max_depth=28, max_features=log2, min_samples_leaf=16, min_samples_split=12, n_jobs=-1, random_state=1;, score=-0.271 total time=   0.8s\n",
      "[CV 5/5] END bootstrap=True, criterion=poisson, max_depth=28, max_features=log2, min_samples_leaf=16, min_samples_split=12, n_jobs=-1, random_state=1;, score=-0.276 total time=   0.8s\n",
      "[CV 1/5] END bootstrap=True, criterion=squared_error, max_depth=28, max_features=None, min_samples_leaf=13, min_samples_split=26, n_jobs=-1, random_state=1;, score=-0.216 total time=  16.8s\n",
      "[CV 2/5] END bootstrap=True, criterion=squared_error, max_depth=28, max_features=None, min_samples_leaf=13, min_samples_split=26, n_jobs=-1, random_state=1;, score=-0.213 total time=  17.5s\n",
      "[CV 3/5] END bootstrap=True, criterion=squared_error, max_depth=28, max_features=None, min_samples_leaf=13, min_samples_split=26, n_jobs=-1, random_state=1;, score=-0.216 total time=  17.0s\n",
      "[CV 4/5] END bootstrap=True, criterion=squared_error, max_depth=28, max_features=None, min_samples_leaf=13, min_samples_split=26, n_jobs=-1, random_state=1;, score=-0.229 total time=  17.8s\n",
      "[CV 5/5] END bootstrap=True, criterion=squared_error, max_depth=28, max_features=None, min_samples_leaf=13, min_samples_split=26, n_jobs=-1, random_state=1;, score=-0.235 total time=  18.8s\n",
      "[CV 1/5] END bootstrap=True, criterion=friedman_mse, max_depth=3, max_features=log2, min_samples_leaf=23, min_samples_split=17, n_jobs=-1, random_state=1;, score=-0.326 total time=   0.6s\n",
      "[CV 2/5] END bootstrap=True, criterion=friedman_mse, max_depth=3, max_features=log2, min_samples_leaf=23, min_samples_split=17, n_jobs=-1, random_state=1;, score=-0.315 total time=   0.5s\n",
      "[CV 3/5] END bootstrap=True, criterion=friedman_mse, max_depth=3, max_features=log2, min_samples_leaf=23, min_samples_split=17, n_jobs=-1, random_state=1;, score=-0.322 total time=   0.5s\n",
      "[CV 4/5] END bootstrap=True, criterion=friedman_mse, max_depth=3, max_features=log2, min_samples_leaf=23, min_samples_split=17, n_jobs=-1, random_state=1;, score=-0.330 total time=   0.4s\n",
      "[CV 5/5] END bootstrap=True, criterion=friedman_mse, max_depth=3, max_features=log2, min_samples_leaf=23, min_samples_split=17, n_jobs=-1, random_state=1;, score=-0.334 total time=   0.5s\n",
      "[CV 1/5] END bootstrap=True, criterion=squared_error, max_depth=15, max_features=sqrt, min_samples_leaf=12, min_samples_split=15, n_jobs=-1, random_state=1;, score=-0.237 total time=   1.2s\n",
      "[CV 2/5] END bootstrap=True, criterion=squared_error, max_depth=15, max_features=sqrt, min_samples_leaf=12, min_samples_split=15, n_jobs=-1, random_state=1;, score=-0.231 total time=   1.3s\n",
      "[CV 3/5] END bootstrap=True, criterion=squared_error, max_depth=15, max_features=sqrt, min_samples_leaf=12, min_samples_split=15, n_jobs=-1, random_state=1;, score=-0.239 total time=   1.4s\n",
      "[CV 4/5] END bootstrap=True, criterion=squared_error, max_depth=15, max_features=sqrt, min_samples_leaf=12, min_samples_split=15, n_jobs=-1, random_state=1;, score=-0.245 total time=   1.5s\n",
      "[CV 5/5] END bootstrap=True, criterion=squared_error, max_depth=15, max_features=sqrt, min_samples_leaf=12, min_samples_split=15, n_jobs=-1, random_state=1;, score=-0.253 total time=   1.3s\n",
      "[CV 1/5] END bootstrap=False, criterion=friedman_mse, max_depth=15, max_features=None, min_samples_leaf=4, min_samples_split=5, n_jobs=-1, random_state=1;, score=-0.286 total time=  28.2s\n",
      "[CV 2/5] END bootstrap=False, criterion=friedman_mse, max_depth=15, max_features=None, min_samples_leaf=4, min_samples_split=5, n_jobs=-1, random_state=1;, score=-0.288 total time=  28.1s\n"
     ]
    },
    {
     "name": "stdout",
     "output_type": "stream",
     "text": [
      "[CV 3/5] END bootstrap=False, criterion=friedman_mse, max_depth=15, max_features=None, min_samples_leaf=4, min_samples_split=5, n_jobs=-1, random_state=1;, score=-0.295 total time=  27.7s\n",
      "[CV 4/5] END bootstrap=False, criterion=friedman_mse, max_depth=15, max_features=None, min_samples_leaf=4, min_samples_split=5, n_jobs=-1, random_state=1;, score=-0.294 total time=  29.0s\n",
      "[CV 5/5] END bootstrap=False, criterion=friedman_mse, max_depth=15, max_features=None, min_samples_leaf=4, min_samples_split=5, n_jobs=-1, random_state=1;, score=-0.313 total time=  27.6s\n",
      "[CV 1/5] END bootstrap=False, criterion=poisson, max_depth=11, max_features=sqrt, min_samples_leaf=2, min_samples_split=25, n_jobs=-1, random_state=1;, score=-0.234 total time=   1.9s\n",
      "[CV 2/5] END bootstrap=False, criterion=poisson, max_depth=11, max_features=sqrt, min_samples_leaf=2, min_samples_split=25, n_jobs=-1, random_state=1;, score=-0.230 total time=   1.9s\n",
      "[CV 3/5] END bootstrap=False, criterion=poisson, max_depth=11, max_features=sqrt, min_samples_leaf=2, min_samples_split=25, n_jobs=-1, random_state=1;, score=-0.235 total time=   3.6s\n",
      "[CV 4/5] END bootstrap=False, criterion=poisson, max_depth=11, max_features=sqrt, min_samples_leaf=2, min_samples_split=25, n_jobs=-1, random_state=1;, score=-0.245 total time=   1.9s\n",
      "[CV 5/5] END bootstrap=False, criterion=poisson, max_depth=11, max_features=sqrt, min_samples_leaf=2, min_samples_split=25, n_jobs=-1, random_state=1;, score=-0.251 total time=   2.0s\n",
      "[CV 1/5] END bootstrap=True, criterion=friedman_mse, max_depth=4, max_features=log2, min_samples_leaf=16, min_samples_split=23, n_jobs=-1, random_state=1;, score=-0.315 total time=   0.6s\n",
      "[CV 2/5] END bootstrap=True, criterion=friedman_mse, max_depth=4, max_features=log2, min_samples_leaf=16, min_samples_split=23, n_jobs=-1, random_state=1;, score=-0.306 total time=   0.6s\n",
      "[CV 3/5] END bootstrap=True, criterion=friedman_mse, max_depth=4, max_features=log2, min_samples_leaf=16, min_samples_split=23, n_jobs=-1, random_state=1;, score=-0.313 total time=   0.6s\n",
      "[CV 4/5] END bootstrap=True, criterion=friedman_mse, max_depth=4, max_features=log2, min_samples_leaf=16, min_samples_split=23, n_jobs=-1, random_state=1;, score=-0.323 total time=   0.7s\n",
      "[CV 5/5] END bootstrap=True, criterion=friedman_mse, max_depth=4, max_features=log2, min_samples_leaf=16, min_samples_split=23, n_jobs=-1, random_state=1;, score=-0.327 total time=   0.6s\n",
      "Best params:  {'random_state': 1, 'n_jobs': -1, 'min_samples_split': 2, 'min_samples_leaf': 4, 'max_features': None, 'max_depth': 26, 'criterion': 'squared_error', 'bootstrap': True}\n",
      "Validation score:  -0.2180647944743964\n",
      "--- 4113.104102373123 seconds ---\n",
      "0.4816106399756898\n"
     ]
    }
   ],
   "source": [
    "start_time = time.time()\n",
    "#bootstrap=False, criterion=poisson, max_depth=15, max_features=sqrt, min_samples_leaf=8, min_samples_split=21\n",
    "param_grid = {'criterion': ['squared_error', 'friedman_mse', 'poisson'], 'max_depth': np.arange(2,30), 'min_samples_split': np.arange(2,30), 'min_samples_leaf': np.arange(2,30), 'max_features': ['sqrt', 'log2', None], 'bootstrap':[True, False], 'random_state': [1], 'n_jobs': [-1]}\n",
    "svc = RandomForestRegressor()\n",
    "clf = RandomizedSearchCV(svc, param_grid, n_iter=100, cv=5, random_state=1, refit=True, scoring='neg_mean_squared_log_error', verbose=5)\n",
    "clf.fit(sttrainX[:20000], trainY[:20000])\n",
    "print('Best params: ', clf.best_params_)\n",
    "print('Validation score: ', clf.best_score_)\n",
    "print(\"--- %s seconds ---\" % (time.time() - start_time))\n",
    "pred = clf.predict(sttrainX[20000:])\n",
    "print(mean_squared_log_error(trainY[20000:], pred, squared=False))"
   ]
  },
  {
   "cell_type": "code",
   "execution_count": 66,
   "id": "944d5e52",
   "metadata": {},
   "outputs": [
    {
     "name": "stdout",
     "output_type": "stream",
     "text": [
      "Fitting 5 folds for each of 100 candidates, totalling 500 fits\n",
      "[CV 1/5] END criterion=friedman_mse, learning_rate=0.005, loss=huber, max_depth=39, min_samples_leaf=27, min_samples_split=23, n_estimators=44, random_state=1, tol=1e-13;, score=-0.307 total time= 1.6min\n",
      "[CV 2/5] END criterion=friedman_mse, learning_rate=0.005, loss=huber, max_depth=39, min_samples_leaf=27, min_samples_split=23, n_estimators=44, random_state=1, tol=1e-13;, score=-0.293 total time= 1.3min\n",
      "[CV 3/5] END criterion=friedman_mse, learning_rate=0.005, loss=huber, max_depth=39, min_samples_leaf=27, min_samples_split=23, n_estimators=44, random_state=1, tol=1e-13;, score=-0.304 total time= 1.3min\n",
      "[CV 4/5] END criterion=friedman_mse, learning_rate=0.005, loss=huber, max_depth=39, min_samples_leaf=27, min_samples_split=23, n_estimators=44, random_state=1, tol=1e-13;, score=-0.310 total time= 1.4min\n",
      "[CV 5/5] END criterion=friedman_mse, learning_rate=0.005, loss=huber, max_depth=39, min_samples_leaf=27, min_samples_split=23, n_estimators=44, random_state=1, tol=1e-13;, score=-0.317 total time= 1.3min\n",
      "[CV 1/5] END criterion=squared_error, learning_rate=0.05, loss=squared_error, max_depth=22, min_samples_leaf=19, min_samples_split=2, n_estimators=17, random_state=1, tol=1e-07;, score=-0.250 total time=  33.4s\n",
      "[CV 2/5] END criterion=squared_error, learning_rate=0.05, loss=squared_error, max_depth=22, min_samples_leaf=19, min_samples_split=2, n_estimators=17, random_state=1, tol=1e-07;, score=-0.243 total time=  34.0s\n",
      "[CV 3/5] END criterion=squared_error, learning_rate=0.05, loss=squared_error, max_depth=22, min_samples_leaf=19, min_samples_split=2, n_estimators=17, random_state=1, tol=1e-07;, score=-0.251 total time=  33.6s\n",
      "[CV 4/5] END criterion=squared_error, learning_rate=0.05, loss=squared_error, max_depth=22, min_samples_leaf=19, min_samples_split=2, n_estimators=17, random_state=1, tol=1e-07;, score=-0.257 total time=  33.3s\n",
      "[CV 5/5] END criterion=squared_error, learning_rate=0.05, loss=squared_error, max_depth=22, min_samples_leaf=19, min_samples_split=2, n_estimators=17, random_state=1, tol=1e-07;, score=-0.269 total time=  35.1s\n",
      "[CV 1/5] END criterion=friedman_mse, learning_rate=0.1, loss=squared_error, max_depth=3, min_samples_leaf=16, min_samples_split=29, n_estimators=131, random_state=1, tol=1e-13;, score=-0.220 total time= 1.6min\n",
      "[CV 2/5] END criterion=friedman_mse, learning_rate=0.1, loss=squared_error, max_depth=3, min_samples_leaf=16, min_samples_split=29, n_estimators=131, random_state=1, tol=1e-13;, score=-0.212 total time= 1.6min\n",
      "[CV 3/5] END criterion=friedman_mse, learning_rate=0.1, loss=squared_error, max_depth=3, min_samples_leaf=16, min_samples_split=29, n_estimators=131, random_state=1, tol=1e-13;, score=-0.217 total time= 1.6min\n",
      "[CV 4/5] END criterion=friedman_mse, learning_rate=0.1, loss=squared_error, max_depth=3, min_samples_leaf=16, min_samples_split=29, n_estimators=131, random_state=1, tol=1e-13;, score=-0.229 total time= 1.6min\n",
      "[CV 5/5] END criterion=friedman_mse, learning_rate=0.1, loss=squared_error, max_depth=3, min_samples_leaf=16, min_samples_split=29, n_estimators=131, random_state=1, tol=1e-13;, score=-0.237 total time= 1.6min\n",
      "[CV 1/5] END criterion=friedman_mse, learning_rate=0.1, loss=absolute_error, max_depth=6, min_samples_leaf=11, min_samples_split=26, n_estimators=145, random_state=1, tol=1e-13;, score=-0.226 total time= 3.2min\n",
      "[CV 2/5] END criterion=friedman_mse, learning_rate=0.1, loss=absolute_error, max_depth=6, min_samples_leaf=11, min_samples_split=26, n_estimators=145, random_state=1, tol=1e-13;, score=-0.223 total time= 3.2min\n",
      "[CV 3/5] END criterion=friedman_mse, learning_rate=0.1, loss=absolute_error, max_depth=6, min_samples_leaf=11, min_samples_split=26, n_estimators=145, random_state=1, tol=1e-13;, score=-0.226 total time= 3.2min\n",
      "[CV 4/5] END criterion=friedman_mse, learning_rate=0.1, loss=absolute_error, max_depth=6, min_samples_leaf=11, min_samples_split=26, n_estimators=145, random_state=1, tol=1e-13;, score=-0.238 total time= 3.2min\n",
      "[CV 5/5] END criterion=friedman_mse, learning_rate=0.1, loss=absolute_error, max_depth=6, min_samples_leaf=11, min_samples_split=26, n_estimators=145, random_state=1, tol=1e-13;, score=-0.245 total time= 3.1min\n",
      "[CV 1/5] END criterion=squared_error, learning_rate=0.1, loss=huber, max_depth=27, min_samples_leaf=23, min_samples_split=2, n_estimators=158, random_state=1, tol=1e-13;, score=-0.213 total time=12.1min\n",
      "[CV 2/5] END criterion=squared_error, learning_rate=0.1, loss=huber, max_depth=27, min_samples_leaf=23, min_samples_split=2, n_estimators=158, random_state=1, tol=1e-13;, score=-0.210 total time=12.7min\n",
      "[CV 3/5] END criterion=squared_error, learning_rate=0.1, loss=huber, max_depth=27, min_samples_leaf=23, min_samples_split=2, n_estimators=158, random_state=1, tol=1e-13;, score=-0.213 total time=12.4min\n",
      "[CV 4/5] END criterion=squared_error, learning_rate=0.1, loss=huber, max_depth=27, min_samples_leaf=23, min_samples_split=2, n_estimators=158, random_state=1, tol=1e-13;, score=-0.228 total time=12.4min\n",
      "[CV 5/5] END criterion=squared_error, learning_rate=0.1, loss=huber, max_depth=27, min_samples_leaf=23, min_samples_split=2, n_estimators=158, random_state=1, tol=1e-13;, score=-0.230 total time=12.2min\n",
      "[CV 1/5] END criterion=friedman_mse, learning_rate=0.05, loss=quantile, max_depth=31, min_samples_leaf=2, min_samples_split=25, n_estimators=183, random_state=1, tol=1e-13;, score=-0.267 total time= 8.3min\n",
      "[CV 2/5] END criterion=friedman_mse, learning_rate=0.05, loss=quantile, max_depth=31, min_samples_leaf=2, min_samples_split=25, n_estimators=183, random_state=1, tol=1e-13;, score=-0.258 total time= 9.1min\n",
      "[CV 3/5] END criterion=friedman_mse, learning_rate=0.05, loss=quantile, max_depth=31, min_samples_leaf=2, min_samples_split=25, n_estimators=183, random_state=1, tol=1e-13;, score=-0.267 total time=12.2min\n",
      "[CV 4/5] END criterion=friedman_mse, learning_rate=0.05, loss=quantile, max_depth=31, min_samples_leaf=2, min_samples_split=25, n_estimators=183, random_state=1, tol=1e-13;, score=-0.278 total time=11.8min\n",
      "[CV 5/5] END criterion=friedman_mse, learning_rate=0.05, loss=quantile, max_depth=31, min_samples_leaf=2, min_samples_split=25, n_estimators=183, random_state=1, tol=1e-13;, score=-0.284 total time=10.1min\n",
      "[CV 1/5] END criterion=friedman_mse, learning_rate=0.05, loss=quantile, max_depth=28, min_samples_leaf=20, min_samples_split=28, n_estimators=171, random_state=1, tol=1e-13;, score=-0.273 total time= 5.8min\n",
      "[CV 2/5] END criterion=friedman_mse, learning_rate=0.05, loss=quantile, max_depth=28, min_samples_leaf=20, min_samples_split=28, n_estimators=171, random_state=1, tol=1e-13;, score=-0.267 total time= 5.3min\n",
      "[CV 3/5] END criterion=friedman_mse, learning_rate=0.05, loss=quantile, max_depth=28, min_samples_leaf=20, min_samples_split=28, n_estimators=171, random_state=1, tol=1e-13;, score=-0.272 total time= 5.2min\n",
      "[CV 4/5] END criterion=friedman_mse, learning_rate=0.05, loss=quantile, max_depth=28, min_samples_leaf=20, min_samples_split=28, n_estimators=171, random_state=1, tol=1e-13;, score=-0.288 total time= 5.4min\n",
      "[CV 5/5] END criterion=friedman_mse, learning_rate=0.05, loss=quantile, max_depth=28, min_samples_leaf=20, min_samples_split=28, n_estimators=171, random_state=1, tol=1e-13;, score=-0.290 total time= 5.5min\n",
      "[CV 1/5] END criterion=squared_error, learning_rate=0.05, loss=absolute_error, max_depth=34, min_samples_leaf=25, min_samples_split=12, n_estimators=117, random_state=1, tol=1e-07;, score=-0.221 total time= 4.3min\n",
      "[CV 2/5] END criterion=squared_error, learning_rate=0.05, loss=absolute_error, max_depth=34, min_samples_leaf=25, min_samples_split=12, n_estimators=117, random_state=1, tol=1e-07;, score=-0.218 total time= 4.3min\n",
      "[CV 3/5] END criterion=squared_error, learning_rate=0.05, loss=absolute_error, max_depth=34, min_samples_leaf=25, min_samples_split=12, n_estimators=117, random_state=1, tol=1e-07;, score=-0.222 total time= 4.5min\n",
      "[CV 4/5] END criterion=squared_error, learning_rate=0.05, loss=absolute_error, max_depth=34, min_samples_leaf=25, min_samples_split=12, n_estimators=117, random_state=1, tol=1e-07;, score=-0.232 total time= 4.3min\n",
      "[CV 5/5] END criterion=squared_error, learning_rate=0.05, loss=absolute_error, max_depth=34, min_samples_leaf=25, min_samples_split=12, n_estimators=117, random_state=1, tol=1e-07;, score=-0.241 total time= 4.3min\n"
     ]
    },
    {
     "name": "stdout",
     "output_type": "stream",
     "text": [
      "[CV 1/5] END criterion=friedman_mse, learning_rate=0.05, loss=squared_error, max_depth=25, min_samples_leaf=3, min_samples_split=28, n_estimators=118, random_state=1, tol=1e-13;, score=-0.217 total time= 6.8min\n",
      "[CV 2/5] END criterion=friedman_mse, learning_rate=0.05, loss=squared_error, max_depth=25, min_samples_leaf=3, min_samples_split=28, n_estimators=118, random_state=1, tol=1e-13;, score=-0.213 total time= 7.1min\n",
      "[CV 3/5] END criterion=friedman_mse, learning_rate=0.05, loss=squared_error, max_depth=25, min_samples_leaf=3, min_samples_split=28, n_estimators=118, random_state=1, tol=1e-13;, score=-0.222 total time= 7.2min\n",
      "[CV 4/5] END criterion=friedman_mse, learning_rate=0.05, loss=squared_error, max_depth=25, min_samples_leaf=3, min_samples_split=28, n_estimators=118, random_state=1, tol=1e-13;, score=-0.230 total time= 7.0min\n",
      "[CV 5/5] END criterion=friedman_mse, learning_rate=0.05, loss=squared_error, max_depth=25, min_samples_leaf=3, min_samples_split=28, n_estimators=118, random_state=1, tol=1e-13;, score=-0.234 total time= 6.9min\n",
      "[CV 1/5] END criterion=friedman_mse, learning_rate=0.005, loss=quantile, max_depth=38, min_samples_leaf=26, min_samples_split=6, n_estimators=75, random_state=1, tol=1e-07;, score=-0.662 total time= 2.2min\n",
      "[CV 2/5] END criterion=friedman_mse, learning_rate=0.005, loss=quantile, max_depth=38, min_samples_leaf=26, min_samples_split=6, n_estimators=75, random_state=1, tol=1e-07;, score=-0.658 total time= 2.3min\n",
      "[CV 3/5] END criterion=friedman_mse, learning_rate=0.005, loss=quantile, max_depth=38, min_samples_leaf=26, min_samples_split=6, n_estimators=75, random_state=1, tol=1e-07;, score=-0.663 total time= 2.3min\n",
      "[CV 4/5] END criterion=friedman_mse, learning_rate=0.005, loss=quantile, max_depth=38, min_samples_leaf=26, min_samples_split=6, n_estimators=75, random_state=1, tol=1e-07;, score=-0.671 total time= 2.4min\n",
      "[CV 5/5] END criterion=friedman_mse, learning_rate=0.005, loss=quantile, max_depth=38, min_samples_leaf=26, min_samples_split=6, n_estimators=75, random_state=1, tol=1e-07;, score=-0.689 total time= 2.2min\n",
      "[CV 1/5] END criterion=friedman_mse, learning_rate=0.05, loss=quantile, max_depth=31, min_samples_leaf=7, min_samples_split=13, n_estimators=83, random_state=1, tol=1e-07;, score=-0.314 total time= 3.3min\n",
      "[CV 2/5] END criterion=friedman_mse, learning_rate=0.05, loss=quantile, max_depth=31, min_samples_leaf=7, min_samples_split=13, n_estimators=83, random_state=1, tol=1e-07;, score=-0.304 total time= 3.4min\n",
      "[CV 3/5] END criterion=friedman_mse, learning_rate=0.05, loss=quantile, max_depth=31, min_samples_leaf=7, min_samples_split=13, n_estimators=83, random_state=1, tol=1e-07;, score=-0.312 total time= 3.3min\n",
      "[CV 4/5] END criterion=friedman_mse, learning_rate=0.05, loss=quantile, max_depth=31, min_samples_leaf=7, min_samples_split=13, n_estimators=83, random_state=1, tol=1e-07;, score=-0.327 total time= 3.4min\n",
      "[CV 5/5] END criterion=friedman_mse, learning_rate=0.05, loss=quantile, max_depth=31, min_samples_leaf=7, min_samples_split=13, n_estimators=83, random_state=1, tol=1e-07;, score=-0.334 total time= 3.2min\n",
      "[CV 1/5] END criterion=squared_error, learning_rate=0.05, loss=absolute_error, max_depth=25, min_samples_leaf=2, min_samples_split=22, n_estimators=173, random_state=1, tol=1e-13;, score=-0.213 total time= 7.9min\n",
      "[CV 2/5] END criterion=squared_error, learning_rate=0.05, loss=absolute_error, max_depth=25, min_samples_leaf=2, min_samples_split=22, n_estimators=173, random_state=1, tol=1e-13;, score=-0.211 total time= 7.7min\n",
      "[CV 3/5] END criterion=squared_error, learning_rate=0.05, loss=absolute_error, max_depth=25, min_samples_leaf=2, min_samples_split=22, n_estimators=173, random_state=1, tol=1e-13;, score=-0.213 total time= 7.5min\n",
      "[CV 4/5] END criterion=squared_error, learning_rate=0.05, loss=absolute_error, max_depth=25, min_samples_leaf=2, min_samples_split=22, n_estimators=173, random_state=1, tol=1e-13;, score=-0.222 total time= 7.6min\n",
      "[CV 5/5] END criterion=squared_error, learning_rate=0.05, loss=absolute_error, max_depth=25, min_samples_leaf=2, min_samples_split=22, n_estimators=173, random_state=1, tol=1e-13;, score=-0.226 total time= 7.3min\n",
      "[CV 1/5] END criterion=friedman_mse, learning_rate=0.005, loss=absolute_error, max_depth=34, min_samples_leaf=14, min_samples_split=4, n_estimators=92, random_state=1, tol=1e-07;, score=-0.290 total time= 2.9min\n",
      "[CV 2/5] END criterion=friedman_mse, learning_rate=0.005, loss=absolute_error, max_depth=34, min_samples_leaf=14, min_samples_split=4, n_estimators=92, random_state=1, tol=1e-07;, score=-0.279 total time= 2.8min\n",
      "[CV 3/5] END criterion=friedman_mse, learning_rate=0.005, loss=absolute_error, max_depth=34, min_samples_leaf=14, min_samples_split=4, n_estimators=92, random_state=1, tol=1e-07;, score=-0.286 total time= 3.0min\n",
      "[CV 4/5] END criterion=friedman_mse, learning_rate=0.005, loss=absolute_error, max_depth=34, min_samples_leaf=14, min_samples_split=4, n_estimators=92, random_state=1, tol=1e-07;, score=-0.294 total time= 3.0min\n",
      "[CV 5/5] END criterion=friedman_mse, learning_rate=0.005, loss=absolute_error, max_depth=34, min_samples_leaf=14, min_samples_split=4, n_estimators=92, random_state=1, tol=1e-07;, score=-0.301 total time= 3.0min\n",
      "[CV 1/5] END criterion=friedman_mse, learning_rate=0.005, loss=quantile, max_depth=31, min_samples_leaf=12, min_samples_split=8, n_estimators=122, random_state=1, tol=1e-07;, score=-0.600 total time= 3.9min\n",
      "[CV 2/5] END criterion=friedman_mse, learning_rate=0.005, loss=quantile, max_depth=31, min_samples_leaf=12, min_samples_split=8, n_estimators=122, random_state=1, tol=1e-07;, score=-0.596 total time= 4.0min\n",
      "[CV 3/5] END criterion=friedman_mse, learning_rate=0.005, loss=quantile, max_depth=31, min_samples_leaf=12, min_samples_split=8, n_estimators=122, random_state=1, tol=1e-07;, score=-0.601 total time= 3.9min\n",
      "[CV 4/5] END criterion=friedman_mse, learning_rate=0.005, loss=quantile, max_depth=31, min_samples_leaf=12, min_samples_split=8, n_estimators=122, random_state=1, tol=1e-07;, score=-0.609 total time= 4.1min\n",
      "[CV 5/5] END criterion=friedman_mse, learning_rate=0.005, loss=quantile, max_depth=31, min_samples_leaf=12, min_samples_split=8, n_estimators=122, random_state=1, tol=1e-07;, score=-0.625 total time= 3.8min\n",
      "[CV 1/5] END criterion=squared_error, learning_rate=0.05, loss=huber, max_depth=24, min_samples_leaf=5, min_samples_split=8, n_estimators=109, random_state=1, tol=1e-13;, score=-0.225 total time= 4.8min\n",
      "[CV 2/5] END criterion=squared_error, learning_rate=0.05, loss=huber, max_depth=24, min_samples_leaf=5, min_samples_split=8, n_estimators=109, random_state=1, tol=1e-13;, score=-0.215 total time= 4.8min\n",
      "[CV 3/5] END criterion=squared_error, learning_rate=0.05, loss=huber, max_depth=24, min_samples_leaf=5, min_samples_split=8, n_estimators=109, random_state=1, tol=1e-13;, score=-0.225 total time= 4.9min\n",
      "[CV 4/5] END criterion=squared_error, learning_rate=0.05, loss=huber, max_depth=24, min_samples_leaf=5, min_samples_split=8, n_estimators=109, random_state=1, tol=1e-13;, score=-0.233 total time= 4.9min\n",
      "[CV 5/5] END criterion=squared_error, learning_rate=0.05, loss=huber, max_depth=24, min_samples_leaf=5, min_samples_split=8, n_estimators=109, random_state=1, tol=1e-13;, score=-0.240 total time= 5.8min\n",
      "[CV 1/5] END criterion=squared_error, learning_rate=0.05, loss=absolute_error, max_depth=20, min_samples_leaf=22, min_samples_split=3, n_estimators=103, random_state=1, tol=1e-07;, score=-0.220 total time= 4.3min\n",
      "[CV 2/5] END criterion=squared_error, learning_rate=0.05, loss=absolute_error, max_depth=20, min_samples_leaf=22, min_samples_split=3, n_estimators=103, random_state=1, tol=1e-07;, score=-0.217 total time= 4.4min\n",
      "[CV 3/5] END criterion=squared_error, learning_rate=0.05, loss=absolute_error, max_depth=20, min_samples_leaf=22, min_samples_split=3, n_estimators=103, random_state=1, tol=1e-07;, score=-0.222 total time= 4.3min\n",
      "[CV 4/5] END criterion=squared_error, learning_rate=0.05, loss=absolute_error, max_depth=20, min_samples_leaf=22, min_samples_split=3, n_estimators=103, random_state=1, tol=1e-07;, score=-0.231 total time= 3.4min\n"
     ]
    },
    {
     "ename": "KeyboardInterrupt",
     "evalue": "",
     "output_type": "error",
     "traceback": [
      "\u001b[1;31m---------------------------------------------------------------------------\u001b[0m",
      "\u001b[1;31mKeyboardInterrupt\u001b[0m                         Traceback (most recent call last)",
      "Cell \u001b[1;32mIn [66], line 7\u001b[0m\n\u001b[0;32m      5\u001b[0m svc \u001b[38;5;241m=\u001b[39m GradientBoostingRegressor()\n\u001b[0;32m      6\u001b[0m clf \u001b[38;5;241m=\u001b[39m RandomizedSearchCV(svc, param_grid, n_iter\u001b[38;5;241m=\u001b[39m\u001b[38;5;241m100\u001b[39m, cv\u001b[38;5;241m=\u001b[39m\u001b[38;5;241m5\u001b[39m, random_state\u001b[38;5;241m=\u001b[39m\u001b[38;5;241m1\u001b[39m, refit\u001b[38;5;241m=\u001b[39m\u001b[38;5;28;01mTrue\u001b[39;00m, scoring\u001b[38;5;241m=\u001b[39m\u001b[38;5;124m'\u001b[39m\u001b[38;5;124mneg_mean_squared_log_error\u001b[39m\u001b[38;5;124m'\u001b[39m, verbose\u001b[38;5;241m=\u001b[39m\u001b[38;5;241m5\u001b[39m)\n\u001b[1;32m----> 7\u001b[0m clf\u001b[38;5;241m.\u001b[39mfit(sttrainX[:\u001b[38;5;241m20000\u001b[39m], trainY[:\u001b[38;5;241m20000\u001b[39m])\n\u001b[0;32m      8\u001b[0m \u001b[38;5;28mprint\u001b[39m(\u001b[38;5;124m'\u001b[39m\u001b[38;5;124mBest params: \u001b[39m\u001b[38;5;124m'\u001b[39m, clf\u001b[38;5;241m.\u001b[39mbest_params_)\n\u001b[0;32m      9\u001b[0m \u001b[38;5;28mprint\u001b[39m(\u001b[38;5;124m'\u001b[39m\u001b[38;5;124mValidation score: \u001b[39m\u001b[38;5;124m'\u001b[39m, clf\u001b[38;5;241m.\u001b[39mbest_score_)\n",
      "File \u001b[1;32mC:\\Python310\\lib\\site-packages\\sklearn\\model_selection\\_search.py:875\u001b[0m, in \u001b[0;36mBaseSearchCV.fit\u001b[1;34m(self, X, y, groups, **fit_params)\u001b[0m\n\u001b[0;32m    869\u001b[0m     results \u001b[38;5;241m=\u001b[39m \u001b[38;5;28mself\u001b[39m\u001b[38;5;241m.\u001b[39m_format_results(\n\u001b[0;32m    870\u001b[0m         all_candidate_params, n_splits, all_out, all_more_results\n\u001b[0;32m    871\u001b[0m     )\n\u001b[0;32m    873\u001b[0m     \u001b[38;5;28;01mreturn\u001b[39;00m results\n\u001b[1;32m--> 875\u001b[0m \u001b[38;5;28;43mself\u001b[39;49m\u001b[38;5;241;43m.\u001b[39;49m\u001b[43m_run_search\u001b[49m\u001b[43m(\u001b[49m\u001b[43mevaluate_candidates\u001b[49m\u001b[43m)\u001b[49m\n\u001b[0;32m    877\u001b[0m \u001b[38;5;66;03m# multimetric is determined here because in the case of a callable\u001b[39;00m\n\u001b[0;32m    878\u001b[0m \u001b[38;5;66;03m# self.scoring the return type is only known after calling\u001b[39;00m\n\u001b[0;32m    879\u001b[0m first_test_score \u001b[38;5;241m=\u001b[39m all_out[\u001b[38;5;241m0\u001b[39m][\u001b[38;5;124m\"\u001b[39m\u001b[38;5;124mtest_scores\u001b[39m\u001b[38;5;124m\"\u001b[39m]\n",
      "File \u001b[1;32mC:\\Python310\\lib\\site-packages\\sklearn\\model_selection\\_search.py:1753\u001b[0m, in \u001b[0;36mRandomizedSearchCV._run_search\u001b[1;34m(self, evaluate_candidates)\u001b[0m\n\u001b[0;32m   1751\u001b[0m \u001b[38;5;28;01mdef\u001b[39;00m \u001b[38;5;21m_run_search\u001b[39m(\u001b[38;5;28mself\u001b[39m, evaluate_candidates):\n\u001b[0;32m   1752\u001b[0m     \u001b[38;5;124;03m\"\"\"Search n_iter candidates from param_distributions\"\"\"\u001b[39;00m\n\u001b[1;32m-> 1753\u001b[0m     \u001b[43mevaluate_candidates\u001b[49m\u001b[43m(\u001b[49m\n\u001b[0;32m   1754\u001b[0m \u001b[43m        \u001b[49m\u001b[43mParameterSampler\u001b[49m\u001b[43m(\u001b[49m\n\u001b[0;32m   1755\u001b[0m \u001b[43m            \u001b[49m\u001b[38;5;28;43mself\u001b[39;49m\u001b[38;5;241;43m.\u001b[39;49m\u001b[43mparam_distributions\u001b[49m\u001b[43m,\u001b[49m\u001b[43m \u001b[49m\u001b[38;5;28;43mself\u001b[39;49m\u001b[38;5;241;43m.\u001b[39;49m\u001b[43mn_iter\u001b[49m\u001b[43m,\u001b[49m\u001b[43m \u001b[49m\u001b[43mrandom_state\u001b[49m\u001b[38;5;241;43m=\u001b[39;49m\u001b[38;5;28;43mself\u001b[39;49m\u001b[38;5;241;43m.\u001b[39;49m\u001b[43mrandom_state\u001b[49m\n\u001b[0;32m   1756\u001b[0m \u001b[43m        \u001b[49m\u001b[43m)\u001b[49m\n\u001b[0;32m   1757\u001b[0m \u001b[43m    \u001b[49m\u001b[43m)\u001b[49m\n",
      "File \u001b[1;32mC:\\Python310\\lib\\site-packages\\sklearn\\model_selection\\_search.py:822\u001b[0m, in \u001b[0;36mBaseSearchCV.fit.<locals>.evaluate_candidates\u001b[1;34m(candidate_params, cv, more_results)\u001b[0m\n\u001b[0;32m    814\u001b[0m \u001b[38;5;28;01mif\u001b[39;00m \u001b[38;5;28mself\u001b[39m\u001b[38;5;241m.\u001b[39mverbose \u001b[38;5;241m>\u001b[39m \u001b[38;5;241m0\u001b[39m:\n\u001b[0;32m    815\u001b[0m     \u001b[38;5;28mprint\u001b[39m(\n\u001b[0;32m    816\u001b[0m         \u001b[38;5;124m\"\u001b[39m\u001b[38;5;124mFitting \u001b[39m\u001b[38;5;132;01m{0}\u001b[39;00m\u001b[38;5;124m folds for each of \u001b[39m\u001b[38;5;132;01m{1}\u001b[39;00m\u001b[38;5;124m candidates,\u001b[39m\u001b[38;5;124m\"\u001b[39m\n\u001b[0;32m    817\u001b[0m         \u001b[38;5;124m\"\u001b[39m\u001b[38;5;124m totalling \u001b[39m\u001b[38;5;132;01m{2}\u001b[39;00m\u001b[38;5;124m fits\u001b[39m\u001b[38;5;124m\"\u001b[39m\u001b[38;5;241m.\u001b[39mformat(\n\u001b[0;32m    818\u001b[0m             n_splits, n_candidates, n_candidates \u001b[38;5;241m*\u001b[39m n_splits\n\u001b[0;32m    819\u001b[0m         )\n\u001b[0;32m    820\u001b[0m     )\n\u001b[1;32m--> 822\u001b[0m out \u001b[38;5;241m=\u001b[39m \u001b[43mparallel\u001b[49m\u001b[43m(\u001b[49m\n\u001b[0;32m    823\u001b[0m \u001b[43m    \u001b[49m\u001b[43mdelayed\u001b[49m\u001b[43m(\u001b[49m\u001b[43m_fit_and_score\u001b[49m\u001b[43m)\u001b[49m\u001b[43m(\u001b[49m\n\u001b[0;32m    824\u001b[0m \u001b[43m        \u001b[49m\u001b[43mclone\u001b[49m\u001b[43m(\u001b[49m\u001b[43mbase_estimator\u001b[49m\u001b[43m)\u001b[49m\u001b[43m,\u001b[49m\n\u001b[0;32m    825\u001b[0m \u001b[43m        \u001b[49m\u001b[43mX\u001b[49m\u001b[43m,\u001b[49m\n\u001b[0;32m    826\u001b[0m \u001b[43m        \u001b[49m\u001b[43my\u001b[49m\u001b[43m,\u001b[49m\n\u001b[0;32m    827\u001b[0m \u001b[43m        \u001b[49m\u001b[43mtrain\u001b[49m\u001b[38;5;241;43m=\u001b[39;49m\u001b[43mtrain\u001b[49m\u001b[43m,\u001b[49m\n\u001b[0;32m    828\u001b[0m \u001b[43m        \u001b[49m\u001b[43mtest\u001b[49m\u001b[38;5;241;43m=\u001b[39;49m\u001b[43mtest\u001b[49m\u001b[43m,\u001b[49m\n\u001b[0;32m    829\u001b[0m \u001b[43m        \u001b[49m\u001b[43mparameters\u001b[49m\u001b[38;5;241;43m=\u001b[39;49m\u001b[43mparameters\u001b[49m\u001b[43m,\u001b[49m\n\u001b[0;32m    830\u001b[0m \u001b[43m        \u001b[49m\u001b[43msplit_progress\u001b[49m\u001b[38;5;241;43m=\u001b[39;49m\u001b[43m(\u001b[49m\u001b[43msplit_idx\u001b[49m\u001b[43m,\u001b[49m\u001b[43m \u001b[49m\u001b[43mn_splits\u001b[49m\u001b[43m)\u001b[49m\u001b[43m,\u001b[49m\n\u001b[0;32m    831\u001b[0m \u001b[43m        \u001b[49m\u001b[43mcandidate_progress\u001b[49m\u001b[38;5;241;43m=\u001b[39;49m\u001b[43m(\u001b[49m\u001b[43mcand_idx\u001b[49m\u001b[43m,\u001b[49m\u001b[43m \u001b[49m\u001b[43mn_candidates\u001b[49m\u001b[43m)\u001b[49m\u001b[43m,\u001b[49m\n\u001b[0;32m    832\u001b[0m \u001b[43m        \u001b[49m\u001b[38;5;241;43m*\u001b[39;49m\u001b[38;5;241;43m*\u001b[39;49m\u001b[43mfit_and_score_kwargs\u001b[49m\u001b[43m,\u001b[49m\n\u001b[0;32m    833\u001b[0m \u001b[43m    \u001b[49m\u001b[43m)\u001b[49m\n\u001b[0;32m    834\u001b[0m \u001b[43m    \u001b[49m\u001b[38;5;28;43;01mfor\u001b[39;49;00m\u001b[43m \u001b[49m\u001b[43m(\u001b[49m\u001b[43mcand_idx\u001b[49m\u001b[43m,\u001b[49m\u001b[43m \u001b[49m\u001b[43mparameters\u001b[49m\u001b[43m)\u001b[49m\u001b[43m,\u001b[49m\u001b[43m \u001b[49m\u001b[43m(\u001b[49m\u001b[43msplit_idx\u001b[49m\u001b[43m,\u001b[49m\u001b[43m \u001b[49m\u001b[43m(\u001b[49m\u001b[43mtrain\u001b[49m\u001b[43m,\u001b[49m\u001b[43m \u001b[49m\u001b[43mtest\u001b[49m\u001b[43m)\u001b[49m\u001b[43m)\u001b[49m\u001b[43m \u001b[49m\u001b[38;5;129;43;01min\u001b[39;49;00m\u001b[43m \u001b[49m\u001b[43mproduct\u001b[49m\u001b[43m(\u001b[49m\n\u001b[0;32m    835\u001b[0m \u001b[43m        \u001b[49m\u001b[38;5;28;43menumerate\u001b[39;49m\u001b[43m(\u001b[49m\u001b[43mcandidate_params\u001b[49m\u001b[43m)\u001b[49m\u001b[43m,\u001b[49m\u001b[43m \u001b[49m\u001b[38;5;28;43menumerate\u001b[39;49m\u001b[43m(\u001b[49m\u001b[43mcv\u001b[49m\u001b[38;5;241;43m.\u001b[39;49m\u001b[43msplit\u001b[49m\u001b[43m(\u001b[49m\u001b[43mX\u001b[49m\u001b[43m,\u001b[49m\u001b[43m \u001b[49m\u001b[43my\u001b[49m\u001b[43m,\u001b[49m\u001b[43m \u001b[49m\u001b[43mgroups\u001b[49m\u001b[43m)\u001b[49m\u001b[43m)\u001b[49m\n\u001b[0;32m    836\u001b[0m \u001b[43m    \u001b[49m\u001b[43m)\u001b[49m\n\u001b[0;32m    837\u001b[0m \u001b[43m\u001b[49m\u001b[43m)\u001b[49m\n\u001b[0;32m    839\u001b[0m \u001b[38;5;28;01mif\u001b[39;00m \u001b[38;5;28mlen\u001b[39m(out) \u001b[38;5;241m<\u001b[39m \u001b[38;5;241m1\u001b[39m:\n\u001b[0;32m    840\u001b[0m     \u001b[38;5;28;01mraise\u001b[39;00m \u001b[38;5;167;01mValueError\u001b[39;00m(\n\u001b[0;32m    841\u001b[0m         \u001b[38;5;124m\"\u001b[39m\u001b[38;5;124mNo fits were performed. \u001b[39m\u001b[38;5;124m\"\u001b[39m\n\u001b[0;32m    842\u001b[0m         \u001b[38;5;124m\"\u001b[39m\u001b[38;5;124mWas the CV iterator empty? \u001b[39m\u001b[38;5;124m\"\u001b[39m\n\u001b[0;32m    843\u001b[0m         \u001b[38;5;124m\"\u001b[39m\u001b[38;5;124mWere there no candidates?\u001b[39m\u001b[38;5;124m\"\u001b[39m\n\u001b[0;32m    844\u001b[0m     )\n",
      "File \u001b[1;32mC:\\Python310\\lib\\site-packages\\joblib\\parallel.py:1088\u001b[0m, in \u001b[0;36mParallel.__call__\u001b[1;34m(self, iterable)\u001b[0m\n\u001b[0;32m   1085\u001b[0m \u001b[38;5;28;01mif\u001b[39;00m \u001b[38;5;28mself\u001b[39m\u001b[38;5;241m.\u001b[39mdispatch_one_batch(iterator):\n\u001b[0;32m   1086\u001b[0m     \u001b[38;5;28mself\u001b[39m\u001b[38;5;241m.\u001b[39m_iterating \u001b[38;5;241m=\u001b[39m \u001b[38;5;28mself\u001b[39m\u001b[38;5;241m.\u001b[39m_original_iterator \u001b[38;5;129;01mis\u001b[39;00m \u001b[38;5;129;01mnot\u001b[39;00m \u001b[38;5;28;01mNone\u001b[39;00m\n\u001b[1;32m-> 1088\u001b[0m \u001b[38;5;28;01mwhile\u001b[39;00m \u001b[38;5;28;43mself\u001b[39;49m\u001b[38;5;241;43m.\u001b[39;49m\u001b[43mdispatch_one_batch\u001b[49m\u001b[43m(\u001b[49m\u001b[43miterator\u001b[49m\u001b[43m)\u001b[49m:\n\u001b[0;32m   1089\u001b[0m     \u001b[38;5;28;01mpass\u001b[39;00m\n\u001b[0;32m   1091\u001b[0m \u001b[38;5;28;01mif\u001b[39;00m pre_dispatch \u001b[38;5;241m==\u001b[39m \u001b[38;5;124m\"\u001b[39m\u001b[38;5;124mall\u001b[39m\u001b[38;5;124m\"\u001b[39m \u001b[38;5;129;01mor\u001b[39;00m n_jobs \u001b[38;5;241m==\u001b[39m \u001b[38;5;241m1\u001b[39m:\n\u001b[0;32m   1092\u001b[0m     \u001b[38;5;66;03m# The iterable was consumed all at once by the above for loop.\u001b[39;00m\n\u001b[0;32m   1093\u001b[0m     \u001b[38;5;66;03m# No need to wait for async callbacks to trigger to\u001b[39;00m\n\u001b[0;32m   1094\u001b[0m     \u001b[38;5;66;03m# consumption.\u001b[39;00m\n",
      "File \u001b[1;32mC:\\Python310\\lib\\site-packages\\joblib\\parallel.py:901\u001b[0m, in \u001b[0;36mParallel.dispatch_one_batch\u001b[1;34m(self, iterator)\u001b[0m\n\u001b[0;32m    899\u001b[0m     \u001b[38;5;28;01mreturn\u001b[39;00m \u001b[38;5;28;01mFalse\u001b[39;00m\n\u001b[0;32m    900\u001b[0m \u001b[38;5;28;01melse\u001b[39;00m:\n\u001b[1;32m--> 901\u001b[0m     \u001b[38;5;28;43mself\u001b[39;49m\u001b[38;5;241;43m.\u001b[39;49m\u001b[43m_dispatch\u001b[49m\u001b[43m(\u001b[49m\u001b[43mtasks\u001b[49m\u001b[43m)\u001b[49m\n\u001b[0;32m    902\u001b[0m     \u001b[38;5;28;01mreturn\u001b[39;00m \u001b[38;5;28;01mTrue\u001b[39;00m\n",
      "File \u001b[1;32mC:\\Python310\\lib\\site-packages\\joblib\\parallel.py:819\u001b[0m, in \u001b[0;36mParallel._dispatch\u001b[1;34m(self, batch)\u001b[0m\n\u001b[0;32m    817\u001b[0m \u001b[38;5;28;01mwith\u001b[39;00m \u001b[38;5;28mself\u001b[39m\u001b[38;5;241m.\u001b[39m_lock:\n\u001b[0;32m    818\u001b[0m     job_idx \u001b[38;5;241m=\u001b[39m \u001b[38;5;28mlen\u001b[39m(\u001b[38;5;28mself\u001b[39m\u001b[38;5;241m.\u001b[39m_jobs)\n\u001b[1;32m--> 819\u001b[0m     job \u001b[38;5;241m=\u001b[39m \u001b[38;5;28;43mself\u001b[39;49m\u001b[38;5;241;43m.\u001b[39;49m\u001b[43m_backend\u001b[49m\u001b[38;5;241;43m.\u001b[39;49m\u001b[43mapply_async\u001b[49m\u001b[43m(\u001b[49m\u001b[43mbatch\u001b[49m\u001b[43m,\u001b[49m\u001b[43m \u001b[49m\u001b[43mcallback\u001b[49m\u001b[38;5;241;43m=\u001b[39;49m\u001b[43mcb\u001b[49m\u001b[43m)\u001b[49m\n\u001b[0;32m    820\u001b[0m     \u001b[38;5;66;03m# A job can complete so quickly than its callback is\u001b[39;00m\n\u001b[0;32m    821\u001b[0m     \u001b[38;5;66;03m# called before we get here, causing self._jobs to\u001b[39;00m\n\u001b[0;32m    822\u001b[0m     \u001b[38;5;66;03m# grow. To ensure correct results ordering, .insert is\u001b[39;00m\n\u001b[0;32m    823\u001b[0m     \u001b[38;5;66;03m# used (rather than .append) in the following line\u001b[39;00m\n\u001b[0;32m    824\u001b[0m     \u001b[38;5;28mself\u001b[39m\u001b[38;5;241m.\u001b[39m_jobs\u001b[38;5;241m.\u001b[39minsert(job_idx, job)\n",
      "File \u001b[1;32mC:\\Python310\\lib\\site-packages\\joblib\\_parallel_backends.py:208\u001b[0m, in \u001b[0;36mSequentialBackend.apply_async\u001b[1;34m(self, func, callback)\u001b[0m\n\u001b[0;32m    206\u001b[0m \u001b[38;5;28;01mdef\u001b[39;00m \u001b[38;5;21mapply_async\u001b[39m(\u001b[38;5;28mself\u001b[39m, func, callback\u001b[38;5;241m=\u001b[39m\u001b[38;5;28;01mNone\u001b[39;00m):\n\u001b[0;32m    207\u001b[0m     \u001b[38;5;124;03m\"\"\"Schedule a func to be run\"\"\"\u001b[39;00m\n\u001b[1;32m--> 208\u001b[0m     result \u001b[38;5;241m=\u001b[39m \u001b[43mImmediateResult\u001b[49m\u001b[43m(\u001b[49m\u001b[43mfunc\u001b[49m\u001b[43m)\u001b[49m\n\u001b[0;32m    209\u001b[0m     \u001b[38;5;28;01mif\u001b[39;00m callback:\n\u001b[0;32m    210\u001b[0m         callback(result)\n",
      "File \u001b[1;32mC:\\Python310\\lib\\site-packages\\joblib\\_parallel_backends.py:597\u001b[0m, in \u001b[0;36mImmediateResult.__init__\u001b[1;34m(self, batch)\u001b[0m\n\u001b[0;32m    594\u001b[0m \u001b[38;5;28;01mdef\u001b[39;00m \u001b[38;5;21m__init__\u001b[39m(\u001b[38;5;28mself\u001b[39m, batch):\n\u001b[0;32m    595\u001b[0m     \u001b[38;5;66;03m# Don't delay the application, to avoid keeping the input\u001b[39;00m\n\u001b[0;32m    596\u001b[0m     \u001b[38;5;66;03m# arguments in memory\u001b[39;00m\n\u001b[1;32m--> 597\u001b[0m     \u001b[38;5;28mself\u001b[39m\u001b[38;5;241m.\u001b[39mresults \u001b[38;5;241m=\u001b[39m \u001b[43mbatch\u001b[49m\u001b[43m(\u001b[49m\u001b[43m)\u001b[49m\n",
      "File \u001b[1;32mC:\\Python310\\lib\\site-packages\\joblib\\parallel.py:288\u001b[0m, in \u001b[0;36mBatchedCalls.__call__\u001b[1;34m(self)\u001b[0m\n\u001b[0;32m    284\u001b[0m \u001b[38;5;28;01mdef\u001b[39;00m \u001b[38;5;21m__call__\u001b[39m(\u001b[38;5;28mself\u001b[39m):\n\u001b[0;32m    285\u001b[0m     \u001b[38;5;66;03m# Set the default nested backend to self._backend but do not set the\u001b[39;00m\n\u001b[0;32m    286\u001b[0m     \u001b[38;5;66;03m# change the default number of processes to -1\u001b[39;00m\n\u001b[0;32m    287\u001b[0m     \u001b[38;5;28;01mwith\u001b[39;00m parallel_backend(\u001b[38;5;28mself\u001b[39m\u001b[38;5;241m.\u001b[39m_backend, n_jobs\u001b[38;5;241m=\u001b[39m\u001b[38;5;28mself\u001b[39m\u001b[38;5;241m.\u001b[39m_n_jobs):\n\u001b[1;32m--> 288\u001b[0m         \u001b[38;5;28;01mreturn\u001b[39;00m [func(\u001b[38;5;241m*\u001b[39margs, \u001b[38;5;241m*\u001b[39m\u001b[38;5;241m*\u001b[39mkwargs)\n\u001b[0;32m    289\u001b[0m                 \u001b[38;5;28;01mfor\u001b[39;00m func, args, kwargs \u001b[38;5;129;01min\u001b[39;00m \u001b[38;5;28mself\u001b[39m\u001b[38;5;241m.\u001b[39mitems]\n",
      "File \u001b[1;32mC:\\Python310\\lib\\site-packages\\joblib\\parallel.py:288\u001b[0m, in \u001b[0;36m<listcomp>\u001b[1;34m(.0)\u001b[0m\n\u001b[0;32m    284\u001b[0m \u001b[38;5;28;01mdef\u001b[39;00m \u001b[38;5;21m__call__\u001b[39m(\u001b[38;5;28mself\u001b[39m):\n\u001b[0;32m    285\u001b[0m     \u001b[38;5;66;03m# Set the default nested backend to self._backend but do not set the\u001b[39;00m\n\u001b[0;32m    286\u001b[0m     \u001b[38;5;66;03m# change the default number of processes to -1\u001b[39;00m\n\u001b[0;32m    287\u001b[0m     \u001b[38;5;28;01mwith\u001b[39;00m parallel_backend(\u001b[38;5;28mself\u001b[39m\u001b[38;5;241m.\u001b[39m_backend, n_jobs\u001b[38;5;241m=\u001b[39m\u001b[38;5;28mself\u001b[39m\u001b[38;5;241m.\u001b[39m_n_jobs):\n\u001b[1;32m--> 288\u001b[0m         \u001b[38;5;28;01mreturn\u001b[39;00m [func(\u001b[38;5;241m*\u001b[39margs, \u001b[38;5;241m*\u001b[39m\u001b[38;5;241m*\u001b[39mkwargs)\n\u001b[0;32m    289\u001b[0m                 \u001b[38;5;28;01mfor\u001b[39;00m func, args, kwargs \u001b[38;5;129;01min\u001b[39;00m \u001b[38;5;28mself\u001b[39m\u001b[38;5;241m.\u001b[39mitems]\n",
      "File \u001b[1;32mC:\\Python310\\lib\\site-packages\\sklearn\\utils\\fixes.py:117\u001b[0m, in \u001b[0;36m_FuncWrapper.__call__\u001b[1;34m(self, *args, **kwargs)\u001b[0m\n\u001b[0;32m    115\u001b[0m \u001b[38;5;28;01mdef\u001b[39;00m \u001b[38;5;21m__call__\u001b[39m(\u001b[38;5;28mself\u001b[39m, \u001b[38;5;241m*\u001b[39margs, \u001b[38;5;241m*\u001b[39m\u001b[38;5;241m*\u001b[39mkwargs):\n\u001b[0;32m    116\u001b[0m     \u001b[38;5;28;01mwith\u001b[39;00m config_context(\u001b[38;5;241m*\u001b[39m\u001b[38;5;241m*\u001b[39m\u001b[38;5;28mself\u001b[39m\u001b[38;5;241m.\u001b[39mconfig):\n\u001b[1;32m--> 117\u001b[0m         \u001b[38;5;28;01mreturn\u001b[39;00m \u001b[38;5;28mself\u001b[39m\u001b[38;5;241m.\u001b[39mfunction(\u001b[38;5;241m*\u001b[39margs, \u001b[38;5;241m*\u001b[39m\u001b[38;5;241m*\u001b[39mkwargs)\n",
      "File \u001b[1;32mC:\\Python310\\lib\\site-packages\\sklearn\\model_selection\\_validation.py:686\u001b[0m, in \u001b[0;36m_fit_and_score\u001b[1;34m(estimator, X, y, scorer, train, test, verbose, parameters, fit_params, return_train_score, return_parameters, return_n_test_samples, return_times, return_estimator, split_progress, candidate_progress, error_score)\u001b[0m\n\u001b[0;32m    684\u001b[0m         estimator\u001b[38;5;241m.\u001b[39mfit(X_train, \u001b[38;5;241m*\u001b[39m\u001b[38;5;241m*\u001b[39mfit_params)\n\u001b[0;32m    685\u001b[0m     \u001b[38;5;28;01melse\u001b[39;00m:\n\u001b[1;32m--> 686\u001b[0m         estimator\u001b[38;5;241m.\u001b[39mfit(X_train, y_train, \u001b[38;5;241m*\u001b[39m\u001b[38;5;241m*\u001b[39mfit_params)\n\u001b[0;32m    688\u001b[0m \u001b[38;5;28;01mexcept\u001b[39;00m \u001b[38;5;167;01mException\u001b[39;00m:\n\u001b[0;32m    689\u001b[0m     \u001b[38;5;66;03m# Note fit time as time until error\u001b[39;00m\n\u001b[0;32m    690\u001b[0m     fit_time \u001b[38;5;241m=\u001b[39m time\u001b[38;5;241m.\u001b[39mtime() \u001b[38;5;241m-\u001b[39m start_time\n",
      "File \u001b[1;32mC:\\Python310\\lib\\site-packages\\sklearn\\ensemble\\_gb.py:668\u001b[0m, in \u001b[0;36mBaseGradientBoosting.fit\u001b[1;34m(self, X, y, sample_weight, monitor)\u001b[0m\n\u001b[0;32m    665\u001b[0m     \u001b[38;5;28mself\u001b[39m\u001b[38;5;241m.\u001b[39m_resize_state()\n\u001b[0;32m    667\u001b[0m \u001b[38;5;66;03m# fit the boosting stages\u001b[39;00m\n\u001b[1;32m--> 668\u001b[0m n_stages \u001b[38;5;241m=\u001b[39m \u001b[38;5;28;43mself\u001b[39;49m\u001b[38;5;241;43m.\u001b[39;49m\u001b[43m_fit_stages\u001b[49m\u001b[43m(\u001b[49m\n\u001b[0;32m    669\u001b[0m \u001b[43m    \u001b[49m\u001b[43mX\u001b[49m\u001b[43m,\u001b[49m\n\u001b[0;32m    670\u001b[0m \u001b[43m    \u001b[49m\u001b[43my\u001b[49m\u001b[43m,\u001b[49m\n\u001b[0;32m    671\u001b[0m \u001b[43m    \u001b[49m\u001b[43mraw_predictions\u001b[49m\u001b[43m,\u001b[49m\n\u001b[0;32m    672\u001b[0m \u001b[43m    \u001b[49m\u001b[43msample_weight\u001b[49m\u001b[43m,\u001b[49m\n\u001b[0;32m    673\u001b[0m \u001b[43m    \u001b[49m\u001b[38;5;28;43mself\u001b[39;49m\u001b[38;5;241;43m.\u001b[39;49m\u001b[43m_rng\u001b[49m\u001b[43m,\u001b[49m\n\u001b[0;32m    674\u001b[0m \u001b[43m    \u001b[49m\u001b[43mX_val\u001b[49m\u001b[43m,\u001b[49m\n\u001b[0;32m    675\u001b[0m \u001b[43m    \u001b[49m\u001b[43my_val\u001b[49m\u001b[43m,\u001b[49m\n\u001b[0;32m    676\u001b[0m \u001b[43m    \u001b[49m\u001b[43msample_weight_val\u001b[49m\u001b[43m,\u001b[49m\n\u001b[0;32m    677\u001b[0m \u001b[43m    \u001b[49m\u001b[43mbegin_at_stage\u001b[49m\u001b[43m,\u001b[49m\n\u001b[0;32m    678\u001b[0m \u001b[43m    \u001b[49m\u001b[43mmonitor\u001b[49m\u001b[43m,\u001b[49m\n\u001b[0;32m    679\u001b[0m \u001b[43m\u001b[49m\u001b[43m)\u001b[49m\n\u001b[0;32m    681\u001b[0m \u001b[38;5;66;03m# change shape of arrays after fit (early-stopping or additional ests)\u001b[39;00m\n\u001b[0;32m    682\u001b[0m \u001b[38;5;28;01mif\u001b[39;00m n_stages \u001b[38;5;241m!=\u001b[39m \u001b[38;5;28mself\u001b[39m\u001b[38;5;241m.\u001b[39mestimators_\u001b[38;5;241m.\u001b[39mshape[\u001b[38;5;241m0\u001b[39m]:\n",
      "File \u001b[1;32mC:\\Python310\\lib\\site-packages\\sklearn\\ensemble\\_gb.py:745\u001b[0m, in \u001b[0;36mBaseGradientBoosting._fit_stages\u001b[1;34m(self, X, y, raw_predictions, sample_weight, random_state, X_val, y_val, sample_weight_val, begin_at_stage, monitor)\u001b[0m\n\u001b[0;32m    738\u001b[0m     old_oob_score \u001b[38;5;241m=\u001b[39m loss_(\n\u001b[0;32m    739\u001b[0m         y[\u001b[38;5;241m~\u001b[39msample_mask],\n\u001b[0;32m    740\u001b[0m         raw_predictions[\u001b[38;5;241m~\u001b[39msample_mask],\n\u001b[0;32m    741\u001b[0m         sample_weight[\u001b[38;5;241m~\u001b[39msample_mask],\n\u001b[0;32m    742\u001b[0m     )\n\u001b[0;32m    744\u001b[0m \u001b[38;5;66;03m# fit next stage of trees\u001b[39;00m\n\u001b[1;32m--> 745\u001b[0m raw_predictions \u001b[38;5;241m=\u001b[39m \u001b[38;5;28;43mself\u001b[39;49m\u001b[38;5;241;43m.\u001b[39;49m\u001b[43m_fit_stage\u001b[49m\u001b[43m(\u001b[49m\n\u001b[0;32m    746\u001b[0m \u001b[43m    \u001b[49m\u001b[43mi\u001b[49m\u001b[43m,\u001b[49m\n\u001b[0;32m    747\u001b[0m \u001b[43m    \u001b[49m\u001b[43mX\u001b[49m\u001b[43m,\u001b[49m\n\u001b[0;32m    748\u001b[0m \u001b[43m    \u001b[49m\u001b[43my\u001b[49m\u001b[43m,\u001b[49m\n\u001b[0;32m    749\u001b[0m \u001b[43m    \u001b[49m\u001b[43mraw_predictions\u001b[49m\u001b[43m,\u001b[49m\n\u001b[0;32m    750\u001b[0m \u001b[43m    \u001b[49m\u001b[43msample_weight\u001b[49m\u001b[43m,\u001b[49m\n\u001b[0;32m    751\u001b[0m \u001b[43m    \u001b[49m\u001b[43msample_mask\u001b[49m\u001b[43m,\u001b[49m\n\u001b[0;32m    752\u001b[0m \u001b[43m    \u001b[49m\u001b[43mrandom_state\u001b[49m\u001b[43m,\u001b[49m\n\u001b[0;32m    753\u001b[0m \u001b[43m    \u001b[49m\u001b[43mX_csc\u001b[49m\u001b[43m,\u001b[49m\n\u001b[0;32m    754\u001b[0m \u001b[43m    \u001b[49m\u001b[43mX_csr\u001b[49m\u001b[43m,\u001b[49m\n\u001b[0;32m    755\u001b[0m \u001b[43m\u001b[49m\u001b[43m)\u001b[49m\n\u001b[0;32m    757\u001b[0m \u001b[38;5;66;03m# track deviance (= loss)\u001b[39;00m\n\u001b[0;32m    758\u001b[0m \u001b[38;5;28;01mif\u001b[39;00m do_oob:\n",
      "File \u001b[1;32mC:\\Python310\\lib\\site-packages\\sklearn\\ensemble\\_gb.py:247\u001b[0m, in \u001b[0;36mBaseGradientBoosting._fit_stage\u001b[1;34m(self, i, X, y, raw_predictions, sample_weight, sample_mask, random_state, X_csc, X_csr)\u001b[0m\n\u001b[0;32m    244\u001b[0m     sample_weight \u001b[38;5;241m=\u001b[39m sample_weight \u001b[38;5;241m*\u001b[39m sample_mask\u001b[38;5;241m.\u001b[39mastype(np\u001b[38;5;241m.\u001b[39mfloat64)\n\u001b[0;32m    246\u001b[0m X \u001b[38;5;241m=\u001b[39m X_csr \u001b[38;5;28;01mif\u001b[39;00m X_csr \u001b[38;5;129;01mis\u001b[39;00m \u001b[38;5;129;01mnot\u001b[39;00m \u001b[38;5;28;01mNone\u001b[39;00m \u001b[38;5;28;01melse\u001b[39;00m X\n\u001b[1;32m--> 247\u001b[0m \u001b[43mtree\u001b[49m\u001b[38;5;241;43m.\u001b[39;49m\u001b[43mfit\u001b[49m\u001b[43m(\u001b[49m\u001b[43mX\u001b[49m\u001b[43m,\u001b[49m\u001b[43m \u001b[49m\u001b[43mresidual\u001b[49m\u001b[43m,\u001b[49m\u001b[43m \u001b[49m\u001b[43msample_weight\u001b[49m\u001b[38;5;241;43m=\u001b[39;49m\u001b[43msample_weight\u001b[49m\u001b[43m,\u001b[49m\u001b[43m \u001b[49m\u001b[43mcheck_input\u001b[49m\u001b[38;5;241;43m=\u001b[39;49m\u001b[38;5;28;43;01mFalse\u001b[39;49;00m\u001b[43m)\u001b[49m\n\u001b[0;32m    249\u001b[0m \u001b[38;5;66;03m# update tree leaves\u001b[39;00m\n\u001b[0;32m    250\u001b[0m loss\u001b[38;5;241m.\u001b[39mupdate_terminal_regions(\n\u001b[0;32m    251\u001b[0m     tree\u001b[38;5;241m.\u001b[39mtree_,\n\u001b[0;32m    252\u001b[0m     X,\n\u001b[1;32m   (...)\u001b[0m\n\u001b[0;32m    259\u001b[0m     k\u001b[38;5;241m=\u001b[39mk,\n\u001b[0;32m    260\u001b[0m )\n",
      "File \u001b[1;32mC:\\Python310\\lib\\site-packages\\sklearn\\tree\\_classes.py:1342\u001b[0m, in \u001b[0;36mDecisionTreeRegressor.fit\u001b[1;34m(self, X, y, sample_weight, check_input)\u001b[0m\n\u001b[0;32m   1313\u001b[0m \u001b[38;5;28;01mdef\u001b[39;00m \u001b[38;5;21mfit\u001b[39m(\u001b[38;5;28mself\u001b[39m, X, y, sample_weight\u001b[38;5;241m=\u001b[39m\u001b[38;5;28;01mNone\u001b[39;00m, check_input\u001b[38;5;241m=\u001b[39m\u001b[38;5;28;01mTrue\u001b[39;00m):\n\u001b[0;32m   1314\u001b[0m     \u001b[38;5;124;03m\"\"\"Build a decision tree regressor from the training set (X, y).\u001b[39;00m\n\u001b[0;32m   1315\u001b[0m \n\u001b[0;32m   1316\u001b[0m \u001b[38;5;124;03m    Parameters\u001b[39;00m\n\u001b[1;32m   (...)\u001b[0m\n\u001b[0;32m   1339\u001b[0m \u001b[38;5;124;03m        Fitted estimator.\u001b[39;00m\n\u001b[0;32m   1340\u001b[0m \u001b[38;5;124;03m    \"\"\"\u001b[39;00m\n\u001b[1;32m-> 1342\u001b[0m     \u001b[38;5;28;43msuper\u001b[39;49m\u001b[43m(\u001b[49m\u001b[43m)\u001b[49m\u001b[38;5;241;43m.\u001b[39;49m\u001b[43mfit\u001b[49m\u001b[43m(\u001b[49m\n\u001b[0;32m   1343\u001b[0m \u001b[43m        \u001b[49m\u001b[43mX\u001b[49m\u001b[43m,\u001b[49m\n\u001b[0;32m   1344\u001b[0m \u001b[43m        \u001b[49m\u001b[43my\u001b[49m\u001b[43m,\u001b[49m\n\u001b[0;32m   1345\u001b[0m \u001b[43m        \u001b[49m\u001b[43msample_weight\u001b[49m\u001b[38;5;241;43m=\u001b[39;49m\u001b[43msample_weight\u001b[49m\u001b[43m,\u001b[49m\n\u001b[0;32m   1346\u001b[0m \u001b[43m        \u001b[49m\u001b[43mcheck_input\u001b[49m\u001b[38;5;241;43m=\u001b[39;49m\u001b[43mcheck_input\u001b[49m\u001b[43m,\u001b[49m\n\u001b[0;32m   1347\u001b[0m \u001b[43m    \u001b[49m\u001b[43m)\u001b[49m\n\u001b[0;32m   1348\u001b[0m     \u001b[38;5;28;01mreturn\u001b[39;00m \u001b[38;5;28mself\u001b[39m\n",
      "File \u001b[1;32mC:\\Python310\\lib\\site-packages\\sklearn\\tree\\_classes.py:458\u001b[0m, in \u001b[0;36mBaseDecisionTree.fit\u001b[1;34m(self, X, y, sample_weight, check_input)\u001b[0m\n\u001b[0;32m    447\u001b[0m \u001b[38;5;28;01melse\u001b[39;00m:\n\u001b[0;32m    448\u001b[0m     builder \u001b[38;5;241m=\u001b[39m BestFirstTreeBuilder(\n\u001b[0;32m    449\u001b[0m         splitter,\n\u001b[0;32m    450\u001b[0m         min_samples_split,\n\u001b[1;32m   (...)\u001b[0m\n\u001b[0;32m    455\u001b[0m         \u001b[38;5;28mself\u001b[39m\u001b[38;5;241m.\u001b[39mmin_impurity_decrease,\n\u001b[0;32m    456\u001b[0m     )\n\u001b[1;32m--> 458\u001b[0m \u001b[43mbuilder\u001b[49m\u001b[38;5;241;43m.\u001b[39;49m\u001b[43mbuild\u001b[49m\u001b[43m(\u001b[49m\u001b[38;5;28;43mself\u001b[39;49m\u001b[38;5;241;43m.\u001b[39;49m\u001b[43mtree_\u001b[49m\u001b[43m,\u001b[49m\u001b[43m \u001b[49m\u001b[43mX\u001b[49m\u001b[43m,\u001b[49m\u001b[43m \u001b[49m\u001b[43my\u001b[49m\u001b[43m,\u001b[49m\u001b[43m \u001b[49m\u001b[43msample_weight\u001b[49m\u001b[43m)\u001b[49m\n\u001b[0;32m    460\u001b[0m \u001b[38;5;28;01mif\u001b[39;00m \u001b[38;5;28mself\u001b[39m\u001b[38;5;241m.\u001b[39mn_outputs_ \u001b[38;5;241m==\u001b[39m \u001b[38;5;241m1\u001b[39m \u001b[38;5;129;01mand\u001b[39;00m is_classifier(\u001b[38;5;28mself\u001b[39m):\n\u001b[0;32m    461\u001b[0m     \u001b[38;5;28mself\u001b[39m\u001b[38;5;241m.\u001b[39mn_classes_ \u001b[38;5;241m=\u001b[39m \u001b[38;5;28mself\u001b[39m\u001b[38;5;241m.\u001b[39mn_classes_[\u001b[38;5;241m0\u001b[39m]\n",
      "\u001b[1;31mKeyboardInterrupt\u001b[0m: "
     ]
    }
   ],
   "source": [
    "from xgboost import XGBRegressor\n",
    "from sklearn.ensemble import GradientBoostingRegressor\n",
    "#criterion=friedman_mse, learning_rate=0.1, loss=squared_error, max_depth=3, min_samples_leaf=16, min_samples_split=29, n_estimators=131, random_state=1, tol=1e-13;\n",
    "param_grid = {'loss': ['squared_error', 'absolute_error', 'huber', 'quantile'],'n_estimators': np.arange(5,200),'criterion': ['friedman_mse', 'squared_error'], 'max_depth': np.arange(2,40), 'tol':[1e-7, 1e-13], 'learning_rate': [0.1,0.05,0.01,0.005],\n",
    "              'min_samples_split': np.arange(2,30), 'min_samples_leaf': np.arange(1,30),'random_state': [1]}\n",
    "svc = GradientBoostingRegressor()\n",
    "clf = RandomizedSearchCV(svc, param_grid, n_iter=100, cv=5, random_state=1, refit=True, scoring='neg_mean_squared_log_error', verbose=5)\n",
    "clf.fit(sttrainX[:20000], trainY[:20000])\n",
    "print('Best params: ', clf.best_params_)\n",
    "print('Validation score: ', clf.best_score_)\n",
    "pred = clf.predict(sttrainX[20000:])\n",
    "print(mean_squared_log_error(trainY[20000:], pred, squared=False))"
   ]
  },
  {
   "cell_type": "code",
   "execution_count": 72,
   "id": "8e65e70c",
   "metadata": {},
   "outputs": [],
   "source": [
    "estimators = [('rfr', RandomForestRegressor(random_state=1, n_jobs= -1, min_samples_split= 2, min_samples_leaf= 4, max_features= None, max_depth= 26, criterion= 'squared_error', bootstrap= True)),\n",
    "              ('gbr', GradientBoostingRegressor(criterion='squared_error', learning_rate=0.05, loss='absolute_error', max_depth=25, min_samples_leaf=2, min_samples_split=22, n_estimators=173, random_state=1, tol=1e-13))\n",
    "             ]"
   ]
  },
  {
   "cell_type": "code",
   "execution_count": 67,
   "id": "2cc25fbc",
   "metadata": {},
   "outputs": [
    {
     "name": "stdout",
     "output_type": "stream",
     "text": [
      "        id    prediction\n",
      "0        1  6.779755e+06\n",
      "1        2  5.084945e+06\n",
      "2        3  3.766028e+06\n",
      "3        4  7.464704e+06\n",
      "4        5  2.797834e+07\n",
      "...    ...           ...\n",
      "6090  6091  5.045710e+06\n",
      "6091  6092  1.113141e+07\n",
      "6092  6093  7.051880e+06\n",
      "6093  6094  4.302865e+06\n",
      "6094  6095  1.081987e+07\n",
      "\n",
      "[6095 rows x 2 columns]\n"
     ]
    }
   ],
   "source": [
    "from sklearn.ensemble import StackingRegressor\n",
    "#cl = RandomForestRegressor(random_state=1, n_jobs= -1, min_samples_split= 2, min_samples_leaf= 4, max_features= None, max_depth= 26, criterion= 'squared_error', bootstrap= True)\n",
    "#cl = XGBRegressor(learning_rate=0.1, n_estimators=100, n_jobs=-1, random_state=1)\n",
    "reg = StackingRegressor(estimators=estimators, n_jobs=-1)\n",
    "#cl = GradientBoostingRegressor(criterion='squared_error', learning_rate=0.05, loss='absolute_error', max_depth=25, min_samples_leaf=2, min_samples_split=22, n_estimators=173, random_state=1, tol=1e-13)\n",
    "reg.fit(sttrainX[:20000],trainY[:20000])\n",
    "d = {'id': np.arange(1,6096), 'prediction': cl.predict(stscaler.transform(testX))}\n",
    "df = pd.DataFrame(data=d)\n",
    "print(df)\n",
    "df.to_csv('Khairullin_Artur.csv', index=False, header=True)"
   ]
  },
  {
   "cell_type": "code",
   "execution_count": null,
   "id": "5ec2b13d",
   "metadata": {},
   "outputs": [],
   "source": [
    "reg = StackingRegressor(estimators=estimators, final_estimator=GradientBoostingRegressor(criterion='squared_error', learning_rate=0.05, loss='absolute_error', max_depth=25, min_samples_leaf=2, min_samples_split=22, n_estimators=173, random_state=1, tol=1e-13) , n_jobs=-1)\n",
    "reg.fit(sttrainX[:20000],trainY[:20000])\n",
    "pred = reg.predict(sttrainX[20000:])\n",
    "print(mean_squared_log_error(trainY[20000:], pred, squared=False))"
   ]
  },
  {
   "cell_type": "code",
   "execution_count": null,
   "id": "0deb57d1",
   "metadata": {},
   "outputs": [],
   "source": []
  }
 ],
 "metadata": {
  "kernelspec": {
   "display_name": "Python 3 (ipykernel)",
   "language": "python",
   "name": "python3"
  },
  "language_info": {
   "codemirror_mode": {
    "name": "ipython",
    "version": 3
   },
   "file_extension": ".py",
   "mimetype": "text/x-python",
   "name": "python",
   "nbconvert_exporter": "python",
   "pygments_lexer": "ipython3",
   "version": "3.10.8"
  }
 },
 "nbformat": 4,
 "nbformat_minor": 5
}
